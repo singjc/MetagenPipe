{
 "cells": [
  {
   "cell_type": "code",
   "execution_count": 1,
   "id": "becoming-newton",
   "metadata": {},
   "outputs": [],
   "source": [
    "from sklearn import model_selection\n",
    "from sklearn import metrics\n",
    "import os\n",
    "import numpy as np\n",
    "import pandas as pd\n",
    "from MicroBiome import MicroBiomeDataSet, Trainer, TrainTester, MultiTrainTester\n",
    "from sklearn import linear_model as LM\n",
    "from sklearn.decomposition import PCA\n",
    "from sklearn.preprocessing import StandardScaler\n",
    "from scipy import stats\n",
    "import seaborn as sns\n",
    "import copy"
   ]
  },
  {
   "cell_type": "markdown",
   "id": "drawn-christian",
   "metadata": {},
   "source": [
    "# Load Data"
   ]
  },
  {
   "cell_type": "code",
   "execution_count": 2,
   "id": "nervous-spain",
   "metadata": {},
   "outputs": [],
   "source": [
    "top_dir = '/project'\n",
    "data_dir = os.path.join(top_dir, 'data')\n",
    "preproc_dir = os.path.join(data_dir, 'preprocessed')\n",
    "inp_dir = os.path.join(preproc_dir, 'Gupta_2020_Precompiled_Cleaned')"
   ]
  },
  {
   "cell_type": "code",
   "execution_count": 3,
   "id": "martial-compact",
   "metadata": {},
   "outputs": [
    {
     "data": {
      "text/plain": [
       "['MatrixDataClean.csv', 'SampleMetaDataClean.csv', 'FeatMetaDataClean.csv']"
      ]
     },
     "execution_count": 3,
     "metadata": {},
     "output_type": "execute_result"
    }
   ],
   "source": [
    "os.listdir(inp_dir)"
   ]
  },
  {
   "cell_type": "code",
   "execution_count": 4,
   "id": "realistic-concern",
   "metadata": {},
   "outputs": [
    {
     "data": {
      "text/plain": [
       "(4347, 903)"
      ]
     },
     "execution_count": 4,
     "metadata": {},
     "output_type": "execute_result"
    }
   ],
   "source": [
    "MatrixData = np.loadtxt(os.path.join(inp_dir, 'MatrixDataClean.csv'))\n",
    "MatrixData.shape"
   ]
  },
  {
   "cell_type": "code",
   "execution_count": 5,
   "id": "aboriginal-dietary",
   "metadata": {},
   "outputs": [
    {
     "data": {
      "text/html": [
       "<div>\n",
       "<style scoped>\n",
       "    .dataframe tbody tr th:only-of-type {\n",
       "        vertical-align: middle;\n",
       "    }\n",
       "\n",
       "    .dataframe tbody tr th {\n",
       "        vertical-align: top;\n",
       "    }\n",
       "\n",
       "    .dataframe thead th {\n",
       "        text-align: right;\n",
       "    }\n",
       "</style>\n",
       "<table border=\"1\" class=\"dataframe\">\n",
       "  <thead>\n",
       "    <tr style=\"text-align: right;\">\n",
       "      <th></th>\n",
       "      <th>6</th>\n",
       "      <th>study</th>\n",
       "      <th>Study No. (From VG sheet (V-*) from SB sheet (S-*))</th>\n",
       "      <th>Title of Paper</th>\n",
       "      <th>Author (year)</th>\n",
       "      <th>Journal</th>\n",
       "      <th>Study Accession</th>\n",
       "      <th>Sample Accession or Sample ID</th>\n",
       "      <th>Sample title (ENA/SRA)</th>\n",
       "      <th>Sample title (Paper)</th>\n",
       "      <th>...</th>\n",
       "      <th>Use of milk or milk products (Yes/No/Sometimes)</th>\n",
       "      <th>Use of Animal Product- Meat (Yes/No/Vegetarian/Vegan)</th>\n",
       "      <th>Alcohol Consumption (Yes/No)</th>\n",
       "      <th>Diet1</th>\n",
       "      <th>Intervention for study (Diet)</th>\n",
       "      <th>Intervention for study (medication)</th>\n",
       "      <th>Sequencing Platform</th>\n",
       "      <th>Library layout (SINGLE/PAIRED)</th>\n",
       "      <th>Read count after Quality control</th>\n",
       "      <th>Healthy</th>\n",
       "    </tr>\n",
       "  </thead>\n",
       "  <tbody>\n",
       "    <tr>\n",
       "      <th>0</th>\n",
       "      <td>SAMEA104142287</td>\n",
       "      <td>V-2_ACVD</td>\n",
       "      <td>V-2</td>\n",
       "      <td>The gut microbiome in atherosclerotic cardiova...</td>\n",
       "      <td>Jie (2017)</td>\n",
       "      <td>Nature communications</td>\n",
       "      <td>PRJEB21528</td>\n",
       "      <td>SAMEA104142287</td>\n",
       "      <td>ZSL-004</td>\n",
       "      <td>ZSL-004</td>\n",
       "      <td>...</td>\n",
       "      <td>NaN</td>\n",
       "      <td>NaN</td>\n",
       "      <td>NaN</td>\n",
       "      <td>NaN</td>\n",
       "      <td>NaN</td>\n",
       "      <td>NaN</td>\n",
       "      <td>Illumina HiSeq 2000</td>\n",
       "      <td>PAIRED</td>\n",
       "      <td>43356775.0</td>\n",
       "      <td>Unhealthy</td>\n",
       "    </tr>\n",
       "    <tr>\n",
       "      <th>1</th>\n",
       "      <td>SAMEA104142288</td>\n",
       "      <td>V-2_ACVD</td>\n",
       "      <td>V-2</td>\n",
       "      <td>The gut microbiome in atherosclerotic cardiova...</td>\n",
       "      <td>Jie (2017)</td>\n",
       "      <td>Nature communications</td>\n",
       "      <td>PRJEB21528</td>\n",
       "      <td>SAMEA104142288</td>\n",
       "      <td>ZSL-007</td>\n",
       "      <td>ZSL-007</td>\n",
       "      <td>...</td>\n",
       "      <td>NaN</td>\n",
       "      <td>NaN</td>\n",
       "      <td>NaN</td>\n",
       "      <td>NaN</td>\n",
       "      <td>NaN</td>\n",
       "      <td>NaN</td>\n",
       "      <td>Illumina HiSeq 2000</td>\n",
       "      <td>PAIRED</td>\n",
       "      <td>41073871.0</td>\n",
       "      <td>Unhealthy</td>\n",
       "    </tr>\n",
       "    <tr>\n",
       "      <th>2</th>\n",
       "      <td>SAMEA104142293</td>\n",
       "      <td>V-2_ACVD</td>\n",
       "      <td>V-2</td>\n",
       "      <td>The gut microbiome in atherosclerotic cardiova...</td>\n",
       "      <td>Jie (2017)</td>\n",
       "      <td>Nature communications</td>\n",
       "      <td>PRJEB21528</td>\n",
       "      <td>SAMEA104142293</td>\n",
       "      <td>ZSL-010</td>\n",
       "      <td>ZSL-010</td>\n",
       "      <td>...</td>\n",
       "      <td>NaN</td>\n",
       "      <td>NaN</td>\n",
       "      <td>NaN</td>\n",
       "      <td>NaN</td>\n",
       "      <td>NaN</td>\n",
       "      <td>NaN</td>\n",
       "      <td>Illumina HiSeq 2000</td>\n",
       "      <td>PAIRED</td>\n",
       "      <td>40199673.0</td>\n",
       "      <td>Unhealthy</td>\n",
       "    </tr>\n",
       "    <tr>\n",
       "      <th>3</th>\n",
       "      <td>SAMEA104142291</td>\n",
       "      <td>V-2_ACVD</td>\n",
       "      <td>V-2</td>\n",
       "      <td>The gut microbiome in atherosclerotic cardiova...</td>\n",
       "      <td>Jie (2017)</td>\n",
       "      <td>Nature communications</td>\n",
       "      <td>PRJEB21528</td>\n",
       "      <td>SAMEA104142291</td>\n",
       "      <td>ZSL-011</td>\n",
       "      <td>ZSL-011</td>\n",
       "      <td>...</td>\n",
       "      <td>NaN</td>\n",
       "      <td>NaN</td>\n",
       "      <td>NaN</td>\n",
       "      <td>NaN</td>\n",
       "      <td>NaN</td>\n",
       "      <td>NaN</td>\n",
       "      <td>Illumina HiSeq 2000</td>\n",
       "      <td>PAIRED</td>\n",
       "      <td>31054158.0</td>\n",
       "      <td>Unhealthy</td>\n",
       "    </tr>\n",
       "    <tr>\n",
       "      <th>4</th>\n",
       "      <td>SAMEA104142284</td>\n",
       "      <td>V-2_ACVD</td>\n",
       "      <td>V-2</td>\n",
       "      <td>The gut microbiome in atherosclerotic cardiova...</td>\n",
       "      <td>Jie (2017)</td>\n",
       "      <td>Nature communications</td>\n",
       "      <td>PRJEB21528</td>\n",
       "      <td>SAMEA104142284</td>\n",
       "      <td>ZSL-019</td>\n",
       "      <td>ZSL-019</td>\n",
       "      <td>...</td>\n",
       "      <td>NaN</td>\n",
       "      <td>NaN</td>\n",
       "      <td>NaN</td>\n",
       "      <td>NaN</td>\n",
       "      <td>NaN</td>\n",
       "      <td>NaN</td>\n",
       "      <td>Illumina HiSeq 2000</td>\n",
       "      <td>PAIRED</td>\n",
       "      <td>36081150.0</td>\n",
       "      <td>Unhealthy</td>\n",
       "    </tr>\n",
       "    <tr>\n",
       "      <th>...</th>\n",
       "      <td>...</td>\n",
       "      <td>...</td>\n",
       "      <td>...</td>\n",
       "      <td>...</td>\n",
       "      <td>...</td>\n",
       "      <td>...</td>\n",
       "      <td>...</td>\n",
       "      <td>...</td>\n",
       "      <td>...</td>\n",
       "      <td>...</td>\n",
       "      <td>...</td>\n",
       "      <td>...</td>\n",
       "      <td>...</td>\n",
       "      <td>...</td>\n",
       "      <td>...</td>\n",
       "      <td>...</td>\n",
       "      <td>...</td>\n",
       "      <td>...</td>\n",
       "      <td>...</td>\n",
       "      <td>...</td>\n",
       "      <td>...</td>\n",
       "    </tr>\n",
       "    <tr>\n",
       "      <th>4342</th>\n",
       "      <td>SAMEA4431948</td>\n",
       "      <td>S-7_Underweight</td>\n",
       "      <td>S-7</td>\n",
       "      <td>Two distinct metacommunities characterize the ...</td>\n",
       "      <td>He (2017)</td>\n",
       "      <td>Gigascience</td>\n",
       "      <td>PRJEB15371</td>\n",
       "      <td>SAMEA4431948</td>\n",
       "      <td>SZAXPI029564-74</td>\n",
       "      <td>SZAXPI029564-74</td>\n",
       "      <td>...</td>\n",
       "      <td>NaN</td>\n",
       "      <td>NaN</td>\n",
       "      <td>NaN</td>\n",
       "      <td>NaN</td>\n",
       "      <td>No</td>\n",
       "      <td>No</td>\n",
       "      <td>Illumina HiSeq 2000</td>\n",
       "      <td>PAIRED</td>\n",
       "      <td>52212493.0</td>\n",
       "      <td>Unhealthy</td>\n",
       "    </tr>\n",
       "    <tr>\n",
       "      <th>4343</th>\n",
       "      <td>SAMEA4431949</td>\n",
       "      <td>S-7_Underweight</td>\n",
       "      <td>S-7</td>\n",
       "      <td>Two distinct metacommunities characterize the ...</td>\n",
       "      <td>He (2017)</td>\n",
       "      <td>Gigascience</td>\n",
       "      <td>PRJEB15371</td>\n",
       "      <td>SAMEA4431949</td>\n",
       "      <td>SZAXPI029565-77</td>\n",
       "      <td>SZAXPI029565-77</td>\n",
       "      <td>...</td>\n",
       "      <td>NaN</td>\n",
       "      <td>NaN</td>\n",
       "      <td>NaN</td>\n",
       "      <td>NaN</td>\n",
       "      <td>No</td>\n",
       "      <td>No</td>\n",
       "      <td>Illumina HiSeq 2000</td>\n",
       "      <td>PAIRED</td>\n",
       "      <td>50635879.0</td>\n",
       "      <td>Unhealthy</td>\n",
       "    </tr>\n",
       "    <tr>\n",
       "      <th>4344</th>\n",
       "      <td>SAMEA4431951</td>\n",
       "      <td>S-7_Underweight</td>\n",
       "      <td>S-7</td>\n",
       "      <td>Two distinct metacommunities characterize the ...</td>\n",
       "      <td>He (2017)</td>\n",
       "      <td>Gigascience</td>\n",
       "      <td>PRJEB15371</td>\n",
       "      <td>SAMEA4431951</td>\n",
       "      <td>SZAXPI029567-80</td>\n",
       "      <td>SZAXPI029567-80</td>\n",
       "      <td>...</td>\n",
       "      <td>NaN</td>\n",
       "      <td>NaN</td>\n",
       "      <td>NaN</td>\n",
       "      <td>NaN</td>\n",
       "      <td>No</td>\n",
       "      <td>No</td>\n",
       "      <td>Illumina HiSeq 2000</td>\n",
       "      <td>PAIRED</td>\n",
       "      <td>40712962.0</td>\n",
       "      <td>Unhealthy</td>\n",
       "    </tr>\n",
       "    <tr>\n",
       "      <th>4345</th>\n",
       "      <td>SAMEA4431964</td>\n",
       "      <td>S-7_Underweight</td>\n",
       "      <td>S-7</td>\n",
       "      <td>Two distinct metacommunities characterize the ...</td>\n",
       "      <td>He (2017)</td>\n",
       "      <td>Gigascience</td>\n",
       "      <td>PRJEB15371</td>\n",
       "      <td>SAMEA4431964</td>\n",
       "      <td>SZAXPI029580-98</td>\n",
       "      <td>SZAXPI029580-98</td>\n",
       "      <td>...</td>\n",
       "      <td>NaN</td>\n",
       "      <td>NaN</td>\n",
       "      <td>NaN</td>\n",
       "      <td>NaN</td>\n",
       "      <td>No</td>\n",
       "      <td>No</td>\n",
       "      <td>Illumina HiSeq 2000</td>\n",
       "      <td>PAIRED</td>\n",
       "      <td>38177360.0</td>\n",
       "      <td>Unhealthy</td>\n",
       "    </tr>\n",
       "    <tr>\n",
       "      <th>4346</th>\n",
       "      <td>SAMEA4431982</td>\n",
       "      <td>S-7_Underweight</td>\n",
       "      <td>S-7</td>\n",
       "      <td>Two distinct metacommunities characterize the ...</td>\n",
       "      <td>He (2017)</td>\n",
       "      <td>Gigascience</td>\n",
       "      <td>PRJEB15371</td>\n",
       "      <td>SAMEA4431982</td>\n",
       "      <td>SZAXPI029597-158</td>\n",
       "      <td>SZAXPI029597-158</td>\n",
       "      <td>...</td>\n",
       "      <td>NaN</td>\n",
       "      <td>NaN</td>\n",
       "      <td>NaN</td>\n",
       "      <td>NaN</td>\n",
       "      <td>No</td>\n",
       "      <td>No</td>\n",
       "      <td>Illumina HiSeq 2000</td>\n",
       "      <td>PAIRED</td>\n",
       "      <td>43643399.0</td>\n",
       "      <td>Unhealthy</td>\n",
       "    </tr>\n",
       "  </tbody>\n",
       "</table>\n",
       "<p>4347 rows × 34 columns</p>\n",
       "</div>"
      ],
      "text/plain": [
       "                   6            study  \\\n",
       "0     SAMEA104142287         V-2_ACVD   \n",
       "1     SAMEA104142288         V-2_ACVD   \n",
       "2     SAMEA104142293         V-2_ACVD   \n",
       "3     SAMEA104142291         V-2_ACVD   \n",
       "4     SAMEA104142284         V-2_ACVD   \n",
       "...              ...              ...   \n",
       "4342    SAMEA4431948  S-7_Underweight   \n",
       "4343    SAMEA4431949  S-7_Underweight   \n",
       "4344    SAMEA4431951  S-7_Underweight   \n",
       "4345    SAMEA4431964  S-7_Underweight   \n",
       "4346    SAMEA4431982  S-7_Underweight   \n",
       "\n",
       "     Study No. (From VG sheet (V-*) from SB sheet (S-*))  \\\n",
       "0                                                   V-2    \n",
       "1                                                   V-2    \n",
       "2                                                   V-2    \n",
       "3                                                   V-2    \n",
       "4                                                   V-2    \n",
       "...                                                 ...    \n",
       "4342                                                S-7    \n",
       "4343                                                S-7    \n",
       "4344                                                S-7    \n",
       "4345                                                S-7    \n",
       "4346                                                S-7    \n",
       "\n",
       "                                         Title of Paper Author (year)  \\\n",
       "0     The gut microbiome in atherosclerotic cardiova...    Jie (2017)   \n",
       "1     The gut microbiome in atherosclerotic cardiova...    Jie (2017)   \n",
       "2     The gut microbiome in atherosclerotic cardiova...    Jie (2017)   \n",
       "3     The gut microbiome in atherosclerotic cardiova...    Jie (2017)   \n",
       "4     The gut microbiome in atherosclerotic cardiova...    Jie (2017)   \n",
       "...                                                 ...           ...   \n",
       "4342  Two distinct metacommunities characterize the ...     He (2017)   \n",
       "4343  Two distinct metacommunities characterize the ...     He (2017)   \n",
       "4344  Two distinct metacommunities characterize the ...     He (2017)   \n",
       "4345  Two distinct metacommunities characterize the ...     He (2017)   \n",
       "4346  Two distinct metacommunities characterize the ...     He (2017)   \n",
       "\n",
       "                    Journal Study Accession Sample Accession or Sample ID  \\\n",
       "0     Nature communications      PRJEB21528                SAMEA104142287   \n",
       "1     Nature communications      PRJEB21528                SAMEA104142288   \n",
       "2     Nature communications      PRJEB21528                SAMEA104142293   \n",
       "3     Nature communications      PRJEB21528                SAMEA104142291   \n",
       "4     Nature communications      PRJEB21528                SAMEA104142284   \n",
       "...                     ...             ...                           ...   \n",
       "4342            Gigascience      PRJEB15371                  SAMEA4431948   \n",
       "4343            Gigascience      PRJEB15371                  SAMEA4431949   \n",
       "4344            Gigascience      PRJEB15371                  SAMEA4431951   \n",
       "4345            Gigascience      PRJEB15371                  SAMEA4431964   \n",
       "4346            Gigascience      PRJEB15371                  SAMEA4431982   \n",
       "\n",
       "     Sample title (ENA/SRA) Sample title (Paper)  ...  \\\n",
       "0                   ZSL-004              ZSL-004  ...   \n",
       "1                   ZSL-007              ZSL-007  ...   \n",
       "2                   ZSL-010              ZSL-010  ...   \n",
       "3                   ZSL-011              ZSL-011  ...   \n",
       "4                   ZSL-019              ZSL-019  ...   \n",
       "...                     ...                  ...  ...   \n",
       "4342        SZAXPI029564-74      SZAXPI029564-74  ...   \n",
       "4343        SZAXPI029565-77      SZAXPI029565-77  ...   \n",
       "4344        SZAXPI029567-80      SZAXPI029567-80  ...   \n",
       "4345        SZAXPI029580-98      SZAXPI029580-98  ...   \n",
       "4346       SZAXPI029597-158     SZAXPI029597-158  ...   \n",
       "\n",
       "     Use of milk or milk products (Yes/No/Sometimes)  \\\n",
       "0                                                NaN   \n",
       "1                                                NaN   \n",
       "2                                                NaN   \n",
       "3                                                NaN   \n",
       "4                                                NaN   \n",
       "...                                              ...   \n",
       "4342                                             NaN   \n",
       "4343                                             NaN   \n",
       "4344                                             NaN   \n",
       "4345                                             NaN   \n",
       "4346                                             NaN   \n",
       "\n",
       "     Use of Animal Product- Meat (Yes/No/Vegetarian/Vegan)  \\\n",
       "0                                                   NaN      \n",
       "1                                                   NaN      \n",
       "2                                                   NaN      \n",
       "3                                                   NaN      \n",
       "4                                                   NaN      \n",
       "...                                                 ...      \n",
       "4342                                                NaN      \n",
       "4343                                                NaN      \n",
       "4344                                                NaN      \n",
       "4345                                                NaN      \n",
       "4346                                                NaN      \n",
       "\n",
       "     Alcohol Consumption (Yes/No) Diet1 Intervention for study (Diet)  \\\n",
       "0                             NaN   NaN                           NaN   \n",
       "1                             NaN   NaN                           NaN   \n",
       "2                             NaN   NaN                           NaN   \n",
       "3                             NaN   NaN                           NaN   \n",
       "4                             NaN   NaN                           NaN   \n",
       "...                           ...   ...                           ...   \n",
       "4342                          NaN   NaN                            No   \n",
       "4343                          NaN   NaN                            No   \n",
       "4344                          NaN   NaN                            No   \n",
       "4345                          NaN   NaN                            No   \n",
       "4346                          NaN   NaN                            No   \n",
       "\n",
       "     Intervention for study (medication)  Sequencing Platform  \\\n",
       "0                                    NaN  Illumina HiSeq 2000   \n",
       "1                                    NaN  Illumina HiSeq 2000   \n",
       "2                                    NaN  Illumina HiSeq 2000   \n",
       "3                                    NaN  Illumina HiSeq 2000   \n",
       "4                                    NaN  Illumina HiSeq 2000   \n",
       "...                                  ...                  ...   \n",
       "4342                                  No  Illumina HiSeq 2000   \n",
       "4343                                  No  Illumina HiSeq 2000   \n",
       "4344                                  No  Illumina HiSeq 2000   \n",
       "4345                                  No  Illumina HiSeq 2000   \n",
       "4346                                  No  Illumina HiSeq 2000   \n",
       "\n",
       "     Library layout (SINGLE/PAIRED) Read count after Quality control  \\\n",
       "0                            PAIRED                       43356775.0   \n",
       "1                            PAIRED                       41073871.0   \n",
       "2                            PAIRED                       40199673.0   \n",
       "3                            PAIRED                       31054158.0   \n",
       "4                            PAIRED                       36081150.0   \n",
       "...                             ...                              ...   \n",
       "4342                         PAIRED                       52212493.0   \n",
       "4343                         PAIRED                       50635879.0   \n",
       "4344                         PAIRED                       40712962.0   \n",
       "4345                         PAIRED                       38177360.0   \n",
       "4346                         PAIRED                       43643399.0   \n",
       "\n",
       "        Healthy  \n",
       "0     Unhealthy  \n",
       "1     Unhealthy  \n",
       "2     Unhealthy  \n",
       "3     Unhealthy  \n",
       "4     Unhealthy  \n",
       "...         ...  \n",
       "4342  Unhealthy  \n",
       "4343  Unhealthy  \n",
       "4344  Unhealthy  \n",
       "4345  Unhealthy  \n",
       "4346  Unhealthy  \n",
       "\n",
       "[4347 rows x 34 columns]"
      ]
     },
     "execution_count": 5,
     "metadata": {},
     "output_type": "execute_result"
    }
   ],
   "source": [
    "SampleMeta = pd.read_csv(os.path.join(inp_dir, 'SampleMetaDataClean.csv'))\n",
    "SampleMeta"
   ]
  },
  {
   "cell_type": "code",
   "execution_count": 6,
   "id": "traditional-subsection",
   "metadata": {},
   "outputs": [
    {
     "data": {
      "text/html": [
       "<div>\n",
       "<style scoped>\n",
       "    .dataframe tbody tr th:only-of-type {\n",
       "        vertical-align: middle;\n",
       "    }\n",
       "\n",
       "    .dataframe tbody tr th {\n",
       "        vertical-align: top;\n",
       "    }\n",
       "\n",
       "    .dataframe thead th {\n",
       "        text-align: right;\n",
       "    }\n",
       "</style>\n",
       "<table border=\"1\" class=\"dataframe\">\n",
       "  <thead>\n",
       "    <tr style=\"text-align: right;\">\n",
       "      <th></th>\n",
       "      <th>Unnamed: 0</th>\n",
       "      <th>feature</th>\n",
       "    </tr>\n",
       "  </thead>\n",
       "  <tbody>\n",
       "    <tr>\n",
       "      <th>0</th>\n",
       "      <td>s__Abiotrophia_defectiva</td>\n",
       "      <td>s__Abiotrophia_defectiva</td>\n",
       "    </tr>\n",
       "    <tr>\n",
       "      <th>1</th>\n",
       "      <td>s__Acetobacter_unclassified</td>\n",
       "      <td>s__Acetobacter_unclassified</td>\n",
       "    </tr>\n",
       "    <tr>\n",
       "      <th>2</th>\n",
       "      <td>s__Achromobacter_piechaudii</td>\n",
       "      <td>s__Achromobacter_piechaudii</td>\n",
       "    </tr>\n",
       "    <tr>\n",
       "      <th>3</th>\n",
       "      <td>s__Achromobacter_unclassified</td>\n",
       "      <td>s__Achromobacter_unclassified</td>\n",
       "    </tr>\n",
       "    <tr>\n",
       "      <th>4</th>\n",
       "      <td>s__Achromobacter_xylosoxidans</td>\n",
       "      <td>s__Achromobacter_xylosoxidans</td>\n",
       "    </tr>\n",
       "    <tr>\n",
       "      <th>...</th>\n",
       "      <td>...</td>\n",
       "      <td>...</td>\n",
       "    </tr>\n",
       "    <tr>\n",
       "      <th>898</th>\n",
       "      <td>s__Weissella_koreensis</td>\n",
       "      <td>s__Weissella_koreensis</td>\n",
       "    </tr>\n",
       "    <tr>\n",
       "      <th>899</th>\n",
       "      <td>s__Weissella_paramesenteroides</td>\n",
       "      <td>s__Weissella_paramesenteroides</td>\n",
       "    </tr>\n",
       "    <tr>\n",
       "      <th>900</th>\n",
       "      <td>s__Weissella_unclassified</td>\n",
       "      <td>s__Weissella_unclassified</td>\n",
       "    </tr>\n",
       "    <tr>\n",
       "      <th>901</th>\n",
       "      <td>s__Wohlfahrtiimonas_chitiniclastica</td>\n",
       "      <td>s__Wohlfahrtiimonas_chitiniclastica</td>\n",
       "    </tr>\n",
       "    <tr>\n",
       "      <th>902</th>\n",
       "      <td>s__Yersinia_enterocolitica</td>\n",
       "      <td>s__Yersinia_enterocolitica</td>\n",
       "    </tr>\n",
       "  </tbody>\n",
       "</table>\n",
       "<p>903 rows × 2 columns</p>\n",
       "</div>"
      ],
      "text/plain": [
       "                              Unnamed: 0                              feature\n",
       "0               s__Abiotrophia_defectiva             s__Abiotrophia_defectiva\n",
       "1            s__Acetobacter_unclassified          s__Acetobacter_unclassified\n",
       "2            s__Achromobacter_piechaudii          s__Achromobacter_piechaudii\n",
       "3          s__Achromobacter_unclassified        s__Achromobacter_unclassified\n",
       "4          s__Achromobacter_xylosoxidans        s__Achromobacter_xylosoxidans\n",
       "..                                   ...                                  ...\n",
       "898               s__Weissella_koreensis               s__Weissella_koreensis\n",
       "899       s__Weissella_paramesenteroides       s__Weissella_paramesenteroides\n",
       "900            s__Weissella_unclassified            s__Weissella_unclassified\n",
       "901  s__Wohlfahrtiimonas_chitiniclastica  s__Wohlfahrtiimonas_chitiniclastica\n",
       "902           s__Yersinia_enterocolitica           s__Yersinia_enterocolitica\n",
       "\n",
       "[903 rows x 2 columns]"
      ]
     },
     "execution_count": 6,
     "metadata": {},
     "output_type": "execute_result"
    }
   ],
   "source": [
    "FeatMeta = pd.read_csv(os.path.join(inp_dir, 'FeatMetaDataClean.csv'))\n",
    "FeatMeta"
   ]
  },
  {
   "cell_type": "markdown",
   "id": "fundamental-forty",
   "metadata": {},
   "source": [
    "# Run PCA"
   ]
  },
  {
   "cell_type": "code",
   "execution_count": 7,
   "id": "korean-remainder",
   "metadata": {},
   "outputs": [],
   "source": [
    "scaler = StandardScaler()\n",
    "X_scaled = scaler.fit_transform(MatrixData)"
   ]
  },
  {
   "cell_type": "code",
   "execution_count": 8,
   "id": "temporal-snake",
   "metadata": {},
   "outputs": [],
   "source": [
    "# Do all principal components\n",
    "pca_model = PCA(n_components = None)"
   ]
  },
  {
   "cell_type": "code",
   "execution_count": 9,
   "id": "respected-utilization",
   "metadata": {},
   "outputs": [],
   "source": [
    "X_PCA = pca_model.fit_transform(X_scaled)"
   ]
  },
  {
   "cell_type": "code",
   "execution_count": 10,
   "id": "bibliographic-assurance",
   "metadata": {},
   "outputs": [
    {
     "data": {
      "text/plain": [
       "(4347, 903)"
      ]
     },
     "execution_count": 10,
     "metadata": {},
     "output_type": "execute_result"
    }
   ],
   "source": [
    "X_PCA.shape"
   ]
  },
  {
   "cell_type": "code",
   "execution_count": 11,
   "id": "civil-range",
   "metadata": {},
   "outputs": [
    {
     "data": {
      "text/plain": [
       "<AxesSubplot:>"
      ]
     },
     "execution_count": 11,
     "metadata": {},
     "output_type": "execute_result"
    },
    {
     "data": {
      "image/png": "[encoded data removed]",
      "text/plain": [
       "<Figure size 432x288 with 1 Axes>"
      ]
     },
     "metadata": {
      "needs_background": "light"
     },
     "output_type": "display_data"
    }
   ],
   "source": [
    "sns.lineplot(x = np.arange(1,101), y = pca_model.explained_variance_ratio_[0:100])"
   ]
  },
  {
   "cell_type": "code",
   "execution_count": 12,
   "id": "documentary-authorization",
   "metadata": {},
   "outputs": [
    {
     "data": {
      "text/plain": [
       "<AxesSubplot:>"
      ]
     },
     "execution_count": 12,
     "metadata": {},
     "output_type": "execute_result"
    },
    {
     "data": {
      "image/png": "[encoded data removed]",
      "text/plain": [
       "<Figure size 432x288 with 1 Axes>"
      ]
     },
     "metadata": {
      "needs_background": "light"
     },
     "output_type": "display_data"
    }
   ],
   "source": [
    "sns.lineplot(x = np.arange(1,21), y = pca_model.explained_variance_ratio_[0:20])"
   ]
  },
  {
   "cell_type": "code",
   "execution_count": 13,
   "id": "three-ethnic",
   "metadata": {},
   "outputs": [
    {
     "name": "stderr",
     "output_type": "stream",
     "text": [
      "/root/anaconda/envs/microbiome/lib/python3.7/site-packages/ipykernel_launcher.py:2: DeprecationWarning: `median_absolute_deviation` is deprecated, use `median_abs_deviation` instead!\n",
      "\n",
      "To preserve the existing default behavior, use\n",
      "`scipy.stats.median_abs_deviation(..., scale=1/1.4826)`.\n",
      "The value 1.4826 is not numerically precise for scaling\n",
      "with a normal distribution. For a numerically precise value, use\n",
      "`scipy.stats.median_abs_deviation(..., scale='normal')`.\n",
      "\n",
      "  \n"
     ]
    }
   ],
   "source": [
    "# get median absolute deviation of components to see where variance is not affected by outliers\n",
    "mad_vals = np.array([stats.median_absolute_deviation(X_PCA[:, i]) for i in range(X_PCA.shape[1])])"
   ]
  },
  {
   "cell_type": "code",
   "execution_count": 14,
   "id": "mysterious-thirty",
   "metadata": {},
   "outputs": [
    {
     "data": {
      "text/plain": [
       "<AxesSubplot:>"
      ]
     },
     "execution_count": 14,
     "metadata": {},
     "output_type": "execute_result"
    },
    {
     "data": {
      "image/png": "[encoded data removed]",
      "text/plain": [
       "<Figure size 432x288 with 1 Axes>"
      ]
     },
     "metadata": {
      "needs_background": "light"
     },
     "output_type": "display_data"
    }
   ],
   "source": [
    "sns.lineplot(x = np.arange(1,101), y = mad_vals[0:100])"
   ]
  },
  {
   "cell_type": "code",
   "execution_count": 15,
   "id": "olympic-seeker",
   "metadata": {},
   "outputs": [
    {
     "data": {
      "text/plain": [
       "array([  5,   6,   9,   4,   2,  12,  47,  13,  41,  52,  16,  42,  11,\n",
       "        29,  30,  27,  53,  20,  31,  73,  54, 161, 140, 170, 138,  95,\n",
       "       153, 419, 209, 151, 124, 187, 206, 185, 448, 383,  51, 362, 180,\n",
       "       199, 426, 197,  76, 160, 409, 356,  93, 190, 424, 220, 393, 408,\n",
       "       226, 375, 379, 182,  49, 105, 171,  66, 194,  14,  71, 454, 359,\n",
       "        79, 211, 198, 411, 430,  70, 433, 166, 447, 184, 178, 371, 396,\n",
       "       432, 403, 397, 177, 164, 400, 421, 373, 416, 125, 167, 441, 205,\n",
       "       174, 142,  50, 378, 222, 101, 363, 451, 369, 204, 215, 412, 414,\n",
       "       345, 214, 186, 402,  68, 193, 168, 360, 169, 367, 195, 354, 450,\n",
       "       449, 368, 202, 423, 422, 398, 189, 353, 431, 343, 374, 188, 149,\n",
       "        67, 427, 144, 392, 229, 391, 461, 137, 148, 350, 175, 332, 340,\n",
       "       361, 470, 381, 152, 428, 370, 119, 346, 227, 213, 176, 377,  91,\n",
       "       401, 390, 372, 155, 365, 181, 388,  37, 349, 425, 465, 141, 165,\n",
       "       410, 134, 380, 389, 348, 474, 110, 347, 344, 399, 216, 473, 395,\n",
       "       183, 173, 231, 407, 437, 208, 387, 394, 476, 207, 439,  56, 154,\n",
       "       405, 113, 452, 420, 413, 436, 163, 446, 376, 156, 355,  25, 201,\n",
       "       385, 136, 459, 236, 429, 133, 106, 366, 453, 406, 120, 464, 442,\n",
       "       404, 417, 210, 218, 203, 196, 122, 467, 219, 480, 128, 132,  55,\n",
       "       455, 435, 237, 336, 382, 358, 146, 443, 172, 482,  98, 225, 150,\n",
       "       351, 123, 179, 157, 492, 143, 339, 135, 434, 462, 158, 357, 212,\n",
       "       228, 330, 457, 235, 191, 440, 469, 493, 438, 466, 232, 445, 489,\n",
       "        17, 352,  45, 131, 471, 337, 117, 342, 224, 234,  84, 126, 483,\n",
       "        74, 463, 460, 415, 444, 223, 488, 240, 477, 108, 233, 341, 486,\n",
       "       384, 230, 485, 200,  94, 127, 241, 496, 145, 456, 248, 494, 495,\n",
       "       104, 221, 505, 238, 334, 192,  89,  39, 481, 129, 242, 109,  40,\n",
       "        88, 254, 130,  81, 335, 139, 107, 100, 245, 251, 159, 418, 364,\n",
       "       478,  57,  75, 324, 333,  82, 386, 479, 472, 258, 506, 162, 252,\n",
       "       246, 509, 217, 487, 325, 484, 265,  83, 320, 499, 253,  96, 504,\n",
       "       458,  18,  32, 111, 103, 255,  48, 260, 468,  78, 498, 512, 118,\n",
       "       527,  77, 475, 244, 239, 497, 327, 116,  85, 310, 318, 500,  61,\n",
       "       513, 516,   3, 115, 532, 328,  86, 147, 329, 323, 250, 518, 243,\n",
       "       259, 314, 491, 249,  43, 501, 102,  24, 490, 511, 514,  69, 338,\n",
       "        80,  87, 326,  23, 268, 317, 114, 515, 521, 508, 266, 263,  38,\n",
       "       510, 312, 528,  92, 264, 267, 319, 247, 272, 525, 112, 517, 502,\n",
       "       529, 523, 507,   8, 331, 316, 536, 261, 256, 270,  90, 538, 257,\n",
       "       322, 524, 503,  99, 282, 262, 307, 279, 121, 522, 540, 541, 534,\n",
       "       313, 304, 526, 530, 315, 519,  15, 309,  62, 539, 520, 311, 548,\n",
       "        60, 269,  65,  72, 273, 274, 533, 537, 554,  97, 321, 277, 531,\n",
       "       557, 305, 549, 280, 276, 306, 544,  28,  33, 547, 275, 556, 552,\n",
       "       543,  36, 300,  58, 546, 545, 535, 287,  34, 289, 278, 550, 542,\n",
       "       283, 308, 551, 290,  59,  44, 302, 299,  64, 562, 285, 570, 294,\n",
       "       571, 561, 560, 288, 573, 558, 563, 301, 271, 572, 564, 569, 281,\n",
       "        21, 577, 555,  22, 553, 567, 296, 303, 291, 578, 581, 559, 286,\n",
       "       284, 579, 298,  10, 565,  35, 568, 585,  46, 574, 583, 584, 293,\n",
       "       590, 295, 566,  63, 582, 589, 588, 587, 580, 576, 592, 598, 591,\n",
       "       575, 586, 297, 597, 595, 605,  26, 596, 594, 609, 593, 602, 599,\n",
       "       292, 601, 603, 608, 607, 600, 612, 611, 606, 615, 610, 604,  19,\n",
       "       619, 613, 618, 614, 625, 621, 623, 629, 624, 617, 620, 635, 628,\n",
       "       626, 616, 632, 637, 630, 639, 627, 633, 638, 631, 622, 636, 642,\n",
       "       640, 645, 634, 654, 650, 643, 648, 646, 647, 641, 644, 657, 653,\n",
       "       652, 658, 663, 662, 656, 651, 661, 666, 655, 659, 671, 664, 660,\n",
       "       672, 670, 678, 680, 673, 668, 675, 669, 667, 676, 677,   7, 674,\n",
       "       665, 679, 681, 684, 682, 688, 690, 683, 687, 685, 691, 692, 689,\n",
       "       686, 698, 697, 702, 695, 696, 693, 649, 704, 694, 717, 701, 703,\n",
       "       706, 714, 700, 712, 699, 705, 713, 719, 709, 711, 722, 718, 715,\n",
       "       721, 716, 707,   0, 720, 710, 727, 728, 730, 726, 723, 725,   1,\n",
       "       731, 724, 735, 732, 708, 729, 737, 736, 734, 739, 733, 742, 743,\n",
       "       746, 741, 752, 745, 744, 751, 740, 754, 738, 755, 756, 753, 750,\n",
       "       748, 747, 764, 758, 766, 765, 749, 762, 757, 768, 763, 759, 761,\n",
       "       760, 771, 769, 772, 767, 773, 770, 776, 777, 775, 774, 778, 780,\n",
       "       779, 781, 782, 784, 783, 785, 786, 787, 788, 789, 790, 791, 792,\n",
       "       795, 799, 797, 798, 793, 801, 802, 796, 794, 804, 803, 805, 807,\n",
       "       806, 813, 810, 808, 811, 809, 812, 815, 817, 800, 818, 820, 824,\n",
       "       816, 823, 814, 819, 827, 822, 828, 834, 821, 832, 826, 831, 830,\n",
       "       833, 825, 829, 835, 836, 838, 837, 863, 866, 852, 877, 859, 876,\n",
       "       874, 854, 873, 845, 869, 860, 878, 871, 839, 855, 842, 867, 841,\n",
       "       862, 850, 875, 858, 870, 872, 840, 868, 856, 864, 849, 853, 848,\n",
       "       861, 844, 851, 843, 888, 857, 846, 890, 880, 865, 847, 882, 889,\n",
       "       891, 879, 892, 883, 881, 893, 894, 895, 896, 884, 897, 898, 885,\n",
       "       886, 899, 887, 900, 901, 902])"
      ]
     },
     "execution_count": 15,
     "metadata": {},
     "output_type": "execute_result"
    }
   ],
   "source": [
    "mad_ordered_PCs = np.argsort(-mad_vals)\n",
    "mad_ordered_PCs"
   ]
  },
  {
   "cell_type": "code",
   "execution_count": 16,
   "id": "nutritional-northwest",
   "metadata": {},
   "outputs": [
    {
     "data": {
      "text/plain": [
       "(903,)"
      ]
     },
     "execution_count": 16,
     "metadata": {},
     "output_type": "execute_result"
    }
   ],
   "source": [
    "mad_vals.shape"
   ]
  },
  {
   "cell_type": "code",
   "execution_count": 17,
   "id": "forbidden-printer",
   "metadata": {},
   "outputs": [
    {
     "data": {
      "text/plain": [
       "<AxesSubplot:>"
      ]
     },
     "execution_count": 17,
     "metadata": {},
     "output_type": "execute_result"
    },
    {
     "data": {
      "image/png": "[encoded data removed]",
      "text/plain": [
       "<Figure size 432x288 with 1 Axes>"
      ]
     },
     "metadata": {
      "needs_background": "light"
     },
     "output_type": "display_data"
    }
   ],
   "source": [
    "sns.lineplot(x = np.arange(1,101), y = mad_vals[mad_ordered_PCs[0:100]])"
   ]
  },
  {
   "cell_type": "code",
   "execution_count": 18,
   "id": "phantom-video",
   "metadata": {},
   "outputs": [
    {
     "data": {
      "text/plain": [
       "(903, 903)"
      ]
     },
     "execution_count": 18,
     "metadata": {},
     "output_type": "execute_result"
    }
   ],
   "source": [
    "pca_model.components_.shape"
   ]
  },
  {
   "cell_type": "code",
   "execution_count": 19,
   "id": "similar-vietnamese",
   "metadata": {},
   "outputs": [
    {
     "data": {
      "text/html": [
       "<div>\n",
       "<style scoped>\n",
       "    .dataframe tbody tr th:only-of-type {\n",
       "        vertical-align: middle;\n",
       "    }\n",
       "\n",
       "    .dataframe tbody tr th {\n",
       "        vertical-align: top;\n",
       "    }\n",
       "\n",
       "    .dataframe thead th {\n",
       "        text-align: right;\n",
       "    }\n",
       "</style>\n",
       "<table border=\"1\" class=\"dataframe\">\n",
       "  <thead>\n",
       "    <tr style=\"text-align: right;\">\n",
       "      <th></th>\n",
       "      <th>PC5</th>\n",
       "      <th>PC6</th>\n",
       "      <th>PC9</th>\n",
       "      <th>PC4</th>\n",
       "      <th>PC2</th>\n",
       "      <th>PC12</th>\n",
       "      <th>PC47</th>\n",
       "      <th>PC13</th>\n",
       "      <th>PC41</th>\n",
       "      <th>PC52</th>\n",
       "      <th>...</th>\n",
       "      <th>PC42</th>\n",
       "      <th>PC11</th>\n",
       "      <th>PC29</th>\n",
       "      <th>PC30</th>\n",
       "      <th>PC27</th>\n",
       "      <th>PC53</th>\n",
       "      <th>PC20</th>\n",
       "      <th>PC31</th>\n",
       "      <th>PC73</th>\n",
       "      <th>PC54</th>\n",
       "    </tr>\n",
       "    <tr>\n",
       "      <th>feature</th>\n",
       "      <th></th>\n",
       "      <th></th>\n",
       "      <th></th>\n",
       "      <th></th>\n",
       "      <th></th>\n",
       "      <th></th>\n",
       "      <th></th>\n",
       "      <th></th>\n",
       "      <th></th>\n",
       "      <th></th>\n",
       "      <th></th>\n",
       "      <th></th>\n",
       "      <th></th>\n",
       "      <th></th>\n",
       "      <th></th>\n",
       "      <th></th>\n",
       "      <th></th>\n",
       "      <th></th>\n",
       "      <th></th>\n",
       "      <th></th>\n",
       "      <th></th>\n",
       "    </tr>\n",
       "  </thead>\n",
       "  <tbody>\n",
       "    <tr>\n",
       "      <th>s__Abiotrophia_defectiva</th>\n",
       "      <td>-0.025062</td>\n",
       "      <td>0.004290</td>\n",
       "      <td>0.014249</td>\n",
       "      <td>-0.014630</td>\n",
       "      <td>0.119335</td>\n",
       "      <td>0.080981</td>\n",
       "      <td>0.053792</td>\n",
       "      <td>0.066800</td>\n",
       "      <td>0.026471</td>\n",
       "      <td>-0.016661</td>\n",
       "      <td>...</td>\n",
       "      <td>0.057729</td>\n",
       "      <td>-0.054866</td>\n",
       "      <td>-0.008851</td>\n",
       "      <td>0.030023</td>\n",
       "      <td>-0.057748</td>\n",
       "      <td>-0.044963</td>\n",
       "      <td>0.018141</td>\n",
       "      <td>-0.014801</td>\n",
       "      <td>-0.014277</td>\n",
       "      <td>-0.042569</td>\n",
       "    </tr>\n",
       "    <tr>\n",
       "      <th>s__Acetobacter_unclassified</th>\n",
       "      <td>0.000635</td>\n",
       "      <td>-0.002004</td>\n",
       "      <td>0.003365</td>\n",
       "      <td>-0.000348</td>\n",
       "      <td>-0.001725</td>\n",
       "      <td>-0.002481</td>\n",
       "      <td>0.001992</td>\n",
       "      <td>0.002850</td>\n",
       "      <td>0.000305</td>\n",
       "      <td>0.006688</td>\n",
       "      <td>...</td>\n",
       "      <td>-0.005013</td>\n",
       "      <td>0.001341</td>\n",
       "      <td>-0.003785</td>\n",
       "      <td>-0.003058</td>\n",
       "      <td>-0.007850</td>\n",
       "      <td>0.014423</td>\n",
       "      <td>-0.002767</td>\n",
       "      <td>-0.000689</td>\n",
       "      <td>0.024157</td>\n",
       "      <td>-0.007548</td>\n",
       "    </tr>\n",
       "    <tr>\n",
       "      <th>s__Achromobacter_piechaudii</th>\n",
       "      <td>-0.001219</td>\n",
       "      <td>-0.003584</td>\n",
       "      <td>0.004507</td>\n",
       "      <td>-0.005678</td>\n",
       "      <td>0.011605</td>\n",
       "      <td>-0.017313</td>\n",
       "      <td>0.006734</td>\n",
       "      <td>-0.003962</td>\n",
       "      <td>0.007235</td>\n",
       "      <td>-0.074986</td>\n",
       "      <td>...</td>\n",
       "      <td>0.076336</td>\n",
       "      <td>0.005903</td>\n",
       "      <td>-0.163474</td>\n",
       "      <td>0.280874</td>\n",
       "      <td>0.035628</td>\n",
       "      <td>-0.021450</td>\n",
       "      <td>-0.001724</td>\n",
       "      <td>-0.048276</td>\n",
       "      <td>-0.015821</td>\n",
       "      <td>-0.053590</td>\n",
       "    </tr>\n",
       "    <tr>\n",
       "      <th>s__Achromobacter_unclassified</th>\n",
       "      <td>0.000692</td>\n",
       "      <td>-0.010150</td>\n",
       "      <td>0.001489</td>\n",
       "      <td>-0.008397</td>\n",
       "      <td>0.006203</td>\n",
       "      <td>0.003479</td>\n",
       "      <td>0.001007</td>\n",
       "      <td>-0.004670</td>\n",
       "      <td>-0.005885</td>\n",
       "      <td>-0.028583</td>\n",
       "      <td>...</td>\n",
       "      <td>0.027234</td>\n",
       "      <td>-0.002523</td>\n",
       "      <td>-0.053337</td>\n",
       "      <td>0.110496</td>\n",
       "      <td>0.022494</td>\n",
       "      <td>-0.006814</td>\n",
       "      <td>0.011198</td>\n",
       "      <td>-0.015896</td>\n",
       "      <td>-0.006758</td>\n",
       "      <td>-0.027825</td>\n",
       "    </tr>\n",
       "    <tr>\n",
       "      <th>s__Achromobacter_xylosoxidans</th>\n",
       "      <td>-0.001219</td>\n",
       "      <td>-0.003584</td>\n",
       "      <td>0.004507</td>\n",
       "      <td>-0.005678</td>\n",
       "      <td>0.011605</td>\n",
       "      <td>-0.017313</td>\n",
       "      <td>0.006734</td>\n",
       "      <td>-0.003962</td>\n",
       "      <td>0.007235</td>\n",
       "      <td>-0.074986</td>\n",
       "      <td>...</td>\n",
       "      <td>0.076336</td>\n",
       "      <td>0.005903</td>\n",
       "      <td>-0.163474</td>\n",
       "      <td>0.280874</td>\n",
       "      <td>0.035628</td>\n",
       "      <td>-0.021450</td>\n",
       "      <td>-0.001724</td>\n",
       "      <td>-0.048276</td>\n",
       "      <td>-0.015821</td>\n",
       "      <td>-0.053590</td>\n",
       "    </tr>\n",
       "    <tr>\n",
       "      <th>...</th>\n",
       "      <td>...</td>\n",
       "      <td>...</td>\n",
       "      <td>...</td>\n",
       "      <td>...</td>\n",
       "      <td>...</td>\n",
       "      <td>...</td>\n",
       "      <td>...</td>\n",
       "      <td>...</td>\n",
       "      <td>...</td>\n",
       "      <td>...</td>\n",
       "      <td>...</td>\n",
       "      <td>...</td>\n",
       "      <td>...</td>\n",
       "      <td>...</td>\n",
       "      <td>...</td>\n",
       "      <td>...</td>\n",
       "      <td>...</td>\n",
       "      <td>...</td>\n",
       "      <td>...</td>\n",
       "      <td>...</td>\n",
       "      <td>...</td>\n",
       "    </tr>\n",
       "    <tr>\n",
       "      <th>s__Weissella_koreensis</th>\n",
       "      <td>0.000764</td>\n",
       "      <td>-0.002625</td>\n",
       "      <td>0.003949</td>\n",
       "      <td>-0.000383</td>\n",
       "      <td>0.003063</td>\n",
       "      <td>-0.012832</td>\n",
       "      <td>-0.010516</td>\n",
       "      <td>0.006455</td>\n",
       "      <td>0.013703</td>\n",
       "      <td>-0.016380</td>\n",
       "      <td>...</td>\n",
       "      <td>0.003656</td>\n",
       "      <td>0.013887</td>\n",
       "      <td>0.007952</td>\n",
       "      <td>-0.004963</td>\n",
       "      <td>0.007987</td>\n",
       "      <td>0.027889</td>\n",
       "      <td>-0.001787</td>\n",
       "      <td>0.001979</td>\n",
       "      <td>0.004033</td>\n",
       "      <td>-0.003161</td>\n",
       "    </tr>\n",
       "    <tr>\n",
       "      <th>s__Weissella_paramesenteroides</th>\n",
       "      <td>-0.017666</td>\n",
       "      <td>0.006672</td>\n",
       "      <td>0.009106</td>\n",
       "      <td>-0.004923</td>\n",
       "      <td>0.037396</td>\n",
       "      <td>-0.025086</td>\n",
       "      <td>-0.078004</td>\n",
       "      <td>-0.024873</td>\n",
       "      <td>0.021381</td>\n",
       "      <td>-0.047896</td>\n",
       "      <td>...</td>\n",
       "      <td>-0.036874</td>\n",
       "      <td>-0.003700</td>\n",
       "      <td>0.033575</td>\n",
       "      <td>-0.055784</td>\n",
       "      <td>0.067814</td>\n",
       "      <td>0.052404</td>\n",
       "      <td>0.042047</td>\n",
       "      <td>-0.059484</td>\n",
       "      <td>-0.023081</td>\n",
       "      <td>0.003582</td>\n",
       "    </tr>\n",
       "    <tr>\n",
       "      <th>s__Weissella_unclassified</th>\n",
       "      <td>0.007501</td>\n",
       "      <td>-0.008050</td>\n",
       "      <td>-0.013826</td>\n",
       "      <td>-0.008119</td>\n",
       "      <td>0.015101</td>\n",
       "      <td>0.002022</td>\n",
       "      <td>-0.001491</td>\n",
       "      <td>-0.000673</td>\n",
       "      <td>0.028477</td>\n",
       "      <td>0.026273</td>\n",
       "      <td>...</td>\n",
       "      <td>-0.016939</td>\n",
       "      <td>0.001111</td>\n",
       "      <td>0.015895</td>\n",
       "      <td>0.020571</td>\n",
       "      <td>0.015407</td>\n",
       "      <td>0.040892</td>\n",
       "      <td>0.000398</td>\n",
       "      <td>-0.004498</td>\n",
       "      <td>-0.039057</td>\n",
       "      <td>0.038083</td>\n",
       "    </tr>\n",
       "    <tr>\n",
       "      <th>s__Wohlfahrtiimonas_chitiniclastica</th>\n",
       "      <td>-0.000000</td>\n",
       "      <td>-0.000000</td>\n",
       "      <td>-0.000000</td>\n",
       "      <td>0.000000</td>\n",
       "      <td>-0.000000</td>\n",
       "      <td>0.000000</td>\n",
       "      <td>-0.000000</td>\n",
       "      <td>-0.000000</td>\n",
       "      <td>-0.000000</td>\n",
       "      <td>-0.000000</td>\n",
       "      <td>...</td>\n",
       "      <td>0.000000</td>\n",
       "      <td>0.000000</td>\n",
       "      <td>0.000000</td>\n",
       "      <td>0.000000</td>\n",
       "      <td>0.000000</td>\n",
       "      <td>0.000000</td>\n",
       "      <td>0.000000</td>\n",
       "      <td>0.000000</td>\n",
       "      <td>0.000000</td>\n",
       "      <td>0.000000</td>\n",
       "    </tr>\n",
       "    <tr>\n",
       "      <th>s__Yersinia_enterocolitica</th>\n",
       "      <td>-0.000000</td>\n",
       "      <td>-0.000000</td>\n",
       "      <td>-0.000000</td>\n",
       "      <td>0.000000</td>\n",
       "      <td>-0.000000</td>\n",
       "      <td>0.000000</td>\n",
       "      <td>-0.000000</td>\n",
       "      <td>-0.000000</td>\n",
       "      <td>-0.000000</td>\n",
       "      <td>-0.000000</td>\n",
       "      <td>...</td>\n",
       "      <td>0.000000</td>\n",
       "      <td>0.000000</td>\n",
       "      <td>0.000000</td>\n",
       "      <td>0.000000</td>\n",
       "      <td>0.000000</td>\n",
       "      <td>0.000000</td>\n",
       "      <td>0.000000</td>\n",
       "      <td>0.000000</td>\n",
       "      <td>0.000000</td>\n",
       "      <td>0.000000</td>\n",
       "    </tr>\n",
       "  </tbody>\n",
       "</table>\n",
       "<p>903 rows × 21 columns</p>\n",
       "</div>"
      ],
      "text/plain": [
       "                                          PC5       PC6       PC9       PC4  \\\n",
       "feature                                                                       \n",
       "s__Abiotrophia_defectiva            -0.025062  0.004290  0.014249 -0.014630   \n",
       "s__Acetobacter_unclassified          0.000635 -0.002004  0.003365 -0.000348   \n",
       "s__Achromobacter_piechaudii         -0.001219 -0.003584  0.004507 -0.005678   \n",
       "s__Achromobacter_unclassified        0.000692 -0.010150  0.001489 -0.008397   \n",
       "s__Achromobacter_xylosoxidans       -0.001219 -0.003584  0.004507 -0.005678   \n",
       "...                                       ...       ...       ...       ...   \n",
       "s__Weissella_koreensis               0.000764 -0.002625  0.003949 -0.000383   \n",
       "s__Weissella_paramesenteroides      -0.017666  0.006672  0.009106 -0.004923   \n",
       "s__Weissella_unclassified            0.007501 -0.008050 -0.013826 -0.008119   \n",
       "s__Wohlfahrtiimonas_chitiniclastica -0.000000 -0.000000 -0.000000  0.000000   \n",
       "s__Yersinia_enterocolitica          -0.000000 -0.000000 -0.000000  0.000000   \n",
       "\n",
       "                                          PC2      PC12      PC47      PC13  \\\n",
       "feature                                                                       \n",
       "s__Abiotrophia_defectiva             0.119335  0.080981  0.053792  0.066800   \n",
       "s__Acetobacter_unclassified         -0.001725 -0.002481  0.001992  0.002850   \n",
       "s__Achromobacter_piechaudii          0.011605 -0.017313  0.006734 -0.003962   \n",
       "s__Achromobacter_unclassified        0.006203  0.003479  0.001007 -0.004670   \n",
       "s__Achromobacter_xylosoxidans        0.011605 -0.017313  0.006734 -0.003962   \n",
       "...                                       ...       ...       ...       ...   \n",
       "s__Weissella_koreensis               0.003063 -0.012832 -0.010516  0.006455   \n",
       "s__Weissella_paramesenteroides       0.037396 -0.025086 -0.078004 -0.024873   \n",
       "s__Weissella_unclassified            0.015101  0.002022 -0.001491 -0.000673   \n",
       "s__Wohlfahrtiimonas_chitiniclastica -0.000000  0.000000 -0.000000 -0.000000   \n",
       "s__Yersinia_enterocolitica          -0.000000  0.000000 -0.000000 -0.000000   \n",
       "\n",
       "                                         PC41      PC52  ...      PC42  \\\n",
       "feature                                                  ...             \n",
       "s__Abiotrophia_defectiva             0.026471 -0.016661  ...  0.057729   \n",
       "s__Acetobacter_unclassified          0.000305  0.006688  ... -0.005013   \n",
       "s__Achromobacter_piechaudii          0.007235 -0.074986  ...  0.076336   \n",
       "s__Achromobacter_unclassified       -0.005885 -0.028583  ...  0.027234   \n",
       "s__Achromobacter_xylosoxidans        0.007235 -0.074986  ...  0.076336   \n",
       "...                                       ...       ...  ...       ...   \n",
       "s__Weissella_koreensis               0.013703 -0.016380  ...  0.003656   \n",
       "s__Weissella_paramesenteroides       0.021381 -0.047896  ... -0.036874   \n",
       "s__Weissella_unclassified            0.028477  0.026273  ... -0.016939   \n",
       "s__Wohlfahrtiimonas_chitiniclastica -0.000000 -0.000000  ...  0.000000   \n",
       "s__Yersinia_enterocolitica          -0.000000 -0.000000  ...  0.000000   \n",
       "\n",
       "                                         PC11      PC29      PC30      PC27  \\\n",
       "feature                                                                       \n",
       "s__Abiotrophia_defectiva            -0.054866 -0.008851  0.030023 -0.057748   \n",
       "s__Acetobacter_unclassified          0.001341 -0.003785 -0.003058 -0.007850   \n",
       "s__Achromobacter_piechaudii          0.005903 -0.163474  0.280874  0.035628   \n",
       "s__Achromobacter_unclassified       -0.002523 -0.053337  0.110496  0.022494   \n",
       "s__Achromobacter_xylosoxidans        0.005903 -0.163474  0.280874  0.035628   \n",
       "...                                       ...       ...       ...       ...   \n",
       "s__Weissella_koreensis               0.013887  0.007952 -0.004963  0.007987   \n",
       "s__Weissella_paramesenteroides      -0.003700  0.033575 -0.055784  0.067814   \n",
       "s__Weissella_unclassified            0.001111  0.015895  0.020571  0.015407   \n",
       "s__Wohlfahrtiimonas_chitiniclastica  0.000000  0.000000  0.000000  0.000000   \n",
       "s__Yersinia_enterocolitica           0.000000  0.000000  0.000000  0.000000   \n",
       "\n",
       "                                         PC53      PC20      PC31      PC73  \\\n",
       "feature                                                                       \n",
       "s__Abiotrophia_defectiva            -0.044963  0.018141 -0.014801 -0.014277   \n",
       "s__Acetobacter_unclassified          0.014423 -0.002767 -0.000689  0.024157   \n",
       "s__Achromobacter_piechaudii         -0.021450 -0.001724 -0.048276 -0.015821   \n",
       "s__Achromobacter_unclassified       -0.006814  0.011198 -0.015896 -0.006758   \n",
       "s__Achromobacter_xylosoxidans       -0.021450 -0.001724 -0.048276 -0.015821   \n",
       "...                                       ...       ...       ...       ...   \n",
       "s__Weissella_koreensis               0.027889 -0.001787  0.001979  0.004033   \n",
       "s__Weissella_paramesenteroides       0.052404  0.042047 -0.059484 -0.023081   \n",
       "s__Weissella_unclassified            0.040892  0.000398 -0.004498 -0.039057   \n",
       "s__Wohlfahrtiimonas_chitiniclastica  0.000000  0.000000  0.000000  0.000000   \n",
       "s__Yersinia_enterocolitica           0.000000  0.000000  0.000000  0.000000   \n",
       "\n",
       "                                         PC54  \n",
       "feature                                        \n",
       "s__Abiotrophia_defectiva            -0.042569  \n",
       "s__Acetobacter_unclassified         -0.007548  \n",
       "s__Achromobacter_piechaudii         -0.053590  \n",
       "s__Achromobacter_unclassified       -0.027825  \n",
       "s__Achromobacter_xylosoxidans       -0.053590  \n",
       "...                                       ...  \n",
       "s__Weissella_koreensis              -0.003161  \n",
       "s__Weissella_paramesenteroides       0.003582  \n",
       "s__Weissella_unclassified            0.038083  \n",
       "s__Wohlfahrtiimonas_chitiniclastica  0.000000  \n",
       "s__Yersinia_enterocolitica           0.000000  \n",
       "\n",
       "[903 rows x 21 columns]"
      ]
     },
     "execution_count": 19,
     "metadata": {},
     "output_type": "execute_result"
    }
   ],
   "source": [
    "heatmap_df = FeatMeta\n",
    "for i in range(21):\n",
    "    pc_use = mad_ordered_PCs[i]\n",
    "    PC_name = 'PC' + str(pc_use)\n",
    "    heatmap_df[PC_name] = pca_model.components_[pc_use,:]\n",
    "\n",
    "heatmap_df.index = heatmap_df['feature']\n",
    "heatmap_df.pop('Unnamed: 0')\n",
    "heatmap_df.pop('feature')\n",
    "heatmap_df"
   ]
  },
  {
   "cell_type": "code",
   "execution_count": 20,
   "id": "verbal-valve",
   "metadata": {},
   "outputs": [
    {
     "name": "stderr",
     "output_type": "stream",
     "text": [
      "/root/anaconda/envs/microbiome/lib/python3.7/site-packages/seaborn/matrix.py:649: UserWarning: Clustering large matrix with scipy. Installing `fastcluster` may give better performance.\n",
      "  warnings.warn(msg)\n"
     ]
    },
    {
     "data": {
      "text/plain": [
       "<seaborn.matrix.ClusterGrid at 0x7f6817b9e690>"
      ]
     },
     "execution_count": 20,
     "metadata": {},
     "output_type": "execute_result"
    },
    {
     "data": {
      "image/png": "[encoded data removed]",
      "text/plain": [
       "<Figure size 720x720 with 4 Axes>"
      ]
     },
     "metadata": {
      "needs_background": "light"
     },
     "output_type": "display_data"
    }
   ],
   "source": [
    "sns.clustermap(heatmap_df)"
   ]
  },
  {
   "cell_type": "markdown",
   "id": "junior-requirement",
   "metadata": {},
   "source": [
    "Overall, we don't see super blocky structure"
   ]
  },
  {
   "cell_type": "code",
   "execution_count": 21,
   "id": "suburban-instrument",
   "metadata": {},
   "outputs": [],
   "source": [
    "# get maximum PC loading\n",
    "max_loading = np.array([np.max(pca_model.components_[mad_ordered_PCs[0:20], i]) for i in range(pca_model.components_.shape[1])])"
   ]
  },
  {
   "cell_type": "code",
   "execution_count": 22,
   "id": "experienced-updating",
   "metadata": {},
   "outputs": [
    {
     "data": {
      "text/plain": [
       "<seaborn.axisgrid.FacetGrid at 0x7f681f057a50>"
      ]
     },
     "execution_count": 22,
     "metadata": {},
     "output_type": "execute_result"
    },
    {
     "data": {
      "image/png": "[encoded data removed]",
      "text/plain": [
       "<Figure size 360x360 with 1 Axes>"
      ]
     },
     "metadata": {
      "needs_background": "light"
     },
     "output_type": "display_data"
    }
   ],
   "source": [
    "# distribution of maximum PC loadings across ~900 features\n",
    "sns.displot(max_loading)"
   ]
  },
  {
   "cell_type": "markdown",
   "id": "looking-programmer",
   "metadata": {},
   "source": [
    "It seems like most features are at least somewhat important, while there are a handful that are really important to variation"
   ]
  },
  {
   "cell_type": "code",
   "execution_count": 24,
   "id": "better-prediction",
   "metadata": {},
   "outputs": [
    {
     "data": {
      "text/plain": [
       "feature\n",
       "s__Corynebacterium_aurimucosum                  0.212377\n",
       "s__Peptoniphilus_timonensis                     0.211990\n",
       "s__Corynebacterium_pseudogenitalium             0.211990\n",
       "s__Corynebacterium_tuberculostearicum           0.211990\n",
       "s__Corynebacterium_amycolatum                   0.211806\n",
       "s__Naumovozyma_unclassified                     0.181119\n",
       "s__Coprococcus_catus                            0.166667\n",
       "s__Dorea_longicatena                            0.153905\n",
       "s__Eubacterium_hallii                           0.152774\n",
       "s__Dorea_formicigenerans                        0.142504\n",
       "s__Anaerococcus_prevotii                        0.138853\n",
       "s__Ruminococcus_obeum                           0.133972\n",
       "s__Saccharomyces_cerevisiae                     0.127605\n",
       "s__Coprococcus_comes                            0.125814\n",
       "s__Finegoldia_magna                             0.125796\n",
       "s__Campylobacter_hominis                        0.122840\n",
       "s__Varibaculum_cambriense                       0.121934\n",
       "s__Corynebacterium_jeikeium                     0.120260\n",
       "s__Collinsella_aerofaciens                      0.116307\n",
       "s__Ruminococcus_sp_5_1_39BFAA                   0.113069\n",
       "s__Treponema_socranskii                         0.102879\n",
       "s__Selenomonas_sputigena                        0.101381\n",
       "s__Prevotella_oris                              0.096181\n",
       "s__Centipeda_periodontii                        0.096176\n",
       "s__Treponema_denticola                          0.095667\n",
       "s__Eggerthia_catenaformis                       0.083182\n",
       "s__Eubacterium_biforme                          0.080529\n",
       "s__Fretibacterium_fastidiosum                   0.080433\n",
       "s__Eubacterium_rectale                          0.079805\n",
       "s__Bifidobacterium_adolescentis                 0.079742\n",
       "s__Treponema_maltophilum                        0.076817\n",
       "s__Peptostreptococcaceae_noname_unclassified    0.076372\n",
       "s__Prevotella_buccalis                          0.076269\n",
       "s__Anaerostipes_hadrus                          0.073995\n",
       "s__Eubacterium_ramulus                          0.073983\n",
       "s__Eubacterium_brachy                           0.064192\n",
       "s__Methanobrevibacter_smithii                   0.064115\n",
       "s__Lachnospiraceae_bacterium_8_1_57FAA          0.062974\n",
       "s__Adlercreutzia_equolifaciens                  0.062793\n",
       "s__Ruminococcus_bromii                          0.060449\n",
       "Name: PC5, dtype: float64"
      ]
     },
     "execution_count": 24,
     "metadata": {},
     "output_type": "execute_result"
    }
   ],
   "source": [
    "heatmap_df['PC5'].sort_values(ascending = False)[0:40]"
   ]
  },
  {
   "cell_type": "code",
   "execution_count": 25,
   "id": "palestinian-fishing",
   "metadata": {},
   "outputs": [
    {
     "data": {
      "text/plain": [
       "<seaborn.axisgrid.FacetGrid at 0x7f6819d1d050>"
      ]
     },
     "execution_count": 25,
     "metadata": {},
     "output_type": "execute_result"
    },
    {
     "data": {
      "image/png": "[encoded data removed]",
      "text/plain": [
       "<Figure size 360x360 with 1 Axes>"
      ]
     },
     "metadata": {
      "needs_background": "light"
     },
     "output_type": "display_data"
    }
   ],
   "source": [
    "sns.displot(heatmap_df['PC6'])"
   ]
  },
  {
   "cell_type": "code",
   "execution_count": 26,
   "id": "painted-restoration",
   "metadata": {},
   "outputs": [
    {
     "data": {
      "text/plain": [
       "<seaborn.axisgrid.FacetGrid at 0x7f681d4b1550>"
      ]
     },
     "execution_count": 26,
     "metadata": {},
     "output_type": "execute_result"
    },
    {
     "data": {
      "image/png": "[encoded data removed]",
      "text/plain": [
       "<Figure size 360x360 with 1 Axes>"
      ]
     },
     "metadata": {
      "needs_background": "light"
     },
     "output_type": "display_data"
    }
   ],
   "source": [
    "sns.displot(heatmap_df['PC9'])"
   ]
  },
  {
   "cell_type": "code",
   "execution_count": 27,
   "id": "aboriginal-beijing",
   "metadata": {},
   "outputs": [
    {
     "data": {
      "text/plain": [
       "<seaborn.axisgrid.FacetGrid at 0x7f681d2ec150>"
      ]
     },
     "execution_count": 27,
     "metadata": {},
     "output_type": "execute_result"
    },
    {
     "data": {
      "image/png": "[encoded data removed]",
      "text/plain": [
       "<Figure size 360x360 with 1 Axes>"
      ]
     },
     "metadata": {
      "needs_background": "light"
     },
     "output_type": "display_data"
    }
   ],
   "source": [
    "sns.displot(heatmap_df['PC4'])"
   ]
  },
  {
   "cell_type": "code",
   "execution_count": 28,
   "id": "civil-reading",
   "metadata": {},
   "outputs": [],
   "source": [
    "for i in range(0, 100):\n",
    "    pc_use = mad_ordered_PCs[i]\n",
    "    PC_name = 'PC' + str(pc_use)\n",
    "    SampleMeta[PC_name] = X_PCA[:, pc_use]"
   ]
  },
  {
   "cell_type": "code",
   "execution_count": 29,
   "id": "invisible-playback",
   "metadata": {},
   "outputs": [
    {
     "data": {
      "text/plain": [
       "array([ 5,  6,  9,  4,  2, 12, 47, 13, 41, 52, 16, 42, 11, 29, 30, 27, 53,\n",
       "       20, 31, 73])"
      ]
     },
     "execution_count": 29,
     "metadata": {},
     "output_type": "execute_result"
    }
   ],
   "source": [
    "mad_ordered_PCs[0:20]"
   ]
  },
  {
   "cell_type": "code",
   "execution_count": 30,
   "id": "periodic-invention",
   "metadata": {},
   "outputs": [
    {
     "data": {
      "text/plain": [
       "<AxesSubplot:xlabel='PC5', ylabel='PC6'>"
      ]
     },
     "execution_count": 30,
     "metadata": {},
     "output_type": "execute_result"
    },
    {
     "data": {
      "image/png": "[encoded data removed]",
      "text/plain": [
       "<Figure size 432x288 with 1 Axes>"
      ]
     },
     "metadata": {
      "needs_background": "light"
     },
     "output_type": "display_data"
    }
   ],
   "source": [
    "sns.scatterplot(data = SampleMeta, x = 'PC5', y = 'PC6', hue = 'Healthy')"
   ]
  },
  {
   "cell_type": "code",
   "execution_count": 31,
   "id": "awful-isaac",
   "metadata": {},
   "outputs": [
    {
     "data": {
      "text/plain": [
       "<AxesSubplot:xlabel='PC9', ylabel='PC4'>"
      ]
     },
     "execution_count": 31,
     "metadata": {},
     "output_type": "execute_result"
    },
    {
     "data": {
      "image/png": "[encoded data removed]",
      "text/plain": [
       "<Figure size 432x288 with 1 Axes>"
      ]
     },
     "metadata": {
      "needs_background": "light"
     },
     "output_type": "display_data"
    }
   ],
   "source": [
    "sns.scatterplot(data = SampleMeta, x = 'PC9', y = 'PC4', hue = 'Healthy')"
   ]
  },
  {
   "cell_type": "code",
   "execution_count": 32,
   "id": "naughty-contract",
   "metadata": {},
   "outputs": [
    {
     "data": {
      "text/plain": [
       "<AxesSubplot:xlabel='PC2', ylabel='PC12'>"
      ]
     },
     "execution_count": 32,
     "metadata": {},
     "output_type": "execute_result"
    },
    {
     "data": {
      "image/png": "[encoded data removed]",
      "text/plain": [
       "<Figure size 432x288 with 1 Axes>"
      ]
     },
     "metadata": {
      "needs_background": "light"
     },
     "output_type": "display_data"
    }
   ],
   "source": [
    "sns.scatterplot(data = SampleMeta, x = 'PC2', y = 'PC12', hue = 'Healthy')"
   ]
  },
  {
   "cell_type": "code",
   "execution_count": 33,
   "id": "committed-requirement",
   "metadata": {},
   "outputs": [],
   "source": [
    "healthy_inds = np.argwhere(SampleMeta['Healthy'].to_numpy() == 'Healthy')\n",
    "unhealthy_inds = np.argwhere(SampleMeta['Healthy'].to_numpy() != 'Healthy')"
   ]
  },
  {
   "cell_type": "code",
   "execution_count": 34,
   "id": "incident-illness",
   "metadata": {},
   "outputs": [],
   "source": [
    "t_test_results = {'PC': [], 't': [], 'p': []}\n",
    "for x in mad_ordered_PCs[0:40]:\n",
    "    pc_name = 'PC'+str(x)\n",
    "    pc_vals = SampleMeta[pc_name].to_numpy().astype('float')\n",
    "    t_test_result_x = stats.ttest_ind(pc_vals[healthy_inds], pc_vals[unhealthy_inds])\n",
    "    t_test_results['PC'].append(pc_name)\n",
    "    t_test_results['t'].append(t_test_result_x[0])\n",
    "    t_test_results['p'].append(t_test_result_x[1])"
   ]
  },
  {
   "cell_type": "code",
   "execution_count": 35,
   "id": "accessory-alert",
   "metadata": {},
   "outputs": [
    {
     "data": {
      "text/html": [
       "<div>\n",
       "<style scoped>\n",
       "    .dataframe tbody tr th:only-of-type {\n",
       "        vertical-align: middle;\n",
       "    }\n",
       "\n",
       "    .dataframe tbody tr th {\n",
       "        vertical-align: top;\n",
       "    }\n",
       "\n",
       "    .dataframe thead th {\n",
       "        text-align: right;\n",
       "    }\n",
       "</style>\n",
       "<table border=\"1\" class=\"dataframe\">\n",
       "  <thead>\n",
       "    <tr style=\"text-align: right;\">\n",
       "      <th></th>\n",
       "      <th>PC</th>\n",
       "      <th>t</th>\n",
       "      <th>p</th>\n",
       "    </tr>\n",
       "  </thead>\n",
       "  <tbody>\n",
       "    <tr>\n",
       "      <th>0</th>\n",
       "      <td>PC5</td>\n",
       "      <td>[10.829797726489234]</td>\n",
       "      <td>[5.4841478051680515e-27]</td>\n",
       "    </tr>\n",
       "    <tr>\n",
       "      <th>1</th>\n",
       "      <td>PC6</td>\n",
       "      <td>[-6.566046750453601]</td>\n",
       "      <td>[5.774187759563588e-11]</td>\n",
       "    </tr>\n",
       "    <tr>\n",
       "      <th>2</th>\n",
       "      <td>PC9</td>\n",
       "      <td>[8.681256733922158]</td>\n",
       "      <td>[5.453318678798592e-18]</td>\n",
       "    </tr>\n",
       "    <tr>\n",
       "      <th>3</th>\n",
       "      <td>PC4</td>\n",
       "      <td>[-4.432822660120945]</td>\n",
       "      <td>[9.530132688490638e-06]</td>\n",
       "    </tr>\n",
       "    <tr>\n",
       "      <th>4</th>\n",
       "      <td>PC2</td>\n",
       "      <td>[-17.06400633827915]</td>\n",
       "      <td>[3.0335290752900344e-63]</td>\n",
       "    </tr>\n",
       "    <tr>\n",
       "      <th>5</th>\n",
       "      <td>PC12</td>\n",
       "      <td>[4.652167271072596]</td>\n",
       "      <td>[3.3823227238436403e-06]</td>\n",
       "    </tr>\n",
       "    <tr>\n",
       "      <th>6</th>\n",
       "      <td>PC47</td>\n",
       "      <td>[1.088109233712632]</td>\n",
       "      <td>[0.2766072392454771]</td>\n",
       "    </tr>\n",
       "    <tr>\n",
       "      <th>7</th>\n",
       "      <td>PC13</td>\n",
       "      <td>[-1.839788083585054]</td>\n",
       "      <td>[0.06586752993411586]</td>\n",
       "    </tr>\n",
       "    <tr>\n",
       "      <th>8</th>\n",
       "      <td>PC41</td>\n",
       "      <td>[-2.3001533898357223]</td>\n",
       "      <td>[0.021486697425528993]</td>\n",
       "    </tr>\n",
       "    <tr>\n",
       "      <th>9</th>\n",
       "      <td>PC52</td>\n",
       "      <td>[6.525399418120427]</td>\n",
       "      <td>[7.559114501989691e-11]</td>\n",
       "    </tr>\n",
       "    <tr>\n",
       "      <th>10</th>\n",
       "      <td>PC16</td>\n",
       "      <td>[-1.149351128345876]</td>\n",
       "      <td>[0.25047448493331137]</td>\n",
       "    </tr>\n",
       "    <tr>\n",
       "      <th>11</th>\n",
       "      <td>PC42</td>\n",
       "      <td>[2.3210436353207795]</td>\n",
       "      <td>[0.02033053746186836]</td>\n",
       "    </tr>\n",
       "    <tr>\n",
       "      <th>12</th>\n",
       "      <td>PC11</td>\n",
       "      <td>[-0.7472787652989793]</td>\n",
       "      <td>[0.45493574455590025]</td>\n",
       "    </tr>\n",
       "    <tr>\n",
       "      <th>13</th>\n",
       "      <td>PC29</td>\n",
       "      <td>[-1.3186526897577697]</td>\n",
       "      <td>[0.18735474878030955]</td>\n",
       "    </tr>\n",
       "    <tr>\n",
       "      <th>14</th>\n",
       "      <td>PC30</td>\n",
       "      <td>[-1.3653441949346456]</td>\n",
       "      <td>[0.1722155763156941]</td>\n",
       "    </tr>\n",
       "    <tr>\n",
       "      <th>15</th>\n",
       "      <td>PC27</td>\n",
       "      <td>[1.721144823513564]</td>\n",
       "      <td>[0.08529573321340497]</td>\n",
       "    </tr>\n",
       "    <tr>\n",
       "      <th>16</th>\n",
       "      <td>PC53</td>\n",
       "      <td>[3.7625681160174453]</td>\n",
       "      <td>[0.00017039456155817679]</td>\n",
       "    </tr>\n",
       "    <tr>\n",
       "      <th>17</th>\n",
       "      <td>PC20</td>\n",
       "      <td>[-2.7658075055625777]</td>\n",
       "      <td>[0.005702194297357784]</td>\n",
       "    </tr>\n",
       "    <tr>\n",
       "      <th>18</th>\n",
       "      <td>PC31</td>\n",
       "      <td>[-6.622792523627307]</td>\n",
       "      <td>[3.954036378845224e-11]</td>\n",
       "    </tr>\n",
       "    <tr>\n",
       "      <th>19</th>\n",
       "      <td>PC73</td>\n",
       "      <td>[0.8334353597219231]</td>\n",
       "      <td>[0.4046450513150548]</td>\n",
       "    </tr>\n",
       "    <tr>\n",
       "      <th>20</th>\n",
       "      <td>PC54</td>\n",
       "      <td>[-2.954011797908737]</td>\n",
       "      <td>[0.0031535462116712883]</td>\n",
       "    </tr>\n",
       "    <tr>\n",
       "      <th>21</th>\n",
       "      <td>PC161</td>\n",
       "      <td>[-2.1153362047208093]</td>\n",
       "      <td>[0.034458063435586835]</td>\n",
       "    </tr>\n",
       "    <tr>\n",
       "      <th>22</th>\n",
       "      <td>PC140</td>\n",
       "      <td>[-2.021535770928745]</td>\n",
       "      <td>[0.04328552001267999]</td>\n",
       "    </tr>\n",
       "    <tr>\n",
       "      <th>23</th>\n",
       "      <td>PC170</td>\n",
       "      <td>[0.1930375950437124]</td>\n",
       "      <td>[0.8469385474804987]</td>\n",
       "    </tr>\n",
       "    <tr>\n",
       "      <th>24</th>\n",
       "      <td>PC138</td>\n",
       "      <td>[-0.491592081099538]</td>\n",
       "      <td>[0.623032574396019]</td>\n",
       "    </tr>\n",
       "    <tr>\n",
       "      <th>25</th>\n",
       "      <td>PC95</td>\n",
       "      <td>[1.7113906218398984]</td>\n",
       "      <td>[0.08708039630052694]</td>\n",
       "    </tr>\n",
       "    <tr>\n",
       "      <th>26</th>\n",
       "      <td>PC153</td>\n",
       "      <td>[-0.8439690015186949]</td>\n",
       "      <td>[0.39873319009233554]</td>\n",
       "    </tr>\n",
       "    <tr>\n",
       "      <th>27</th>\n",
       "      <td>PC419</td>\n",
       "      <td>[-0.2959104800804056]</td>\n",
       "      <td>[0.7673125882765482]</td>\n",
       "    </tr>\n",
       "    <tr>\n",
       "      <th>28</th>\n",
       "      <td>PC209</td>\n",
       "      <td>[0.9819002190008576]</td>\n",
       "      <td>[0.32620367736337663]</td>\n",
       "    </tr>\n",
       "    <tr>\n",
       "      <th>29</th>\n",
       "      <td>PC151</td>\n",
       "      <td>[1.8851384345210234]</td>\n",
       "      <td>[0.05947782152856236]</td>\n",
       "    </tr>\n",
       "    <tr>\n",
       "      <th>30</th>\n",
       "      <td>PC124</td>\n",
       "      <td>[-0.010279722333648971]</td>\n",
       "      <td>[0.9917985846484052]</td>\n",
       "    </tr>\n",
       "    <tr>\n",
       "      <th>31</th>\n",
       "      <td>PC187</td>\n",
       "      <td>[-0.16196901993787755]</td>\n",
       "      <td>[0.8713377813215004]</td>\n",
       "    </tr>\n",
       "    <tr>\n",
       "      <th>32</th>\n",
       "      <td>PC206</td>\n",
       "      <td>[0.8421001492661854]</td>\n",
       "      <td>[0.399778244736815]</td>\n",
       "    </tr>\n",
       "    <tr>\n",
       "      <th>33</th>\n",
       "      <td>PC185</td>\n",
       "      <td>[-1.4025957196334367]</td>\n",
       "      <td>[0.16080887335926652]</td>\n",
       "    </tr>\n",
       "    <tr>\n",
       "      <th>34</th>\n",
       "      <td>PC448</td>\n",
       "      <td>[-2.5561432945718057]</td>\n",
       "      <td>[0.010617677957687885]</td>\n",
       "    </tr>\n",
       "    <tr>\n",
       "      <th>35</th>\n",
       "      <td>PC383</td>\n",
       "      <td>[-1.5127212281814073]</td>\n",
       "      <td>[0.13042321296076148]</td>\n",
       "    </tr>\n",
       "    <tr>\n",
       "      <th>36</th>\n",
       "      <td>PC51</td>\n",
       "      <td>[-5.430508337460868]</td>\n",
       "      <td>[5.9261315705266024e-08]</td>\n",
       "    </tr>\n",
       "    <tr>\n",
       "      <th>37</th>\n",
       "      <td>PC362</td>\n",
       "      <td>[0.6015050563260941]</td>\n",
       "      <td>[0.5475350257527232]</td>\n",
       "    </tr>\n",
       "    <tr>\n",
       "      <th>38</th>\n",
       "      <td>PC180</td>\n",
       "      <td>[-2.286532612575487]</td>\n",
       "      <td>[0.022271011852923465]</td>\n",
       "    </tr>\n",
       "    <tr>\n",
       "      <th>39</th>\n",
       "      <td>PC199</td>\n",
       "      <td>[-0.9672975836575773]</td>\n",
       "      <td>[0.3334491280914752]</td>\n",
       "    </tr>\n",
       "  </tbody>\n",
       "</table>\n",
       "</div>"
      ],
      "text/plain": [
       "       PC                        t                         p\n",
       "0     PC5     [10.829797726489234]  [5.4841478051680515e-27]\n",
       "1     PC6     [-6.566046750453601]   [5.774187759563588e-11]\n",
       "2     PC9      [8.681256733922158]   [5.453318678798592e-18]\n",
       "3     PC4     [-4.432822660120945]   [9.530132688490638e-06]\n",
       "4     PC2     [-17.06400633827915]  [3.0335290752900344e-63]\n",
       "5    PC12      [4.652167271072596]  [3.3823227238436403e-06]\n",
       "6    PC47      [1.088109233712632]      [0.2766072392454771]\n",
       "7    PC13     [-1.839788083585054]     [0.06586752993411586]\n",
       "8    PC41    [-2.3001533898357223]    [0.021486697425528993]\n",
       "9    PC52      [6.525399418120427]   [7.559114501989691e-11]\n",
       "10   PC16     [-1.149351128345876]     [0.25047448493331137]\n",
       "11   PC42     [2.3210436353207795]     [0.02033053746186836]\n",
       "12   PC11    [-0.7472787652989793]     [0.45493574455590025]\n",
       "13   PC29    [-1.3186526897577697]     [0.18735474878030955]\n",
       "14   PC30    [-1.3653441949346456]      [0.1722155763156941]\n",
       "15   PC27      [1.721144823513564]     [0.08529573321340497]\n",
       "16   PC53     [3.7625681160174453]  [0.00017039456155817679]\n",
       "17   PC20    [-2.7658075055625777]    [0.005702194297357784]\n",
       "18   PC31     [-6.622792523627307]   [3.954036378845224e-11]\n",
       "19   PC73     [0.8334353597219231]      [0.4046450513150548]\n",
       "20   PC54     [-2.954011797908737]   [0.0031535462116712883]\n",
       "21  PC161    [-2.1153362047208093]    [0.034458063435586835]\n",
       "22  PC140     [-2.021535770928745]     [0.04328552001267999]\n",
       "23  PC170     [0.1930375950437124]      [0.8469385474804987]\n",
       "24  PC138     [-0.491592081099538]       [0.623032574396019]\n",
       "25   PC95     [1.7113906218398984]     [0.08708039630052694]\n",
       "26  PC153    [-0.8439690015186949]     [0.39873319009233554]\n",
       "27  PC419    [-0.2959104800804056]      [0.7673125882765482]\n",
       "28  PC209     [0.9819002190008576]     [0.32620367736337663]\n",
       "29  PC151     [1.8851384345210234]     [0.05947782152856236]\n",
       "30  PC124  [-0.010279722333648971]      [0.9917985846484052]\n",
       "31  PC187   [-0.16196901993787755]      [0.8713377813215004]\n",
       "32  PC206     [0.8421001492661854]       [0.399778244736815]\n",
       "33  PC185    [-1.4025957196334367]     [0.16080887335926652]\n",
       "34  PC448    [-2.5561432945718057]    [0.010617677957687885]\n",
       "35  PC383    [-1.5127212281814073]     [0.13042321296076148]\n",
       "36   PC51     [-5.430508337460868]  [5.9261315705266024e-08]\n",
       "37  PC362     [0.6015050563260941]      [0.5475350257527232]\n",
       "38  PC180     [-2.286532612575487]    [0.022271011852923465]\n",
       "39  PC199    [-0.9672975836575773]      [0.3334491280914752]"
      ]
     },
     "execution_count": 35,
     "metadata": {},
     "output_type": "execute_result"
    }
   ],
   "source": [
    "t_test_results = pd.DataFrame(t_test_results)\n",
    "t_test_results"
   ]
  },
  {
   "cell_type": "code",
   "execution_count": 44,
   "id": "median-mistress",
   "metadata": {},
   "outputs": [
    {
     "data": {
      "text/plain": [
       "<AxesSubplot:xlabel='PC61', ylabel='PC64'>"
      ]
     },
     "execution_count": 44,
     "metadata": {},
     "output_type": "execute_result"
    },
    {
     "data": {
      "image/png": "[encoded data removed]",
      "text/plain": [
       "<Figure size 432x288 with 1 Axes>"
      ]
     },
     "metadata": {
      "needs_background": "light"
     },
     "output_type": "display_data"
    }
   ],
   "source": [
    "sns.scatterplot(data = SampleMeta, x = 'PC61', y = 'PC64', hue = 'Healthy')"
   ]
  },
  {
   "cell_type": "code",
   "execution_count": 45,
   "id": "breeding-employment",
   "metadata": {},
   "outputs": [
    {
     "data": {
      "text/plain": [
       "<AxesSubplot:xlabel='PC151', ylabel='PC112'>"
      ]
     },
     "execution_count": 45,
     "metadata": {},
     "output_type": "execute_result"
    },
    {
     "data": {
      "image/png": "[encoded data removed]",
      "text/plain": [
       "<Figure size 432x288 with 1 Axes>"
      ]
     },
     "metadata": {
      "needs_background": "light"
     },
     "output_type": "display_data"
    }
   ],
   "source": [
    "sns.scatterplot(data = SampleMeta, x = 'PC151', y = 'PC112', hue = 'Healthy')"
   ]
  },
  {
   "cell_type": "code",
   "execution_count": 46,
   "id": "bibliographic-monroe",
   "metadata": {},
   "outputs": [
    {
     "data": {
      "text/plain": [
       "<AxesSubplot:xlabel='PC151', ylabel='PC86'>"
      ]
     },
     "execution_count": 46,
     "metadata": {},
     "output_type": "execute_result"
    },
    {
     "data": {
      "image/png": "[encoded data removed]",
      "text/plain": [
       "<Figure size 432x288 with 1 Axes>"
      ]
     },
     "metadata": {
      "needs_background": "light"
     },
     "output_type": "display_data"
    }
   ],
   "source": [
    "sns.scatterplot(data = SampleMeta, x = 'PC151', y = 'PC86', hue = 'Healthy')"
   ]
  },
  {
   "cell_type": "code",
   "execution_count": null,
   "id": "finnish-picnic",
   "metadata": {},
   "outputs": [],
   "source": []
  }
 ],
 "metadata": {
  "kernelspec": {
   "display_name": "Python 3",
   "language": "python",
   "name": "python3"
  },
  "language_info": {
   "codemirror_mode": {
    "name": "ipython",
    "version": 3
   },
   "file_extension": ".py",
   "mimetype": "text/x-python",
   "name": "python",
   "nbconvert_exporter": "python",
   "pygments_lexer": "ipython3",
   "version": "3.7.9"
  }
 },
 "nbformat": 4,
 "nbformat_minor": 5
}
