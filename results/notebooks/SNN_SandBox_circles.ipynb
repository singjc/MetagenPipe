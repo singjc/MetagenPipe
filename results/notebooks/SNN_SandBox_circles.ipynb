{
 "cells": [
  {
   "cell_type": "code",
   "execution_count": 1,
   "id": "weekly-crown",
   "metadata": {},
   "outputs": [],
   "source": [
    "from sklearn import model_selection\n",
    "from sklearn.preprocessing import OneHotEncoder\n",
    "from sklearn import metrics\n",
    "from sklearn.preprocessing import StandardScaler\n",
    "from sklearn import datasets\n",
    "import os\n",
    "import torch\n",
    "import numpy as np\n",
    "import pandas as pd\n",
    "from MicroBiome import MicroBiomeDataSet, Trainer, TrainTester, MultiTrainTester\n",
    "from SNN import FeedForward, SiameseDataSet, SiameseModel, seed_everything\n",
    "import matplotlib.pyplot as plt\n",
    "import seaborn as sns\n",
    "import numpy as np\n",
    "import random\n",
    "\n",
    "# Ignore warning messages\n",
    "if True:\n",
    "    import warnings\n",
    "    warnings.filterwarnings('ignore')"
   ]
  },
  {
   "cell_type": "markdown",
   "id": "minor-sapphire",
   "metadata": {},
   "source": [
    "# Load Data"
   ]
  },
  {
   "cell_type": "code",
   "execution_count": 2,
   "id": "partial-advance",
   "metadata": {},
   "outputs": [],
   "source": [
    "from sklearn.datasets import make_circles\n",
    "\n",
    "np.random.seed(42)\n",
    "\n",
    "X, y = make_circles(n_samples=4000, factor=.3, noise=0.05)\n",
    "OneHot = OneHotEncoder(sparse=False)\n",
    "y = OneHot.fit_transform(y.reshape((y.shape[0], 1)))"
   ]
  },
  {
   "cell_type": "code",
   "execution_count": 3,
   "id": "sensitive-bennett",
   "metadata": {},
   "outputs": [
    {
     "data": {
      "text/plain": [
       "array([[1., 0.],\n",
       "       [0., 1.],\n",
       "       [1., 0.],\n",
       "       ...,\n",
       "       [1., 0.],\n",
       "       [0., 1.],\n",
       "       [0., 1.]])"
      ]
     },
     "execution_count": 3,
     "metadata": {},
     "output_type": "execute_result"
    }
   ],
   "source": [
    "y"
   ]
  },
  {
   "cell_type": "code",
   "execution_count": 4,
   "id": "usual-bangkok",
   "metadata": {},
   "outputs": [
    {
     "data": {
      "text/plain": [
       "(4000, 2)"
      ]
     },
     "execution_count": 4,
     "metadata": {},
     "output_type": "execute_result"
    }
   ],
   "source": [
    "y.shape"
   ]
  },
  {
   "cell_type": "code",
   "execution_count": 5,
   "id": "answering-hawaii",
   "metadata": {},
   "outputs": [
    {
     "data": {
      "text/plain": [
       "array([2000., 2000.])"
      ]
     },
     "execution_count": 5,
     "metadata": {},
     "output_type": "execute_result"
    }
   ],
   "source": [
    "np.sum(y, axis=0)"
   ]
  },
  {
   "cell_type": "code",
   "execution_count": 6,
   "id": "empirical-addition",
   "metadata": {},
   "outputs": [
    {
     "data": {
      "text/plain": [
       "<seaborn.axisgrid.FacetGrid at 0x7f061dd87410>"
      ]
     },
     "execution_count": 6,
     "metadata": {},
     "output_type": "execute_result"
    },
    {
     "data": {
      "image/png": "[encoded data removed]",
      "text/plain": [
       "<Figure size 402.375x360 with 1 Axes>"
      ]
     },
     "metadata": {
      "needs_background": "light"
     },
     "output_type": "display_data"
    }
   ],
   "source": [
    "sns.displot(X)"
   ]
  },
  {
   "cell_type": "code",
   "execution_count": 7,
   "id": "corrected-peter",
   "metadata": {},
   "outputs": [],
   "source": [
    "# Test Effect of making X non-negative\n",
    "# X = X + 2"
   ]
  },
  {
   "cell_type": "markdown",
   "id": "thrown-density",
   "metadata": {},
   "source": [
    "# Define and Train Model"
   ]
  },
  {
   "cell_type": "code",
   "execution_count": 8,
   "id": "closed-mandate",
   "metadata": {},
   "outputs": [],
   "source": [
    "seed_everything(69)"
   ]
  },
  {
   "cell_type": "code",
   "execution_count": 9,
   "id": "desperate-livestock",
   "metadata": {},
   "outputs": [],
   "source": [
    "MyFeedForward = FeedForward(2, [6, 6, 3, 3, 2], activation='relu')"
   ]
  },
  {
   "cell_type": "code",
   "execution_count": null,
   "id": "graduate-hanging",
   "metadata": {},
   "outputs": [],
   "source": []
  },
  {
   "cell_type": "code",
   "execution_count": 10,
   "id": "bright-cincinnati",
   "metadata": {},
   "outputs": [
    {
     "data": {
      "text/plain": [
       "FeedForward(\n",
       "  (layers): ModuleList(\n",
       "    (0): Linear(in_features=2, out_features=6, bias=True)\n",
       "    (1): Linear(in_features=6, out_features=6, bias=True)\n",
       "    (2): Linear(in_features=6, out_features=3, bias=True)\n",
       "    (3): Linear(in_features=3, out_features=3, bias=True)\n",
       "    (4): Linear(in_features=3, out_features=2, bias=True)\n",
       "  )\n",
       ")"
      ]
     },
     "execution_count": 10,
     "metadata": {},
     "output_type": "execute_result"
    }
   ],
   "source": [
    "MyFeedForward"
   ]
  },
  {
   "cell_type": "code",
   "execution_count": 11,
   "id": "mounted-sleeping",
   "metadata": {},
   "outputs": [],
   "source": [
    "MySNN = SiameseModel(MyFeedForward, predict_unknown = False, class_min_train=5, \n",
    "                     n_example_predict=10, learning_rate=1.0e-3, num_epochs = 50, batch_size = 1000, rand_seed=142)"
   ]
  },
  {
   "cell_type": "code",
   "execution_count": 12,
   "id": "eligible-easter",
   "metadata": {},
   "outputs": [],
   "source": [
    "# list(MySNN.logistic.parameters()) + list(MySNN.model.parameters())"
   ]
  },
  {
   "cell_type": "code",
   "execution_count": 13,
   "id": "regional-logistics",
   "metadata": {},
   "outputs": [],
   "source": [
    "MyTrainer = Trainer(model = MySNN, scale_X = False, use_pca = False, n_components = 2)"
   ]
  },
  {
   "cell_type": "code",
   "execution_count": 14,
   "id": "daily-parade",
   "metadata": {},
   "outputs": [],
   "source": [
    "MyTrainTester = TrainTester(MyTrainer, metrics.accuracy_score)"
   ]
  },
  {
   "cell_type": "code",
   "execution_count": 15,
   "id": "sporting-practice",
   "metadata": {},
   "outputs": [],
   "source": [
    "n_splits = 5\n",
    "MyMultiTrainTester = MultiTrainTester(MyTrainTester, n_splits=n_splits)"
   ]
  },
  {
   "cell_type": "code",
   "execution_count": null,
   "id": "collected-directory",
   "metadata": {},
   "outputs": [
    {
     "name": "stdout",
     "output_type": "stream",
     "text": [
      "Running for split 1 of 5\n",
      "Training Encoder\n",
      "#########################################\n",
      "Epoch 1 of 50\n",
      "__Training__\n",
      "2021-03-09 02:31:06\n",
      "MEAN LOSS: 0.718445248413086\n",
      "__Validation__\n",
      "2021-03-09 02:31:07\n",
      "MEAN LOSS: 0.7144462248959271\n",
      "#########################################\n",
      "Epoch 2 of 50\n",
      "__Training__\n",
      "2021-03-09 02:31:07\n",
      "MEAN LOSS: 0.7142384643554688\n",
      "__Validation__\n",
      "2021-03-09 02:31:07\n",
      "MEAN LOSS: 0.7106706840728018\n",
      "#########################################\n",
      "Epoch 3 of 50\n",
      "__Training__\n",
      "2021-03-09 02:31:07\n",
      "MEAN LOSS: 0.7105476470947265\n",
      "__Validation__\n",
      "2021-03-09 02:31:08\n",
      "MEAN LOSS: 0.7074052894791433\n",
      "#########################################\n",
      "Epoch 4 of 50\n",
      "__Training__\n",
      "2021-03-09 02:31:08\n",
      "MEAN LOSS: 0.7073629486083984\n",
      "__Validation__\n",
      "2021-03-09 02:31:08\n",
      "MEAN LOSS: 0.7046190977740352\n",
      "#########################################\n",
      "Epoch 5 of 50\n",
      "__Training__\n",
      "2021-03-09 02:31:08\n",
      "MEAN LOSS: 0.704646011352539\n",
      "__Validation__\n",
      "2021-03-09 02:31:09\n",
      "MEAN LOSS: 0.7022686674184997\n",
      "#########################################\n",
      "Epoch 6 of 50\n",
      "__Training__\n",
      "2021-03-09 02:31:09\n",
      "MEAN LOSS: 0.7023520111083984\n",
      "__Validation__\n",
      "2021-03-09 02:31:09\n",
      "MEAN LOSS: 0.7003085516681551\n",
      "#########################################\n",
      "Epoch 7 of 50\n",
      "__Training__\n",
      "2021-03-09 02:31:09\n",
      "MEAN LOSS: 0.700435903930664\n",
      "__Validation__\n",
      "2021-03-09 02:31:10\n",
      "MEAN LOSS: 0.698693702072844\n",
      "#########################################\n",
      "Epoch 8 of 50\n",
      "__Training__\n",
      "2021-03-09 02:31:10\n",
      "MEAN LOSS: 0.6988533538818359\n",
      "__Validation__\n",
      "2021-03-09 02:31:10\n",
      "MEAN LOSS: 0.6973807251635809\n",
      "#########################################\n",
      "Epoch 9 of 50\n",
      "__Training__\n",
      "2021-03-09 02:31:10\n",
      "MEAN LOSS: 0.6975616760253907\n",
      "__Validation__\n",
      "2021-03-09 02:31:10\n",
      "MEAN LOSS: 0.6963278687182684\n",
      "#########################################\n",
      "Epoch 10 of 50\n",
      "__Training__\n",
      "2021-03-09 02:31:11\n",
      "MEAN LOSS: 0.6965204498291016\n",
      "__Validation__\n",
      "2021-03-09 02:31:11\n",
      "MEAN LOSS: 0.6954963539872053\n",
      "#########################################\n",
      "Epoch 11 of 50\n",
      "__Training__\n",
      "2021-03-09 02:31:11\n",
      "MEAN LOSS: 0.6956916961669922\n",
      "__Validation__\n",
      "2021-03-09 02:31:11\n",
      "MEAN LOSS: 0.6948497645174674\n",
      "#########################################\n",
      "Epoch 12 of 50\n",
      "__Training__\n",
      "2021-03-09 02:31:11\n",
      "MEAN LOSS: 0.6950406311035157\n",
      "__Validation__\n",
      "2021-03-09 02:31:12\n",
      "MEAN LOSS: 0.6943553646441304\n",
      "#########################################\n",
      "Epoch 13 of 50\n",
      "__Training__\n",
      "2021-03-09 02:31:12\n",
      "MEAN LOSS: 0.694536083984375\n",
      "__Validation__\n",
      "2021-03-09 02:31:12\n",
      "MEAN LOSS: 0.6939845115187788\n",
      "#########################################\n",
      "Epoch 14 of 50\n",
      "__Training__\n",
      "2021-03-09 02:31:12\n",
      "MEAN LOSS: 0.6941504180908203\n",
      "__Validation__\n",
      "2021-03-09 02:31:13\n",
      "MEAN LOSS: 0.6937116250382362\n",
      "#########################################\n",
      "Epoch 15 of 50\n",
      "__Training__\n",
      "2021-03-09 02:31:13\n",
      "MEAN LOSS: 0.6938596801757813\n",
      "__Validation__\n",
      "2021-03-09 02:31:13\n",
      "MEAN LOSS: 0.6935152865872525\n",
      "#########################################\n",
      "Epoch 16 of 50\n",
      "__Training__\n",
      "2021-03-09 02:31:13\n"
     ]
    }
   ],
   "source": [
    "MyMultiTrainTester.train(X, y)"
   ]
  },
  {
   "cell_type": "code",
   "execution_count": null,
   "id": "consolidated-cincinnati",
   "metadata": {},
   "outputs": [],
   "source": [
    "scores_df = pd.DataFrame({'score': MyMultiTrainTester.train_scores, 'stage' : np.repeat('train', n_splits)})\n",
    "scores_df = scores_df.append(pd.DataFrame({'score': MyMultiTrainTester.test_scores, 'stage' : np.repeat('test', n_splits)}))\n",
    "scores_df"
   ]
  },
  {
   "cell_type": "code",
   "execution_count": null,
   "id": "incident-trail",
   "metadata": {},
   "outputs": [],
   "source": [
    "sns.boxplot(data = scores_df, x = 'stage', y = 'score')"
   ]
  },
  {
   "cell_type": "code",
   "execution_count": null,
   "id": "exposed-polls",
   "metadata": {},
   "outputs": [],
   "source": [
    "MyMultiTrainTester.plot_class_freq(normalize=True)"
   ]
  },
  {
   "cell_type": "code",
   "execution_count": null,
   "id": "solar-province",
   "metadata": {},
   "outputs": [],
   "source": [
    "MyMultiTrainTester.plot_confusion(normalize=True)"
   ]
  },
  {
   "cell_type": "code",
   "execution_count": null,
   "id": "under-drill",
   "metadata": {},
   "outputs": [],
   "source": [
    "for i, trainer in enumerate(MyMultiTrainTester.TrainerList):\n",
    "    plt.figure(i)\n",
    "    print(sns.lineplot(data=trainer.model.TrainStats, x='epoch', y='mean_loss', hue = 'stage'))"
   ]
  },
  {
   "cell_type": "markdown",
   "id": "latter-buying",
   "metadata": {},
   "source": [
    "### Examine Data In Encoded Space"
   ]
  },
  {
   "cell_type": "code",
   "execution_count": null,
   "id": "historic-mercury",
   "metadata": {},
   "outputs": [],
   "source": [
    "Trainer_use = MyMultiTrainTester.TrainerList[0]"
   ]
  },
  {
   "cell_type": "code",
   "execution_count": null,
   "id": "promotional-shareware",
   "metadata": {},
   "outputs": [],
   "source": [
    "X_transform = Trainer_use.transform_X(X)"
   ]
  },
  {
   "cell_type": "code",
   "execution_count": null,
   "id": "preliminary-execution",
   "metadata": {},
   "outputs": [],
   "source": [
    "X_encoded = Trainer_use.model.model.forward(torch.from_numpy(X_transform).to(torch.float32)).detach().numpy()"
   ]
  },
  {
   "cell_type": "code",
   "execution_count": null,
   "id": "female-tobago",
   "metadata": {},
   "outputs": [],
   "source": [
    "# X_encoded = MyFeedForward.forward(torch.from_numpy(X_transform).to(torch.float32)).detach().numpy()"
   ]
  },
  {
   "cell_type": "code",
   "execution_count": null,
   "id": "copyrighted-carbon",
   "metadata": {},
   "outputs": [],
   "source": [
    "X_encoded.shape"
   ]
  },
  {
   "cell_type": "code",
   "execution_count": null,
   "id": "nasty-dover",
   "metadata": {},
   "outputs": [],
   "source": [
    "y_label = Trainer_use.model.one_hot.inverse_transform(y).astype('str')"
   ]
  },
  {
   "cell_type": "code",
   "execution_count": null,
   "id": "secondary-certification",
   "metadata": {},
   "outputs": [],
   "source": [
    "y_pred = Trainer_use.model.predict(X_transform)\n",
    "y_pred = Trainer_use.model.one_hot.inverse_transform(y_pred).astype('str')"
   ]
  },
  {
   "cell_type": "code",
   "execution_count": null,
   "id": "honest-pitch",
   "metadata": {},
   "outputs": [],
   "source": [
    "X_enc_df = pd.DataFrame(X_encoded, columns = ['X' + str(i+1) for i in range(X_encoded.shape[1])])\n",
    "X_enc_df['y'] = y_label\n",
    "X_enc_df['y_pred'] = y_pred"
   ]
  },
  {
   "cell_type": "code",
   "execution_count": null,
   "id": "completed-edinburgh",
   "metadata": {},
   "outputs": [],
   "source": [
    "X_enc_df"
   ]
  },
  {
   "cell_type": "code",
   "execution_count": null,
   "id": "following-plate",
   "metadata": {},
   "outputs": [],
   "source": [
    "sns.displot(data=X_enc_df, x='X1', hue='y')"
   ]
  },
  {
   "cell_type": "code",
   "execution_count": null,
   "id": "biological-alaska",
   "metadata": {},
   "outputs": [],
   "source": [
    "sns.displot(data=X_enc_df, x='X2', hue='y')"
   ]
  },
  {
   "cell_type": "code",
   "execution_count": null,
   "id": "suspended-transport",
   "metadata": {},
   "outputs": [],
   "source": [
    "def do_plot(df, x, y, hue):\n",
    "    if x in df.columns and y in df.columns and hue in df.columns:\n",
    "        sns.scatterplot(data=df, x=x, y=y, hue = hue)"
   ]
  },
  {
   "cell_type": "code",
   "execution_count": null,
   "id": "nonprofit-baltimore",
   "metadata": {},
   "outputs": [],
   "source": [
    "do_plot(X_enc_df, 'X1', 'X2', 'y')"
   ]
  },
  {
   "cell_type": "code",
   "execution_count": null,
   "id": "broadband-surrey",
   "metadata": {},
   "outputs": [],
   "source": [
    "do_plot(X_enc_df, 'X1', 'X2', 'y_pred')"
   ]
  },
  {
   "cell_type": "code",
   "execution_count": null,
   "id": "proprietary-couple",
   "metadata": {},
   "outputs": [],
   "source": [
    "do_plot(X_enc_df, 'X2', 'X3', 'y')"
   ]
  },
  {
   "cell_type": "code",
   "execution_count": null,
   "id": "constant-supplement",
   "metadata": {},
   "outputs": [],
   "source": [
    "do_plot(X_enc_df, 'X3', 'X4', 'y')"
   ]
  },
  {
   "cell_type": "markdown",
   "id": "better-needle",
   "metadata": {},
   "source": [
    "### Examine Misclassified Samples, or first sample if no misclassified samples\n",
    "\n",
    "If no misclassified samples, show correcly classified sample"
   ]
  },
  {
   "cell_type": "code",
   "execution_count": null,
   "id": "dressed-spoke",
   "metadata": {},
   "outputs": [],
   "source": [
    "X_db = Trainer_use.model.ClassDB['X_encoded'].detach().numpy()\n",
    "X_db.shape"
   ]
  },
  {
   "cell_type": "code",
   "execution_count": null,
   "id": "detected-singer",
   "metadata": {},
   "outputs": [],
   "source": [
    "y_db = Trainer_use.model.ClassDB['y'].detach().numpy()\n",
    "y_db = Trainer_use.model.one_hot.inverse_transform(y_db).astype('str').flatten()"
   ]
  },
  {
   "cell_type": "code",
   "execution_count": null,
   "id": "convertible-blogger",
   "metadata": {},
   "outputs": [],
   "source": [
    "db_df = pd.DataFrame(X_db, columns = ['X' + str(i+1) for i in range(X_encoded.shape[1])])\n",
    "db_df['y'] = y_db"
   ]
  },
  {
   "cell_type": "code",
   "execution_count": null,
   "id": "institutional-interview",
   "metadata": {},
   "outputs": [],
   "source": [
    "db_df['y'].value_counts()"
   ]
  },
  {
   "cell_type": "code",
   "execution_count": null,
   "id": "suburban-duration",
   "metadata": {},
   "outputs": [],
   "source": [
    "do_plot(db_df, 'X1', 'X2', 'y')"
   ]
  },
  {
   "cell_type": "code",
   "execution_count": null,
   "id": "tropical-dover",
   "metadata": {},
   "outputs": [],
   "source": [
    "do_plot(db_df, 'X2', 'X3', 'y')"
   ]
  },
  {
   "cell_type": "code",
   "execution_count": null,
   "id": "spread-animal",
   "metadata": {},
   "outputs": [],
   "source": [
    "X_enc_df['misclassified'] = X_enc_df['y'] != X_enc_df['y_pred']"
   ]
  },
  {
   "cell_type": "code",
   "execution_count": null,
   "id": "focused-albuquerque",
   "metadata": {},
   "outputs": [],
   "source": [
    "X_enc_df"
   ]
  },
  {
   "cell_type": "code",
   "execution_count": null,
   "id": "entertaining-trick",
   "metadata": {},
   "outputs": [],
   "source": [
    "misclassified_idx = np.argwhere(X_enc_df['misclassified'].to_numpy()).flatten()\n",
    "misclassified_idx"
   ]
  },
  {
   "cell_type": "code",
   "execution_count": null,
   "id": "improved-graduate",
   "metadata": {},
   "outputs": [],
   "source": [
    "if len(misclassified_idx) == 0:\n",
    "    X_diff = torch.abs(torch.from_numpy(X_encoded[0, :] - X_db).to(torch.float32))\n",
    "else:\n",
    "    X_diff = torch.abs(torch.from_numpy(X_encoded[misclassified_idx[0], :] - X_db).to(torch.float32))\n",
    "logistic_output = Trainer_use.model.logistic.forward(X_diff)"
   ]
  },
  {
   "cell_type": "code",
   "execution_count": null,
   "id": "optimum-favorite",
   "metadata": {},
   "outputs": [],
   "source": [
    "logistic_output[y_db == '0', 1]"
   ]
  },
  {
   "cell_type": "code",
   "execution_count": null,
   "id": "disturbed-cassette",
   "metadata": {},
   "outputs": [],
   "source": [
    "# distribution of 0 label probabilities\n",
    "sns.displot(logistic_output[y_db == '0', 1].detach().numpy())"
   ]
  },
  {
   "cell_type": "code",
   "execution_count": null,
   "id": "noticed-beads",
   "metadata": {},
   "outputs": [],
   "source": [
    "# distribution of 1 label probabilities\n",
    "sns.displot(logistic_output[y_db == '1', 1].detach().numpy())"
   ]
  },
  {
   "cell_type": "code",
   "execution_count": null,
   "id": "deadly-authentication",
   "metadata": {},
   "outputs": [],
   "source": [
    "torch.median(logistic_output[y_db == '0',1])"
   ]
  },
  {
   "cell_type": "code",
   "execution_count": null,
   "id": "behind-airline",
   "metadata": {},
   "outputs": [],
   "source": [
    "torch.median(logistic_output[y_db == '1',1])"
   ]
  },
  {
   "cell_type": "code",
   "execution_count": null,
   "id": "frequent-bleeding",
   "metadata": {},
   "outputs": [],
   "source": [
    "X_diff_df = pd.DataFrame(X_diff, columns = ['X' + str(i+1) + '_diff' for i in range(X_encoded.shape[1])])\n",
    "X_diff_df['y'] = y_db"
   ]
  },
  {
   "cell_type": "code",
   "execution_count": null,
   "id": "enhanced-backing",
   "metadata": {},
   "outputs": [],
   "source": [
    "do_plot(X_diff_df, 'X1_diff', 'X2_diff', 'y')"
   ]
  },
  {
   "cell_type": "code",
   "execution_count": null,
   "id": "governing-baseball",
   "metadata": {},
   "outputs": [],
   "source": [
    "do_plot(X_diff_df, 'X2_diff', 'X3_diff', 'y')"
   ]
  },
  {
   "cell_type": "code",
   "execution_count": null,
   "id": "rocky-running",
   "metadata": {},
   "outputs": [],
   "source": [
    "for p in Trainer_use.model.logistic.parameters():\n",
    "    print(p)"
   ]
  },
  {
   "cell_type": "markdown",
   "id": "stylish-steal",
   "metadata": {},
   "source": [
    "### Examine Data In Original Space"
   ]
  },
  {
   "cell_type": "code",
   "execution_count": null,
   "id": "naughty-invalid",
   "metadata": {},
   "outputs": [],
   "source": [
    "X_df = pd.DataFrame(X, columns = ['X1', 'X2'])\n",
    "X_df['y'] = y_label"
   ]
  },
  {
   "cell_type": "code",
   "execution_count": null,
   "id": "racial-investor",
   "metadata": {},
   "outputs": [],
   "source": [
    "sns.scatterplot(data=X_df, x='X1', y='X2', hue = 'y')"
   ]
  },
  {
   "cell_type": "code",
   "execution_count": null,
   "id": "composite-degree",
   "metadata": {},
   "outputs": [],
   "source": []
  }
 ],
 "metadata": {
  "kernelspec": {
   "display_name": "Python 3",
   "language": "python",
   "name": "python3"
  },
  "language_info": {
   "codemirror_mode": {
    "name": "ipython",
    "version": 3
   },
   "file_extension": ".py",
   "mimetype": "text/x-python",
   "name": "python",
   "nbconvert_exporter": "python",
   "pygments_lexer": "ipython3",
   "version": "3.7.9"
  }
 },
 "nbformat": 4,
 "nbformat_minor": 5
}
