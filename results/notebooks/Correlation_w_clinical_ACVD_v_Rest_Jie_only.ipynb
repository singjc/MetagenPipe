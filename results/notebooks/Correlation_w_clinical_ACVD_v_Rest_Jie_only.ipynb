{
 "cells": [
  {
   "cell_type": "code",
   "execution_count": 1,
   "id": "weekly-crown",
   "metadata": {},
   "outputs": [],
   "source": [
    "from sklearn import model_selection\n",
    "from sklearn import metrics\n",
    "from sklearn.pipeline import Pipeline\n",
    "from sklearn.decomposition import PCA\n",
    "from sklearn.preprocessing import StandardScaler, FunctionTransformer\n",
    "import os\n",
    "import numpy as np\n",
    "import pandas as pd\n",
    "from MicroBiome import MicroBiomeDataSet, Trainer, TrainTester, MultiTrainTester, list_transformer\n",
    "from sklearn import linear_model as LM\n",
    "import seaborn as sns\n",
    "import pickle as pk\n",
    "from matplotlib import pyplot as plt\n",
    "\n",
    "\n",
    "# Ignore warning messages\n",
    "if True:\n",
    "    import warnings\n",
    "    warnings.filterwarnings('ignore')"
   ]
  },
  {
   "cell_type": "markdown",
   "id": "minor-sapphire",
   "metadata": {},
   "source": [
    "# Load Data"
   ]
  },
  {
   "cell_type": "code",
   "execution_count": 2,
   "id": "stuffed-washer",
   "metadata": {},
   "outputs": [],
   "source": [
    "top_dir = '/project'\n",
    "data_dir = os.path.join(top_dir, 'data')\n",
    "preproc_dir = os.path.join(data_dir, 'preprocessed')\n",
    "inp_dir = os.path.join(preproc_dir, 'Gupta_2020_Precompiled_Cleaned')"
   ]
  },
  {
   "cell_type": "code",
   "execution_count": 3,
   "id": "aerial-airfare",
   "metadata": {},
   "outputs": [
    {
     "data": {
      "text/plain": [
       "['MatrixDataClean.csv',\n",
       " 'SampleMetaDataClean.csv',\n",
       " 'SampleMetaDataManual.csv',\n",
       " 'FeatMetaDataClean.csv']"
      ]
     },
     "execution_count": 3,
     "metadata": {},
     "output_type": "execute_result"
    }
   ],
   "source": [
    "os.listdir(inp_dir)"
   ]
  },
  {
   "cell_type": "code",
   "execution_count": 4,
   "id": "associate-walnut",
   "metadata": {},
   "outputs": [
    {
     "data": {
      "text/plain": [
       "(4347, 903)"
      ]
     },
     "execution_count": 4,
     "metadata": {},
     "output_type": "execute_result"
    }
   ],
   "source": [
    "MatrixData = np.loadtxt(os.path.join(inp_dir, 'MatrixDataClean.csv'))\n",
    "MatrixData.shape"
   ]
  },
  {
   "cell_type": "code",
   "execution_count": 5,
   "id": "communist-coach",
   "metadata": {},
   "outputs": [
    {
     "data": {
      "text/plain": [
       "(4347, 38)"
      ]
     },
     "execution_count": 5,
     "metadata": {},
     "output_type": "execute_result"
    }
   ],
   "source": [
    "SampleMeta = pd.read_csv(os.path.join(inp_dir, 'SampleMetaDataClean.csv'))\n",
    "SampleMeta.shape"
   ]
  },
  {
   "cell_type": "code",
   "execution_count": 6,
   "id": "purple-struggle",
   "metadata": {},
   "outputs": [
    {
     "data": {
      "text/plain": [
       "(274, 38)"
      ]
     },
     "execution_count": 6,
     "metadata": {},
     "output_type": "execute_result"
    }
   ],
   "source": [
    "filter_indices = np.logical_and(SampleMeta[\"Study Accession\"].isin(['PRJEB21528']).to_numpy(), SampleMeta[\"BMI\"].to_numpy() != -99)\n",
    "SampleMeta = SampleMeta[ filter_indices ]\n",
    "SampleMeta.shape"
   ]
  },
  {
   "cell_type": "code",
   "execution_count": 7,
   "id": "emotional-offset",
   "metadata": {},
   "outputs": [
    {
     "data": {
      "text/plain": [
       "Index(['Unnamed: 0', 'Unnamed: 0.1', 'Unnamed: 0.1.1', 'study',\n",
       "       'Study No. (From VG sheet (V-*) from SB sheet (S-*))', 'Title of Paper',\n",
       "       'Author (year)', 'Journal', 'Study Accession',\n",
       "       'Sample Accession or Sample ID', 'Sample title (ENA/SRA)',\n",
       "       'Sample title (Paper)', 'Subject Id (If available)', 'Age (Years)',\n",
       "       'BMI', 'Gender', 'GRoP', 'Phenotype', 'FBG', 'TRIG', 'LDLC', 'CHOL',\n",
       "       'HDLC', 'Phys_Ex', 'Smoking', 'Residence', 'milk', 'meat', 'alcohol',\n",
       "       'Diet1', 'Diet2', 'medication', 'Sequencing Platform',\n",
       "       'Library layout (SINGLE/PAIRED)', 'Read count after Quality control',\n",
       "       'Healthy', 'age_group', 'age_category'],\n",
       "      dtype='object')"
      ]
     },
     "execution_count": 7,
     "metadata": {},
     "output_type": "execute_result"
    }
   ],
   "source": [
    "SampleMeta.columns"
   ]
  },
  {
   "cell_type": "code",
   "execution_count": 8,
   "id": "compatible-sharing",
   "metadata": {},
   "outputs": [
    {
     "data": {
      "text/plain": [
       "-99    274\n",
       "Name: meat, dtype: int64"
      ]
     },
     "execution_count": 8,
     "metadata": {},
     "output_type": "execute_result"
    }
   ],
   "source": [
    "SampleMeta['meat'].value_counts()"
   ]
  },
  {
   "cell_type": "code",
   "execution_count": 9,
   "id": "motivated-blair",
   "metadata": {},
   "outputs": [
    {
     "data": {
      "text/plain": [
       "False"
      ]
     },
     "execution_count": 9,
     "metadata": {},
     "output_type": "execute_result"
    }
   ],
   "source": [
    "np.any(SampleMeta['Age (Years)'] == -99)"
   ]
  },
  {
   "cell_type": "code",
   "execution_count": 10,
   "id": "expected-aging",
   "metadata": {},
   "outputs": [
    {
     "data": {
      "text/plain": [
       "-99    274\n",
       "Name: milk, dtype: int64"
      ]
     },
     "execution_count": 10,
     "metadata": {},
     "output_type": "execute_result"
    }
   ],
   "source": [
    "SampleMeta['milk'].value_counts()"
   ]
  },
  {
   "cell_type": "code",
   "execution_count": 11,
   "id": "piano-burner",
   "metadata": {},
   "outputs": [
    {
     "data": {
      "text/plain": [
       "M    160\n",
       "F    114\n",
       "Name: Gender, dtype: int64"
      ]
     },
     "execution_count": 11,
     "metadata": {},
     "output_type": "execute_result"
    }
   ],
   "source": [
    "SampleMeta['Gender'].value_counts()"
   ]
  },
  {
   "cell_type": "code",
   "execution_count": 12,
   "id": "structural-extreme",
   "metadata": {},
   "outputs": [
    {
     "data": {
      "text/plain": [
       "0"
      ]
     },
     "execution_count": 12,
     "metadata": {},
     "output_type": "execute_result"
    }
   ],
   "source": [
    "np.sum(SampleMeta['BMI'] == -99)"
   ]
  },
  {
   "cell_type": "code",
   "execution_count": 13,
   "id": "severe-aspect",
   "metadata": {},
   "outputs": [
    {
     "data": {
      "text/plain": [
       "ACVD           144\n",
       "Healthy         75\n",
       "Overweight      40\n",
       "Obesity          8\n",
       "Underweight      7\n",
       "Name: Phenotype, dtype: int64"
      ]
     },
     "execution_count": 13,
     "metadata": {},
     "output_type": "execute_result"
    }
   ],
   "source": [
    "SampleMeta[\"Phenotype\"].value_counts()"
   ]
  },
  {
   "cell_type": "code",
   "execution_count": 14,
   "id": "valued-commissioner",
   "metadata": {},
   "outputs": [
    {
     "data": {
      "text/plain": [
       "(274, 903)"
      ]
     },
     "execution_count": 14,
     "metadata": {},
     "output_type": "execute_result"
    }
   ],
   "source": [
    "MatrixData = MatrixData[ filter_indices ]\n",
    "MatrixData.shape"
   ]
  },
  {
   "cell_type": "code",
   "execution_count": 15,
   "id": "elect-february",
   "metadata": {},
   "outputs": [
    {
     "data": {
      "text/html": [
       "<div>\n",
       "<style scoped>\n",
       "    .dataframe tbody tr th:only-of-type {\n",
       "        vertical-align: middle;\n",
       "    }\n",
       "\n",
       "    .dataframe tbody tr th {\n",
       "        vertical-align: top;\n",
       "    }\n",
       "\n",
       "    .dataframe thead th {\n",
       "        text-align: right;\n",
       "    }\n",
       "</style>\n",
       "<table border=\"1\" class=\"dataframe\">\n",
       "  <thead>\n",
       "    <tr style=\"text-align: right;\">\n",
       "      <th></th>\n",
       "      <th>Unnamed: 0</th>\n",
       "      <th>feature</th>\n",
       "    </tr>\n",
       "  </thead>\n",
       "  <tbody>\n",
       "    <tr>\n",
       "      <th>0</th>\n",
       "      <td>s__Abiotrophia_defectiva</td>\n",
       "      <td>s__Abiotrophia_defectiva</td>\n",
       "    </tr>\n",
       "    <tr>\n",
       "      <th>1</th>\n",
       "      <td>s__Acetobacter_unclassified</td>\n",
       "      <td>s__Acetobacter_unclassified</td>\n",
       "    </tr>\n",
       "    <tr>\n",
       "      <th>2</th>\n",
       "      <td>s__Achromobacter_piechaudii</td>\n",
       "      <td>s__Achromobacter_piechaudii</td>\n",
       "    </tr>\n",
       "    <tr>\n",
       "      <th>3</th>\n",
       "      <td>s__Achromobacter_unclassified</td>\n",
       "      <td>s__Achromobacter_unclassified</td>\n",
       "    </tr>\n",
       "    <tr>\n",
       "      <th>4</th>\n",
       "      <td>s__Achromobacter_xylosoxidans</td>\n",
       "      <td>s__Achromobacter_xylosoxidans</td>\n",
       "    </tr>\n",
       "    <tr>\n",
       "      <th>...</th>\n",
       "      <td>...</td>\n",
       "      <td>...</td>\n",
       "    </tr>\n",
       "    <tr>\n",
       "      <th>898</th>\n",
       "      <td>s__Weissella_koreensis</td>\n",
       "      <td>s__Weissella_koreensis</td>\n",
       "    </tr>\n",
       "    <tr>\n",
       "      <th>899</th>\n",
       "      <td>s__Weissella_paramesenteroides</td>\n",
       "      <td>s__Weissella_paramesenteroides</td>\n",
       "    </tr>\n",
       "    <tr>\n",
       "      <th>900</th>\n",
       "      <td>s__Weissella_unclassified</td>\n",
       "      <td>s__Weissella_unclassified</td>\n",
       "    </tr>\n",
       "    <tr>\n",
       "      <th>901</th>\n",
       "      <td>s__Wohlfahrtiimonas_chitiniclastica</td>\n",
       "      <td>s__Wohlfahrtiimonas_chitiniclastica</td>\n",
       "    </tr>\n",
       "    <tr>\n",
       "      <th>902</th>\n",
       "      <td>s__Yersinia_enterocolitica</td>\n",
       "      <td>s__Yersinia_enterocolitica</td>\n",
       "    </tr>\n",
       "  </tbody>\n",
       "</table>\n",
       "<p>903 rows × 2 columns</p>\n",
       "</div>"
      ],
      "text/plain": [
       "                              Unnamed: 0                              feature\n",
       "0               s__Abiotrophia_defectiva             s__Abiotrophia_defectiva\n",
       "1            s__Acetobacter_unclassified          s__Acetobacter_unclassified\n",
       "2            s__Achromobacter_piechaudii          s__Achromobacter_piechaudii\n",
       "3          s__Achromobacter_unclassified        s__Achromobacter_unclassified\n",
       "4          s__Achromobacter_xylosoxidans        s__Achromobacter_xylosoxidans\n",
       "..                                   ...                                  ...\n",
       "898               s__Weissella_koreensis               s__Weissella_koreensis\n",
       "899       s__Weissella_paramesenteroides       s__Weissella_paramesenteroides\n",
       "900            s__Weissella_unclassified            s__Weissella_unclassified\n",
       "901  s__Wohlfahrtiimonas_chitiniclastica  s__Wohlfahrtiimonas_chitiniclastica\n",
       "902           s__Yersinia_enterocolitica           s__Yersinia_enterocolitica\n",
       "\n",
       "[903 rows x 2 columns]"
      ]
     },
     "execution_count": 15,
     "metadata": {},
     "output_type": "execute_result"
    }
   ],
   "source": [
    "FeatMeta = pd.read_csv(os.path.join(inp_dir, 'FeatMetaDataClean.csv'))\n",
    "FeatMeta"
   ]
  },
  {
   "cell_type": "code",
   "execution_count": 16,
   "id": "specific-conditions",
   "metadata": {},
   "outputs": [],
   "source": [
    "ClinicalContinuousMat = SampleMeta.loc[:, ['Age (Years)', 'BMI']].to_numpy().astype('float64')"
   ]
  },
  {
   "cell_type": "code",
   "execution_count": 17,
   "id": "medium-proxy",
   "metadata": {},
   "outputs": [
    {
     "data": {
      "text/plain": [
       "(274, 1)"
      ]
     },
     "execution_count": 17,
     "metadata": {},
     "output_type": "execute_result"
    }
   ],
   "source": [
    "ClinicalBinaryMat = (SampleMeta.loc[:, ['Gender']].to_numpy() == 'M').astype('float64')\n",
    "ClinicalBinaryMat.shape"
   ]
  },
  {
   "cell_type": "code",
   "execution_count": 18,
   "id": "acute-moscow",
   "metadata": {},
   "outputs": [
    {
     "data": {
      "text/html": [
       "<div>\n",
       "<style scoped>\n",
       "    .dataframe tbody tr th:only-of-type {\n",
       "        vertical-align: middle;\n",
       "    }\n",
       "\n",
       "    .dataframe tbody tr th {\n",
       "        vertical-align: top;\n",
       "    }\n",
       "\n",
       "    .dataframe thead th {\n",
       "        text-align: right;\n",
       "    }\n",
       "</style>\n",
       "<table border=\"1\" class=\"dataframe\">\n",
       "  <thead>\n",
       "    <tr style=\"text-align: right;\">\n",
       "      <th></th>\n",
       "      <th>Unnamed: 0</th>\n",
       "      <th>feature</th>\n",
       "    </tr>\n",
       "  </thead>\n",
       "  <tbody>\n",
       "    <tr>\n",
       "      <th>0</th>\n",
       "      <td>s__Abiotrophia_defectiva</td>\n",
       "      <td>s__Abiotrophia_defectiva</td>\n",
       "    </tr>\n",
       "    <tr>\n",
       "      <th>1</th>\n",
       "      <td>s__Acetobacter_unclassified</td>\n",
       "      <td>s__Acetobacter_unclassified</td>\n",
       "    </tr>\n",
       "    <tr>\n",
       "      <th>2</th>\n",
       "      <td>s__Achromobacter_piechaudii</td>\n",
       "      <td>s__Achromobacter_piechaudii</td>\n",
       "    </tr>\n",
       "    <tr>\n",
       "      <th>3</th>\n",
       "      <td>s__Achromobacter_unclassified</td>\n",
       "      <td>s__Achromobacter_unclassified</td>\n",
       "    </tr>\n",
       "    <tr>\n",
       "      <th>4</th>\n",
       "      <td>s__Achromobacter_xylosoxidans</td>\n",
       "      <td>s__Achromobacter_xylosoxidans</td>\n",
       "    </tr>\n",
       "    <tr>\n",
       "      <th>...</th>\n",
       "      <td>...</td>\n",
       "      <td>...</td>\n",
       "    </tr>\n",
       "    <tr>\n",
       "      <th>898</th>\n",
       "      <td>s__Weissella_koreensis</td>\n",
       "      <td>s__Weissella_koreensis</td>\n",
       "    </tr>\n",
       "    <tr>\n",
       "      <th>899</th>\n",
       "      <td>s__Weissella_paramesenteroides</td>\n",
       "      <td>s__Weissella_paramesenteroides</td>\n",
       "    </tr>\n",
       "    <tr>\n",
       "      <th>900</th>\n",
       "      <td>s__Weissella_unclassified</td>\n",
       "      <td>s__Weissella_unclassified</td>\n",
       "    </tr>\n",
       "    <tr>\n",
       "      <th>901</th>\n",
       "      <td>s__Wohlfahrtiimonas_chitiniclastica</td>\n",
       "      <td>s__Wohlfahrtiimonas_chitiniclastica</td>\n",
       "    </tr>\n",
       "    <tr>\n",
       "      <th>902</th>\n",
       "      <td>s__Yersinia_enterocolitica</td>\n",
       "      <td>s__Yersinia_enterocolitica</td>\n",
       "    </tr>\n",
       "  </tbody>\n",
       "</table>\n",
       "<p>903 rows × 2 columns</p>\n",
       "</div>"
      ],
      "text/plain": [
       "                              Unnamed: 0                              feature\n",
       "0               s__Abiotrophia_defectiva             s__Abiotrophia_defectiva\n",
       "1            s__Acetobacter_unclassified          s__Acetobacter_unclassified\n",
       "2            s__Achromobacter_piechaudii          s__Achromobacter_piechaudii\n",
       "3          s__Achromobacter_unclassified        s__Achromobacter_unclassified\n",
       "4          s__Achromobacter_xylosoxidans        s__Achromobacter_xylosoxidans\n",
       "..                                   ...                                  ...\n",
       "898               s__Weissella_koreensis               s__Weissella_koreensis\n",
       "899       s__Weissella_paramesenteroides       s__Weissella_paramesenteroides\n",
       "900            s__Weissella_unclassified            s__Weissella_unclassified\n",
       "901  s__Wohlfahrtiimonas_chitiniclastica  s__Wohlfahrtiimonas_chitiniclastica\n",
       "902           s__Yersinia_enterocolitica           s__Yersinia_enterocolitica\n",
       "\n",
       "[903 rows x 2 columns]"
      ]
     },
     "execution_count": 18,
     "metadata": {},
     "output_type": "execute_result"
    }
   ],
   "source": [
    "FeatMeta"
   ]
  },
  {
   "cell_type": "code",
   "execution_count": 19,
   "id": "chicken-truck",
   "metadata": {},
   "outputs": [],
   "source": [
    "X = [MatrixData, ClinicalContinuousMat, ClinicalBinaryMat]"
   ]
  },
  {
   "cell_type": "code",
   "execution_count": 20,
   "id": "driving-tribune",
   "metadata": {},
   "outputs": [],
   "source": [
    "y = SampleMeta['Phenotype'].to_numpy().astype('str') == 'ACVD'\n",
    "y = y.astype('int64')"
   ]
  },
  {
   "cell_type": "code",
   "execution_count": 21,
   "id": "confused-recipient",
   "metadata": {},
   "outputs": [
    {
     "data": {
      "text/plain": [
       "ACVD           144\n",
       "Healthy         75\n",
       "Overweight      40\n",
       "Obesity          8\n",
       "Underweight      7\n",
       "Name: Phenotype, dtype: int64"
      ]
     },
     "execution_count": 21,
     "metadata": {},
     "output_type": "execute_result"
    }
   ],
   "source": [
    "pd.value_counts(SampleMeta['Phenotype'])"
   ]
  },
  {
   "cell_type": "markdown",
   "id": "thrown-density",
   "metadata": {},
   "source": [
    "# Define and Train Model"
   ]
  },
  {
   "cell_type": "code",
   "execution_count": 22,
   "id": "regional-logistics",
   "metadata": {},
   "outputs": [],
   "source": [
    "# make pipeline\n",
    "microbiome_pipeline = Pipeline([('scaler0', StandardScaler()), ('pca', PCA(n_components=100))])\n",
    "clinical_continous_pipeline = StandardScaler()\n",
    "clinical_binary_pipeline = FunctionTransformer()\n",
    "pipeline_list = [microbiome_pipeline, clinical_continous_pipeline, clinical_binary_pipeline]\n",
    "pipeline_list_transformer = list_transformer(pipeline_list)\n",
    "pipeline_list_transformer.fit(X)\n",
    "X_transform = pipeline_list_transformer.transform(X)"
   ]
  },
  {
   "cell_type": "code",
   "execution_count": 23,
   "id": "variable-niger",
   "metadata": {},
   "outputs": [
    {
     "data": {
      "text/plain": [
       "(274, 103)"
      ]
     },
     "execution_count": 23,
     "metadata": {},
     "output_type": "execute_result"
    }
   ],
   "source": [
    "X_transform.shape"
   ]
  },
  {
   "cell_type": "code",
   "execution_count": 24,
   "id": "conditional-kernel",
   "metadata": {},
   "outputs": [
    {
     "data": {
      "text/html": [
       "<div>\n",
       "<style scoped>\n",
       "    .dataframe tbody tr th:only-of-type {\n",
       "        vertical-align: middle;\n",
       "    }\n",
       "\n",
       "    .dataframe tbody tr th {\n",
       "        vertical-align: top;\n",
       "    }\n",
       "\n",
       "    .dataframe thead th {\n",
       "        text-align: right;\n",
       "    }\n",
       "</style>\n",
       "<table border=\"1\" class=\"dataframe\">\n",
       "  <thead>\n",
       "    <tr style=\"text-align: right;\">\n",
       "      <th></th>\n",
       "      <th>PC1</th>\n",
       "      <th>PC2</th>\n",
       "      <th>PC3</th>\n",
       "      <th>PC4</th>\n",
       "      <th>PC5</th>\n",
       "      <th>PC6</th>\n",
       "      <th>PC7</th>\n",
       "      <th>PC8</th>\n",
       "      <th>PC9</th>\n",
       "      <th>PC10</th>\n",
       "      <th>...</th>\n",
       "      <th>PC94</th>\n",
       "      <th>PC95</th>\n",
       "      <th>PC96</th>\n",
       "      <th>PC97</th>\n",
       "      <th>PC98</th>\n",
       "      <th>PC99</th>\n",
       "      <th>PC100</th>\n",
       "      <th>Age (z)</th>\n",
       "      <th>BMI, (z)</th>\n",
       "      <th>Gender</th>\n",
       "    </tr>\n",
       "  </thead>\n",
       "  <tbody>\n",
       "    <tr>\n",
       "      <th>0</th>\n",
       "      <td>12.279385</td>\n",
       "      <td>-3.359436</td>\n",
       "      <td>0.094367</td>\n",
       "      <td>0.897768</td>\n",
       "      <td>-3.273225</td>\n",
       "      <td>-1.475070</td>\n",
       "      <td>0.977926</td>\n",
       "      <td>-1.704043</td>\n",
       "      <td>1.547316</td>\n",
       "      <td>-0.507823</td>\n",
       "      <td>...</td>\n",
       "      <td>-0.145464</td>\n",
       "      <td>-0.087689</td>\n",
       "      <td>0.428990</td>\n",
       "      <td>-0.583283</td>\n",
       "      <td>0.534917</td>\n",
       "      <td>-0.158664</td>\n",
       "      <td>-0.021711</td>\n",
       "      <td>42.827397</td>\n",
       "      <td>22.58</td>\n",
       "      <td>1.0</td>\n",
       "    </tr>\n",
       "    <tr>\n",
       "      <th>1</th>\n",
       "      <td>-1.099429</td>\n",
       "      <td>-0.419612</td>\n",
       "      <td>0.417405</td>\n",
       "      <td>1.459930</td>\n",
       "      <td>-0.175930</td>\n",
       "      <td>0.562761</td>\n",
       "      <td>-2.232190</td>\n",
       "      <td>-0.764115</td>\n",
       "      <td>1.384567</td>\n",
       "      <td>-0.083253</td>\n",
       "      <td>...</td>\n",
       "      <td>0.162604</td>\n",
       "      <td>2.942635</td>\n",
       "      <td>1.702117</td>\n",
       "      <td>2.568998</td>\n",
       "      <td>0.929916</td>\n",
       "      <td>1.698672</td>\n",
       "      <td>-0.744007</td>\n",
       "      <td>76.027397</td>\n",
       "      <td>24.03</td>\n",
       "      <td>0.0</td>\n",
       "    </tr>\n",
       "    <tr>\n",
       "      <th>2</th>\n",
       "      <td>-1.477555</td>\n",
       "      <td>0.081284</td>\n",
       "      <td>0.253886</td>\n",
       "      <td>0.072290</td>\n",
       "      <td>-0.413558</td>\n",
       "      <td>-0.786071</td>\n",
       "      <td>-0.416598</td>\n",
       "      <td>0.256669</td>\n",
       "      <td>-0.308917</td>\n",
       "      <td>-0.353521</td>\n",
       "      <td>...</td>\n",
       "      <td>-0.093796</td>\n",
       "      <td>-0.203819</td>\n",
       "      <td>-1.060155</td>\n",
       "      <td>-0.675182</td>\n",
       "      <td>-0.123485</td>\n",
       "      <td>-0.649286</td>\n",
       "      <td>-0.087144</td>\n",
       "      <td>73.000000</td>\n",
       "      <td>27.55</td>\n",
       "      <td>1.0</td>\n",
       "    </tr>\n",
       "    <tr>\n",
       "      <th>3</th>\n",
       "      <td>1.462924</td>\n",
       "      <td>2.070713</td>\n",
       "      <td>1.714120</td>\n",
       "      <td>-2.292561</td>\n",
       "      <td>1.200677</td>\n",
       "      <td>1.247274</td>\n",
       "      <td>-3.040912</td>\n",
       "      <td>0.955362</td>\n",
       "      <td>5.149746</td>\n",
       "      <td>1.142298</td>\n",
       "      <td>...</td>\n",
       "      <td>0.706237</td>\n",
       "      <td>-0.351116</td>\n",
       "      <td>-0.597005</td>\n",
       "      <td>-0.315500</td>\n",
       "      <td>-0.616302</td>\n",
       "      <td>0.602262</td>\n",
       "      <td>-0.074719</td>\n",
       "      <td>45.397260</td>\n",
       "      <td>23.62</td>\n",
       "      <td>1.0</td>\n",
       "    </tr>\n",
       "    <tr>\n",
       "      <th>4</th>\n",
       "      <td>4.328104</td>\n",
       "      <td>0.732943</td>\n",
       "      <td>1.293565</td>\n",
       "      <td>-1.891403</td>\n",
       "      <td>-3.542643</td>\n",
       "      <td>0.883771</td>\n",
       "      <td>6.187343</td>\n",
       "      <td>0.809476</td>\n",
       "      <td>2.504442</td>\n",
       "      <td>-0.368114</td>\n",
       "      <td>...</td>\n",
       "      <td>-0.182818</td>\n",
       "      <td>-0.377154</td>\n",
       "      <td>2.426089</td>\n",
       "      <td>0.218502</td>\n",
       "      <td>-3.111762</td>\n",
       "      <td>-0.288052</td>\n",
       "      <td>0.474292</td>\n",
       "      <td>64.589041</td>\n",
       "      <td>24.44</td>\n",
       "      <td>0.0</td>\n",
       "    </tr>\n",
       "    <tr>\n",
       "      <th>...</th>\n",
       "      <td>...</td>\n",
       "      <td>...</td>\n",
       "      <td>...</td>\n",
       "      <td>...</td>\n",
       "      <td>...</td>\n",
       "      <td>...</td>\n",
       "      <td>...</td>\n",
       "      <td>...</td>\n",
       "      <td>...</td>\n",
       "      <td>...</td>\n",
       "      <td>...</td>\n",
       "      <td>...</td>\n",
       "      <td>...</td>\n",
       "      <td>...</td>\n",
       "      <td>...</td>\n",
       "      <td>...</td>\n",
       "      <td>...</td>\n",
       "      <td>...</td>\n",
       "      <td>...</td>\n",
       "      <td>...</td>\n",
       "      <td>...</td>\n",
       "    </tr>\n",
       "    <tr>\n",
       "      <th>269</th>\n",
       "      <td>-2.266230</td>\n",
       "      <td>0.090327</td>\n",
       "      <td>-2.125849</td>\n",
       "      <td>-0.572833</td>\n",
       "      <td>1.512752</td>\n",
       "      <td>0.626963</td>\n",
       "      <td>-1.191608</td>\n",
       "      <td>0.016894</td>\n",
       "      <td>0.030992</td>\n",
       "      <td>0.266017</td>\n",
       "      <td>...</td>\n",
       "      <td>0.244188</td>\n",
       "      <td>1.291294</td>\n",
       "      <td>-1.004100</td>\n",
       "      <td>2.039166</td>\n",
       "      <td>-0.385071</td>\n",
       "      <td>-0.610676</td>\n",
       "      <td>0.316712</td>\n",
       "      <td>50.000000</td>\n",
       "      <td>18.31</td>\n",
       "      <td>0.0</td>\n",
       "    </tr>\n",
       "    <tr>\n",
       "      <th>270</th>\n",
       "      <td>-1.130871</td>\n",
       "      <td>0.142764</td>\n",
       "      <td>-0.781807</td>\n",
       "      <td>-0.380622</td>\n",
       "      <td>0.427577</td>\n",
       "      <td>0.975677</td>\n",
       "      <td>-2.252675</td>\n",
       "      <td>-0.280390</td>\n",
       "      <td>1.060447</td>\n",
       "      <td>0.139314</td>\n",
       "      <td>...</td>\n",
       "      <td>2.338937</td>\n",
       "      <td>-1.645575</td>\n",
       "      <td>0.402917</td>\n",
       "      <td>1.751347</td>\n",
       "      <td>2.093961</td>\n",
       "      <td>0.706413</td>\n",
       "      <td>0.606551</td>\n",
       "      <td>74.000000</td>\n",
       "      <td>16.61</td>\n",
       "      <td>0.0</td>\n",
       "    </tr>\n",
       "    <tr>\n",
       "      <th>271</th>\n",
       "      <td>-2.125734</td>\n",
       "      <td>0.273571</td>\n",
       "      <td>-1.429240</td>\n",
       "      <td>-0.527760</td>\n",
       "      <td>1.044861</td>\n",
       "      <td>0.050172</td>\n",
       "      <td>-1.142292</td>\n",
       "      <td>0.252315</td>\n",
       "      <td>-0.133182</td>\n",
       "      <td>0.085551</td>\n",
       "      <td>...</td>\n",
       "      <td>-0.653253</td>\n",
       "      <td>-1.048082</td>\n",
       "      <td>-1.188734</td>\n",
       "      <td>-2.527719</td>\n",
       "      <td>-1.531300</td>\n",
       "      <td>1.312439</td>\n",
       "      <td>0.865430</td>\n",
       "      <td>67.000000</td>\n",
       "      <td>16.82</td>\n",
       "      <td>0.0</td>\n",
       "    </tr>\n",
       "    <tr>\n",
       "      <th>272</th>\n",
       "      <td>-1.513136</td>\n",
       "      <td>0.801200</td>\n",
       "      <td>0.467076</td>\n",
       "      <td>1.448845</td>\n",
       "      <td>0.744847</td>\n",
       "      <td>-1.869821</td>\n",
       "      <td>-0.854482</td>\n",
       "      <td>-1.175395</td>\n",
       "      <td>-0.885762</td>\n",
       "      <td>-0.303366</td>\n",
       "      <td>...</td>\n",
       "      <td>0.937561</td>\n",
       "      <td>1.511540</td>\n",
       "      <td>-1.141062</td>\n",
       "      <td>4.993145</td>\n",
       "      <td>0.493129</td>\n",
       "      <td>3.620921</td>\n",
       "      <td>3.814981</td>\n",
       "      <td>61.000000</td>\n",
       "      <td>17.90</td>\n",
       "      <td>0.0</td>\n",
       "    </tr>\n",
       "    <tr>\n",
       "      <th>273</th>\n",
       "      <td>-1.776225</td>\n",
       "      <td>0.009495</td>\n",
       "      <td>-1.618265</td>\n",
       "      <td>-1.045566</td>\n",
       "      <td>0.796184</td>\n",
       "      <td>0.887102</td>\n",
       "      <td>-0.524173</td>\n",
       "      <td>0.685106</td>\n",
       "      <td>-0.099475</td>\n",
       "      <td>0.416991</td>\n",
       "      <td>...</td>\n",
       "      <td>-0.600801</td>\n",
       "      <td>-0.505347</td>\n",
       "      <td>0.783551</td>\n",
       "      <td>0.263109</td>\n",
       "      <td>0.718512</td>\n",
       "      <td>0.378483</td>\n",
       "      <td>-0.586747</td>\n",
       "      <td>56.000000</td>\n",
       "      <td>17.63</td>\n",
       "      <td>0.0</td>\n",
       "    </tr>\n",
       "  </tbody>\n",
       "</table>\n",
       "<p>274 rows × 103 columns</p>\n",
       "</div>"
      ],
      "text/plain": [
       "           PC1       PC2       PC3       PC4       PC5       PC6       PC7  \\\n",
       "0    12.279385 -3.359436  0.094367  0.897768 -3.273225 -1.475070  0.977926   \n",
       "1    -1.099429 -0.419612  0.417405  1.459930 -0.175930  0.562761 -2.232190   \n",
       "2    -1.477555  0.081284  0.253886  0.072290 -0.413558 -0.786071 -0.416598   \n",
       "3     1.462924  2.070713  1.714120 -2.292561  1.200677  1.247274 -3.040912   \n",
       "4     4.328104  0.732943  1.293565 -1.891403 -3.542643  0.883771  6.187343   \n",
       "..         ...       ...       ...       ...       ...       ...       ...   \n",
       "269  -2.266230  0.090327 -2.125849 -0.572833  1.512752  0.626963 -1.191608   \n",
       "270  -1.130871  0.142764 -0.781807 -0.380622  0.427577  0.975677 -2.252675   \n",
       "271  -2.125734  0.273571 -1.429240 -0.527760  1.044861  0.050172 -1.142292   \n",
       "272  -1.513136  0.801200  0.467076  1.448845  0.744847 -1.869821 -0.854482   \n",
       "273  -1.776225  0.009495 -1.618265 -1.045566  0.796184  0.887102 -0.524173   \n",
       "\n",
       "          PC8       PC9      PC10  ...      PC94      PC95      PC96  \\\n",
       "0   -1.704043  1.547316 -0.507823  ... -0.145464 -0.087689  0.428990   \n",
       "1   -0.764115  1.384567 -0.083253  ...  0.162604  2.942635  1.702117   \n",
       "2    0.256669 -0.308917 -0.353521  ... -0.093796 -0.203819 -1.060155   \n",
       "3    0.955362  5.149746  1.142298  ...  0.706237 -0.351116 -0.597005   \n",
       "4    0.809476  2.504442 -0.368114  ... -0.182818 -0.377154  2.426089   \n",
       "..        ...       ...       ...  ...       ...       ...       ...   \n",
       "269  0.016894  0.030992  0.266017  ...  0.244188  1.291294 -1.004100   \n",
       "270 -0.280390  1.060447  0.139314  ...  2.338937 -1.645575  0.402917   \n",
       "271  0.252315 -0.133182  0.085551  ... -0.653253 -1.048082 -1.188734   \n",
       "272 -1.175395 -0.885762 -0.303366  ...  0.937561  1.511540 -1.141062   \n",
       "273  0.685106 -0.099475  0.416991  ... -0.600801 -0.505347  0.783551   \n",
       "\n",
       "         PC97      PC98      PC99     PC100    Age (z)  BMI, (z)  Gender  \n",
       "0   -0.583283  0.534917 -0.158664 -0.021711  42.827397     22.58     1.0  \n",
       "1    2.568998  0.929916  1.698672 -0.744007  76.027397     24.03     0.0  \n",
       "2   -0.675182 -0.123485 -0.649286 -0.087144  73.000000     27.55     1.0  \n",
       "3   -0.315500 -0.616302  0.602262 -0.074719  45.397260     23.62     1.0  \n",
       "4    0.218502 -3.111762 -0.288052  0.474292  64.589041     24.44     0.0  \n",
       "..        ...       ...       ...       ...        ...       ...     ...  \n",
       "269  2.039166 -0.385071 -0.610676  0.316712  50.000000     18.31     0.0  \n",
       "270  1.751347  2.093961  0.706413  0.606551  74.000000     16.61     0.0  \n",
       "271 -2.527719 -1.531300  1.312439  0.865430  67.000000     16.82     0.0  \n",
       "272  4.993145  0.493129  3.620921  3.814981  61.000000     17.90     0.0  \n",
       "273  0.263109  0.718512  0.378483 -0.586747  56.000000     17.63     0.0  \n",
       "\n",
       "[274 rows x 103 columns]"
      ]
     },
     "execution_count": 24,
     "metadata": {},
     "output_type": "execute_result"
    }
   ],
   "source": [
    "pc_names = np.array(['PC' + str(i+1) for i in range(100)])\n",
    "ClinDataNames = np.array(['Age (z)', 'BMI, (z)', 'Gender'])\n",
    "X_transform_df = pd.DataFrame(X_transform, columns = np.concatenate([pc_names, ClinDataNames]))\n",
    "X_transform_df"
   ]
  },
  {
   "cell_type": "code",
   "execution_count": 25,
   "id": "global-situation",
   "metadata": {},
   "outputs": [
    {
     "data": {
      "text/html": [
       "<div>\n",
       "<style scoped>\n",
       "    .dataframe tbody tr th:only-of-type {\n",
       "        vertical-align: middle;\n",
       "    }\n",
       "\n",
       "    .dataframe tbody tr th {\n",
       "        vertical-align: top;\n",
       "    }\n",
       "\n",
       "    .dataframe thead th {\n",
       "        text-align: right;\n",
       "    }\n",
       "</style>\n",
       "<table border=\"1\" class=\"dataframe\">\n",
       "  <thead>\n",
       "    <tr style=\"text-align: right;\">\n",
       "      <th></th>\n",
       "      <th>PC1</th>\n",
       "      <th>PC2</th>\n",
       "      <th>PC3</th>\n",
       "      <th>PC4</th>\n",
       "      <th>PC5</th>\n",
       "      <th>PC6</th>\n",
       "      <th>PC7</th>\n",
       "      <th>PC8</th>\n",
       "      <th>PC9</th>\n",
       "      <th>PC10</th>\n",
       "      <th>...</th>\n",
       "      <th>PC94</th>\n",
       "      <th>PC95</th>\n",
       "      <th>PC96</th>\n",
       "      <th>PC97</th>\n",
       "      <th>PC98</th>\n",
       "      <th>PC99</th>\n",
       "      <th>PC100</th>\n",
       "      <th>Age (z)</th>\n",
       "      <th>BMI, (z)</th>\n",
       "      <th>Gender</th>\n",
       "    </tr>\n",
       "  </thead>\n",
       "  <tbody>\n",
       "    <tr>\n",
       "      <th>PC1</th>\n",
       "      <td>1.000000e+00</td>\n",
       "      <td>9.145803e-17</td>\n",
       "      <td>-3.390771e-16</td>\n",
       "      <td>1.164312e-16</td>\n",
       "      <td>2.469662e-16</td>\n",
       "      <td>-4.600827e-16</td>\n",
       "      <td>2.648888e-16</td>\n",
       "      <td>1.096848e-16</td>\n",
       "      <td>-6.340944e-18</td>\n",
       "      <td>-1.328856e-16</td>\n",
       "      <td>...</td>\n",
       "      <td>-3.113264e-17</td>\n",
       "      <td>8.484644e-17</td>\n",
       "      <td>2.964497e-17</td>\n",
       "      <td>1.422967e-17</td>\n",
       "      <td>4.397258e-17</td>\n",
       "      <td>4.098678e-17</td>\n",
       "      <td>8.594100e-17</td>\n",
       "      <td>-0.053079</td>\n",
       "      <td>-0.014925</td>\n",
       "      <td>0.144011</td>\n",
       "    </tr>\n",
       "    <tr>\n",
       "      <th>PC2</th>\n",
       "      <td>9.145803e-17</td>\n",
       "      <td>1.000000e+00</td>\n",
       "      <td>1.116415e-16</td>\n",
       "      <td>8.026593e-16</td>\n",
       "      <td>-2.300926e-16</td>\n",
       "      <td>-1.641573e-16</td>\n",
       "      <td>6.259950e-17</td>\n",
       "      <td>2.280602e-16</td>\n",
       "      <td>9.988853e-17</td>\n",
       "      <td>8.081115e-17</td>\n",
       "      <td>...</td>\n",
       "      <td>8.179458e-18</td>\n",
       "      <td>4.346431e-17</td>\n",
       "      <td>-5.152889e-17</td>\n",
       "      <td>2.043453e-17</td>\n",
       "      <td>-2.768536e-17</td>\n",
       "      <td>-3.816949e-17</td>\n",
       "      <td>1.038804e-17</td>\n",
       "      <td>0.087200</td>\n",
       "      <td>-0.017748</td>\n",
       "      <td>0.013749</td>\n",
       "    </tr>\n",
       "    <tr>\n",
       "      <th>PC3</th>\n",
       "      <td>-3.390771e-16</td>\n",
       "      <td>1.116415e-16</td>\n",
       "      <td>1.000000e+00</td>\n",
       "      <td>-2.753417e-16</td>\n",
       "      <td>-2.821045e-16</td>\n",
       "      <td>1.031817e-15</td>\n",
       "      <td>-1.104382e-16</td>\n",
       "      <td>-4.155876e-16</td>\n",
       "      <td>8.866568e-17</td>\n",
       "      <td>-4.611773e-17</td>\n",
       "      <td>...</td>\n",
       "      <td>5.642480e-18</td>\n",
       "      <td>-3.024308e-18</td>\n",
       "      <td>1.420856e-16</td>\n",
       "      <td>-8.567958e-17</td>\n",
       "      <td>9.858595e-17</td>\n",
       "      <td>4.923496e-17</td>\n",
       "      <td>-7.117488e-17</td>\n",
       "      <td>0.131117</td>\n",
       "      <td>-0.026087</td>\n",
       "      <td>0.119162</td>\n",
       "    </tr>\n",
       "    <tr>\n",
       "      <th>PC4</th>\n",
       "      <td>1.164312e-16</td>\n",
       "      <td>8.026593e-16</td>\n",
       "      <td>-2.753417e-16</td>\n",
       "      <td>1.000000e+00</td>\n",
       "      <td>4.690145e-16</td>\n",
       "      <td>1.922496e-16</td>\n",
       "      <td>8.038378e-17</td>\n",
       "      <td>-8.497661e-16</td>\n",
       "      <td>-5.456016e-16</td>\n",
       "      <td>-3.605500e-16</td>\n",
       "      <td>...</td>\n",
       "      <td>-6.121805e-17</td>\n",
       "      <td>-5.200886e-17</td>\n",
       "      <td>1.416187e-16</td>\n",
       "      <td>-1.021008e-18</td>\n",
       "      <td>-2.737489e-17</td>\n",
       "      <td>2.155007e-17</td>\n",
       "      <td>2.664521e-18</td>\n",
       "      <td>0.091641</td>\n",
       "      <td>-0.089648</td>\n",
       "      <td>0.022682</td>\n",
       "    </tr>\n",
       "    <tr>\n",
       "      <th>PC5</th>\n",
       "      <td>2.469662e-16</td>\n",
       "      <td>-2.300926e-16</td>\n",
       "      <td>-2.821045e-16</td>\n",
       "      <td>4.690145e-16</td>\n",
       "      <td>1.000000e+00</td>\n",
       "      <td>1.737882e-15</td>\n",
       "      <td>1.288109e-15</td>\n",
       "      <td>-2.493474e-16</td>\n",
       "      <td>-5.345381e-16</td>\n",
       "      <td>-7.594177e-18</td>\n",
       "      <td>...</td>\n",
       "      <td>-8.528781e-17</td>\n",
       "      <td>-1.239977e-16</td>\n",
       "      <td>3.036244e-16</td>\n",
       "      <td>6.807231e-17</td>\n",
       "      <td>-9.440668e-17</td>\n",
       "      <td>-1.954458e-16</td>\n",
       "      <td>-5.201485e-17</td>\n",
       "      <td>0.039424</td>\n",
       "      <td>-0.041682</td>\n",
       "      <td>-0.030910</td>\n",
       "    </tr>\n",
       "    <tr>\n",
       "      <th>...</th>\n",
       "      <td>...</td>\n",
       "      <td>...</td>\n",
       "      <td>...</td>\n",
       "      <td>...</td>\n",
       "      <td>...</td>\n",
       "      <td>...</td>\n",
       "      <td>...</td>\n",
       "      <td>...</td>\n",
       "      <td>...</td>\n",
       "      <td>...</td>\n",
       "      <td>...</td>\n",
       "      <td>...</td>\n",
       "      <td>...</td>\n",
       "      <td>...</td>\n",
       "      <td>...</td>\n",
       "      <td>...</td>\n",
       "      <td>...</td>\n",
       "      <td>...</td>\n",
       "      <td>...</td>\n",
       "      <td>...</td>\n",
       "      <td>...</td>\n",
       "    </tr>\n",
       "    <tr>\n",
       "      <th>PC99</th>\n",
       "      <td>4.098678e-17</td>\n",
       "      <td>-3.816949e-17</td>\n",
       "      <td>4.923496e-17</td>\n",
       "      <td>2.155007e-17</td>\n",
       "      <td>-1.954458e-16</td>\n",
       "      <td>-9.046811e-17</td>\n",
       "      <td>-1.930756e-16</td>\n",
       "      <td>-1.701937e-16</td>\n",
       "      <td>4.557557e-16</td>\n",
       "      <td>-8.856186e-18</td>\n",
       "      <td>...</td>\n",
       "      <td>2.051712e-16</td>\n",
       "      <td>-6.850282e-16</td>\n",
       "      <td>-1.201989e-15</td>\n",
       "      <td>4.330579e-16</td>\n",
       "      <td>-8.291703e-16</td>\n",
       "      <td>1.000000e+00</td>\n",
       "      <td>3.329267e-16</td>\n",
       "      <td>-0.027232</td>\n",
       "      <td>0.014837</td>\n",
       "      <td>-0.051121</td>\n",
       "    </tr>\n",
       "    <tr>\n",
       "      <th>PC100</th>\n",
       "      <td>8.594100e-17</td>\n",
       "      <td>1.038804e-17</td>\n",
       "      <td>-7.117488e-17</td>\n",
       "      <td>2.664521e-18</td>\n",
       "      <td>-5.201485e-17</td>\n",
       "      <td>1.543367e-16</td>\n",
       "      <td>-2.390160e-16</td>\n",
       "      <td>8.454575e-17</td>\n",
       "      <td>-7.826732e-17</td>\n",
       "      <td>-1.755396e-16</td>\n",
       "      <td>...</td>\n",
       "      <td>4.874850e-16</td>\n",
       "      <td>8.069847e-16</td>\n",
       "      <td>-7.755210e-16</td>\n",
       "      <td>1.382843e-16</td>\n",
       "      <td>-4.521200e-16</td>\n",
       "      <td>3.329267e-16</td>\n",
       "      <td>1.000000e+00</td>\n",
       "      <td>0.095455</td>\n",
       "      <td>0.027647</td>\n",
       "      <td>-0.054806</td>\n",
       "    </tr>\n",
       "    <tr>\n",
       "      <th>Age (z)</th>\n",
       "      <td>-5.307887e-02</td>\n",
       "      <td>8.719990e-02</td>\n",
       "      <td>1.311173e-01</td>\n",
       "      <td>9.164116e-02</td>\n",
       "      <td>3.942424e-02</td>\n",
       "      <td>-1.905075e-01</td>\n",
       "      <td>-7.138871e-02</td>\n",
       "      <td>1.025304e-01</td>\n",
       "      <td>1.001344e-01</td>\n",
       "      <td>-6.719642e-02</td>\n",
       "      <td>...</td>\n",
       "      <td>1.016108e-01</td>\n",
       "      <td>7.678610e-02</td>\n",
       "      <td>3.996171e-04</td>\n",
       "      <td>2.038126e-02</td>\n",
       "      <td>1.380902e-02</td>\n",
       "      <td>-2.723188e-02</td>\n",
       "      <td>9.545547e-02</td>\n",
       "      <td>1.000000</td>\n",
       "      <td>-0.121559</td>\n",
       "      <td>0.099722</td>\n",
       "    </tr>\n",
       "    <tr>\n",
       "      <th>BMI, (z)</th>\n",
       "      <td>-1.492550e-02</td>\n",
       "      <td>-1.774751e-02</td>\n",
       "      <td>-2.608709e-02</td>\n",
       "      <td>-8.964808e-02</td>\n",
       "      <td>-4.168229e-02</td>\n",
       "      <td>1.303335e-01</td>\n",
       "      <td>2.563042e-02</td>\n",
       "      <td>2.949153e-02</td>\n",
       "      <td>6.092852e-02</td>\n",
       "      <td>-2.033978e-02</td>\n",
       "      <td>...</td>\n",
       "      <td>-7.215418e-02</td>\n",
       "      <td>4.958158e-02</td>\n",
       "      <td>3.996011e-03</td>\n",
       "      <td>-1.344051e-02</td>\n",
       "      <td>-4.446631e-02</td>\n",
       "      <td>1.483691e-02</td>\n",
       "      <td>2.764741e-02</td>\n",
       "      <td>-0.121559</td>\n",
       "      <td>1.000000</td>\n",
       "      <td>0.072149</td>\n",
       "    </tr>\n",
       "    <tr>\n",
       "      <th>Gender</th>\n",
       "      <td>1.440112e-01</td>\n",
       "      <td>1.374853e-02</td>\n",
       "      <td>1.191621e-01</td>\n",
       "      <td>2.268189e-02</td>\n",
       "      <td>-3.091031e-02</td>\n",
       "      <td>7.512170e-02</td>\n",
       "      <td>1.589349e-03</td>\n",
       "      <td>5.429552e-02</td>\n",
       "      <td>8.143826e-02</td>\n",
       "      <td>3.230751e-02</td>\n",
       "      <td>...</td>\n",
       "      <td>3.740923e-02</td>\n",
       "      <td>1.176495e-01</td>\n",
       "      <td>-2.704249e-02</td>\n",
       "      <td>1.262864e-04</td>\n",
       "      <td>-2.350482e-02</td>\n",
       "      <td>-5.112066e-02</td>\n",
       "      <td>-5.480624e-02</td>\n",
       "      <td>0.099722</td>\n",
       "      <td>0.072149</td>\n",
       "      <td>1.000000</td>\n",
       "    </tr>\n",
       "  </tbody>\n",
       "</table>\n",
       "<p>103 rows × 103 columns</p>\n",
       "</div>"
      ],
      "text/plain": [
       "                   PC1           PC2           PC3           PC4  \\\n",
       "PC1       1.000000e+00  9.145803e-17 -3.390771e-16  1.164312e-16   \n",
       "PC2       9.145803e-17  1.000000e+00  1.116415e-16  8.026593e-16   \n",
       "PC3      -3.390771e-16  1.116415e-16  1.000000e+00 -2.753417e-16   \n",
       "PC4       1.164312e-16  8.026593e-16 -2.753417e-16  1.000000e+00   \n",
       "PC5       2.469662e-16 -2.300926e-16 -2.821045e-16  4.690145e-16   \n",
       "...                ...           ...           ...           ...   \n",
       "PC99      4.098678e-17 -3.816949e-17  4.923496e-17  2.155007e-17   \n",
       "PC100     8.594100e-17  1.038804e-17 -7.117488e-17  2.664521e-18   \n",
       "Age (z)  -5.307887e-02  8.719990e-02  1.311173e-01  9.164116e-02   \n",
       "BMI, (z) -1.492550e-02 -1.774751e-02 -2.608709e-02 -8.964808e-02   \n",
       "Gender    1.440112e-01  1.374853e-02  1.191621e-01  2.268189e-02   \n",
       "\n",
       "                   PC5           PC6           PC7           PC8  \\\n",
       "PC1       2.469662e-16 -4.600827e-16  2.648888e-16  1.096848e-16   \n",
       "PC2      -2.300926e-16 -1.641573e-16  6.259950e-17  2.280602e-16   \n",
       "PC3      -2.821045e-16  1.031817e-15 -1.104382e-16 -4.155876e-16   \n",
       "PC4       4.690145e-16  1.922496e-16  8.038378e-17 -8.497661e-16   \n",
       "PC5       1.000000e+00  1.737882e-15  1.288109e-15 -2.493474e-16   \n",
       "...                ...           ...           ...           ...   \n",
       "PC99     -1.954458e-16 -9.046811e-17 -1.930756e-16 -1.701937e-16   \n",
       "PC100    -5.201485e-17  1.543367e-16 -2.390160e-16  8.454575e-17   \n",
       "Age (z)   3.942424e-02 -1.905075e-01 -7.138871e-02  1.025304e-01   \n",
       "BMI, (z) -4.168229e-02  1.303335e-01  2.563042e-02  2.949153e-02   \n",
       "Gender   -3.091031e-02  7.512170e-02  1.589349e-03  5.429552e-02   \n",
       "\n",
       "                   PC9          PC10  ...          PC94          PC95  \\\n",
       "PC1      -6.340944e-18 -1.328856e-16  ... -3.113264e-17  8.484644e-17   \n",
       "PC2       9.988853e-17  8.081115e-17  ...  8.179458e-18  4.346431e-17   \n",
       "PC3       8.866568e-17 -4.611773e-17  ...  5.642480e-18 -3.024308e-18   \n",
       "PC4      -5.456016e-16 -3.605500e-16  ... -6.121805e-17 -5.200886e-17   \n",
       "PC5      -5.345381e-16 -7.594177e-18  ... -8.528781e-17 -1.239977e-16   \n",
       "...                ...           ...  ...           ...           ...   \n",
       "PC99      4.557557e-16 -8.856186e-18  ...  2.051712e-16 -6.850282e-16   \n",
       "PC100    -7.826732e-17 -1.755396e-16  ...  4.874850e-16  8.069847e-16   \n",
       "Age (z)   1.001344e-01 -6.719642e-02  ...  1.016108e-01  7.678610e-02   \n",
       "BMI, (z)  6.092852e-02 -2.033978e-02  ... -7.215418e-02  4.958158e-02   \n",
       "Gender    8.143826e-02  3.230751e-02  ...  3.740923e-02  1.176495e-01   \n",
       "\n",
       "                  PC96          PC97          PC98          PC99  \\\n",
       "PC1       2.964497e-17  1.422967e-17  4.397258e-17  4.098678e-17   \n",
       "PC2      -5.152889e-17  2.043453e-17 -2.768536e-17 -3.816949e-17   \n",
       "PC3       1.420856e-16 -8.567958e-17  9.858595e-17  4.923496e-17   \n",
       "PC4       1.416187e-16 -1.021008e-18 -2.737489e-17  2.155007e-17   \n",
       "PC5       3.036244e-16  6.807231e-17 -9.440668e-17 -1.954458e-16   \n",
       "...                ...           ...           ...           ...   \n",
       "PC99     -1.201989e-15  4.330579e-16 -8.291703e-16  1.000000e+00   \n",
       "PC100    -7.755210e-16  1.382843e-16 -4.521200e-16  3.329267e-16   \n",
       "Age (z)   3.996171e-04  2.038126e-02  1.380902e-02 -2.723188e-02   \n",
       "BMI, (z)  3.996011e-03 -1.344051e-02 -4.446631e-02  1.483691e-02   \n",
       "Gender   -2.704249e-02  1.262864e-04 -2.350482e-02 -5.112066e-02   \n",
       "\n",
       "                 PC100   Age (z)  BMI, (z)    Gender  \n",
       "PC1       8.594100e-17 -0.053079 -0.014925  0.144011  \n",
       "PC2       1.038804e-17  0.087200 -0.017748  0.013749  \n",
       "PC3      -7.117488e-17  0.131117 -0.026087  0.119162  \n",
       "PC4       2.664521e-18  0.091641 -0.089648  0.022682  \n",
       "PC5      -5.201485e-17  0.039424 -0.041682 -0.030910  \n",
       "...                ...       ...       ...       ...  \n",
       "PC99      3.329267e-16 -0.027232  0.014837 -0.051121  \n",
       "PC100     1.000000e+00  0.095455  0.027647 -0.054806  \n",
       "Age (z)   9.545547e-02  1.000000 -0.121559  0.099722  \n",
       "BMI, (z)  2.764741e-02 -0.121559  1.000000  0.072149  \n",
       "Gender   -5.480624e-02  0.099722  0.072149  1.000000  \n",
       "\n",
       "[103 rows x 103 columns]"
      ]
     },
     "execution_count": 25,
     "metadata": {},
     "output_type": "execute_result"
    }
   ],
   "source": [
    "cor_df = X_transform_df.corr(method='pearson', min_periods=1)\n",
    "cor_df"
   ]
  },
  {
   "cell_type": "code",
   "execution_count": 26,
   "id": "occasional-amendment",
   "metadata": {},
   "outputs": [
    {
     "data": {
      "text/plain": [
       "1.0    160\n",
       "0.0    114\n",
       "Name: Gender, dtype: int64"
      ]
     },
     "execution_count": 26,
     "metadata": {},
     "output_type": "execute_result"
    }
   ],
   "source": [
    "X_transform_df['Gender'].value_counts()"
   ]
  },
  {
   "cell_type": "code",
   "execution_count": 27,
   "id": "neutral-diagnosis",
   "metadata": {},
   "outputs": [
    {
     "data": {
      "text/plain": [
       "0       M\n",
       "1       F\n",
       "2       M\n",
       "3       M\n",
       "4       F\n",
       "       ..\n",
       "4302    F\n",
       "4303    F\n",
       "4304    F\n",
       "4305    F\n",
       "4306    F\n",
       "Name: Gender, Length: 274, dtype: object"
      ]
     },
     "execution_count": 27,
     "metadata": {},
     "output_type": "execute_result"
    }
   ],
   "source": [
    "SampleMeta['Gender']"
   ]
  },
  {
   "cell_type": "code",
   "execution_count": 42,
   "id": "african-knock",
   "metadata": {},
   "outputs": [
    {
     "data": {
      "text/plain": [
       "<AxesSubplot:>"
      ]
     },
     "execution_count": 42,
     "metadata": {},
     "output_type": "execute_result"
    },
    {
     "data": {
      "image/png": "[encoded data removed]",
      "text/plain": [
       "<Figure size 432x288 with 2 Axes>"
      ]
     },
     "metadata": {
      "needs_background": "light"
     },
     "output_type": "display_data"
    }
   ],
   "source": [
    "vars_plot = np.concatenate((pc_names[0:10], ClinDataNames))\n",
    "cor_df_subs = cor_df.loc[vars_plot, vars_plot]\n",
    "sns.heatmap(cor_df_subs, cmap=plt.cm.seismic, center=0)"
   ]
  },
  {
   "cell_type": "code",
   "execution_count": 33,
   "id": "nuclear-strip",
   "metadata": {},
   "outputs": [],
   "source": [
    "cor_mat_subs = cor_df_subs.to_numpy().astype('float64')"
   ]
  },
  {
   "cell_type": "code",
   "execution_count": 34,
   "id": "frequent-thirty",
   "metadata": {},
   "outputs": [
    {
     "data": {
      "text/plain": [
       "(array([0, 0, 1]), array([1, 2, 2]))"
      ]
     },
     "execution_count": 34,
     "metadata": {},
     "output_type": "execute_result"
    }
   ],
   "source": [
    "np.triu_indices(3, k=1)"
   ]
  },
  {
   "cell_type": "code",
   "execution_count": 37,
   "id": "governing-entrance",
   "metadata": {},
   "outputs": [
    {
     "data": {
      "text/plain": [
       "<seaborn.axisgrid.FacetGrid at 0x7f210af43c90>"
      ]
     },
     "execution_count": 37,
     "metadata": {},
     "output_type": "execute_result"
    },
    {
     "data": {
      "image/png": "[encoded data removed]",
      "text/plain": [
       "<Figure size 360x360 with 1 Axes>"
      ]
     },
     "metadata": {
      "needs_background": "light"
     },
     "output_type": "display_data"
    }
   ],
   "source": [
    "sns.displot(cor_mat_subs[np.triu_indices(13, 1)])"
   ]
  },
  {
   "cell_type": "code",
   "execution_count": null,
   "id": "based-toner",
   "metadata": {},
   "outputs": [],
   "source": []
  }
 ],
 "metadata": {
  "kernelspec": {
   "display_name": "Python 3 (ipykernel)",
   "language": "python",
   "name": "python3"
  },
  "language_info": {
   "codemirror_mode": {
    "name": "ipython",
    "version": 3
   },
   "file_extension": ".py",
   "mimetype": "text/x-python",
   "name": "python",
   "nbconvert_exporter": "python",
   "pygments_lexer": "ipython3",
   "version": "3.7.10"
  }
 },
 "nbformat": 4,
 "nbformat_minor": 5
}
