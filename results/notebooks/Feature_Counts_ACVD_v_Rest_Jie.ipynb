{
 "cells": [
  {
   "cell_type": "code",
   "execution_count": 1,
   "metadata": {},
   "outputs": [],
   "source": [
    "import sys\n",
    "sys.path.append('/project/src')\n",
    "import os\n",
    "import numpy as np\n",
    "import pandas as pd\n",
    "from matplotlib import pyplot as plt\n",
    "import seaborn as sns\n",
    "\n",
    "# Ignore warning messages\n",
    "if True:\n",
    "    import warnings\n",
    "    warnings.filterwarnings('ignore')"
   ]
  },
  {
   "cell_type": "markdown",
   "metadata": {},
   "source": [
    "# Load Data"
   ]
  },
  {
   "cell_type": "code",
   "execution_count": 2,
   "metadata": {},
   "outputs": [],
   "source": [
    "top_dir = '/project'\n",
    "data_dir = os.path.join(top_dir, 'data')\n",
    "preproc_dir = os.path.join(data_dir, 'preprocessed')\n",
    "inp_dir = os.path.join(preproc_dir, 'Gupta_2020_Precompiled_Cleaned')\n",
    "out_dir = os.path.join(data_dir, 'results/LogisticRegressionCV_PCA_Healthy_v_ACVD_Jie_only')"
   ]
  },
  {
   "cell_type": "code",
   "execution_count": 3,
   "metadata": {},
   "outputs": [
    {
     "data": {
      "text/plain": [
       "['MatrixDataClean.csv',\n",
       " 'FeatMetaDataClean.csv',\n",
       " 'SampleMetaDataClean.csv',\n",
       " 'SampleMetaDataManual.csv']"
      ]
     },
     "execution_count": 3,
     "metadata": {},
     "output_type": "execute_result"
    }
   ],
   "source": [
    "os.listdir(inp_dir)"
   ]
  },
  {
   "cell_type": "code",
   "execution_count": 4,
   "metadata": {},
   "outputs": [
    {
     "data": {
      "text/plain": [
       "(4347, 903)"
      ]
     },
     "execution_count": 4,
     "metadata": {},
     "output_type": "execute_result"
    }
   ],
   "source": [
    "MatrixData = np.loadtxt(os.path.join(inp_dir, 'MatrixDataClean.csv'))\n",
    "MatrixData.shape"
   ]
  },
  {
   "cell_type": "code",
   "execution_count": 5,
   "metadata": {},
   "outputs": [
    {
     "data": {
      "text/plain": [
       "(4347, 38)"
      ]
     },
     "execution_count": 5,
     "metadata": {},
     "output_type": "execute_result"
    }
   ],
   "source": [
    "SampleMeta = pd.read_csv(os.path.join(inp_dir, 'SampleMetaDataClean.csv'))\n",
    "SampleMeta.shape"
   ]
  },
  {
   "cell_type": "code",
   "execution_count": 6,
   "metadata": {},
   "outputs": [
    {
     "data": {
      "text/plain": [
       "(282, 38)"
      ]
     },
     "execution_count": 6,
     "metadata": {},
     "output_type": "execute_result"
    }
   ],
   "source": [
    "filter_indices = SampleMeta[\"Study Accession\"].isin(['PRJEB21528']).to_numpy()\n",
    "SampleMeta = SampleMeta[ filter_indices ]\n",
    "SampleMeta.shape"
   ]
  },
  {
   "cell_type": "code",
   "execution_count": 7,
   "metadata": {},
   "outputs": [
    {
     "data": {
      "text/plain": [
       "ACVD           152\n",
       "Healthy         75\n",
       "Overweight      40\n",
       "Obesity          8\n",
       "Underweight      7\n",
       "Name: Phenotype, dtype: int64"
      ]
     },
     "execution_count": 7,
     "metadata": {},
     "output_type": "execute_result"
    }
   ],
   "source": [
    "SampleMeta[\"Phenotype\"].value_counts()"
   ]
  },
  {
   "cell_type": "code",
   "execution_count": 8,
   "metadata": {},
   "outputs": [
    {
     "data": {
      "text/plain": [
       "(282, 903)"
      ]
     },
     "execution_count": 8,
     "metadata": {},
     "output_type": "execute_result"
    }
   ],
   "source": [
    "MatrixData = MatrixData[ filter_indices ]\n",
    "MatrixData.shape"
   ]
  },
  {
   "cell_type": "code",
   "execution_count": 9,
   "metadata": {},
   "outputs": [
    {
     "data": {
      "text/html": [
       "<div>\n",
       "<style scoped>\n",
       "    .dataframe tbody tr th:only-of-type {\n",
       "        vertical-align: middle;\n",
       "    }\n",
       "\n",
       "    .dataframe tbody tr th {\n",
       "        vertical-align: top;\n",
       "    }\n",
       "\n",
       "    .dataframe thead th {\n",
       "        text-align: right;\n",
       "    }\n",
       "</style>\n",
       "<table border=\"1\" class=\"dataframe\">\n",
       "  <thead>\n",
       "    <tr style=\"text-align: right;\">\n",
       "      <th></th>\n",
       "      <th>Unnamed: 0</th>\n",
       "      <th>feature</th>\n",
       "    </tr>\n",
       "  </thead>\n",
       "  <tbody>\n",
       "    <tr>\n",
       "      <th>0</th>\n",
       "      <td>s__Abiotrophia_defectiva</td>\n",
       "      <td>s__Abiotrophia_defectiva</td>\n",
       "    </tr>\n",
       "    <tr>\n",
       "      <th>1</th>\n",
       "      <td>s__Acetobacter_unclassified</td>\n",
       "      <td>s__Acetobacter_unclassified</td>\n",
       "    </tr>\n",
       "    <tr>\n",
       "      <th>2</th>\n",
       "      <td>s__Achromobacter_piechaudii</td>\n",
       "      <td>s__Achromobacter_piechaudii</td>\n",
       "    </tr>\n",
       "    <tr>\n",
       "      <th>3</th>\n",
       "      <td>s__Achromobacter_unclassified</td>\n",
       "      <td>s__Achromobacter_unclassified</td>\n",
       "    </tr>\n",
       "    <tr>\n",
       "      <th>4</th>\n",
       "      <td>s__Achromobacter_xylosoxidans</td>\n",
       "      <td>s__Achromobacter_xylosoxidans</td>\n",
       "    </tr>\n",
       "    <tr>\n",
       "      <th>...</th>\n",
       "      <td>...</td>\n",
       "      <td>...</td>\n",
       "    </tr>\n",
       "    <tr>\n",
       "      <th>898</th>\n",
       "      <td>s__Weissella_koreensis</td>\n",
       "      <td>s__Weissella_koreensis</td>\n",
       "    </tr>\n",
       "    <tr>\n",
       "      <th>899</th>\n",
       "      <td>s__Weissella_paramesenteroides</td>\n",
       "      <td>s__Weissella_paramesenteroides</td>\n",
       "    </tr>\n",
       "    <tr>\n",
       "      <th>900</th>\n",
       "      <td>s__Weissella_unclassified</td>\n",
       "      <td>s__Weissella_unclassified</td>\n",
       "    </tr>\n",
       "    <tr>\n",
       "      <th>901</th>\n",
       "      <td>s__Wohlfahrtiimonas_chitiniclastica</td>\n",
       "      <td>s__Wohlfahrtiimonas_chitiniclastica</td>\n",
       "    </tr>\n",
       "    <tr>\n",
       "      <th>902</th>\n",
       "      <td>s__Yersinia_enterocolitica</td>\n",
       "      <td>s__Yersinia_enterocolitica</td>\n",
       "    </tr>\n",
       "  </tbody>\n",
       "</table>\n",
       "<p>903 rows × 2 columns</p>\n",
       "</div>"
      ],
      "text/plain": [
       "                              Unnamed: 0                              feature\n",
       "0               s__Abiotrophia_defectiva             s__Abiotrophia_defectiva\n",
       "1            s__Acetobacter_unclassified          s__Acetobacter_unclassified\n",
       "2            s__Achromobacter_piechaudii          s__Achromobacter_piechaudii\n",
       "3          s__Achromobacter_unclassified        s__Achromobacter_unclassified\n",
       "4          s__Achromobacter_xylosoxidans        s__Achromobacter_xylosoxidans\n",
       "..                                   ...                                  ...\n",
       "898               s__Weissella_koreensis               s__Weissella_koreensis\n",
       "899       s__Weissella_paramesenteroides       s__Weissella_paramesenteroides\n",
       "900            s__Weissella_unclassified            s__Weissella_unclassified\n",
       "901  s__Wohlfahrtiimonas_chitiniclastica  s__Wohlfahrtiimonas_chitiniclastica\n",
       "902           s__Yersinia_enterocolitica           s__Yersinia_enterocolitica\n",
       "\n",
       "[903 rows x 2 columns]"
      ]
     },
     "execution_count": 9,
     "metadata": {},
     "output_type": "execute_result"
    }
   ],
   "source": [
    "FeatMeta = pd.read_csv(os.path.join(inp_dir, 'FeatMetaDataClean.csv'))\n",
    "FeatMeta"
   ]
  },
  {
   "cell_type": "code",
   "execution_count": 10,
   "metadata": {},
   "outputs": [],
   "source": [
    "X = MatrixData"
   ]
  },
  {
   "cell_type": "code",
   "execution_count": 11,
   "metadata": {},
   "outputs": [],
   "source": [
    "y = SampleMeta['Phenotype'].to_numpy().astype('str') == 'ACVD'\n",
    "y = y.astype('int64')"
   ]
  },
  {
   "cell_type": "code",
   "execution_count": 12,
   "metadata": {},
   "outputs": [
    {
     "data": {
      "text/plain": [
       "ACVD           152\n",
       "Healthy         75\n",
       "Overweight      40\n",
       "Obesity          8\n",
       "Underweight      7\n",
       "Name: Phenotype, dtype: int64"
      ]
     },
     "execution_count": 12,
     "metadata": {},
     "output_type": "execute_result"
    }
   ],
   "source": [
    "pd.value_counts(SampleMeta['Phenotype'])"
   ]
  },
  {
   "cell_type": "markdown",
   "metadata": {},
   "source": [
    "# Examine Number of Nonzero Features Per Sample"
   ]
  },
  {
   "cell_type": "markdown",
   "metadata": {},
   "source": [
    "Recall that for X, rows are samples, columns are features. we count the number of times for each sample that you have a nonzero feature."
   ]
  },
  {
   "cell_type": "code",
   "execution_count": 13,
   "metadata": {},
   "outputs": [],
   "source": [
    "feats_per_sample = np.logical_not(np.equal(X, 0)).astype('int32').sum(axis=1)"
   ]
  },
  {
   "cell_type": "code",
   "execution_count": 14,
   "metadata": {},
   "outputs": [
    {
     "data": {
      "text/plain": [
       "<seaborn.axisgrid.FacetGrid at 0x7f5baa3ea700>"
      ]
     },
     "execution_count": 14,
     "metadata": {},
     "output_type": "execute_result"
    },
    {
     "data": {
      "image/png": "[encoded data removed]",
      "text/plain": [
       "<Figure size 360x360 with 1 Axes>"
      ]
     },
     "metadata": {
      "needs_background": "light"
     },
     "output_type": "display_data"
    }
   ],
   "source": [
    "sns.displot(feats_per_sample)"
   ]
  },
  {
   "cell_type": "code",
   "execution_count": 15,
   "metadata": {},
   "outputs": [
    {
     "data": {
      "text/plain": [
       "(282, 903)"
      ]
     },
     "execution_count": 15,
     "metadata": {},
     "output_type": "execute_result"
    }
   ],
   "source": [
    "X.shape"
   ]
  }
 ],
 "metadata": {
  "kernelspec": {
   "display_name": "Python 3",
   "language": "python",
   "name": "python3"
  },
  "language_info": {
   "codemirror_mode": {
    "name": "ipython",
    "version": 3
   },
   "file_extension": ".py",
   "mimetype": "text/x-python",
   "name": "python",
   "nbconvert_exporter": "python",
   "pygments_lexer": "ipython3",
   "version": "3.8.5"
  }
 },
 "nbformat": 4,
 "nbformat_minor": 5
}
