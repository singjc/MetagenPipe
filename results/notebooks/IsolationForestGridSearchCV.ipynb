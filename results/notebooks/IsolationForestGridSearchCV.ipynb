{
 "cells": [
  {
   "cell_type": "code",
   "execution_count": 1,
   "id": "becoming-newton",
   "metadata": {},
   "outputs": [],
   "source": [
    "from sklearn import model_selection\n",
    "from sklearn import metrics\n",
    "import os\n",
    "import numpy as np\n",
    "import pandas as pd\n",
    "from MicroBiome import MicroBiomeDataSet, Trainer, TrainTester, MultiTrainTester\n",
    "from sklearn import model_selection\n",
    "from sklearn.ensemble import IsolationForest\n",
    "import seaborn as sns\n",
    "\n",
    "# Ignore warning messages\n",
    "if True:\n",
    "    import warnings\n",
    "    warnings.filterwarnings('ignore')"
   ]
  },
  {
   "cell_type": "markdown",
   "id": "drawn-christian",
   "metadata": {},
   "source": [
    "# Load Data"
   ]
  },
  {
   "cell_type": "code",
   "execution_count": 2,
   "id": "nervous-spain",
   "metadata": {},
   "outputs": [],
   "source": [
    "top_dir = '/project'\n",
    "data_dir = os.path.join(top_dir, 'data')\n",
    "preproc_dir = os.path.join(data_dir, 'preprocessed')\n",
    "inp_dir = os.path.join(preproc_dir, 'Gupta_2020_Precompiled_Cleaned')"
   ]
  },
  {
   "cell_type": "code",
   "execution_count": 3,
   "id": "martial-compact",
   "metadata": {},
   "outputs": [
    {
     "data": {
      "text/plain": [
       "['MatrixDataClean.csv', 'SampleMetaDataClean.csv', 'FeatMetaDataClean.csv']"
      ]
     },
     "execution_count": 3,
     "metadata": {},
     "output_type": "execute_result"
    }
   ],
   "source": [
    "os.listdir(inp_dir)"
   ]
  },
  {
   "cell_type": "code",
   "execution_count": 4,
   "id": "realistic-concern",
   "metadata": {},
   "outputs": [
    {
     "data": {
      "text/plain": [
       "(4347, 903)"
      ]
     },
     "execution_count": 4,
     "metadata": {},
     "output_type": "execute_result"
    }
   ],
   "source": [
    "MatrixData = np.loadtxt(os.path.join(inp_dir, 'MatrixDataClean.csv'))\n",
    "MatrixData.shape"
   ]
  },
  {
   "cell_type": "code",
   "execution_count": 5,
   "id": "aboriginal-dietary",
   "metadata": {},
   "outputs": [
    {
     "data": {
      "text/html": [
       "<div>\n",
       "<style scoped>\n",
       "    .dataframe tbody tr th:only-of-type {\n",
       "        vertical-align: middle;\n",
       "    }\n",
       "\n",
       "    .dataframe tbody tr th {\n",
       "        vertical-align: top;\n",
       "    }\n",
       "\n",
       "    .dataframe thead th {\n",
       "        text-align: right;\n",
       "    }\n",
       "</style>\n",
       "<table border=\"1\" class=\"dataframe\">\n",
       "  <thead>\n",
       "    <tr style=\"text-align: right;\">\n",
       "      <th></th>\n",
       "      <th>Unnamed: 0</th>\n",
       "      <th>Unnamed: 0.1</th>\n",
       "      <th>6</th>\n",
       "      <th>study</th>\n",
       "      <th>Study No. (From VG sheet (V-*) from SB sheet (S-*))</th>\n",
       "      <th>Title of Paper</th>\n",
       "      <th>Author (year)</th>\n",
       "      <th>Journal</th>\n",
       "      <th>Study Accession</th>\n",
       "      <th>Sample Accession or Sample ID</th>\n",
       "      <th>...</th>\n",
       "      <th>Alcohol Consumption (Yes/No)</th>\n",
       "      <th>Diet1</th>\n",
       "      <th>Intervention for study (Diet)</th>\n",
       "      <th>Intervention for study (medication)</th>\n",
       "      <th>Sequencing Platform</th>\n",
       "      <th>Library layout (SINGLE/PAIRED)</th>\n",
       "      <th>Read count after Quality control</th>\n",
       "      <th>Healthy</th>\n",
       "      <th>age_group</th>\n",
       "      <th>age_category</th>\n",
       "    </tr>\n",
       "  </thead>\n",
       "  <tbody>\n",
       "    <tr>\n",
       "      <th>0</th>\n",
       "      <td>0</td>\n",
       "      <td>0</td>\n",
       "      <td>SAMEA104142287</td>\n",
       "      <td>V-2_ACVD</td>\n",
       "      <td>V-2</td>\n",
       "      <td>The gut microbiome in atherosclerotic cardiova...</td>\n",
       "      <td>Jie (2017)</td>\n",
       "      <td>Nature communications</td>\n",
       "      <td>PRJEB21528</td>\n",
       "      <td>SAMEA104142287</td>\n",
       "      <td>...</td>\n",
       "      <td>NaN</td>\n",
       "      <td>NaN</td>\n",
       "      <td>NaN</td>\n",
       "      <td>NaN</td>\n",
       "      <td>Illumina HiSeq 2000</td>\n",
       "      <td>PAIRED</td>\n",
       "      <td>43356775.0</td>\n",
       "      <td>Unhealthy</td>\n",
       "      <td>40-50</td>\n",
       "      <td>adult</td>\n",
       "    </tr>\n",
       "    <tr>\n",
       "      <th>1</th>\n",
       "      <td>1</td>\n",
       "      <td>1</td>\n",
       "      <td>SAMEA104142288</td>\n",
       "      <td>V-2_ACVD</td>\n",
       "      <td>V-2</td>\n",
       "      <td>The gut microbiome in atherosclerotic cardiova...</td>\n",
       "      <td>Jie (2017)</td>\n",
       "      <td>Nature communications</td>\n",
       "      <td>PRJEB21528</td>\n",
       "      <td>SAMEA104142288</td>\n",
       "      <td>...</td>\n",
       "      <td>NaN</td>\n",
       "      <td>NaN</td>\n",
       "      <td>NaN</td>\n",
       "      <td>NaN</td>\n",
       "      <td>Illumina HiSeq 2000</td>\n",
       "      <td>PAIRED</td>\n",
       "      <td>41073871.0</td>\n",
       "      <td>Unhealthy</td>\n",
       "      <td>70-80</td>\n",
       "      <td>senior</td>\n",
       "    </tr>\n",
       "    <tr>\n",
       "      <th>2</th>\n",
       "      <td>2</td>\n",
       "      <td>2</td>\n",
       "      <td>SAMEA104142293</td>\n",
       "      <td>V-2_ACVD</td>\n",
       "      <td>V-2</td>\n",
       "      <td>The gut microbiome in atherosclerotic cardiova...</td>\n",
       "      <td>Jie (2017)</td>\n",
       "      <td>Nature communications</td>\n",
       "      <td>PRJEB21528</td>\n",
       "      <td>SAMEA104142293</td>\n",
       "      <td>...</td>\n",
       "      <td>NaN</td>\n",
       "      <td>NaN</td>\n",
       "      <td>NaN</td>\n",
       "      <td>NaN</td>\n",
       "      <td>Illumina HiSeq 2000</td>\n",
       "      <td>PAIRED</td>\n",
       "      <td>40199673.0</td>\n",
       "      <td>Unhealthy</td>\n",
       "      <td>70-80</td>\n",
       "      <td>senior</td>\n",
       "    </tr>\n",
       "    <tr>\n",
       "      <th>3</th>\n",
       "      <td>3</td>\n",
       "      <td>3</td>\n",
       "      <td>SAMEA104142291</td>\n",
       "      <td>V-2_ACVD</td>\n",
       "      <td>V-2</td>\n",
       "      <td>The gut microbiome in atherosclerotic cardiova...</td>\n",
       "      <td>Jie (2017)</td>\n",
       "      <td>Nature communications</td>\n",
       "      <td>PRJEB21528</td>\n",
       "      <td>SAMEA104142291</td>\n",
       "      <td>...</td>\n",
       "      <td>NaN</td>\n",
       "      <td>NaN</td>\n",
       "      <td>NaN</td>\n",
       "      <td>NaN</td>\n",
       "      <td>Illumina HiSeq 2000</td>\n",
       "      <td>PAIRED</td>\n",
       "      <td>31054158.0</td>\n",
       "      <td>Unhealthy</td>\n",
       "      <td>40-50</td>\n",
       "      <td>adult</td>\n",
       "    </tr>\n",
       "    <tr>\n",
       "      <th>4</th>\n",
       "      <td>4</td>\n",
       "      <td>4</td>\n",
       "      <td>SAMEA104142284</td>\n",
       "      <td>V-2_ACVD</td>\n",
       "      <td>V-2</td>\n",
       "      <td>The gut microbiome in atherosclerotic cardiova...</td>\n",
       "      <td>Jie (2017)</td>\n",
       "      <td>Nature communications</td>\n",
       "      <td>PRJEB21528</td>\n",
       "      <td>SAMEA104142284</td>\n",
       "      <td>...</td>\n",
       "      <td>NaN</td>\n",
       "      <td>NaN</td>\n",
       "      <td>NaN</td>\n",
       "      <td>NaN</td>\n",
       "      <td>Illumina HiSeq 2000</td>\n",
       "      <td>PAIRED</td>\n",
       "      <td>36081150.0</td>\n",
       "      <td>Unhealthy</td>\n",
       "      <td>60-70</td>\n",
       "      <td>senior</td>\n",
       "    </tr>\n",
       "  </tbody>\n",
       "</table>\n",
       "<p>5 rows × 38 columns</p>\n",
       "</div>"
      ],
      "text/plain": [
       "   Unnamed: 0  Unnamed: 0.1               6     study  \\\n",
       "0           0             0  SAMEA104142287  V-2_ACVD   \n",
       "1           1             1  SAMEA104142288  V-2_ACVD   \n",
       "2           2             2  SAMEA104142293  V-2_ACVD   \n",
       "3           3             3  SAMEA104142291  V-2_ACVD   \n",
       "4           4             4  SAMEA104142284  V-2_ACVD   \n",
       "\n",
       "  Study No. (From VG sheet (V-*) from SB sheet (S-*))  \\\n",
       "0                                                V-2    \n",
       "1                                                V-2    \n",
       "2                                                V-2    \n",
       "3                                                V-2    \n",
       "4                                                V-2    \n",
       "\n",
       "                                      Title of Paper Author (year)  \\\n",
       "0  The gut microbiome in atherosclerotic cardiova...    Jie (2017)   \n",
       "1  The gut microbiome in atherosclerotic cardiova...    Jie (2017)   \n",
       "2  The gut microbiome in atherosclerotic cardiova...    Jie (2017)   \n",
       "3  The gut microbiome in atherosclerotic cardiova...    Jie (2017)   \n",
       "4  The gut microbiome in atherosclerotic cardiova...    Jie (2017)   \n",
       "\n",
       "                 Journal Study Accession Sample Accession or Sample ID  ...  \\\n",
       "0  Nature communications      PRJEB21528                SAMEA104142287  ...   \n",
       "1  Nature communications      PRJEB21528                SAMEA104142288  ...   \n",
       "2  Nature communications      PRJEB21528                SAMEA104142293  ...   \n",
       "3  Nature communications      PRJEB21528                SAMEA104142291  ...   \n",
       "4  Nature communications      PRJEB21528                SAMEA104142284  ...   \n",
       "\n",
       "  Alcohol Consumption (Yes/No) Diet1 Intervention for study (Diet)  \\\n",
       "0                          NaN   NaN                           NaN   \n",
       "1                          NaN   NaN                           NaN   \n",
       "2                          NaN   NaN                           NaN   \n",
       "3                          NaN   NaN                           NaN   \n",
       "4                          NaN   NaN                           NaN   \n",
       "\n",
       "  Intervention for study (medication)  Sequencing Platform  \\\n",
       "0                                 NaN  Illumina HiSeq 2000   \n",
       "1                                 NaN  Illumina HiSeq 2000   \n",
       "2                                 NaN  Illumina HiSeq 2000   \n",
       "3                                 NaN  Illumina HiSeq 2000   \n",
       "4                                 NaN  Illumina HiSeq 2000   \n",
       "\n",
       "  Library layout (SINGLE/PAIRED) Read count after Quality control    Healthy  \\\n",
       "0                         PAIRED                       43356775.0  Unhealthy   \n",
       "1                         PAIRED                       41073871.0  Unhealthy   \n",
       "2                         PAIRED                       40199673.0  Unhealthy   \n",
       "3                         PAIRED                       31054158.0  Unhealthy   \n",
       "4                         PAIRED                       36081150.0  Unhealthy   \n",
       "\n",
       "  age_group age_category  \n",
       "0     40-50        adult  \n",
       "1     70-80       senior  \n",
       "2     70-80       senior  \n",
       "3     40-50        adult  \n",
       "4     60-70       senior  \n",
       "\n",
       "[5 rows x 38 columns]"
      ]
     },
     "execution_count": 5,
     "metadata": {},
     "output_type": "execute_result"
    }
   ],
   "source": [
    "SampleMeta = pd.read_csv(os.path.join(inp_dir, 'SampleMetaDataClean.csv'))\n",
    "SampleMeta.head()"
   ]
  },
  {
   "cell_type": "code",
   "execution_count": 6,
   "id": "pursuant-highway",
   "metadata": {},
   "outputs": [
    {
     "data": {
      "text/plain": [
       "(3153, 903)"
      ]
     },
     "execution_count": 6,
     "metadata": {},
     "output_type": "execute_result"
    }
   ],
   "source": [
    "filter_indices = SampleMeta[\"Phenotype\"].isin(['ACVD', 'CRC', 'Crohns disease', 'Healthy'])\n",
    "SampleMeta = SampleMeta[ filter_indices ]\n",
    "SampleMeta.shape\n",
    "MatrixData = MatrixData[ filter_indices ]\n",
    "MatrixData.shape"
   ]
  },
  {
   "cell_type": "code",
   "execution_count": 7,
   "id": "traditional-subsection",
   "metadata": {},
   "outputs": [
    {
     "data": {
      "text/html": [
       "<div>\n",
       "<style scoped>\n",
       "    .dataframe tbody tr th:only-of-type {\n",
       "        vertical-align: middle;\n",
       "    }\n",
       "\n",
       "    .dataframe tbody tr th {\n",
       "        vertical-align: top;\n",
       "    }\n",
       "\n",
       "    .dataframe thead th {\n",
       "        text-align: right;\n",
       "    }\n",
       "</style>\n",
       "<table border=\"1\" class=\"dataframe\">\n",
       "  <thead>\n",
       "    <tr style=\"text-align: right;\">\n",
       "      <th></th>\n",
       "      <th>Unnamed: 0</th>\n",
       "      <th>feature</th>\n",
       "    </tr>\n",
       "  </thead>\n",
       "  <tbody>\n",
       "    <tr>\n",
       "      <th>0</th>\n",
       "      <td>s__Abiotrophia_defectiva</td>\n",
       "      <td>s__Abiotrophia_defectiva</td>\n",
       "    </tr>\n",
       "    <tr>\n",
       "      <th>1</th>\n",
       "      <td>s__Acetobacter_unclassified</td>\n",
       "      <td>s__Acetobacter_unclassified</td>\n",
       "    </tr>\n",
       "    <tr>\n",
       "      <th>2</th>\n",
       "      <td>s__Achromobacter_piechaudii</td>\n",
       "      <td>s__Achromobacter_piechaudii</td>\n",
       "    </tr>\n",
       "    <tr>\n",
       "      <th>3</th>\n",
       "      <td>s__Achromobacter_unclassified</td>\n",
       "      <td>s__Achromobacter_unclassified</td>\n",
       "    </tr>\n",
       "    <tr>\n",
       "      <th>4</th>\n",
       "      <td>s__Achromobacter_xylosoxidans</td>\n",
       "      <td>s__Achromobacter_xylosoxidans</td>\n",
       "    </tr>\n",
       "    <tr>\n",
       "      <th>...</th>\n",
       "      <td>...</td>\n",
       "      <td>...</td>\n",
       "    </tr>\n",
       "    <tr>\n",
       "      <th>898</th>\n",
       "      <td>s__Weissella_koreensis</td>\n",
       "      <td>s__Weissella_koreensis</td>\n",
       "    </tr>\n",
       "    <tr>\n",
       "      <th>899</th>\n",
       "      <td>s__Weissella_paramesenteroides</td>\n",
       "      <td>s__Weissella_paramesenteroides</td>\n",
       "    </tr>\n",
       "    <tr>\n",
       "      <th>900</th>\n",
       "      <td>s__Weissella_unclassified</td>\n",
       "      <td>s__Weissella_unclassified</td>\n",
       "    </tr>\n",
       "    <tr>\n",
       "      <th>901</th>\n",
       "      <td>s__Wohlfahrtiimonas_chitiniclastica</td>\n",
       "      <td>s__Wohlfahrtiimonas_chitiniclastica</td>\n",
       "    </tr>\n",
       "    <tr>\n",
       "      <th>902</th>\n",
       "      <td>s__Yersinia_enterocolitica</td>\n",
       "      <td>s__Yersinia_enterocolitica</td>\n",
       "    </tr>\n",
       "  </tbody>\n",
       "</table>\n",
       "<p>903 rows × 2 columns</p>\n",
       "</div>"
      ],
      "text/plain": [
       "                              Unnamed: 0                              feature\n",
       "0               s__Abiotrophia_defectiva             s__Abiotrophia_defectiva\n",
       "1            s__Acetobacter_unclassified          s__Acetobacter_unclassified\n",
       "2            s__Achromobacter_piechaudii          s__Achromobacter_piechaudii\n",
       "3          s__Achromobacter_unclassified        s__Achromobacter_unclassified\n",
       "4          s__Achromobacter_xylosoxidans        s__Achromobacter_xylosoxidans\n",
       "..                                   ...                                  ...\n",
       "898               s__Weissella_koreensis               s__Weissella_koreensis\n",
       "899       s__Weissella_paramesenteroides       s__Weissella_paramesenteroides\n",
       "900            s__Weissella_unclassified            s__Weissella_unclassified\n",
       "901  s__Wohlfahrtiimonas_chitiniclastica  s__Wohlfahrtiimonas_chitiniclastica\n",
       "902           s__Yersinia_enterocolitica           s__Yersinia_enterocolitica\n",
       "\n",
       "[903 rows x 2 columns]"
      ]
     },
     "execution_count": 7,
     "metadata": {},
     "output_type": "execute_result"
    }
   ],
   "source": [
    "FeatMeta = pd.read_csv(os.path.join(inp_dir, 'FeatMetaDataClean.csv'))\n",
    "FeatMeta"
   ]
  },
  {
   "cell_type": "markdown",
   "id": "fundamental-forty",
   "metadata": {},
   "source": [
    "# Define and Train Model"
   ]
  },
  {
   "cell_type": "code",
   "execution_count": 41,
   "id": "electronic-recipe",
   "metadata": {},
   "outputs": [],
   "source": [
    "# random seed here deals with model initialization\n",
    "clf = IsolationForest(bootstrap=True)\n",
    "param_grid = {'n_estimators': [50, 100, 150 ],\n",
    "             'max_features': [50, 100, 150, 300]}\n",
    "model = model_selection.GridSearchCV(clf, param_grid, scoring = metrics.make_scorer(metrics.balanced_accuracy_score), cv = 5)\n",
    "MyTrainer = Trainer(model = model, scale_X = True, use_pca = False)\n",
    "# random seed used in class definition is not used in final output models\n",
    "MyTrainTester = TrainTester(MyTrainer, metrics.balanced_accuracy_score)\n",
    "# note that random seed here affects sequence of seeds passed to making new TrainTester objects\n",
    "# using LRTrainTester as template. Thus, you have all settings but seed affecting sample split\n",
    "# across all data splits\n",
    "n_splits = 5\n",
    "MyMultiTrainTester = MultiTrainTester(MyTrainTester, numpy_rand_seed = 42, n_splits = n_splits)"
   ]
  },
  {
   "cell_type": "code",
   "execution_count": 42,
   "id": "impaired-rescue",
   "metadata": {},
   "outputs": [],
   "source": [
    "y = SampleMeta['Healthy'].to_numpy().astype('str') == 'Healthy'\n",
    "y = y.astype('int64')"
   ]
  },
  {
   "cell_type": "code",
   "execution_count": 43,
   "id": "direct-center",
   "metadata": {},
   "outputs": [
    {
     "name": "stdout",
     "output_type": "stream",
     "text": [
      "Running for split 1 of 5\n",
      "Running for split 2 of 5\n",
      "Running for split 3 of 5\n",
      "Running for split 4 of 5\n",
      "Running for split 5 of 5\n"
     ]
    }
   ],
   "source": [
    "MyMultiTrainTester.train(MatrixData, y)"
   ]
  },
  {
   "cell_type": "code",
   "execution_count": 44,
   "id": "changing-profile",
   "metadata": {},
   "outputs": [
    {
     "data": {
      "text/html": [
       "<div>\n",
       "<style scoped>\n",
       "    .dataframe tbody tr th:only-of-type {\n",
       "        vertical-align: middle;\n",
       "    }\n",
       "\n",
       "    .dataframe tbody tr th {\n",
       "        vertical-align: top;\n",
       "    }\n",
       "\n",
       "    .dataframe thead th {\n",
       "        text-align: right;\n",
       "    }\n",
       "</style>\n",
       "<table border=\"1\" class=\"dataframe\">\n",
       "  <thead>\n",
       "    <tr style=\"text-align: right;\">\n",
       "      <th></th>\n",
       "      <th>score</th>\n",
       "      <th>stage</th>\n",
       "    </tr>\n",
       "  </thead>\n",
       "  <tbody>\n",
       "    <tr>\n",
       "      <th>0</th>\n",
       "      <td>0.835448</td>\n",
       "      <td>train</td>\n",
       "    </tr>\n",
       "    <tr>\n",
       "      <th>1</th>\n",
       "      <td>0.840999</td>\n",
       "      <td>train</td>\n",
       "    </tr>\n",
       "    <tr>\n",
       "      <th>2</th>\n",
       "      <td>0.419675</td>\n",
       "      <td>train</td>\n",
       "    </tr>\n",
       "    <tr>\n",
       "      <th>3</th>\n",
       "      <td>0.838224</td>\n",
       "      <td>train</td>\n",
       "    </tr>\n",
       "    <tr>\n",
       "      <th>4</th>\n",
       "      <td>0.836638</td>\n",
       "      <td>train</td>\n",
       "    </tr>\n",
       "    <tr>\n",
       "      <th>0</th>\n",
       "      <td>0.838352</td>\n",
       "      <td>test</td>\n",
       "    </tr>\n",
       "    <tr>\n",
       "      <th>1</th>\n",
       "      <td>0.816165</td>\n",
       "      <td>test</td>\n",
       "    </tr>\n",
       "    <tr>\n",
       "      <th>2</th>\n",
       "      <td>0.824089</td>\n",
       "      <td>test</td>\n",
       "    </tr>\n",
       "    <tr>\n",
       "      <th>3</th>\n",
       "      <td>0.827258</td>\n",
       "      <td>test</td>\n",
       "    </tr>\n",
       "    <tr>\n",
       "      <th>4</th>\n",
       "      <td>0.833597</td>\n",
       "      <td>test</td>\n",
       "    </tr>\n",
       "  </tbody>\n",
       "</table>\n",
       "</div>"
      ],
      "text/plain": [
       "      score  stage\n",
       "0  0.835448  train\n",
       "1  0.840999  train\n",
       "2  0.419675  train\n",
       "3  0.838224  train\n",
       "4  0.836638  train\n",
       "0  0.838352   test\n",
       "1  0.816165   test\n",
       "2  0.824089   test\n",
       "3  0.827258   test\n",
       "4  0.833597   test"
      ]
     },
     "execution_count": 44,
     "metadata": {},
     "output_type": "execute_result"
    }
   ],
   "source": [
    "scores_df = pd.DataFrame({'score': MyMultiTrainTester.train_scores, 'stage' : np.repeat('train', n_splits)})\n",
    "scores_df = scores_df.append(pd.DataFrame({'score': MyMultiTrainTester.test_scores, 'stage' : np.repeat('test', n_splits)}))\n",
    "scores_df"
   ]
  },
  {
   "cell_type": "code",
   "execution_count": 45,
   "id": "infrared-monthly",
   "metadata": {},
   "outputs": [
    {
     "data": {
      "text/plain": [
       "<AxesSubplot:xlabel='stage', ylabel='score'>"
      ]
     },
     "execution_count": 45,
     "metadata": {},
     "output_type": "execute_result"
    },
    {
     "data": {
      "image/png": "[encoded data removed]",
      "text/plain": [
       "<Figure size 432x288 with 1 Axes>"
      ]
     },
     "metadata": {
      "needs_background": "light"
     },
     "output_type": "display_data"
    }
   ],
   "source": [
    "sns.boxplot(data = scores_df, x = 'stage', y = 'score')"
   ]
  },
  {
   "cell_type": "code",
   "execution_count": 46,
   "id": "arctic-compound",
   "metadata": {},
   "outputs": [],
   "source": [
    "FinalModel = MyMultiTrainTester.TrainerList[0]"
   ]
  },
  {
   "cell_type": "code",
   "execution_count": 47,
   "id": "horizontal-purple",
   "metadata": {},
   "outputs": [
    {
     "data": {
      "text/plain": [
       "IsolationForest(bootstrap=True, max_features=50, n_estimators=50)"
      ]
     },
     "execution_count": 47,
     "metadata": {},
     "output_type": "execute_result"
    }
   ],
   "source": [
    "FinalModel.model.best_estimator_"
   ]
  },
  {
   "cell_type": "code",
   "execution_count": 48,
   "id": "correct-durham",
   "metadata": {},
   "outputs": [],
   "source": [
    "isoutlier = pd.DataFrame(MyMultiTrainTester.y_train_pred[0], index=MyMultiTrainTester.y_train[0], columns=[\"is_inlier\"])"
   ]
  },
  {
   "cell_type": "code",
   "execution_count": 49,
   "id": "lesbian-interest",
   "metadata": {},
   "outputs": [],
   "source": [
    "isoutlier = isoutlier.reset_index(level=0)"
   ]
  },
  {
   "cell_type": "code",
   "execution_count": 50,
   "id": "raised-values",
   "metadata": {},
   "outputs": [
    {
     "data": {
      "text/plain": [
       "index  is_inlier\n",
       "1      1            2107\n",
       "0      1             415\n",
       "dtype: int64"
      ]
     },
     "execution_count": 50,
     "metadata": {},
     "output_type": "execute_result"
    }
   ],
   "source": [
    "isoutlier.value_counts()"
   ]
  },
  {
   "cell_type": "code",
   "execution_count": 63,
   "id": "direct-serbia",
   "metadata": {},
   "outputs": [
    {
     "data": {
      "text/plain": [
       "array([0, 1])"
      ]
     },
     "execution_count": 63,
     "metadata": {},
     "output_type": "execute_result"
    }
   ],
   "source": [
    "np.unique(MyMultiTrainTester.y_train_pred[2])\n",
    "np.unique(np.where(MyMultiTrainTester.y_train_pred[0] == 1, 1, 0))"
   ]
  }
 ],
 "metadata": {
  "kernelspec": {
   "display_name": "Python 3",
   "language": "python",
   "name": "python3"
  },
  "language_info": {
   "codemirror_mode": {
    "name": "ipython",
    "version": 3
   },
   "file_extension": ".py",
   "mimetype": "text/x-python",
   "name": "python",
   "nbconvert_exporter": "python",
   "pygments_lexer": "ipython3",
   "version": "3.7.9"
  }
 },
 "nbformat": 4,
 "nbformat_minor": 5
}
