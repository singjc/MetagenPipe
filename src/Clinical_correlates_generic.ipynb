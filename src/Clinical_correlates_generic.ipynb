{
 "cells": [
  {
   "cell_type": "markdown",
   "id": "3a12ff2f",
   "metadata": {},
   "source": [
    "# Overview\n",
    "\n",
    "This notebook in intended as a generic notebook to be used with the papermill python library to allow automated generation of analyses and reports for finding relationships between microbiome and clinical variables."
   ]
  },
  {
   "cell_type": "code",
   "execution_count": 1,
   "id": "47892872",
   "metadata": {},
   "outputs": [
    {
     "name": "stdout",
     "output_type": "stream",
     "text": [
      "/project/src\n"
     ]
    }
   ],
   "source": [
    "cd /project/src"
   ]
  },
  {
   "cell_type": "code",
   "execution_count": 4,
   "id": "70e1c7e4",
   "metadata": {},
   "outputs": [],
   "source": [
    "from sklearn import model_selection\n",
    "from sklearn import metrics\n",
    "import os\n",
    "import re\n",
    "import numpy as np\n",
    "import pandas as pd\n",
    "from MicroBiome import Trainer, TrainTester, MultiTrainTester, list_transformer, DiffExpTransform, CorTransform, fisher_test_vect\n",
    "from sklearn.pipeline import Pipeline\n",
    "from sklearn.decomposition import PCA\n",
    "from sklearn.preprocessing import StandardScaler, MinMaxScaler\n",
    "from sklearn.preprocessing import OneHotEncoder\n",
    "from sklearn.impute import KNNImputer\n",
    "from sklearn import linear_model as LM\n",
    "from scipy.stats import ttest_ind\n",
    "import seaborn as sns\n",
    "import pickle as pk\n",
    "from matplotlib import pyplot as plt\n",
    "# Ignore warning messages\n",
    "if True:\n",
    "    import warnings\n",
    "    warnings.filterwarnings('ignore')"
   ]
  },
  {
   "cell_type": "code",
   "execution_count": 3,
   "id": "46cf7932",
   "metadata": {},
   "outputs": [],
   "source": [
    "np.set_printoptions(precision=2)"
   ]
  },
  {
   "cell_type": "markdown",
   "id": "93515f3b",
   "metadata": {},
   "source": [
    "# Basic Data Loading"
   ]
  },
  {
   "cell_type": "code",
   "execution_count": 7,
   "id": "45f24939",
   "metadata": {
    "tags": [
     "parameters"
    ]
   },
   "outputs": [],
   "source": [
    "inp_mat_file = '/project/workflow/PE_subsampling_experiments/insilico_depth_experiment/kraken2_PE_50K/matrix/freq_mat.csv'\n",
    "metadata_file = '/project/data/Jie_2017_supp_table_1.xlsx'\n",
    "identifiers_file = '/project/data/all_runs.csv'"
   ]
  },
  {
   "cell_type": "code",
   "execution_count": 8,
   "id": "ed11541a",
   "metadata": {},
   "outputs": [],
   "source": [
    "def read_table(fpath, **kwargs):\n",
    "    \"\"\"\n",
    "    read csv or excel file\n",
    "    \n",
    "    fpath = filepath\n",
    "    **kwargs = other arguments to pandas.read_csv or pandas.read_excel\n",
    "    \n",
    "    returns: pandas dataframe\n",
    "    \"\"\"\n",
    "    \n",
    "    if re.search('\\\\.xls(x)*$', fpath):\n",
    "        df = pd.read_excel(fpath, **kwargs)\n",
    "    elif re.search('\\\\.csv$', fpath):\n",
    "        df = pd.read_csv(fpath, **kwargs)\n",
    "    else:\n",
    "        raise ValueError('Unexpected file type for file {}'.format(fpath))\n",
    "        \n",
    "    return df"
   ]
  },
  {
   "cell_type": "code",
   "execution_count": 9,
   "id": "fa26acc8",
   "metadata": {},
   "outputs": [
    {
     "data": {
      "text/html": [
       "<div>\n",
       "<style scoped>\n",
       "    .dataframe tbody tr th:only-of-type {\n",
       "        vertical-align: middle;\n",
       "    }\n",
       "\n",
       "    .dataframe tbody tr th {\n",
       "        vertical-align: top;\n",
       "    }\n",
       "\n",
       "    .dataframe thead th {\n",
       "        text-align: right;\n",
       "    }\n",
       "</style>\n",
       "<table border=\"1\" class=\"dataframe\">\n",
       "  <thead>\n",
       "    <tr style=\"text-align: right;\">\n",
       "      <th></th>\n",
       "      <th>filename</th>\n",
       "      <th>RunID</th>\n",
       "      <th>Homo sapiens</th>\n",
       "      <th>Blochmannia endosymbiont of Camponotus (Colobopsis) obliquus</th>\n",
       "      <th>Blochmannia endosymbiont of Camponotus nipponensis</th>\n",
       "      <th>Blochmannia endosymbiont of Colobopsis nipponica</th>\n",
       "      <th>Blochmannia endosymbiont of Polyrhachis (Hedomyrma) turneri</th>\n",
       "      <th>Candidatus Aquiluna sp. 15G-AUS-rot</th>\n",
       "      <th>Candidatus Aquiluna sp. UB-MaderosW2red</th>\n",
       "      <th>Chryseobacterium sp.</th>\n",
       "      <th>...</th>\n",
       "      <th>Helicoverpa armigera nucleopolyhedrovirus</th>\n",
       "      <th>Mamestra brassicae multiple nucleopolyhedrovirus</th>\n",
       "      <th>Mythimna unipuncta nucleopolyhedrovirus</th>\n",
       "      <th>Spodoptera exigua multiple nucleopolyhedrovirus</th>\n",
       "      <th>Thermococcus prieurii virus 1</th>\n",
       "      <th>Thysanoplusia orichalcea nucleopolyhedrovirus</th>\n",
       "      <th>Tomelloso virus</th>\n",
       "      <th>Human feces pecovirus</th>\n",
       "      <th>Mollivirus sibericum</th>\n",
       "      <th>Pacmanvirus A23</th>\n",
       "    </tr>\n",
       "  </thead>\n",
       "  <tbody>\n",
       "    <tr>\n",
       "      <th>0</th>\n",
       "      <td>ERR2017411_seqt.subsampled_1_kneaddata_paired_...</td>\n",
       "      <td>ERR2017411</td>\n",
       "      <td>0.01</td>\n",
       "      <td>NaN</td>\n",
       "      <td>NaN</td>\n",
       "      <td>NaN</td>\n",
       "      <td>NaN</td>\n",
       "      <td>NaN</td>\n",
       "      <td>NaN</td>\n",
       "      <td>NaN</td>\n",
       "      <td>...</td>\n",
       "      <td>NaN</td>\n",
       "      <td>NaN</td>\n",
       "      <td>NaN</td>\n",
       "      <td>NaN</td>\n",
       "      <td>NaN</td>\n",
       "      <td>NaN</td>\n",
       "      <td>NaN</td>\n",
       "      <td>NaN</td>\n",
       "      <td>NaN</td>\n",
       "      <td>NaN</td>\n",
       "    </tr>\n",
       "    <tr>\n",
       "      <th>1</th>\n",
       "      <td>ERR2017412_seqt.subsampled_1_kneaddata_paired_...</td>\n",
       "      <td>ERR2017412</td>\n",
       "      <td>0.01</td>\n",
       "      <td>NaN</td>\n",
       "      <td>NaN</td>\n",
       "      <td>NaN</td>\n",
       "      <td>NaN</td>\n",
       "      <td>NaN</td>\n",
       "      <td>NaN</td>\n",
       "      <td>NaN</td>\n",
       "      <td>...</td>\n",
       "      <td>NaN</td>\n",
       "      <td>NaN</td>\n",
       "      <td>NaN</td>\n",
       "      <td>NaN</td>\n",
       "      <td>NaN</td>\n",
       "      <td>NaN</td>\n",
       "      <td>NaN</td>\n",
       "      <td>NaN</td>\n",
       "      <td>NaN</td>\n",
       "      <td>NaN</td>\n",
       "    </tr>\n",
       "    <tr>\n",
       "      <th>2</th>\n",
       "      <td>ERR2017413_seqt.subsampled_1_kneaddata_paired_...</td>\n",
       "      <td>ERR2017413</td>\n",
       "      <td>0.01</td>\n",
       "      <td>NaN</td>\n",
       "      <td>NaN</td>\n",
       "      <td>NaN</td>\n",
       "      <td>NaN</td>\n",
       "      <td>NaN</td>\n",
       "      <td>NaN</td>\n",
       "      <td>NaN</td>\n",
       "      <td>...</td>\n",
       "      <td>NaN</td>\n",
       "      <td>NaN</td>\n",
       "      <td>NaN</td>\n",
       "      <td>NaN</td>\n",
       "      <td>NaN</td>\n",
       "      <td>NaN</td>\n",
       "      <td>NaN</td>\n",
       "      <td>NaN</td>\n",
       "      <td>NaN</td>\n",
       "      <td>NaN</td>\n",
       "    </tr>\n",
       "    <tr>\n",
       "      <th>3</th>\n",
       "      <td>ERR2017414_seqt.subsampled_1_kneaddata_paired_...</td>\n",
       "      <td>ERR2017414</td>\n",
       "      <td>0.01</td>\n",
       "      <td>NaN</td>\n",
       "      <td>NaN</td>\n",
       "      <td>NaN</td>\n",
       "      <td>NaN</td>\n",
       "      <td>NaN</td>\n",
       "      <td>NaN</td>\n",
       "      <td>NaN</td>\n",
       "      <td>...</td>\n",
       "      <td>NaN</td>\n",
       "      <td>NaN</td>\n",
       "      <td>NaN</td>\n",
       "      <td>NaN</td>\n",
       "      <td>NaN</td>\n",
       "      <td>NaN</td>\n",
       "      <td>NaN</td>\n",
       "      <td>NaN</td>\n",
       "      <td>NaN</td>\n",
       "      <td>NaN</td>\n",
       "    </tr>\n",
       "    <tr>\n",
       "      <th>4</th>\n",
       "      <td>ERR2017415_seqt.subsampled_1_kneaddata_paired_...</td>\n",
       "      <td>ERR2017415</td>\n",
       "      <td>0.00</td>\n",
       "      <td>NaN</td>\n",
       "      <td>NaN</td>\n",
       "      <td>NaN</td>\n",
       "      <td>NaN</td>\n",
       "      <td>NaN</td>\n",
       "      <td>NaN</td>\n",
       "      <td>0.0</td>\n",
       "      <td>...</td>\n",
       "      <td>NaN</td>\n",
       "      <td>NaN</td>\n",
       "      <td>NaN</td>\n",
       "      <td>NaN</td>\n",
       "      <td>NaN</td>\n",
       "      <td>NaN</td>\n",
       "      <td>NaN</td>\n",
       "      <td>NaN</td>\n",
       "      <td>NaN</td>\n",
       "      <td>NaN</td>\n",
       "    </tr>\n",
       "  </tbody>\n",
       "</table>\n",
       "<p>5 rows × 6485 columns</p>\n",
       "</div>"
      ],
      "text/plain": [
       "                                            filename       RunID  \\\n",
       "0  ERR2017411_seqt.subsampled_1_kneaddata_paired_...  ERR2017411   \n",
       "1  ERR2017412_seqt.subsampled_1_kneaddata_paired_...  ERR2017412   \n",
       "2  ERR2017413_seqt.subsampled_1_kneaddata_paired_...  ERR2017413   \n",
       "3  ERR2017414_seqt.subsampled_1_kneaddata_paired_...  ERR2017414   \n",
       "4  ERR2017415_seqt.subsampled_1_kneaddata_paired_...  ERR2017415   \n",
       "\n",
       "                                                                 Homo sapiens  \\\n",
       "0                                               0.01                            \n",
       "1                                               0.01                            \n",
       "2                                               0.01                            \n",
       "3                                               0.01                            \n",
       "4                                               0.00                            \n",
       "\n",
       "                           Blochmannia endosymbiont of Camponotus (Colobopsis) obliquus  \\\n",
       "0                                                NaN                                      \n",
       "1                                                NaN                                      \n",
       "2                                                NaN                                      \n",
       "3                                                NaN                                      \n",
       "4                                                NaN                                      \n",
       "\n",
       "                           Blochmannia endosymbiont of Camponotus nipponensis  \\\n",
       "0                                                NaN                            \n",
       "1                                                NaN                            \n",
       "2                                                NaN                            \n",
       "3                                                NaN                            \n",
       "4                                                NaN                            \n",
       "\n",
       "                           Blochmannia endosymbiont of Colobopsis nipponica  \\\n",
       "0                                                NaN                          \n",
       "1                                                NaN                          \n",
       "2                                                NaN                          \n",
       "3                                                NaN                          \n",
       "4                                                NaN                          \n",
       "\n",
       "                           Blochmannia endosymbiont of Polyrhachis (Hedomyrma) turneri  \\\n",
       "0                                                NaN                                     \n",
       "1                                                NaN                                     \n",
       "2                                                NaN                                     \n",
       "3                                                NaN                                     \n",
       "4                                                NaN                                     \n",
       "\n",
       "                           Candidatus Aquiluna sp. 15G-AUS-rot  \\\n",
       "0                                                NaN             \n",
       "1                                                NaN             \n",
       "2                                                NaN             \n",
       "3                                                NaN             \n",
       "4                                                NaN             \n",
       "\n",
       "                           Candidatus Aquiluna sp. UB-MaderosW2red  \\\n",
       "0                                                NaN                 \n",
       "1                                                NaN                 \n",
       "2                                                NaN                 \n",
       "3                                                NaN                 \n",
       "4                                                NaN                 \n",
       "\n",
       "                           Chryseobacterium sp.  ...  \\\n",
       "0                                           NaN  ...   \n",
       "1                                           NaN  ...   \n",
       "2                                           NaN  ...   \n",
       "3                                           NaN  ...   \n",
       "4                                           0.0  ...   \n",
       "\n",
       "           Helicoverpa armigera nucleopolyhedrovirus  \\\n",
       "0                                                NaN   \n",
       "1                                                NaN   \n",
       "2                                                NaN   \n",
       "3                                                NaN   \n",
       "4                                                NaN   \n",
       "\n",
       "           Mamestra brassicae multiple nucleopolyhedrovirus  \\\n",
       "0                                                NaN          \n",
       "1                                                NaN          \n",
       "2                                                NaN          \n",
       "3                                                NaN          \n",
       "4                                                NaN          \n",
       "\n",
       "           Mythimna unipuncta nucleopolyhedrovirus  \\\n",
       "0                                              NaN   \n",
       "1                                              NaN   \n",
       "2                                              NaN   \n",
       "3                                              NaN   \n",
       "4                                              NaN   \n",
       "\n",
       "           Spodoptera exigua multiple nucleopolyhedrovirus  \\\n",
       "0                                                NaN         \n",
       "1                                                NaN         \n",
       "2                                                NaN         \n",
       "3                                                NaN         \n",
       "4                                                NaN         \n",
       "\n",
       "           Thermococcus prieurii virus 1  \\\n",
       "0                                    NaN   \n",
       "1                                    NaN   \n",
       "2                                    NaN   \n",
       "3                                    NaN   \n",
       "4                                    NaN   \n",
       "\n",
       "           Thysanoplusia orichalcea nucleopolyhedrovirus  \\\n",
       "0                                                NaN       \n",
       "1                                                NaN       \n",
       "2                                                NaN       \n",
       "3                                                NaN       \n",
       "4                                                NaN       \n",
       "\n",
       "           Tomelloso virus        Human feces pecovirus  \\\n",
       "0                      NaN                          NaN   \n",
       "1                      NaN                          NaN   \n",
       "2                      NaN                          NaN   \n",
       "3                      NaN                          NaN   \n",
       "4                      NaN                          NaN   \n",
       "\n",
       "         Mollivirus sibericum        Pacmanvirus A23  \n",
       "0                         NaN                    NaN  \n",
       "1                         NaN                    NaN  \n",
       "2                         NaN                    NaN  \n",
       "3                         NaN                    NaN  \n",
       "4                         NaN                    NaN  \n",
       "\n",
       "[5 rows x 6485 columns]"
      ]
     },
     "execution_count": 9,
     "metadata": {},
     "output_type": "execute_result"
    }
   ],
   "source": [
    "inp_mat = read_table(inp_mat_file)\n",
    "matrix_cols = inp_mat.columns[1:len(inp_mat.columns)]\n",
    "inp_mat['RunID'] = np.array([re.findall('^[A-Z]{3}[0-9]+', x)[0] for x in inp_mat['filename'].to_numpy().astype('str')])\n",
    "inp_mat = inp_mat.loc[:, np.concatenate((['filename', 'RunID'], matrix_cols.to_numpy()))]\n",
    "inp_mat.head()"
   ]
  },
  {
   "cell_type": "code",
   "execution_count": 10,
   "id": "a06bc211",
   "metadata": {},
   "outputs": [
    {
     "data": {
      "text/html": [
       "<div>\n",
       "<style scoped>\n",
       "    .dataframe tbody tr th:only-of-type {\n",
       "        vertical-align: middle;\n",
       "    }\n",
       "\n",
       "    .dataframe tbody tr th {\n",
       "        vertical-align: top;\n",
       "    }\n",
       "\n",
       "    .dataframe thead th {\n",
       "        text-align: right;\n",
       "    }\n",
       "</style>\n",
       "<table border=\"1\" class=\"dataframe\">\n",
       "  <thead>\n",
       "    <tr style=\"text-align: right;\">\n",
       "      <th></th>\n",
       "      <th>Sample ID</th>\n",
       "      <th>ACVD status</th>\n",
       "      <th>Coronary type</th>\n",
       "      <th>Age (year)</th>\n",
       "      <th>Gender</th>\n",
       "      <th>Height (cm)</th>\n",
       "      <th>Weight (kg)</th>\n",
       "      <th>Body Mass Index (BMI)</th>\n",
       "      <th>Waist (cm)</th>\n",
       "      <th>Hip (cm)</th>\n",
       "      <th>...</th>\n",
       "      <th>Bisoprolol_9</th>\n",
       "      <th>Fondaparinux Sodium_10</th>\n",
       "      <th>Metoprolol_19</th>\n",
       "      <th>Insulin aspart_6</th>\n",
       "      <th>Isosorbide dinitrate_10</th>\n",
       "      <th>Acarbose_7</th>\n",
       "      <th>Captopril Tablets_6</th>\n",
       "      <th>Estazolam_6</th>\n",
       "      <th>Nitroglycerin Tablets_8</th>\n",
       "      <th>Potassium chloride_32</th>\n",
       "    </tr>\n",
       "  </thead>\n",
       "  <tbody>\n",
       "    <tr>\n",
       "      <th>0</th>\n",
       "      <td>N001</td>\n",
       "      <td>0</td>\n",
       "      <td>NaN</td>\n",
       "      <td>52.0</td>\n",
       "      <td>male</td>\n",
       "      <td>165.0</td>\n",
       "      <td>65.0</td>\n",
       "      <td>23.88</td>\n",
       "      <td>NaN</td>\n",
       "      <td>NaN</td>\n",
       "      <td>...</td>\n",
       "      <td>NaN</td>\n",
       "      <td>NaN</td>\n",
       "      <td>NaN</td>\n",
       "      <td>NaN</td>\n",
       "      <td>NaN</td>\n",
       "      <td>NaN</td>\n",
       "      <td>NaN</td>\n",
       "      <td>NaN</td>\n",
       "      <td>NaN</td>\n",
       "      <td>NaN</td>\n",
       "    </tr>\n",
       "    <tr>\n",
       "      <th>1</th>\n",
       "      <td>N002</td>\n",
       "      <td>0</td>\n",
       "      <td>NaN</td>\n",
       "      <td>53.0</td>\n",
       "      <td>male</td>\n",
       "      <td>160.0</td>\n",
       "      <td>63.0</td>\n",
       "      <td>24.61</td>\n",
       "      <td>78.0</td>\n",
       "      <td>90.0</td>\n",
       "      <td>...</td>\n",
       "      <td>NaN</td>\n",
       "      <td>NaN</td>\n",
       "      <td>NaN</td>\n",
       "      <td>NaN</td>\n",
       "      <td>NaN</td>\n",
       "      <td>NaN</td>\n",
       "      <td>NaN</td>\n",
       "      <td>NaN</td>\n",
       "      <td>NaN</td>\n",
       "      <td>NaN</td>\n",
       "    </tr>\n",
       "    <tr>\n",
       "      <th>2</th>\n",
       "      <td>N003</td>\n",
       "      <td>0</td>\n",
       "      <td>NaN</td>\n",
       "      <td>48.0</td>\n",
       "      <td>male</td>\n",
       "      <td>166.0</td>\n",
       "      <td>70.0</td>\n",
       "      <td>25.40</td>\n",
       "      <td>92.0</td>\n",
       "      <td>98.0</td>\n",
       "      <td>...</td>\n",
       "      <td>NaN</td>\n",
       "      <td>NaN</td>\n",
       "      <td>NaN</td>\n",
       "      <td>NaN</td>\n",
       "      <td>NaN</td>\n",
       "      <td>NaN</td>\n",
       "      <td>NaN</td>\n",
       "      <td>NaN</td>\n",
       "      <td>NaN</td>\n",
       "      <td>NaN</td>\n",
       "    </tr>\n",
       "    <tr>\n",
       "      <th>3</th>\n",
       "      <td>N005</td>\n",
       "      <td>0</td>\n",
       "      <td>NaN</td>\n",
       "      <td>53.0</td>\n",
       "      <td>female</td>\n",
       "      <td>158.0</td>\n",
       "      <td>57.5</td>\n",
       "      <td>23.03</td>\n",
       "      <td>NaN</td>\n",
       "      <td>NaN</td>\n",
       "      <td>...</td>\n",
       "      <td>NaN</td>\n",
       "      <td>NaN</td>\n",
       "      <td>NaN</td>\n",
       "      <td>NaN</td>\n",
       "      <td>NaN</td>\n",
       "      <td>NaN</td>\n",
       "      <td>NaN</td>\n",
       "      <td>NaN</td>\n",
       "      <td>NaN</td>\n",
       "      <td>NaN</td>\n",
       "    </tr>\n",
       "    <tr>\n",
       "      <th>4</th>\n",
       "      <td>N006</td>\n",
       "      <td>0</td>\n",
       "      <td>NaN</td>\n",
       "      <td>53.0</td>\n",
       "      <td>female</td>\n",
       "      <td>150.0</td>\n",
       "      <td>60.0</td>\n",
       "      <td>26.67</td>\n",
       "      <td>NaN</td>\n",
       "      <td>NaN</td>\n",
       "      <td>...</td>\n",
       "      <td>NaN</td>\n",
       "      <td>NaN</td>\n",
       "      <td>NaN</td>\n",
       "      <td>NaN</td>\n",
       "      <td>NaN</td>\n",
       "      <td>NaN</td>\n",
       "      <td>NaN</td>\n",
       "      <td>NaN</td>\n",
       "      <td>NaN</td>\n",
       "      <td>NaN</td>\n",
       "    </tr>\n",
       "  </tbody>\n",
       "</table>\n",
       "<p>5 rows × 55 columns</p>\n",
       "</div>"
      ],
      "text/plain": [
       "  Sample ID  ACVD status Coronary type  Age (year)  Gender  Height (cm)  \\\n",
       "0      N001            0           NaN        52.0    male        165.0   \n",
       "1      N002            0           NaN        53.0    male        160.0   \n",
       "2      N003            0           NaN        48.0    male        166.0   \n",
       "3      N005            0           NaN        53.0  female        158.0   \n",
       "4      N006            0           NaN        53.0  female        150.0   \n",
       "\n",
       "   Weight (kg)  Body Mass Index (BMI)  Waist (cm)  Hip (cm)  ...  \\\n",
       "0         65.0                  23.88         NaN       NaN  ...   \n",
       "1         63.0                  24.61        78.0      90.0  ...   \n",
       "2         70.0                  25.40        92.0      98.0  ...   \n",
       "3         57.5                  23.03         NaN       NaN  ...   \n",
       "4         60.0                  26.67         NaN       NaN  ...   \n",
       "\n",
       "   Bisoprolol_9 Fondaparinux Sodium_10  Metoprolol_19  Insulin aspart_6  \\\n",
       "0           NaN                    NaN            NaN               NaN   \n",
       "1           NaN                    NaN            NaN               NaN   \n",
       "2           NaN                    NaN            NaN               NaN   \n",
       "3           NaN                    NaN            NaN               NaN   \n",
       "4           NaN                    NaN            NaN               NaN   \n",
       "\n",
       "   Isosorbide dinitrate_10  Acarbose_7  Captopril Tablets_6  Estazolam_6  \\\n",
       "0                      NaN         NaN                  NaN          NaN   \n",
       "1                      NaN         NaN                  NaN          NaN   \n",
       "2                      NaN         NaN                  NaN          NaN   \n",
       "3                      NaN         NaN                  NaN          NaN   \n",
       "4                      NaN         NaN                  NaN          NaN   \n",
       "\n",
       "   Nitroglycerin Tablets_8  Potassium chloride_32  \n",
       "0                      NaN                    NaN  \n",
       "1                      NaN                    NaN  \n",
       "2                      NaN                    NaN  \n",
       "3                      NaN                    NaN  \n",
       "4                      NaN                    NaN  \n",
       "\n",
       "[5 rows x 55 columns]"
      ]
     },
     "execution_count": 10,
     "metadata": {},
     "output_type": "execute_result"
    }
   ],
   "source": [
    "meta_data = read_table(metadata_file, skiprows=2)\n",
    "meta_data.head()"
   ]
  },
  {
   "cell_type": "code",
   "execution_count": 11,
   "id": "6eb1caec",
   "metadata": {},
   "outputs": [
    {
     "data": {
      "text/plain": [
       "0        N001\n",
       "1        N002\n",
       "2        N003\n",
       "3        N005\n",
       "4        N006\n",
       "        ...  \n",
       "400    ZSL525\n",
       "401    ZSL527\n",
       "402    ZSL529\n",
       "403    ZSL530\n",
       "404    ZSL532\n",
       "Name: Sample ID, Length: 405, dtype: object"
      ]
     },
     "execution_count": 11,
     "metadata": {},
     "output_type": "execute_result"
    }
   ],
   "source": [
    "meta_data['Sample ID']"
   ]
  },
  {
   "cell_type": "code",
   "execution_count": 12,
   "id": "c8ab4c48",
   "metadata": {},
   "outputs": [
    {
     "data": {
      "text/html": [
       "<div>\n",
       "<style scoped>\n",
       "    .dataframe tbody tr th:only-of-type {\n",
       "        vertical-align: middle;\n",
       "    }\n",
       "\n",
       "    .dataframe tbody tr th {\n",
       "        vertical-align: top;\n",
       "    }\n",
       "\n",
       "    .dataframe thead th {\n",
       "        text-align: right;\n",
       "    }\n",
       "</style>\n",
       "<table border=\"1\" class=\"dataframe\">\n",
       "  <thead>\n",
       "    <tr style=\"text-align: right;\">\n",
       "      <th></th>\n",
       "      <th>ExptAcc</th>\n",
       "      <th>RunID</th>\n",
       "      <th>Sample ID</th>\n",
       "    </tr>\n",
       "  </thead>\n",
       "  <tbody>\n",
       "    <tr>\n",
       "      <th>0</th>\n",
       "      <td>ERX2076993</td>\n",
       "      <td>ERR2017411</td>\n",
       "      <td>N001</td>\n",
       "    </tr>\n",
       "    <tr>\n",
       "      <th>1</th>\n",
       "      <td>ERX2076994</td>\n",
       "      <td>ERR2017412</td>\n",
       "      <td>N002</td>\n",
       "    </tr>\n",
       "    <tr>\n",
       "      <th>2</th>\n",
       "      <td>ERX2076995</td>\n",
       "      <td>ERR2017413</td>\n",
       "      <td>N003</td>\n",
       "    </tr>\n",
       "    <tr>\n",
       "      <th>3</th>\n",
       "      <td>ERX2076996</td>\n",
       "      <td>ERR2017414</td>\n",
       "      <td>N005</td>\n",
       "    </tr>\n",
       "    <tr>\n",
       "      <th>4</th>\n",
       "      <td>ERX2076997</td>\n",
       "      <td>ERR2017415</td>\n",
       "      <td>N006</td>\n",
       "    </tr>\n",
       "  </tbody>\n",
       "</table>\n",
       "</div>"
      ],
      "text/plain": [
       "      ExptAcc       RunID Sample ID\n",
       "0  ERX2076993  ERR2017411      N001\n",
       "1  ERX2076994  ERR2017412      N002\n",
       "2  ERX2076995  ERR2017413      N003\n",
       "3  ERX2076996  ERR2017414      N005\n",
       "4  ERX2076997  ERR2017415      N006"
      ]
     },
     "execution_count": 12,
     "metadata": {},
     "output_type": "execute_result"
    }
   ],
   "source": [
    "identifiers = read_table(identifiers_file)\n",
    "identifiers['Sample ID'] = identifiers.pop('Alias')\n",
    "identifiers.head()"
   ]
  },
  {
   "cell_type": "code",
   "execution_count": 13,
   "id": "1a3145a9",
   "metadata": {},
   "outputs": [
    {
     "data": {
      "text/plain": [
       "0        N001\n",
       "1        N002\n",
       "2        N003\n",
       "3        N005\n",
       "4        N006\n",
       "        ...  \n",
       "400    ZSL_58\n",
       "401    ZSL_67\n",
       "402     ZSL_6\n",
       "403    ZSL_82\n",
       "404    ZSL_96\n",
       "Name: Sample ID, Length: 405, dtype: object"
      ]
     },
     "execution_count": 13,
     "metadata": {},
     "output_type": "execute_result"
    }
   ],
   "source": [
    "identifiers['Sample ID']"
   ]
  },
  {
   "cell_type": "code",
   "execution_count": 14,
   "id": "9952335f",
   "metadata": {},
   "outputs": [
    {
     "data": {
      "text/html": [
       "<div>\n",
       "<style scoped>\n",
       "    .dataframe tbody tr th:only-of-type {\n",
       "        vertical-align: middle;\n",
       "    }\n",
       "\n",
       "    .dataframe tbody tr th {\n",
       "        vertical-align: top;\n",
       "    }\n",
       "\n",
       "    .dataframe thead th {\n",
       "        text-align: right;\n",
       "    }\n",
       "</style>\n",
       "<table border=\"1\" class=\"dataframe\">\n",
       "  <thead>\n",
       "    <tr style=\"text-align: right;\">\n",
       "      <th></th>\n",
       "      <th>ExptAcc</th>\n",
       "      <th>RunID</th>\n",
       "      <th>Sample ID</th>\n",
       "      <th>ACVD status</th>\n",
       "      <th>Coronary type</th>\n",
       "      <th>Age (year)</th>\n",
       "      <th>Gender</th>\n",
       "      <th>Height (cm)</th>\n",
       "      <th>Weight (kg)</th>\n",
       "      <th>Body Mass Index (BMI)</th>\n",
       "      <th>...</th>\n",
       "      <th>Bisoprolol_9</th>\n",
       "      <th>Fondaparinux Sodium_10</th>\n",
       "      <th>Metoprolol_19</th>\n",
       "      <th>Insulin aspart_6</th>\n",
       "      <th>Isosorbide dinitrate_10</th>\n",
       "      <th>Acarbose_7</th>\n",
       "      <th>Captopril Tablets_6</th>\n",
       "      <th>Estazolam_6</th>\n",
       "      <th>Nitroglycerin Tablets_8</th>\n",
       "      <th>Potassium chloride_32</th>\n",
       "    </tr>\n",
       "  </thead>\n",
       "  <tbody>\n",
       "    <tr>\n",
       "      <th>0</th>\n",
       "      <td>ERX2076993</td>\n",
       "      <td>ERR2017411</td>\n",
       "      <td>N001</td>\n",
       "      <td>0</td>\n",
       "      <td>NaN</td>\n",
       "      <td>52.0</td>\n",
       "      <td>male</td>\n",
       "      <td>165.0</td>\n",
       "      <td>65.0</td>\n",
       "      <td>23.88</td>\n",
       "      <td>...</td>\n",
       "      <td>NaN</td>\n",
       "      <td>NaN</td>\n",
       "      <td>NaN</td>\n",
       "      <td>NaN</td>\n",
       "      <td>NaN</td>\n",
       "      <td>NaN</td>\n",
       "      <td>NaN</td>\n",
       "      <td>NaN</td>\n",
       "      <td>NaN</td>\n",
       "      <td>NaN</td>\n",
       "    </tr>\n",
       "    <tr>\n",
       "      <th>1</th>\n",
       "      <td>ERX2076994</td>\n",
       "      <td>ERR2017412</td>\n",
       "      <td>N002</td>\n",
       "      <td>0</td>\n",
       "      <td>NaN</td>\n",
       "      <td>53.0</td>\n",
       "      <td>male</td>\n",
       "      <td>160.0</td>\n",
       "      <td>63.0</td>\n",
       "      <td>24.61</td>\n",
       "      <td>...</td>\n",
       "      <td>NaN</td>\n",
       "      <td>NaN</td>\n",
       "      <td>NaN</td>\n",
       "      <td>NaN</td>\n",
       "      <td>NaN</td>\n",
       "      <td>NaN</td>\n",
       "      <td>NaN</td>\n",
       "      <td>NaN</td>\n",
       "      <td>NaN</td>\n",
       "      <td>NaN</td>\n",
       "    </tr>\n",
       "    <tr>\n",
       "      <th>2</th>\n",
       "      <td>ERX2076995</td>\n",
       "      <td>ERR2017413</td>\n",
       "      <td>N003</td>\n",
       "      <td>0</td>\n",
       "      <td>NaN</td>\n",
       "      <td>48.0</td>\n",
       "      <td>male</td>\n",
       "      <td>166.0</td>\n",
       "      <td>70.0</td>\n",
       "      <td>25.40</td>\n",
       "      <td>...</td>\n",
       "      <td>NaN</td>\n",
       "      <td>NaN</td>\n",
       "      <td>NaN</td>\n",
       "      <td>NaN</td>\n",
       "      <td>NaN</td>\n",
       "      <td>NaN</td>\n",
       "      <td>NaN</td>\n",
       "      <td>NaN</td>\n",
       "      <td>NaN</td>\n",
       "      <td>NaN</td>\n",
       "    </tr>\n",
       "    <tr>\n",
       "      <th>3</th>\n",
       "      <td>ERX2076996</td>\n",
       "      <td>ERR2017414</td>\n",
       "      <td>N005</td>\n",
       "      <td>0</td>\n",
       "      <td>NaN</td>\n",
       "      <td>53.0</td>\n",
       "      <td>female</td>\n",
       "      <td>158.0</td>\n",
       "      <td>57.5</td>\n",
       "      <td>23.03</td>\n",
       "      <td>...</td>\n",
       "      <td>NaN</td>\n",
       "      <td>NaN</td>\n",
       "      <td>NaN</td>\n",
       "      <td>NaN</td>\n",
       "      <td>NaN</td>\n",
       "      <td>NaN</td>\n",
       "      <td>NaN</td>\n",
       "      <td>NaN</td>\n",
       "      <td>NaN</td>\n",
       "      <td>NaN</td>\n",
       "    </tr>\n",
       "    <tr>\n",
       "      <th>4</th>\n",
       "      <td>ERX2076997</td>\n",
       "      <td>ERR2017415</td>\n",
       "      <td>N006</td>\n",
       "      <td>0</td>\n",
       "      <td>NaN</td>\n",
       "      <td>53.0</td>\n",
       "      <td>female</td>\n",
       "      <td>150.0</td>\n",
       "      <td>60.0</td>\n",
       "      <td>26.67</td>\n",
       "      <td>...</td>\n",
       "      <td>NaN</td>\n",
       "      <td>NaN</td>\n",
       "      <td>NaN</td>\n",
       "      <td>NaN</td>\n",
       "      <td>NaN</td>\n",
       "      <td>NaN</td>\n",
       "      <td>NaN</td>\n",
       "      <td>NaN</td>\n",
       "      <td>NaN</td>\n",
       "      <td>NaN</td>\n",
       "    </tr>\n",
       "  </tbody>\n",
       "</table>\n",
       "<p>5 rows × 57 columns</p>\n",
       "</div>"
      ],
      "text/plain": [
       "      ExptAcc       RunID Sample ID  ACVD status Coronary type  Age (year)  \\\n",
       "0  ERX2076993  ERR2017411      N001            0           NaN        52.0   \n",
       "1  ERX2076994  ERR2017412      N002            0           NaN        53.0   \n",
       "2  ERX2076995  ERR2017413      N003            0           NaN        48.0   \n",
       "3  ERX2076996  ERR2017414      N005            0           NaN        53.0   \n",
       "4  ERX2076997  ERR2017415      N006            0           NaN        53.0   \n",
       "\n",
       "   Gender  Height (cm)  Weight (kg)  Body Mass Index (BMI)  ...  Bisoprolol_9  \\\n",
       "0    male        165.0         65.0                  23.88  ...           NaN   \n",
       "1    male        160.0         63.0                  24.61  ...           NaN   \n",
       "2    male        166.0         70.0                  25.40  ...           NaN   \n",
       "3  female        158.0         57.5                  23.03  ...           NaN   \n",
       "4  female        150.0         60.0                  26.67  ...           NaN   \n",
       "\n",
       "   Fondaparinux Sodium_10  Metoprolol_19 Insulin aspart_6  \\\n",
       "0                     NaN            NaN              NaN   \n",
       "1                     NaN            NaN              NaN   \n",
       "2                     NaN            NaN              NaN   \n",
       "3                     NaN            NaN              NaN   \n",
       "4                     NaN            NaN              NaN   \n",
       "\n",
       "   Isosorbide dinitrate_10  Acarbose_7  Captopril Tablets_6  Estazolam_6  \\\n",
       "0                      NaN         NaN                  NaN          NaN   \n",
       "1                      NaN         NaN                  NaN          NaN   \n",
       "2                      NaN         NaN                  NaN          NaN   \n",
       "3                      NaN         NaN                  NaN          NaN   \n",
       "4                      NaN         NaN                  NaN          NaN   \n",
       "\n",
       "   Nitroglycerin Tablets_8  Potassium chloride_32  \n",
       "0                      NaN                    NaN  \n",
       "1                      NaN                    NaN  \n",
       "2                      NaN                    NaN  \n",
       "3                      NaN                    NaN  \n",
       "4                      NaN                    NaN  \n",
       "\n",
       "[5 rows x 57 columns]"
      ]
     },
     "execution_count": 14,
     "metadata": {},
     "output_type": "execute_result"
    }
   ],
   "source": [
    "identifiers['Sample ID'] = identifiers['Sample ID'].astype('str')\n",
    "meta_data['Sample ID'] = meta_data['Sample ID'].astype('str')\n",
    "meta_data_full = pd.merge(identifiers, meta_data, how='left', on='Sample ID')\n",
    "meta_data_full.head()"
   ]
  },
  {
   "cell_type": "code",
   "execution_count": 15,
   "id": "01dceb50",
   "metadata": {},
   "outputs": [
    {
     "data": {
      "text/plain": [
       "(405, 57)"
      ]
     },
     "execution_count": 15,
     "metadata": {},
     "output_type": "execute_result"
    }
   ],
   "source": [
    "meta_data_full.shape"
   ]
  },
  {
   "cell_type": "markdown",
   "id": "e53a8f3b",
   "metadata": {},
   "source": [
    "# Assemble and Clean Data"
   ]
  },
  {
   "cell_type": "code",
   "execution_count": 16,
   "id": "ddb965b2",
   "metadata": {},
   "outputs": [
    {
     "data": {
      "text/plain": [
       "RunID\n",
       "ERR2017411    ERR2017411_seqt.subsampled_1_kneaddata_paired_...\n",
       "ERR2017412    ERR2017412_seqt.subsampled_1_kneaddata_paired_...\n",
       "ERR2017413    ERR2017413_seqt.subsampled_1_kneaddata_paired_...\n",
       "ERR2017414    ERR2017414_seqt.subsampled_1_kneaddata_paired_...\n",
       "ERR2017415    ERR2017415_seqt.subsampled_1_kneaddata_paired_...\n",
       "                                    ...                        \n",
       "ERR2017809    ERR2017809_seqt.subsampled_1_kneaddata_paired_...\n",
       "ERR2017810    ERR2017810_seqt.subsampled_1_kneaddata_paired_...\n",
       "ERR2017813    ERR2017813_seqt.subsampled_1_kneaddata_paired_...\n",
       "ERR2017814    ERR2017814_seqt.subsampled_1_kneaddata_paired_...\n",
       "ERR2017815    ERR2017815_seqt.subsampled_1_kneaddata_paired_...\n",
       "Name: filename, Length: 384, dtype: object"
      ]
     },
     "execution_count": 16,
     "metadata": {},
     "output_type": "execute_result"
    }
   ],
   "source": [
    "meta_data_full = meta_data_full.set_index('RunID')\n",
    "meta_data_full = meta_data_full.loc[inp_mat['RunID'], :]\n",
    "inp_mat = inp_mat.set_index('RunID')\n",
    "# pop filenames from data frame\n",
    "inp_mat.pop('filename')"
   ]
  },
  {
   "cell_type": "code",
   "execution_count": 17,
   "id": "f24e8abd",
   "metadata": {},
   "outputs": [
    {
     "data": {
      "text/html": [
       "<div>\n",
       "<style scoped>\n",
       "    .dataframe tbody tr th:only-of-type {\n",
       "        vertical-align: middle;\n",
       "    }\n",
       "\n",
       "    .dataframe tbody tr th {\n",
       "        vertical-align: top;\n",
       "    }\n",
       "\n",
       "    .dataframe thead th {\n",
       "        text-align: right;\n",
       "    }\n",
       "</style>\n",
       "<table border=\"1\" class=\"dataframe\">\n",
       "  <thead>\n",
       "    <tr style=\"text-align: right;\">\n",
       "      <th></th>\n",
       "      <th>feature</th>\n",
       "    </tr>\n",
       "  </thead>\n",
       "  <tbody>\n",
       "    <tr>\n",
       "      <th>0</th>\n",
       "      <td>...</td>\n",
       "    </tr>\n",
       "    <tr>\n",
       "      <th>1</th>\n",
       "      <td>Blochmannia endosymbio...</td>\n",
       "    </tr>\n",
       "    <tr>\n",
       "      <th>2</th>\n",
       "      <td>Blochmannia endosymbio...</td>\n",
       "    </tr>\n",
       "    <tr>\n",
       "      <th>3</th>\n",
       "      <td>Blochmannia endosymbio...</td>\n",
       "    </tr>\n",
       "    <tr>\n",
       "      <th>4</th>\n",
       "      <td>Blochmannia endosymbio...</td>\n",
       "    </tr>\n",
       "    <tr>\n",
       "      <th>...</th>\n",
       "      <td>...</td>\n",
       "    </tr>\n",
       "    <tr>\n",
       "      <th>6478</th>\n",
       "      <td>Thysanoplusia orichalcea nucleopolyhed...</td>\n",
       "    </tr>\n",
       "    <tr>\n",
       "      <th>6479</th>\n",
       "      <td>Tomelloso virus</td>\n",
       "    </tr>\n",
       "    <tr>\n",
       "      <th>6480</th>\n",
       "      <td>Human feces pecovirus</td>\n",
       "    </tr>\n",
       "    <tr>\n",
       "      <th>6481</th>\n",
       "      <td>Mollivirus sibericum</td>\n",
       "    </tr>\n",
       "    <tr>\n",
       "      <th>6482</th>\n",
       "      <td>Pacmanvirus A23</td>\n",
       "    </tr>\n",
       "  </tbody>\n",
       "</table>\n",
       "<p>6483 rows × 1 columns</p>\n",
       "</div>"
      ],
      "text/plain": [
       "                                                feature\n",
       "0                                                   ...\n",
       "1                             Blochmannia endosymbio...\n",
       "2                             Blochmannia endosymbio...\n",
       "3                             Blochmannia endosymbio...\n",
       "4                             Blochmannia endosymbio...\n",
       "...                                                 ...\n",
       "6478          Thysanoplusia orichalcea nucleopolyhed...\n",
       "6479                                    Tomelloso virus\n",
       "6480                              Human feces pecovirus\n",
       "6481                               Mollivirus sibericum\n",
       "6482                                    Pacmanvirus A23\n",
       "\n",
       "[6483 rows x 1 columns]"
      ]
     },
     "execution_count": 17,
     "metadata": {},
     "output_type": "execute_result"
    }
   ],
   "source": [
    "feat_meta = pd.DataFrame({'feature': inp_mat.columns.to_numpy().astype('str')})\n",
    "feat_meta"
   ]
  },
  {
   "cell_type": "code",
   "execution_count": 18,
   "id": "219aa250",
   "metadata": {},
   "outputs": [
    {
     "data": {
      "text/plain": [
       "<seaborn.axisgrid.FacetGrid at 0x7f8372b228d0>"
      ]
     },
     "execution_count": 18,
     "metadata": {},
     "output_type": "execute_result"
    },
    {
     "data": {
      "image/png": "[encoded data removed]",
      "text/plain": [
       "<Figure size 360x360 with 1 Axes>"
      ]
     },
     "metadata": {
      "needs_background": "light"
     },
     "output_type": "display_data"
    }
   ],
   "source": [
    "X = inp_mat.to_numpy().astype('float32')\n",
    "X[np.isnan(X)] = 0.\n",
    "zero_feats = [np.sum(X[i,:] == 0.) for i in range(X.shape[0])]\n",
    "sns.displot(zero_feats)"
   ]
  },
  {
   "cell_type": "code",
   "execution_count": 19,
   "id": "ad417240",
   "metadata": {},
   "outputs": [
    {
     "data": {
      "text/plain": [
       "<seaborn.axisgrid.FacetGrid at 0x7f8372c24850>"
      ]
     },
     "execution_count": 19,
     "metadata": {},
     "output_type": "execute_result"
    },
    {
     "data": {
      "image/png": "[encoded data removed]",
      "text/plain": [
       "<Figure size 360x360 with 1 Axes>"
      ]
     },
     "metadata": {
      "needs_background": "light"
     },
     "output_type": "display_data"
    }
   ],
   "source": [
    "nonzero_feats = [np.sum(X[i,:] != 0.) for i in range(X.shape[0])]\n",
    "sns.displot(nonzero_feats)"
   ]
  },
  {
   "cell_type": "code",
   "execution_count": 20,
   "id": "869cb37e",
   "metadata": {},
   "outputs": [],
   "source": [
    "X_centered = X - (X.sum(axis=0)/X.shape[1])\n",
    "col_vars = np.power(X_centered, 2).sum(axis=0)/X.shape[1]"
   ]
  },
  {
   "cell_type": "code",
   "execution_count": 21,
   "id": "17f6391a",
   "metadata": {},
   "outputs": [
    {
     "data": {
      "text/plain": [
       "4890"
      ]
     },
     "execution_count": 21,
     "metadata": {},
     "output_type": "execute_result"
    }
   ],
   "source": [
    "sum(col_vars == 0)"
   ]
  },
  {
   "cell_type": "code",
   "execution_count": 22,
   "id": "d8398b61",
   "metadata": {},
   "outputs": [
    {
     "data": {
      "text/plain": [
       "(384, 1593)"
      ]
     },
     "execution_count": 22,
     "metadata": {},
     "output_type": "execute_result"
    }
   ],
   "source": [
    "feats_keep = col_vars != 0\n",
    "X = X[:, feats_keep]\n",
    "inp_mat = inp_mat.iloc[:, feats_keep]\n",
    "feat_meta = feat_meta.iloc[feats_keep, :]\n",
    "X.shape"
   ]
  },
  {
   "cell_type": "code",
   "execution_count": 23,
   "id": "985c6560",
   "metadata": {},
   "outputs": [],
   "source": [
    "# check that all values of x are gte 0\n",
    "assert np.all(X >= 0)"
   ]
  },
  {
   "cell_type": "code",
   "execution_count": 24,
   "id": "7b6a15c0",
   "metadata": {},
   "outputs": [
    {
     "data": {
      "text/plain": [
       "False"
      ]
     },
     "execution_count": 24,
     "metadata": {},
     "output_type": "execute_result"
    }
   ],
   "source": [
    "# these samples, if they exist, have 0 detected features\n",
    "zero_samples = X.sum(axis=1) == 0\n",
    "# if this is True, then we'd need to remove some samples\n",
    "any_zero_samples = np.any(zero_samples)\n",
    "any_zero_samples"
   ]
  },
  {
   "cell_type": "code",
   "execution_count": 25,
   "id": "7c687e90",
   "metadata": {},
   "outputs": [],
   "source": [
    "if any_zero_samples:\n",
    "    samples_keep = np.logical_not(zero_samples)\n",
    "    X = X[samples_keep, :]\n",
    "    meta_data_full = meta_data_full.iloc[samples_keep, :]"
   ]
  },
  {
   "cell_type": "code",
   "execution_count": 26,
   "id": "647d8231",
   "metadata": {},
   "outputs": [
    {
     "name": "stdout",
     "output_type": "stream",
     "text": [
      "(384, 1593)\n",
      "(384, 56)\n"
     ]
    }
   ],
   "source": [
    "print(X.shape)\n",
    "print(meta_data_full.shape)"
   ]
  },
  {
   "cell_type": "code",
   "execution_count": 27,
   "id": "421d515a",
   "metadata": {},
   "outputs": [
    {
     "data": {
      "text/plain": [
       "Index(['ExptAcc', 'Sample ID', 'ACVD status', 'Coronary type', 'Age (year)',\n",
       "       'Gender', 'Height (cm)', 'Weight (kg)', 'Body Mass Index (BMI)',\n",
       "       'Waist (cm)', 'Hip (cm)', 'Waist Hip Ratio (WHR)', 'Smoking',\n",
       "       'Systolic Blood Pressure (mmHg)', 'Diastolic Blood Pressure (mmHg)',\n",
       "       'FBG', 'TRIG (mmol/L)', 'LDLC (mmol/L)', 'CHOL (mmol/L)',\n",
       "       'HDLC (mmol/L)', 'APOB (mg/dl)', 'APOA (mg/dl)', 'Lpa (mg/dl)',\n",
       "       'HbA1c (%)', 'CKMB (U/L)', 'ALB (U/L)', 'ALT (U/L)', 'TP (g/L)',\n",
       "       'AST (U/L)', 'CREA (umol/L)', 'CK (U/L)', 'ProBNP E (Pg/ml)',\n",
       "       'CRP (mg/l)', 'HBDH (U/L）', 'DBIL (umol/L)', 'BUN (nmol/L)',\n",
       "       'TBIL (umol/L)', 'URIC (umol/L)',\n",
       "       'Clopidogrel Hydrogen Sulphate Tablets_117', 'Aspirin_33',\n",
       "       'Atorvastatin_25', 'Esomeprazole_9', 'Isosorbide Mononitrate_11',\n",
       "       'Potassium Citrate_14', 'Perindopril_15', 'Heparin Sodium_10',\n",
       "       'Bisoprolol_9', 'Fondaparinux Sodium_10', 'Metoprolol_19',\n",
       "       'Insulin aspart_6', 'Isosorbide dinitrate_10', 'Acarbose_7',\n",
       "       'Captopril Tablets_6', 'Estazolam_6', 'Nitroglycerin Tablets_8',\n",
       "       'Potassium chloride_32'],\n",
       "      dtype='object')"
      ]
     },
     "execution_count": 27,
     "metadata": {},
     "output_type": "execute_result"
    }
   ],
   "source": [
    "meta_data_full.columns"
   ]
  },
  {
   "cell_type": "code",
   "execution_count": 28,
   "id": "409b2827",
   "metadata": {},
   "outputs": [
    {
     "data": {
      "text/plain": [
       "dtype('O')"
      ]
     },
     "execution_count": 28,
     "metadata": {},
     "output_type": "execute_result"
    }
   ],
   "source": [
    "meta_data_full.columns.dtype "
   ]
  },
  {
   "cell_type": "code",
   "execution_count": 29,
   "id": "15aa0640",
   "metadata": {},
   "outputs": [
    {
     "name": "stdout",
     "output_type": "stream",
     "text": [
      "Coronary type\n",
      "x              \n",
      "Stable angina      202\n",
      "nan                170\n",
      "Unstable angina      7\n",
      "AMI                  5\n",
      "dtype: int64\n",
      "Age (year)\n",
      "7 (nan) 377 (data exists)\n",
      "Gender\n",
      "x     \n",
      "male      225\n",
      "female    154\n",
      "nan         5\n",
      "dtype: int64\n",
      "Height (cm)\n",
      "70 (nan) 314 (data exists)\n",
      "Weight (kg)\n",
      "66 (nan) 318 (data exists)\n",
      "Body Mass Index (BMI)\n",
      "72 (nan) 312 (data exists)\n",
      "Waist (cm)\n",
      "261 (nan) 123 (data exists)\n",
      "Hip (cm)\n",
      "263 (nan) 121 (data exists)\n",
      "Waist Hip Ratio (WHR)\n",
      "263 (nan) 121 (data exists)\n",
      "Smoking\n",
      "x      \n",
      "nan        351\n",
      "no          22\n",
      "smoking     11\n",
      "dtype: int64\n",
      "Systolic Blood Pressure (mmHg)\n",
      "200 (nan) 184 (data exists)\n",
      "Diastolic Blood Pressure (mmHg)\n",
      "200 (nan) 184 (data exists)\n",
      "FBG\n",
      "187 (nan) 197 (data exists)\n",
      "TRIG (mmol/L)\n",
      "37 (nan) 347 (data exists)\n",
      "LDLC (mmol/L)\n",
      "37 (nan) 347 (data exists)\n",
      "CHOL (mmol/L)\n",
      "37 (nan) 347 (data exists)\n",
      "HDLC (mmol/L)\n",
      "39 (nan) 345 (data exists)\n",
      "APOB (mg/dl)\n",
      "66 (nan) 318 (data exists)\n",
      "APOA (mg/dl)\n",
      "65 (nan) 319 (data exists)\n",
      "Lpa (mg/dl)\n",
      "63 (nan) 321 (data exists)\n",
      "HbA1c (%)\n",
      "266 (nan) 118 (data exists)\n",
      "CKMB (U/L)\n",
      "105 (nan) 279 (data exists)\n",
      "ALB (U/L)\n",
      "87 (nan) 297 (data exists)\n",
      "ALT (U/L)\n",
      "98 (nan) 286 (data exists)\n",
      "TP (g/L)\n",
      "87 (nan) 297 (data exists)\n",
      "AST (U/L)\n",
      "103 (nan) 281 (data exists)\n",
      "CREA (umol/L)\n",
      "84 (nan) 300 (data exists)\n",
      "CK (U/L)\n",
      "247 (nan) 137 (data exists)\n",
      "ProBNP E (Pg/ml)\n",
      "291 (nan) 93 (data exists)\n",
      "CRP (mg/l)\n",
      "365 (nan) 19 (data exists)\n",
      "HBDH (U/L）\n",
      "106 (nan) 278 (data exists)\n",
      "DBIL (umol/L)\n",
      "311 (nan) 73 (data exists)\n",
      "BUN (nmol/L)\n",
      "310 (nan) 74 (data exists)\n",
      "TBIL (umol/L)\n",
      "311 (nan) 73 (data exists)\n",
      "URIC (umol/L)\n",
      "310 (nan) 74 (data exists)\n",
      "Clopidogrel Hydrogen Sulphate Tablets_117\n",
      "232 (nan) 152 (data exists)\n",
      "Aspirin_33\n",
      "232 (nan) 152 (data exists)\n",
      "Atorvastatin_25\n",
      "232 (nan) 152 (data exists)\n",
      "Esomeprazole_9\n",
      "232 (nan) 152 (data exists)\n",
      "Isosorbide Mononitrate_11\n",
      "232 (nan) 152 (data exists)\n",
      "Potassium Citrate_14\n",
      "232 (nan) 152 (data exists)\n",
      "Perindopril_15\n",
      "232 (nan) 152 (data exists)\n",
      "Heparin Sodium_10\n",
      "232 (nan) 152 (data exists)\n",
      "Bisoprolol_9\n",
      "232 (nan) 152 (data exists)\n",
      "Fondaparinux Sodium_10\n",
      "232 (nan) 152 (data exists)\n",
      "Metoprolol_19\n",
      "232 (nan) 152 (data exists)\n",
      "Insulin aspart_6\n",
      "232 (nan) 152 (data exists)\n",
      "Isosorbide dinitrate_10\n",
      "232 (nan) 152 (data exists)\n",
      "Acarbose_7\n",
      "232 (nan) 152 (data exists)\n",
      "Captopril Tablets_6\n",
      "232 (nan) 152 (data exists)\n",
      "Estazolam_6\n",
      "232 (nan) 152 (data exists)\n",
      "Nitroglycerin Tablets_8\n",
      "232 (nan) 152 (data exists)\n",
      "Potassium chloride_32\n",
      "232 (nan) 152 (data exists)\n"
     ]
    }
   ],
   "source": [
    "for i in range(3, len(meta_data_full.columns)):\n",
    "    col_name = meta_data_full.columns[i]\n",
    "    print(col_name)\n",
    "    x = meta_data_full[col_name].to_numpy()\n",
    "    if x.dtype is np.dtype('object'):\n",
    "        x = x.astype('str')\n",
    "        print(pd.DataFrame({'x': x}).value_counts('x'))\n",
    "    else:\n",
    "        nan_count = np.sum(np.isnan(x))\n",
    "        print('{} (nan) {} (data exists)'.format(nan_count, len(x) - nan_count))"
   ]
  },
  {
   "cell_type": "code",
   "execution_count": 30,
   "id": "5ae240b0",
   "metadata": {},
   "outputs": [
    {
     "data": {
      "text/plain": [
       "1    214\n",
       "0    170\n",
       "Name: ACVD status, dtype: int64"
      ]
     },
     "execution_count": 30,
     "metadata": {},
     "output_type": "execute_result"
    }
   ],
   "source": [
    "meta_data_full['ACVD status'].value_counts()\n"
   ]
  },
  {
   "cell_type": "code",
   "execution_count": 31,
   "id": "2819a00e",
   "metadata": {},
   "outputs": [
    {
     "data": {
      "text/plain": [
       "False"
      ]
     },
     "execution_count": 31,
     "metadata": {},
     "output_type": "execute_result"
    }
   ],
   "source": [
    "np.any(np.isnan(meta_data_full['ACVD status'].to_numpy()))"
   ]
  },
  {
   "cell_type": "code",
   "execution_count": 32,
   "id": "10c405de",
   "metadata": {},
   "outputs": [
    {
     "data": {
      "text/plain": [
       "male      225\n",
       "female    154\n",
       "Name: Gender, dtype: int64"
      ]
     },
     "execution_count": 32,
     "metadata": {},
     "output_type": "execute_result"
    }
   ],
   "source": [
    "meta_data_full['Gender'].value_counts()"
   ]
  },
  {
   "cell_type": "code",
   "execution_count": 33,
   "id": "de2f28c3",
   "metadata": {},
   "outputs": [],
   "source": [
    "y = meta_data_full['ACVD status'].to_numpy().astype('int32')"
   ]
  },
  {
   "cell_type": "code",
   "execution_count": 34,
   "id": "1f8002f4",
   "metadata": {},
   "outputs": [
    {
     "data": {
      "text/plain": [
       "(384,)"
      ]
     },
     "execution_count": 34,
     "metadata": {},
     "output_type": "execute_result"
    }
   ],
   "source": [
    "y.shape"
   ]
  },
  {
   "cell_type": "markdown",
   "id": "51421cbe",
   "metadata": {},
   "source": [
    "# Assess Associations of Clinical, Microbiome Variables"
   ]
  },
  {
   "cell_type": "code",
   "execution_count": 35,
   "id": "57c36467",
   "metadata": {},
   "outputs": [
    {
     "name": "stdout",
     "output_type": "stream",
     "text": [
      "contingency table\n",
      "[[157  68]\n",
      " [ 53 101]]\n",
      "odds ratio: 4.3998335183129855; pval 7.746418717753745e-12\n"
     ]
    },
    {
     "data": {
      "text/plain": [
       "(array([[157,  68],\n",
       "        [ 53, 101]]),\n",
       " 4.3998335183129855,\n",
       " 7.746418717753745e-12)"
      ]
     },
     "execution_count": 35,
     "metadata": {},
     "output_type": "execute_result"
    }
   ],
   "source": [
    "# check association of clinical variables\n",
    "\n",
    "# gender\n",
    "gender_vect = meta_data_full['Gender'].to_numpy().astype('str')\n",
    "gender_not_nan = gender_vect != 'nan'\n",
    "fisher_test_vect(gender_vect[gender_not_nan], y[gender_not_nan], 'male', 1, alternative='greater')"
   ]
  },
  {
   "cell_type": "code",
   "execution_count": 36,
   "id": "05822138",
   "metadata": {},
   "outputs": [
    {
     "data": {
      "text/plain": [
       "array([ 52.        ,  53.        ,  48.        ,  53.        ,\n",
       "        53.        ,  60.        ,  69.        ,  61.        ,\n",
       "        44.        ,  56.        ,  54.        ,  41.        ,\n",
       "        55.        ,  50.        ,  40.        ,  55.        ,\n",
       "        54.        ,  67.        ,  67.        ,  38.        ,\n",
       "        45.        ,  56.        ,  53.        ,  52.        ,\n",
       "        55.        ,  52.        ,  47.        ,  55.        ,\n",
       "        50.        ,  56.        ,  58.        ,  70.        ,\n",
       "        60.        ,  46.        ,  61.        ,  40.        ,\n",
       "        43.        ,  60.        ,  52.        ,  54.        ,\n",
       "        57.        ,  56.        ,  53.        ,  59.        ,\n",
       "        57.        ,  50.        ,  62.        ,  50.        ,\n",
       "        55.        ,  74.        ,  73.        ,  72.        ,\n",
       "        65.        ,  77.        ,  84.        ,  74.        ,\n",
       "        69.        ,  65.        ,  67.        ,  65.        ,\n",
       "        51.        ,  54.        ,  53.        ,  51.        ,\n",
       "        61.        ,  61.        ,  59.        ,  62.        ,\n",
       "        58.        ,  60.        ,  58.        ,  70.        ,\n",
       "        66.        ,  57.        ,  56.        ,  56.        ,\n",
       "        59.        ,  67.        ,  57.        ,  53.        ,\n",
       "        69.        ,  65.        ,  58.        ,  57.        ,\n",
       "        55.        ,  59.        ,  63.        ,  59.        ,\n",
       "        64.        ,  59.        ,  62.        ,  53.        ,\n",
       "        61.        ,  61.        ,  68.        ,  80.        ,\n",
       "        71.        ,  74.        ,  65.        ,  66.        ,\n",
       "        79.        ,  70.        ,  66.        ,  65.        ,\n",
       "        74.        ,  69.        , 107.        ,          nan,\n",
       "        63.        ,  56.        ,  58.        ,  65.        ,\n",
       "        57.        ,          nan,          nan,  54.        ,\n",
       "        56.        ,  58.        ,  51.        ,  56.        ,\n",
       "        66.        ,  66.        ,  57.        ,  58.        ,\n",
       "        57.        ,  58.        ,  58.        ,  69.        ,\n",
       "        68.        ,  63.        ,  62.        ,  67.        ,\n",
       "        61.        ,  55.        ,  56.        ,  61.        ,\n",
       "        55.        ,  56.        , 107.        ,  62.        ,\n",
       "        59.        ,  61.        ,  57.        , 107.        ,\n",
       "        62.        ,  61.        ,  61.        ,  62.        ,\n",
       "        63.        ,  62.        ,  61.        ,          nan,\n",
       "        65.        ,          nan,          nan,          nan,\n",
       "        56.        ,  56.        ,  58.        ,  60.        ,\n",
       "        55.        ,  57.        ,  61.        ,  59.        ,\n",
       "        59.        ,  54.        ,  62.        ,  63.        ,\n",
       "        60.        ,  62.        ,  42.82739726,  76.02739726,\n",
       "        73.        ,  45.39726027,  64.5890411 ,  82.19726027,\n",
       "        47.87945205,  79.50410959,  55.        ,  59.19178082,\n",
       "        77.65479452,  69.        ,  55.16438356,  59.        ,\n",
       "        67.        ,  61.        ,  47.45753425,  61.        ,\n",
       "        44.37534247,  75.00273973,  78.6       ,  65.45205479,\n",
       "        48.44109589,  68.        ,  47.00821918,  75.25753425,\n",
       "        70.        ,  44.        ,  76.99726027,  81.72876712,\n",
       "        55.0630137 ,  71.        ,  52.        ,  47.7890411 ,\n",
       "        61.68219178,  68.        ,  50.95342466,  45.41917808,\n",
       "        47.        ,  52.        ,  59.        ,  76.85753425,\n",
       "        58.97260274,  55.65205479,  66.        ,  71.03013699,\n",
       "        65.09315068,  68.        ,  48.38630137,  58.00273973,\n",
       "        52.25205479,  52.        ,  65.        ,  54.        ,\n",
       "        61.57534247,  60.        ,  57.25753425,  33.89863014,\n",
       "        49.18630137,  71.75068493,  56.56986301,  67.44383562,\n",
       "        82.14246575,  75.76986301,  61.03013699,  82.64657534,\n",
       "        75.63287671,  54.85479452,  64.77534247,  49.9260274 ,\n",
       "        75.88493151,  48.54246575,  58.55890411,  77.13972603,\n",
       "        58.75616438,  65.72876712,  65.0739726 ,  69.17260274,\n",
       "        81.33972603,  32.41369863,  55.44383562,  42.31780822,\n",
       "        58.53150685,  74.51232877,  49.00273973,  66.18082192,\n",
       "        75.75616438,  62.4630137 ,  60.46027397,  67.68493151,\n",
       "        46.23013699,  70.26575342,  48.12328767,  61.77808219,\n",
       "        72.75342466,  71.46575342,  66.29589041,  50.24383562,\n",
       "        46.86575342,  80.20821918,  70.89041096,  68.12328767,\n",
       "        68.10684932,  70.25205479,  59.46575342,  57.49041096,\n",
       "        54.12328767,  72.1260274 ,  54.9260274 ,  66.4109589 ,\n",
       "        53.02465753,  55.03013699,  62.48767123,  77.48767123,\n",
       "        67.30684932,  63.11780822,  61.28219178,  59.09041096,\n",
       "        65.84383562,  50.62465753,  60.71780822,  60.41643836,\n",
       "        62.36438356,  47.61369863,  49.84931507,  56.99726027,\n",
       "        55.78082192,  70.50958904,  50.91232877,  56.01917808,\n",
       "        59.1890411 ,  58.23287671,  59.19726027,  61.51232877,\n",
       "        45.02191781,  47.30684932,  49.24383562,  59.91780822,\n",
       "        63.08493151,  69.65479452,  58.87945205,  56.24383562,\n",
       "        64.50958904,  64.79452055,  65.30410959,  55.75890411,\n",
       "        57.75616438,  65.70410959,  46.79452055,  46.36164384,\n",
       "        59.09315068,  61.41917808,  63.62191781,  56.        ,\n",
       "        67.        ,  79.        ,  69.        ,  68.        ,\n",
       "        66.        ,  35.        ,  43.        ,  55.        ,\n",
       "        42.        ,  60.        ,  77.        ,  45.        ,\n",
       "        62.        ,  68.        ,  55.        ,  69.        ,\n",
       "        62.        ,  68.        ,  65.        ,  55.        ,\n",
       "        74.        ,  49.        ,  62.        ,  72.        ,\n",
       "        62.        ,  61.        ,  61.        ,  61.        ,\n",
       "        61.        ,  61.        ,  61.        ,  61.        ,\n",
       "        61.        ,  61.        ,  61.        ,  61.        ,\n",
       "        61.        ,  61.        ,  61.        ,  61.        ,\n",
       "        61.        ,  61.        ,  61.        ,  61.        ,\n",
       "        61.        ,  61.        ,  61.        ,  61.        ,\n",
       "        61.        ,  61.        ,  61.        ,  61.        ,\n",
       "        61.        ,  61.        ,  61.        ,  61.        ,\n",
       "        57.97534247,  66.15890411,  56.11232877,  71.        ])"
      ]
     },
     "execution_count": 36,
     "metadata": {},
     "output_type": "execute_result"
    }
   ],
   "source": [
    "meta_data_full['Age (year)'].to_numpy()"
   ]
  },
  {
   "cell_type": "code",
   "execution_count": 37,
   "id": "ae597286",
   "metadata": {},
   "outputs": [
    {
     "name": "stdout",
     "output_type": "stream",
     "text": [
      "377\n"
     ]
    },
    {
     "data": {
      "text/plain": [
       "Ttest_indResult(statistic=0.7159007327447827, pvalue=0.47449818567726376)"
      ]
     },
     "execution_count": 37,
     "metadata": {},
     "output_type": "execute_result"
    }
   ],
   "source": [
    "# age\n",
    "age_vect = meta_data_full['Age (year)'].to_numpy()\n",
    "age_not_nan = np.logical_not(np.isnan(age_vect))\n",
    "print(np.sum(age_not_nan))\n",
    "ttest_ind(age_vect[age_not_nan][y[age_not_nan] == 1], age_vect[age_not_nan][y[age_not_nan] == 0])"
   ]
  },
  {
   "cell_type": "code",
   "execution_count": 38,
   "id": "f9564ee2",
   "metadata": {},
   "outputs": [
    {
     "data": {
      "text/plain": [
       "<seaborn.axisgrid.FacetGrid at 0x7f837674b210>"
      ]
     },
     "execution_count": 38,
     "metadata": {},
     "output_type": "execute_result"
    },
    {
     "data": {
      "image/png": "[encoded data removed]",
      "text/plain": [
       "<Figure size 360x360 with 1 Axes>"
      ]
     },
     "metadata": {
      "needs_background": "light"
     },
     "output_type": "display_data"
    }
   ],
   "source": [
    "sns.displot(age_vect[age_not_nan][y[age_not_nan] == 1])"
   ]
  },
  {
   "cell_type": "code",
   "execution_count": 39,
   "id": "f59ea4a0",
   "metadata": {},
   "outputs": [
    {
     "data": {
      "text/plain": [
       "<seaborn.axisgrid.FacetGrid at 0x7f837291f810>"
      ]
     },
     "execution_count": 39,
     "metadata": {},
     "output_type": "execute_result"
    },
    {
     "data": {
      "image/png": "[encoded data removed]",
      "text/plain": [
       "<Figure size 360x360 with 1 Axes>"
      ]
     },
     "metadata": {
      "needs_background": "light"
     },
     "output_type": "display_data"
    }
   ],
   "source": [
    "sns.displot(age_vect[age_not_nan][y[age_not_nan] == 0])"
   ]
  },
  {
   "cell_type": "code",
   "execution_count": 40,
   "id": "1708b4ae",
   "metadata": {},
   "outputs": [
    {
     "name": "stdout",
     "output_type": "stream",
     "text": [
      "312\n"
     ]
    },
    {
     "data": {
      "text/plain": [
       "Ttest_indResult(statistic=0.1495568424488978, pvalue=0.8812115112896073)"
      ]
     },
     "execution_count": 40,
     "metadata": {},
     "output_type": "execute_result"
    }
   ],
   "source": [
    "# BMI\n",
    "bmi_vect = meta_data_full['Body Mass Index (BMI)'].to_numpy()\n",
    "bmi_not_nan = np.logical_not(np.isnan(bmi_vect))\n",
    "print(np.sum(bmi_not_nan))\n",
    "ttest_ind(bmi_vect[bmi_not_nan][y[bmi_not_nan] == 1], bmi_vect[bmi_not_nan][y[bmi_not_nan] == 0])"
   ]
  },
  {
   "cell_type": "code",
   "execution_count": 41,
   "id": "43f362e4",
   "metadata": {},
   "outputs": [
    {
     "name": "stdout",
     "output_type": "stream",
     "text": [
      "184\n"
     ]
    },
    {
     "data": {
      "text/plain": [
       "Ttest_indResult(statistic=79.07611475477074, pvalue=7.342623295048546e-143)"
      ]
     },
     "execution_count": 41,
     "metadata": {},
     "output_type": "execute_result"
    }
   ],
   "source": [
    "# systolic blood pressure\n",
    "systolic_vect = meta_data_full['Systolic Blood Pressure (mmHg)'].to_numpy()\n",
    "systolic_not_nan = np.logical_not(np.isnan(systolic_vect))\n",
    "print(np.sum(systolic_not_nan))\n",
    "ttest_ind(systolic_vect[systolic_not_nan][y[systolic_not_nan] == 1], systolic_not_nan[systolic_not_nan][y[systolic_not_nan] == 0])"
   ]
  },
  {
   "cell_type": "code",
   "execution_count": 42,
   "id": "571d938e",
   "metadata": {},
   "outputs": [
    {
     "name": "stdout",
     "output_type": "stream",
     "text": [
      "184\n"
     ]
    },
    {
     "data": {
      "text/plain": [
       "Ttest_indResult(statistic=0.931763379206576, pvalue=0.3526931847939966)"
      ]
     },
     "execution_count": 42,
     "metadata": {},
     "output_type": "execute_result"
    }
   ],
   "source": [
    "# diastolic blood pressure\n",
    "diastolic_vect = meta_data_full['Diastolic Blood Pressure (mmHg)'].to_numpy()\n",
    "diastolic_not_nan = np.logical_not(np.isnan(systolic_vect))\n",
    "print(np.sum(diastolic_not_nan))\n",
    "ttest_ind(diastolic_vect[diastolic_not_nan][y[diastolic_not_nan] == 1], diastolic_vect[diastolic_not_nan][y[diastolic_not_nan] == 0])"
   ]
  },
  {
   "cell_type": "markdown",
   "id": "fbe70473",
   "metadata": {},
   "source": [
    "Given that we only have used Age, BMI, and gender in our models thus far, it is more than likely that gender is giving the highest amount of performance gain to our model relative to differentially abundant microbiota alone."
   ]
  },
  {
   "cell_type": "markdown",
   "id": "5b9b1402",
   "metadata": {},
   "source": [
    "## Get Differentially Expressed Features, ACVD vs non-ACVD"
   ]
  },
  {
   "cell_type": "code",
   "execution_count": 43,
   "id": "7f954779",
   "metadata": {},
   "outputs": [
    {
     "data": {
      "text/plain": [
       "<MicroBiome.DiffExpTransform at 0x7f837275cf50>"
      ]
     },
     "execution_count": 43,
     "metadata": {},
     "output_type": "execute_result"
    }
   ],
   "source": [
    "DE = DiffExpTransform()\n",
    "DE.fit(X[gender_not_nan, :], y[gender_not_nan])"
   ]
  },
  {
   "cell_type": "code",
   "execution_count": 44,
   "id": "3dac4e69",
   "metadata": {},
   "outputs": [
    {
     "data": {
      "text/html": [
       "<div>\n",
       "<style scoped>\n",
       "    .dataframe tbody tr th:only-of-type {\n",
       "        vertical-align: middle;\n",
       "    }\n",
       "\n",
       "    .dataframe tbody tr th {\n",
       "        vertical-align: top;\n",
       "    }\n",
       "\n",
       "    .dataframe thead th {\n",
       "        text-align: right;\n",
       "    }\n",
       "</style>\n",
       "<table border=\"1\" class=\"dataframe\">\n",
       "  <thead>\n",
       "    <tr style=\"text-align: right;\">\n",
       "      <th></th>\n",
       "      <th>tstat</th>\n",
       "      <th>pval</th>\n",
       "      <th>p_adj</th>\n",
       "      <th>rejected</th>\n",
       "    </tr>\n",
       "  </thead>\n",
       "  <tbody>\n",
       "    <tr>\n",
       "      <th>11</th>\n",
       "      <td>5.429868</td>\n",
       "      <td>5.062377e-08</td>\n",
       "      <td>NaN</td>\n",
       "      <td>True</td>\n",
       "    </tr>\n",
       "    <tr>\n",
       "      <th>22</th>\n",
       "      <td>4.001480</td>\n",
       "      <td>3.789664e-05</td>\n",
       "      <td>NaN</td>\n",
       "      <td>True</td>\n",
       "    </tr>\n",
       "    <tr>\n",
       "      <th>23</th>\n",
       "      <td>4.264149</td>\n",
       "      <td>1.269798e-05</td>\n",
       "      <td>NaN</td>\n",
       "      <td>True</td>\n",
       "    </tr>\n",
       "    <tr>\n",
       "      <th>25</th>\n",
       "      <td>3.295888</td>\n",
       "      <td>5.370809e-04</td>\n",
       "      <td>NaN</td>\n",
       "      <td>True</td>\n",
       "    </tr>\n",
       "    <tr>\n",
       "      <th>80</th>\n",
       "      <td>4.238629</td>\n",
       "      <td>1.415647e-05</td>\n",
       "      <td>NaN</td>\n",
       "      <td>True</td>\n",
       "    </tr>\n",
       "  </tbody>\n",
       "</table>\n",
       "</div>"
      ],
      "text/plain": [
       "       tstat          pval  p_adj  rejected\n",
       "11  5.429868  5.062377e-08    NaN      True\n",
       "22  4.001480  3.789664e-05    NaN      True\n",
       "23  4.264149  1.269798e-05    NaN      True\n",
       "25  3.295888  5.370809e-04    NaN      True\n",
       "80  4.238629  1.415647e-05    NaN      True"
      ]
     },
     "execution_count": 44,
     "metadata": {},
     "output_type": "execute_result"
    }
   ],
   "source": [
    "# ACVD negative associated features\n",
    "DE.results['0'][DE.results['0']['rejected'] == True].head()"
   ]
  },
  {
   "cell_type": "code",
   "execution_count": 45,
   "id": "e97350ed",
   "metadata": {},
   "outputs": [
    {
     "data": {
      "text/plain": [
       "27"
      ]
     },
     "execution_count": 45,
     "metadata": {},
     "output_type": "execute_result"
    }
   ],
   "source": [
    "DE.results['0'][DE.results['0']['rejected'] == True].shape[0]"
   ]
  },
  {
   "cell_type": "code",
   "execution_count": 46,
   "id": "4ef62e31",
   "metadata": {},
   "outputs": [
    {
     "data": {
      "text/html": [
       "<div>\n",
       "<style scoped>\n",
       "    .dataframe tbody tr th:only-of-type {\n",
       "        vertical-align: middle;\n",
       "    }\n",
       "\n",
       "    .dataframe tbody tr th {\n",
       "        vertical-align: top;\n",
       "    }\n",
       "\n",
       "    .dataframe thead th {\n",
       "        text-align: right;\n",
       "    }\n",
       "</style>\n",
       "<table border=\"1\" class=\"dataframe\">\n",
       "  <thead>\n",
       "    <tr style=\"text-align: right;\">\n",
       "      <th></th>\n",
       "      <th>tstat</th>\n",
       "      <th>pval</th>\n",
       "      <th>p_adj</th>\n",
       "      <th>rejected</th>\n",
       "    </tr>\n",
       "  </thead>\n",
       "  <tbody>\n",
       "    <tr>\n",
       "      <th>0</th>\n",
       "      <td>3.425750</td>\n",
       "      <td>0.000340</td>\n",
       "      <td>NaN</td>\n",
       "      <td>True</td>\n",
       "    </tr>\n",
       "    <tr>\n",
       "      <th>136</th>\n",
       "      <td>3.199745</td>\n",
       "      <td>0.000746</td>\n",
       "      <td>NaN</td>\n",
       "      <td>True</td>\n",
       "    </tr>\n",
       "    <tr>\n",
       "      <th>187</th>\n",
       "      <td>3.877985</td>\n",
       "      <td>0.000062</td>\n",
       "      <td>NaN</td>\n",
       "      <td>True</td>\n",
       "    </tr>\n",
       "    <tr>\n",
       "      <th>188</th>\n",
       "      <td>4.222962</td>\n",
       "      <td>0.000015</td>\n",
       "      <td>NaN</td>\n",
       "      <td>True</td>\n",
       "    </tr>\n",
       "    <tr>\n",
       "      <th>198</th>\n",
       "      <td>3.512367</td>\n",
       "      <td>0.000249</td>\n",
       "      <td>NaN</td>\n",
       "      <td>True</td>\n",
       "    </tr>\n",
       "  </tbody>\n",
       "</table>\n",
       "</div>"
      ],
      "text/plain": [
       "        tstat      pval  p_adj  rejected\n",
       "0    3.425750  0.000340    NaN      True\n",
       "136  3.199745  0.000746    NaN      True\n",
       "187  3.877985  0.000062    NaN      True\n",
       "188  4.222962  0.000015    NaN      True\n",
       "198  3.512367  0.000249    NaN      True"
      ]
     },
     "execution_count": 46,
     "metadata": {},
     "output_type": "execute_result"
    }
   ],
   "source": [
    "# ACVD positive associated features\n",
    "DE.results['1'][DE.results['1']['rejected'] == True].head()"
   ]
  },
  {
   "cell_type": "code",
   "execution_count": 47,
   "id": "e1de5148",
   "metadata": {},
   "outputs": [
    {
     "data": {
      "text/plain": [
       "78"
      ]
     },
     "execution_count": 47,
     "metadata": {},
     "output_type": "execute_result"
    }
   ],
   "source": [
    "DE.results['1'][DE.results['1']['rejected'] == True].shape[0]"
   ]
  },
  {
   "cell_type": "markdown",
   "id": "cd7c26b9",
   "metadata": {},
   "source": [
    "## Get Differentially Expressed Features, Male vs Female\n",
    "\n",
    "Weirdly enough, it doesn't appear that through a simple t-test we detect differentially abundant features between male and female individuals. We are probably underpowered for detecting differences between male and female microbiomes, due to the nature of assuming normally distributed data and using data bound between 0 and 1. However, this suggests, that the differences between male and female microbiota are not large enough to result in features that are detectably different to the extent that they are in at least a subset of ACVD and non-ACVD samples"
   ]
  },
  {
   "cell_type": "code",
   "execution_count": 48,
   "id": "d0a53563",
   "metadata": {},
   "outputs": [
    {
     "data": {
      "text/plain": [
       "<MicroBiome.DiffExpTransform at 0x7f837276b890>"
      ]
     },
     "execution_count": 48,
     "metadata": {},
     "output_type": "execute_result"
    }
   ],
   "source": [
    "DE_MF = DiffExpTransform()\n",
    "DE_MF.fit(X[gender_not_nan, :], (gender_vect[gender_not_nan] == 'male').astype('int64'))"
   ]
  },
  {
   "cell_type": "code",
   "execution_count": 49,
   "id": "1314e205",
   "metadata": {},
   "outputs": [
    {
     "name": "stdout",
     "output_type": "stream",
     "text": [
      "no. features 0\n"
     ]
    },
    {
     "data": {
      "text/html": [
       "<div>\n",
       "<style scoped>\n",
       "    .dataframe tbody tr th:only-of-type {\n",
       "        vertical-align: middle;\n",
       "    }\n",
       "\n",
       "    .dataframe tbody tr th {\n",
       "        vertical-align: top;\n",
       "    }\n",
       "\n",
       "    .dataframe thead th {\n",
       "        text-align: right;\n",
       "    }\n",
       "</style>\n",
       "<table border=\"1\" class=\"dataframe\">\n",
       "  <thead>\n",
       "    <tr style=\"text-align: right;\">\n",
       "      <th></th>\n",
       "      <th>tstat</th>\n",
       "      <th>pval</th>\n",
       "      <th>p_adj</th>\n",
       "      <th>rejected</th>\n",
       "    </tr>\n",
       "  </thead>\n",
       "  <tbody>\n",
       "  </tbody>\n",
       "</table>\n",
       "</div>"
      ],
      "text/plain": [
       "Empty DataFrame\n",
       "Columns: [tstat, pval, p_adj, rejected]\n",
       "Index: []"
      ]
     },
     "execution_count": 49,
     "metadata": {},
     "output_type": "execute_result"
    }
   ],
   "source": [
    "# female associated features\n",
    "print('no. features {}'.format(DE_MF.results['0'][DE_MF.results['0']['rejected'] == True].shape[0]))\n",
    "DE_MF.results['0'][DE_MF.results['0']['rejected'] == True].head()"
   ]
  },
  {
   "cell_type": "code",
   "execution_count": 50,
   "id": "328829fa",
   "metadata": {},
   "outputs": [
    {
     "name": "stdout",
     "output_type": "stream",
     "text": [
      "no. features 0\n"
     ]
    },
    {
     "data": {
      "text/html": [
       "<div>\n",
       "<style scoped>\n",
       "    .dataframe tbody tr th:only-of-type {\n",
       "        vertical-align: middle;\n",
       "    }\n",
       "\n",
       "    .dataframe tbody tr th {\n",
       "        vertical-align: top;\n",
       "    }\n",
       "\n",
       "    .dataframe thead th {\n",
       "        text-align: right;\n",
       "    }\n",
       "</style>\n",
       "<table border=\"1\" class=\"dataframe\">\n",
       "  <thead>\n",
       "    <tr style=\"text-align: right;\">\n",
       "      <th></th>\n",
       "      <th>tstat</th>\n",
       "      <th>pval</th>\n",
       "      <th>p_adj</th>\n",
       "      <th>rejected</th>\n",
       "    </tr>\n",
       "  </thead>\n",
       "  <tbody>\n",
       "  </tbody>\n",
       "</table>\n",
       "</div>"
      ],
      "text/plain": [
       "Empty DataFrame\n",
       "Columns: [tstat, pval, p_adj, rejected]\n",
       "Index: []"
      ]
     },
     "execution_count": 50,
     "metadata": {},
     "output_type": "execute_result"
    }
   ],
   "source": [
    "# male associated features\n",
    "print('no. features {}'.format(DE_MF.results['1'][DE_MF.results['1']['rejected'] == True].shape[0]))\n",
    "DE_MF.results['1'][DE_MF.results['1']['rejected'] == True].head()"
   ]
  },
  {
   "cell_type": "code",
   "execution_count": null,
   "id": "d73ff3dd",
   "metadata": {},
   "outputs": [],
   "source": []
  }
 ],
 "metadata": {
  "celltoolbar": "Tags",
  "kernelspec": {
   "display_name": "Python 3 (ipykernel)",
   "language": "python",
   "name": "python3"
  },
  "language_info": {
   "codemirror_mode": {
    "name": "ipython",
    "version": 3
   },
   "file_extension": ".py",
   "mimetype": "text/x-python",
   "name": "python",
   "nbconvert_exporter": "python",
   "pygments_lexer": "ipython3",
   "version": "3.7.10"
  }
 },
 "nbformat": 4,
 "nbformat_minor": 5
}
