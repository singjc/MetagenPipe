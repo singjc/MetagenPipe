{
 "cells": [
  {
   "cell_type": "markdown",
   "id": "3a12ff2f",
   "metadata": {},
   "source": [
    "# Overview\n",
    "\n",
    "This notebook in intended as a generic notebook to be used with the papermill python library to allow automated generation of analyses and reports for finding relationships between microbiome and clinical variables."
   ]
  },
  {
   "cell_type": "code",
   "execution_count": 1,
   "id": "47892872",
   "metadata": {},
   "outputs": [
    {
     "name": "stdout",
     "output_type": "stream",
     "text": [
      "/project/src\n"
     ]
    }
   ],
   "source": [
    "cd /project/src"
   ]
  },
  {
   "cell_type": "code",
   "execution_count": 2,
   "id": "70e1c7e4",
   "metadata": {},
   "outputs": [],
   "source": [
    "from sklearn import model_selection\n",
    "from sklearn import metrics\n",
    "import os\n",
    "import re\n",
    "import numpy as np\n",
    "import pandas as pd\n",
    "from MicroBiome import Trainer, TrainTester, MultiTrainTester, list_transformer, DiffExpTransform, CorTransform, fisher_test_vect\n",
    "from sklearn.pipeline import Pipeline\n",
    "from sklearn.decomposition import PCA\n",
    "from sklearn.preprocessing import StandardScaler, MinMaxScaler\n",
    "from sklearn.preprocessing import OneHotEncoder\n",
    "from sklearn.impute import KNNImputer\n",
    "from sklearn import linear_model as LM\n",
    "from scipy.stats import ttest_ind\n",
    "import seaborn as sns\n",
    "import pickle as pk\n",
    "from matplotlib import pyplot as plt\n",
    "# Ignore warning messages\n",
    "if True:\n",
    "    import warnings\n",
    "    warnings.filterwarnings('ignore')"
   ]
  },
  {
   "cell_type": "code",
   "execution_count": 3,
   "id": "46cf7932",
   "metadata": {},
   "outputs": [],
   "source": [
    "np.set_printoptions(precision=2)"
   ]
  },
  {
   "cell_type": "markdown",
   "id": "93515f3b",
   "metadata": {},
   "source": [
    "# Basic Data Loading"
   ]
  },
  {
   "cell_type": "code",
   "execution_count": 4,
   "id": "45f24939",
   "metadata": {
    "tags": [
     "parameters"
    ]
   },
   "outputs": [],
   "source": [
    "inp_mat_file = '/project/data/raw/justin_paired_end_run_jul_6_2021/PE_50K_freq_mat.csv'\n",
    "metadata_file = '/project/data/raw/Jie_2017_supp_table_1.xlsx'\n",
    "identifiers_file = '/project/data/raw/SRA/all_runs.csv'"
   ]
  },
  {
   "cell_type": "code",
   "execution_count": 5,
   "id": "ed11541a",
   "metadata": {},
   "outputs": [],
   "source": [
    "def read_table(fpath, **kwargs):\n",
    "    \"\"\"\n",
    "    read csv or excel file\n",
    "    \n",
    "    fpath = filepath\n",
    "    **kwargs = other arguments to pandas.read_csv or pandas.read_excel\n",
    "    \n",
    "    returns: pandas dataframe\n",
    "    \"\"\"\n",
    "    \n",
    "    if re.search('\\\\.xls(x)*$', fpath):\n",
    "        df = pd.read_excel(fpath, **kwargs)\n",
    "    elif re.search('\\\\.csv$', fpath):\n",
    "        df = pd.read_csv(fpath, **kwargs)\n",
    "    else:\n",
    "        raise ValueError('Unexpected file type for file {}'.format(fpath))\n",
    "        \n",
    "    return df"
   ]
  },
  {
   "cell_type": "code",
   "execution_count": 6,
   "id": "fa26acc8",
   "metadata": {},
   "outputs": [
    {
     "data": {
      "text/html": [
       "<div>\n",
       "<style scoped>\n",
       "    .dataframe tbody tr th:only-of-type {\n",
       "        vertical-align: middle;\n",
       "    }\n",
       "\n",
       "    .dataframe tbody tr th {\n",
       "        vertical-align: top;\n",
       "    }\n",
       "\n",
       "    .dataframe thead th {\n",
       "        text-align: right;\n",
       "    }\n",
       "</style>\n",
       "<table border=\"1\" class=\"dataframe\">\n",
       "  <thead>\n",
       "    <tr style=\"text-align: right;\">\n",
       "      <th></th>\n",
       "      <th>filename</th>\n",
       "      <th>RunID</th>\n",
       "      <th>Homo sapiens</th>\n",
       "      <th>Blochmannia endosymbiont of Camponotus (Colobopsis) obliquus</th>\n",
       "      <th>Blochmannia endosymbiont of Camponotus nipponensis</th>\n",
       "      <th>Blochmannia endosymbiont of Colobopsis nipponica</th>\n",
       "      <th>Blochmannia endosymbiont of Polyrhachis (Hedomyrma) turneri</th>\n",
       "      <th>Bovine nidovirus 1</th>\n",
       "      <th>Candidatus Aquiluna sp. 15G-AUS-rot</th>\n",
       "      <th>Candidatus Aquiluna sp. UB-MaderosW2red</th>\n",
       "      <th>...</th>\n",
       "      <th>Lonomia obliqua nucleopolyhedrovirus</th>\n",
       "      <th>Microplitis demolitor bracovirus</th>\n",
       "      <th>Neodiprion sertifer nucleopolyhedrovirus</th>\n",
       "      <th>Oxyplax ochracea nucleopolyhedrovirus</th>\n",
       "      <th>Spodoptera exigua multiple nucleopolyhedrovirus</th>\n",
       "      <th>Spodoptera litura granulovirus</th>\n",
       "      <th>Spodoptera litura nucleopolyhedrovirus</th>\n",
       "      <th>Sulfolobales Mexican fusellovirus 1</th>\n",
       "      <th>Human feces pecovirus</th>\n",
       "      <th>Pacmanvirus A23</th>\n",
       "    </tr>\n",
       "  </thead>\n",
       "  <tbody>\n",
       "    <tr>\n",
       "      <th>0</th>\n",
       "      <td>ERR2017411_seqt.subsampled_1_kneaddata_paired_...</td>\n",
       "      <td>ERR2017411</td>\n",
       "      <td>0.01</td>\n",
       "      <td>NaN</td>\n",
       "      <td>NaN</td>\n",
       "      <td>NaN</td>\n",
       "      <td>NaN</td>\n",
       "      <td>NaN</td>\n",
       "      <td>NaN</td>\n",
       "      <td>NaN</td>\n",
       "      <td>...</td>\n",
       "      <td>NaN</td>\n",
       "      <td>NaN</td>\n",
       "      <td>NaN</td>\n",
       "      <td>NaN</td>\n",
       "      <td>NaN</td>\n",
       "      <td>NaN</td>\n",
       "      <td>NaN</td>\n",
       "      <td>NaN</td>\n",
       "      <td>NaN</td>\n",
       "      <td>NaN</td>\n",
       "    </tr>\n",
       "    <tr>\n",
       "      <th>1</th>\n",
       "      <td>ERR2017412_seqt.subsampled_1_kneaddata_paired_...</td>\n",
       "      <td>ERR2017412</td>\n",
       "      <td>0.02</td>\n",
       "      <td>NaN</td>\n",
       "      <td>NaN</td>\n",
       "      <td>NaN</td>\n",
       "      <td>NaN</td>\n",
       "      <td>NaN</td>\n",
       "      <td>NaN</td>\n",
       "      <td>NaN</td>\n",
       "      <td>...</td>\n",
       "      <td>NaN</td>\n",
       "      <td>NaN</td>\n",
       "      <td>NaN</td>\n",
       "      <td>NaN</td>\n",
       "      <td>NaN</td>\n",
       "      <td>NaN</td>\n",
       "      <td>NaN</td>\n",
       "      <td>NaN</td>\n",
       "      <td>NaN</td>\n",
       "      <td>NaN</td>\n",
       "    </tr>\n",
       "    <tr>\n",
       "      <th>2</th>\n",
       "      <td>ERR2017413_seqt.subsampled_1_kneaddata_paired_...</td>\n",
       "      <td>ERR2017413</td>\n",
       "      <td>0.02</td>\n",
       "      <td>NaN</td>\n",
       "      <td>NaN</td>\n",
       "      <td>NaN</td>\n",
       "      <td>NaN</td>\n",
       "      <td>NaN</td>\n",
       "      <td>NaN</td>\n",
       "      <td>NaN</td>\n",
       "      <td>...</td>\n",
       "      <td>NaN</td>\n",
       "      <td>NaN</td>\n",
       "      <td>NaN</td>\n",
       "      <td>NaN</td>\n",
       "      <td>NaN</td>\n",
       "      <td>NaN</td>\n",
       "      <td>NaN</td>\n",
       "      <td>NaN</td>\n",
       "      <td>NaN</td>\n",
       "      <td>NaN</td>\n",
       "    </tr>\n",
       "    <tr>\n",
       "      <th>3</th>\n",
       "      <td>ERR2017414_seqt.subsampled_1_kneaddata_paired_...</td>\n",
       "      <td>ERR2017414</td>\n",
       "      <td>0.01</td>\n",
       "      <td>NaN</td>\n",
       "      <td>NaN</td>\n",
       "      <td>NaN</td>\n",
       "      <td>NaN</td>\n",
       "      <td>NaN</td>\n",
       "      <td>NaN</td>\n",
       "      <td>NaN</td>\n",
       "      <td>...</td>\n",
       "      <td>NaN</td>\n",
       "      <td>NaN</td>\n",
       "      <td>NaN</td>\n",
       "      <td>NaN</td>\n",
       "      <td>NaN</td>\n",
       "      <td>NaN</td>\n",
       "      <td>NaN</td>\n",
       "      <td>NaN</td>\n",
       "      <td>NaN</td>\n",
       "      <td>NaN</td>\n",
       "    </tr>\n",
       "    <tr>\n",
       "      <th>4</th>\n",
       "      <td>ERR2017415_seqt.subsampled_1_kneaddata_paired_...</td>\n",
       "      <td>ERR2017415</td>\n",
       "      <td>0.01</td>\n",
       "      <td>NaN</td>\n",
       "      <td>NaN</td>\n",
       "      <td>NaN</td>\n",
       "      <td>NaN</td>\n",
       "      <td>NaN</td>\n",
       "      <td>NaN</td>\n",
       "      <td>NaN</td>\n",
       "      <td>...</td>\n",
       "      <td>NaN</td>\n",
       "      <td>NaN</td>\n",
       "      <td>NaN</td>\n",
       "      <td>NaN</td>\n",
       "      <td>NaN</td>\n",
       "      <td>NaN</td>\n",
       "      <td>NaN</td>\n",
       "      <td>NaN</td>\n",
       "      <td>NaN</td>\n",
       "      <td>NaN</td>\n",
       "    </tr>\n",
       "  </tbody>\n",
       "</table>\n",
       "<p>5 rows × 6503 columns</p>\n",
       "</div>"
      ],
      "text/plain": [
       "                                            filename       RunID  \\\n",
       "0  ERR2017411_seqt.subsampled_1_kneaddata_paired_...  ERR2017411   \n",
       "1  ERR2017412_seqt.subsampled_1_kneaddata_paired_...  ERR2017412   \n",
       "2  ERR2017413_seqt.subsampled_1_kneaddata_paired_...  ERR2017413   \n",
       "3  ERR2017414_seqt.subsampled_1_kneaddata_paired_...  ERR2017414   \n",
       "4  ERR2017415_seqt.subsampled_1_kneaddata_paired_...  ERR2017415   \n",
       "\n",
       "                                                                 Homo sapiens  \\\n",
       "0                                               0.01                            \n",
       "1                                               0.02                            \n",
       "2                                               0.02                            \n",
       "3                                               0.01                            \n",
       "4                                               0.01                            \n",
       "\n",
       "                           Blochmannia endosymbiont of Camponotus (Colobopsis) obliquus  \\\n",
       "0                                                NaN                                      \n",
       "1                                                NaN                                      \n",
       "2                                                NaN                                      \n",
       "3                                                NaN                                      \n",
       "4                                                NaN                                      \n",
       "\n",
       "                           Blochmannia endosymbiont of Camponotus nipponensis  \\\n",
       "0                                                NaN                            \n",
       "1                                                NaN                            \n",
       "2                                                NaN                            \n",
       "3                                                NaN                            \n",
       "4                                                NaN                            \n",
       "\n",
       "                           Blochmannia endosymbiont of Colobopsis nipponica  \\\n",
       "0                                                NaN                          \n",
       "1                                                NaN                          \n",
       "2                                                NaN                          \n",
       "3                                                NaN                          \n",
       "4                                                NaN                          \n",
       "\n",
       "                           Blochmannia endosymbiont of Polyrhachis (Hedomyrma) turneri  \\\n",
       "0                                                NaN                                     \n",
       "1                                                NaN                                     \n",
       "2                                                NaN                                     \n",
       "3                                                NaN                                     \n",
       "4                                                NaN                                     \n",
       "\n",
       "                           Bovine nidovirus 1  \\\n",
       "0                                         NaN   \n",
       "1                                         NaN   \n",
       "2                                         NaN   \n",
       "3                                         NaN   \n",
       "4                                         NaN   \n",
       "\n",
       "                           Candidatus Aquiluna sp. 15G-AUS-rot  \\\n",
       "0                                                NaN             \n",
       "1                                                NaN             \n",
       "2                                                NaN             \n",
       "3                                                NaN             \n",
       "4                                                NaN             \n",
       "\n",
       "                           Candidatus Aquiluna sp. UB-MaderosW2red  ...  \\\n",
       "0                                                NaN                ...   \n",
       "1                                                NaN                ...   \n",
       "2                                                NaN                ...   \n",
       "3                                                NaN                ...   \n",
       "4                                                NaN                ...   \n",
       "\n",
       "           Lonomia obliqua nucleopolyhedrovirus  \\\n",
       "0                                           NaN   \n",
       "1                                           NaN   \n",
       "2                                           NaN   \n",
       "3                                           NaN   \n",
       "4                                           NaN   \n",
       "\n",
       "           Microplitis demolitor bracovirus  \\\n",
       "0                                       NaN   \n",
       "1                                       NaN   \n",
       "2                                       NaN   \n",
       "3                                       NaN   \n",
       "4                                       NaN   \n",
       "\n",
       "           Neodiprion sertifer nucleopolyhedrovirus  \\\n",
       "0                                               NaN   \n",
       "1                                               NaN   \n",
       "2                                               NaN   \n",
       "3                                               NaN   \n",
       "4                                               NaN   \n",
       "\n",
       "           Oxyplax ochracea nucleopolyhedrovirus  \\\n",
       "0                                            NaN   \n",
       "1                                            NaN   \n",
       "2                                            NaN   \n",
       "3                                            NaN   \n",
       "4                                            NaN   \n",
       "\n",
       "           Spodoptera exigua multiple nucleopolyhedrovirus  \\\n",
       "0                                                NaN         \n",
       "1                                                NaN         \n",
       "2                                                NaN         \n",
       "3                                                NaN         \n",
       "4                                                NaN         \n",
       "\n",
       "           Spodoptera litura granulovirus  \\\n",
       "0                                     NaN   \n",
       "1                                     NaN   \n",
       "2                                     NaN   \n",
       "3                                     NaN   \n",
       "4                                     NaN   \n",
       "\n",
       "           Spodoptera litura nucleopolyhedrovirus  \\\n",
       "0                                             NaN   \n",
       "1                                             NaN   \n",
       "2                                             NaN   \n",
       "3                                             NaN   \n",
       "4                                             NaN   \n",
       "\n",
       "           Sulfolobales Mexican fusellovirus 1        Human feces pecovirus  \\\n",
       "0                                          NaN                          NaN   \n",
       "1                                          NaN                          NaN   \n",
       "2                                          NaN                          NaN   \n",
       "3                                          NaN                          NaN   \n",
       "4                                          NaN                          NaN   \n",
       "\n",
       "         Pacmanvirus A23  \n",
       "0                    NaN  \n",
       "1                    NaN  \n",
       "2                    NaN  \n",
       "3                    NaN  \n",
       "4                    NaN  \n",
       "\n",
       "[5 rows x 6503 columns]"
      ]
     },
     "execution_count": 6,
     "metadata": {},
     "output_type": "execute_result"
    }
   ],
   "source": [
    "inp_mat = read_table(inp_mat_file)\n",
    "matrix_cols = inp_mat.columns[1:len(inp_mat.columns)]\n",
    "inp_mat['RunID'] = np.array([re.findall('^[A-Z]{3}[0-9]+', x)[0] for x in inp_mat['filename'].to_numpy().astype('str')])\n",
    "inp_mat = inp_mat.loc[:, np.concatenate((['filename', 'RunID'], matrix_cols.to_numpy()))]\n",
    "inp_mat.head()"
   ]
  },
  {
   "cell_type": "code",
   "execution_count": 7,
   "id": "a06bc211",
   "metadata": {},
   "outputs": [
    {
     "data": {
      "text/html": [
       "<div>\n",
       "<style scoped>\n",
       "    .dataframe tbody tr th:only-of-type {\n",
       "        vertical-align: middle;\n",
       "    }\n",
       "\n",
       "    .dataframe tbody tr th {\n",
       "        vertical-align: top;\n",
       "    }\n",
       "\n",
       "    .dataframe thead th {\n",
       "        text-align: right;\n",
       "    }\n",
       "</style>\n",
       "<table border=\"1\" class=\"dataframe\">\n",
       "  <thead>\n",
       "    <tr style=\"text-align: right;\">\n",
       "      <th></th>\n",
       "      <th>Sample ID</th>\n",
       "      <th>ACVD status</th>\n",
       "      <th>Coronary type</th>\n",
       "      <th>Age (year)</th>\n",
       "      <th>Gender</th>\n",
       "      <th>Height (cm)</th>\n",
       "      <th>Weight (kg)</th>\n",
       "      <th>Body Mass Index (BMI)</th>\n",
       "      <th>Waist (cm)</th>\n",
       "      <th>Hip (cm)</th>\n",
       "      <th>...</th>\n",
       "      <th>Bisoprolol_9</th>\n",
       "      <th>Fondaparinux Sodium_10</th>\n",
       "      <th>Metoprolol_19</th>\n",
       "      <th>Insulin aspart_6</th>\n",
       "      <th>Isosorbide dinitrate_10</th>\n",
       "      <th>Acarbose_7</th>\n",
       "      <th>Captopril Tablets_6</th>\n",
       "      <th>Estazolam_6</th>\n",
       "      <th>Nitroglycerin Tablets_8</th>\n",
       "      <th>Potassium chloride_32</th>\n",
       "    </tr>\n",
       "  </thead>\n",
       "  <tbody>\n",
       "    <tr>\n",
       "      <th>0</th>\n",
       "      <td>N001</td>\n",
       "      <td>0</td>\n",
       "      <td>NaN</td>\n",
       "      <td>52.0</td>\n",
       "      <td>male</td>\n",
       "      <td>165.0</td>\n",
       "      <td>65.0</td>\n",
       "      <td>23.88</td>\n",
       "      <td>NaN</td>\n",
       "      <td>NaN</td>\n",
       "      <td>...</td>\n",
       "      <td>NaN</td>\n",
       "      <td>NaN</td>\n",
       "      <td>NaN</td>\n",
       "      <td>NaN</td>\n",
       "      <td>NaN</td>\n",
       "      <td>NaN</td>\n",
       "      <td>NaN</td>\n",
       "      <td>NaN</td>\n",
       "      <td>NaN</td>\n",
       "      <td>NaN</td>\n",
       "    </tr>\n",
       "    <tr>\n",
       "      <th>1</th>\n",
       "      <td>N002</td>\n",
       "      <td>0</td>\n",
       "      <td>NaN</td>\n",
       "      <td>53.0</td>\n",
       "      <td>male</td>\n",
       "      <td>160.0</td>\n",
       "      <td>63.0</td>\n",
       "      <td>24.61</td>\n",
       "      <td>78.0</td>\n",
       "      <td>90.0</td>\n",
       "      <td>...</td>\n",
       "      <td>NaN</td>\n",
       "      <td>NaN</td>\n",
       "      <td>NaN</td>\n",
       "      <td>NaN</td>\n",
       "      <td>NaN</td>\n",
       "      <td>NaN</td>\n",
       "      <td>NaN</td>\n",
       "      <td>NaN</td>\n",
       "      <td>NaN</td>\n",
       "      <td>NaN</td>\n",
       "    </tr>\n",
       "    <tr>\n",
       "      <th>2</th>\n",
       "      <td>N003</td>\n",
       "      <td>0</td>\n",
       "      <td>NaN</td>\n",
       "      <td>48.0</td>\n",
       "      <td>male</td>\n",
       "      <td>166.0</td>\n",
       "      <td>70.0</td>\n",
       "      <td>25.40</td>\n",
       "      <td>92.0</td>\n",
       "      <td>98.0</td>\n",
       "      <td>...</td>\n",
       "      <td>NaN</td>\n",
       "      <td>NaN</td>\n",
       "      <td>NaN</td>\n",
       "      <td>NaN</td>\n",
       "      <td>NaN</td>\n",
       "      <td>NaN</td>\n",
       "      <td>NaN</td>\n",
       "      <td>NaN</td>\n",
       "      <td>NaN</td>\n",
       "      <td>NaN</td>\n",
       "    </tr>\n",
       "    <tr>\n",
       "      <th>3</th>\n",
       "      <td>N005</td>\n",
       "      <td>0</td>\n",
       "      <td>NaN</td>\n",
       "      <td>53.0</td>\n",
       "      <td>female</td>\n",
       "      <td>158.0</td>\n",
       "      <td>57.5</td>\n",
       "      <td>23.03</td>\n",
       "      <td>NaN</td>\n",
       "      <td>NaN</td>\n",
       "      <td>...</td>\n",
       "      <td>NaN</td>\n",
       "      <td>NaN</td>\n",
       "      <td>NaN</td>\n",
       "      <td>NaN</td>\n",
       "      <td>NaN</td>\n",
       "      <td>NaN</td>\n",
       "      <td>NaN</td>\n",
       "      <td>NaN</td>\n",
       "      <td>NaN</td>\n",
       "      <td>NaN</td>\n",
       "    </tr>\n",
       "    <tr>\n",
       "      <th>4</th>\n",
       "      <td>N006</td>\n",
       "      <td>0</td>\n",
       "      <td>NaN</td>\n",
       "      <td>53.0</td>\n",
       "      <td>female</td>\n",
       "      <td>150.0</td>\n",
       "      <td>60.0</td>\n",
       "      <td>26.67</td>\n",
       "      <td>NaN</td>\n",
       "      <td>NaN</td>\n",
       "      <td>...</td>\n",
       "      <td>NaN</td>\n",
       "      <td>NaN</td>\n",
       "      <td>NaN</td>\n",
       "      <td>NaN</td>\n",
       "      <td>NaN</td>\n",
       "      <td>NaN</td>\n",
       "      <td>NaN</td>\n",
       "      <td>NaN</td>\n",
       "      <td>NaN</td>\n",
       "      <td>NaN</td>\n",
       "    </tr>\n",
       "  </tbody>\n",
       "</table>\n",
       "<p>5 rows × 55 columns</p>\n",
       "</div>"
      ],
      "text/plain": [
       "  Sample ID  ACVD status Coronary type  Age (year)  Gender  Height (cm)  \\\n",
       "0      N001            0           NaN        52.0    male        165.0   \n",
       "1      N002            0           NaN        53.0    male        160.0   \n",
       "2      N003            0           NaN        48.0    male        166.0   \n",
       "3      N005            0           NaN        53.0  female        158.0   \n",
       "4      N006            0           NaN        53.0  female        150.0   \n",
       "\n",
       "   Weight (kg)  Body Mass Index (BMI)  Waist (cm)  Hip (cm)  ...  \\\n",
       "0         65.0                  23.88         NaN       NaN  ...   \n",
       "1         63.0                  24.61        78.0      90.0  ...   \n",
       "2         70.0                  25.40        92.0      98.0  ...   \n",
       "3         57.5                  23.03         NaN       NaN  ...   \n",
       "4         60.0                  26.67         NaN       NaN  ...   \n",
       "\n",
       "   Bisoprolol_9 Fondaparinux Sodium_10  Metoprolol_19  Insulin aspart_6  \\\n",
       "0           NaN                    NaN            NaN               NaN   \n",
       "1           NaN                    NaN            NaN               NaN   \n",
       "2           NaN                    NaN            NaN               NaN   \n",
       "3           NaN                    NaN            NaN               NaN   \n",
       "4           NaN                    NaN            NaN               NaN   \n",
       "\n",
       "   Isosorbide dinitrate_10  Acarbose_7  Captopril Tablets_6  Estazolam_6  \\\n",
       "0                      NaN         NaN                  NaN          NaN   \n",
       "1                      NaN         NaN                  NaN          NaN   \n",
       "2                      NaN         NaN                  NaN          NaN   \n",
       "3                      NaN         NaN                  NaN          NaN   \n",
       "4                      NaN         NaN                  NaN          NaN   \n",
       "\n",
       "   Nitroglycerin Tablets_8  Potassium chloride_32  \n",
       "0                      NaN                    NaN  \n",
       "1                      NaN                    NaN  \n",
       "2                      NaN                    NaN  \n",
       "3                      NaN                    NaN  \n",
       "4                      NaN                    NaN  \n",
       "\n",
       "[5 rows x 55 columns]"
      ]
     },
     "execution_count": 7,
     "metadata": {},
     "output_type": "execute_result"
    }
   ],
   "source": [
    "meta_data = read_table(metadata_file, skiprows=2)\n",
    "meta_data.head()"
   ]
  },
  {
   "cell_type": "code",
   "execution_count": 8,
   "id": "6eb1caec",
   "metadata": {},
   "outputs": [
    {
     "data": {
      "text/plain": [
       "0        N001\n",
       "1        N002\n",
       "2        N003\n",
       "3        N005\n",
       "4        N006\n",
       "        ...  \n",
       "400    ZSL525\n",
       "401    ZSL527\n",
       "402    ZSL529\n",
       "403    ZSL530\n",
       "404    ZSL532\n",
       "Name: Sample ID, Length: 405, dtype: object"
      ]
     },
     "execution_count": 8,
     "metadata": {},
     "output_type": "execute_result"
    }
   ],
   "source": [
    "meta_data['Sample ID']"
   ]
  },
  {
   "cell_type": "code",
   "execution_count": 9,
   "id": "c8ab4c48",
   "metadata": {},
   "outputs": [
    {
     "data": {
      "text/html": [
       "<div>\n",
       "<style scoped>\n",
       "    .dataframe tbody tr th:only-of-type {\n",
       "        vertical-align: middle;\n",
       "    }\n",
       "\n",
       "    .dataframe tbody tr th {\n",
       "        vertical-align: top;\n",
       "    }\n",
       "\n",
       "    .dataframe thead th {\n",
       "        text-align: right;\n",
       "    }\n",
       "</style>\n",
       "<table border=\"1\" class=\"dataframe\">\n",
       "  <thead>\n",
       "    <tr style=\"text-align: right;\">\n",
       "      <th></th>\n",
       "      <th>Unnamed: 0</th>\n",
       "      <th>ExptAcc</th>\n",
       "      <th>RunID</th>\n",
       "      <th>Sample ID</th>\n",
       "    </tr>\n",
       "  </thead>\n",
       "  <tbody>\n",
       "    <tr>\n",
       "      <th>0</th>\n",
       "      <td>0</td>\n",
       "      <td>ERX2076993</td>\n",
       "      <td>ERR2017411</td>\n",
       "      <td>N001</td>\n",
       "    </tr>\n",
       "    <tr>\n",
       "      <th>1</th>\n",
       "      <td>0</td>\n",
       "      <td>ERX2076994</td>\n",
       "      <td>ERR2017412</td>\n",
       "      <td>N002</td>\n",
       "    </tr>\n",
       "    <tr>\n",
       "      <th>2</th>\n",
       "      <td>0</td>\n",
       "      <td>ERX2076995</td>\n",
       "      <td>ERR2017413</td>\n",
       "      <td>N003</td>\n",
       "    </tr>\n",
       "    <tr>\n",
       "      <th>3</th>\n",
       "      <td>0</td>\n",
       "      <td>ERX2076996</td>\n",
       "      <td>ERR2017414</td>\n",
       "      <td>N005</td>\n",
       "    </tr>\n",
       "    <tr>\n",
       "      <th>4</th>\n",
       "      <td>0</td>\n",
       "      <td>ERX2076997</td>\n",
       "      <td>ERR2017415</td>\n",
       "      <td>N006</td>\n",
       "    </tr>\n",
       "  </tbody>\n",
       "</table>\n",
       "</div>"
      ],
      "text/plain": [
       "   Unnamed: 0     ExptAcc       RunID Sample ID\n",
       "0           0  ERX2076993  ERR2017411      N001\n",
       "1           0  ERX2076994  ERR2017412      N002\n",
       "2           0  ERX2076995  ERR2017413      N003\n",
       "3           0  ERX2076996  ERR2017414      N005\n",
       "4           0  ERX2076997  ERR2017415      N006"
      ]
     },
     "execution_count": 9,
     "metadata": {},
     "output_type": "execute_result"
    }
   ],
   "source": [
    "identifiers = read_table(identifiers_file)\n",
    "identifiers['Sample ID'] = identifiers.pop('Alias')\n",
    "identifiers.head()"
   ]
  },
  {
   "cell_type": "code",
   "execution_count": 10,
   "id": "1a3145a9",
   "metadata": {},
   "outputs": [
    {
     "data": {
      "text/plain": [
       "0        N001\n",
       "1        N002\n",
       "2        N003\n",
       "3        N005\n",
       "4        N006\n",
       "        ...  \n",
       "400    ZSL_58\n",
       "401    ZSL_67\n",
       "402     ZSL_6\n",
       "403    ZSL_82\n",
       "404    ZSL_96\n",
       "Name: Sample ID, Length: 405, dtype: object"
      ]
     },
     "execution_count": 10,
     "metadata": {},
     "output_type": "execute_result"
    }
   ],
   "source": [
    "identifiers['Sample ID']"
   ]
  },
  {
   "cell_type": "code",
   "execution_count": 11,
   "id": "9952335f",
   "metadata": {},
   "outputs": [
    {
     "data": {
      "text/html": [
       "<div>\n",
       "<style scoped>\n",
       "    .dataframe tbody tr th:only-of-type {\n",
       "        vertical-align: middle;\n",
       "    }\n",
       "\n",
       "    .dataframe tbody tr th {\n",
       "        vertical-align: top;\n",
       "    }\n",
       "\n",
       "    .dataframe thead th {\n",
       "        text-align: right;\n",
       "    }\n",
       "</style>\n",
       "<table border=\"1\" class=\"dataframe\">\n",
       "  <thead>\n",
       "    <tr style=\"text-align: right;\">\n",
       "      <th></th>\n",
       "      <th>Unnamed: 0</th>\n",
       "      <th>ExptAcc</th>\n",
       "      <th>RunID</th>\n",
       "      <th>Sample ID</th>\n",
       "      <th>ACVD status</th>\n",
       "      <th>Coronary type</th>\n",
       "      <th>Age (year)</th>\n",
       "      <th>Gender</th>\n",
       "      <th>Height (cm)</th>\n",
       "      <th>Weight (kg)</th>\n",
       "      <th>...</th>\n",
       "      <th>Bisoprolol_9</th>\n",
       "      <th>Fondaparinux Sodium_10</th>\n",
       "      <th>Metoprolol_19</th>\n",
       "      <th>Insulin aspart_6</th>\n",
       "      <th>Isosorbide dinitrate_10</th>\n",
       "      <th>Acarbose_7</th>\n",
       "      <th>Captopril Tablets_6</th>\n",
       "      <th>Estazolam_6</th>\n",
       "      <th>Nitroglycerin Tablets_8</th>\n",
       "      <th>Potassium chloride_32</th>\n",
       "    </tr>\n",
       "  </thead>\n",
       "  <tbody>\n",
       "    <tr>\n",
       "      <th>0</th>\n",
       "      <td>0</td>\n",
       "      <td>ERX2076993</td>\n",
       "      <td>ERR2017411</td>\n",
       "      <td>N001</td>\n",
       "      <td>0</td>\n",
       "      <td>NaN</td>\n",
       "      <td>52.0</td>\n",
       "      <td>male</td>\n",
       "      <td>165.0</td>\n",
       "      <td>65.0</td>\n",
       "      <td>...</td>\n",
       "      <td>NaN</td>\n",
       "      <td>NaN</td>\n",
       "      <td>NaN</td>\n",
       "      <td>NaN</td>\n",
       "      <td>NaN</td>\n",
       "      <td>NaN</td>\n",
       "      <td>NaN</td>\n",
       "      <td>NaN</td>\n",
       "      <td>NaN</td>\n",
       "      <td>NaN</td>\n",
       "    </tr>\n",
       "    <tr>\n",
       "      <th>1</th>\n",
       "      <td>0</td>\n",
       "      <td>ERX2076994</td>\n",
       "      <td>ERR2017412</td>\n",
       "      <td>N002</td>\n",
       "      <td>0</td>\n",
       "      <td>NaN</td>\n",
       "      <td>53.0</td>\n",
       "      <td>male</td>\n",
       "      <td>160.0</td>\n",
       "      <td>63.0</td>\n",
       "      <td>...</td>\n",
       "      <td>NaN</td>\n",
       "      <td>NaN</td>\n",
       "      <td>NaN</td>\n",
       "      <td>NaN</td>\n",
       "      <td>NaN</td>\n",
       "      <td>NaN</td>\n",
       "      <td>NaN</td>\n",
       "      <td>NaN</td>\n",
       "      <td>NaN</td>\n",
       "      <td>NaN</td>\n",
       "    </tr>\n",
       "    <tr>\n",
       "      <th>2</th>\n",
       "      <td>0</td>\n",
       "      <td>ERX2076995</td>\n",
       "      <td>ERR2017413</td>\n",
       "      <td>N003</td>\n",
       "      <td>0</td>\n",
       "      <td>NaN</td>\n",
       "      <td>48.0</td>\n",
       "      <td>male</td>\n",
       "      <td>166.0</td>\n",
       "      <td>70.0</td>\n",
       "      <td>...</td>\n",
       "      <td>NaN</td>\n",
       "      <td>NaN</td>\n",
       "      <td>NaN</td>\n",
       "      <td>NaN</td>\n",
       "      <td>NaN</td>\n",
       "      <td>NaN</td>\n",
       "      <td>NaN</td>\n",
       "      <td>NaN</td>\n",
       "      <td>NaN</td>\n",
       "      <td>NaN</td>\n",
       "    </tr>\n",
       "    <tr>\n",
       "      <th>3</th>\n",
       "      <td>0</td>\n",
       "      <td>ERX2076996</td>\n",
       "      <td>ERR2017414</td>\n",
       "      <td>N005</td>\n",
       "      <td>0</td>\n",
       "      <td>NaN</td>\n",
       "      <td>53.0</td>\n",
       "      <td>female</td>\n",
       "      <td>158.0</td>\n",
       "      <td>57.5</td>\n",
       "      <td>...</td>\n",
       "      <td>NaN</td>\n",
       "      <td>NaN</td>\n",
       "      <td>NaN</td>\n",
       "      <td>NaN</td>\n",
       "      <td>NaN</td>\n",
       "      <td>NaN</td>\n",
       "      <td>NaN</td>\n",
       "      <td>NaN</td>\n",
       "      <td>NaN</td>\n",
       "      <td>NaN</td>\n",
       "    </tr>\n",
       "    <tr>\n",
       "      <th>4</th>\n",
       "      <td>0</td>\n",
       "      <td>ERX2076997</td>\n",
       "      <td>ERR2017415</td>\n",
       "      <td>N006</td>\n",
       "      <td>0</td>\n",
       "      <td>NaN</td>\n",
       "      <td>53.0</td>\n",
       "      <td>female</td>\n",
       "      <td>150.0</td>\n",
       "      <td>60.0</td>\n",
       "      <td>...</td>\n",
       "      <td>NaN</td>\n",
       "      <td>NaN</td>\n",
       "      <td>NaN</td>\n",
       "      <td>NaN</td>\n",
       "      <td>NaN</td>\n",
       "      <td>NaN</td>\n",
       "      <td>NaN</td>\n",
       "      <td>NaN</td>\n",
       "      <td>NaN</td>\n",
       "      <td>NaN</td>\n",
       "    </tr>\n",
       "  </tbody>\n",
       "</table>\n",
       "<p>5 rows × 58 columns</p>\n",
       "</div>"
      ],
      "text/plain": [
       "   Unnamed: 0     ExptAcc       RunID Sample ID  ACVD status Coronary type  \\\n",
       "0           0  ERX2076993  ERR2017411      N001            0           NaN   \n",
       "1           0  ERX2076994  ERR2017412      N002            0           NaN   \n",
       "2           0  ERX2076995  ERR2017413      N003            0           NaN   \n",
       "3           0  ERX2076996  ERR2017414      N005            0           NaN   \n",
       "4           0  ERX2076997  ERR2017415      N006            0           NaN   \n",
       "\n",
       "   Age (year)  Gender  Height (cm)  Weight (kg)  ...  Bisoprolol_9  \\\n",
       "0        52.0    male        165.0         65.0  ...           NaN   \n",
       "1        53.0    male        160.0         63.0  ...           NaN   \n",
       "2        48.0    male        166.0         70.0  ...           NaN   \n",
       "3        53.0  female        158.0         57.5  ...           NaN   \n",
       "4        53.0  female        150.0         60.0  ...           NaN   \n",
       "\n",
       "   Fondaparinux Sodium_10  Metoprolol_19  Insulin aspart_6  \\\n",
       "0                     NaN            NaN               NaN   \n",
       "1                     NaN            NaN               NaN   \n",
       "2                     NaN            NaN               NaN   \n",
       "3                     NaN            NaN               NaN   \n",
       "4                     NaN            NaN               NaN   \n",
       "\n",
       "  Isosorbide dinitrate_10  Acarbose_7  Captopril Tablets_6  Estazolam_6  \\\n",
       "0                     NaN         NaN                  NaN          NaN   \n",
       "1                     NaN         NaN                  NaN          NaN   \n",
       "2                     NaN         NaN                  NaN          NaN   \n",
       "3                     NaN         NaN                  NaN          NaN   \n",
       "4                     NaN         NaN                  NaN          NaN   \n",
       "\n",
       "   Nitroglycerin Tablets_8  Potassium chloride_32  \n",
       "0                      NaN                    NaN  \n",
       "1                      NaN                    NaN  \n",
       "2                      NaN                    NaN  \n",
       "3                      NaN                    NaN  \n",
       "4                      NaN                    NaN  \n",
       "\n",
       "[5 rows x 58 columns]"
      ]
     },
     "execution_count": 11,
     "metadata": {},
     "output_type": "execute_result"
    }
   ],
   "source": [
    "identifiers['Sample ID'] = identifiers['Sample ID'].astype('str')\n",
    "meta_data['Sample ID'] = meta_data['Sample ID'].astype('str')\n",
    "meta_data_full = pd.merge(identifiers, meta_data, how='left', on='Sample ID')\n",
    "meta_data_full.head()"
   ]
  },
  {
   "cell_type": "code",
   "execution_count": 12,
   "id": "01dceb50",
   "metadata": {},
   "outputs": [
    {
     "data": {
      "text/plain": [
       "(405, 58)"
      ]
     },
     "execution_count": 12,
     "metadata": {},
     "output_type": "execute_result"
    }
   ],
   "source": [
    "meta_data_full.shape"
   ]
  },
  {
   "cell_type": "markdown",
   "id": "e53a8f3b",
   "metadata": {},
   "source": [
    "# Assemble and Clean Data"
   ]
  },
  {
   "cell_type": "code",
   "execution_count": 13,
   "id": "ddb965b2",
   "metadata": {},
   "outputs": [
    {
     "data": {
      "text/plain": [
       "RunID\n",
       "ERR2017411    ERR2017411_seqt.subsampled_1_kneaddata_paired_...\n",
       "ERR2017412    ERR2017412_seqt.subsampled_1_kneaddata_paired_...\n",
       "ERR2017413    ERR2017413_seqt.subsampled_1_kneaddata_paired_...\n",
       "ERR2017414    ERR2017414_seqt.subsampled_1_kneaddata_paired_...\n",
       "ERR2017415    ERR2017415_seqt.subsampled_1_kneaddata_paired_...\n",
       "                                    ...                        \n",
       "ERR2017809    ERR2017809_seqt.subsampled_1_kneaddata_paired_...\n",
       "ERR2017810    ERR2017810_seqt.subsampled_1_kneaddata_paired_...\n",
       "ERR2017813    ERR2017813_seqt.subsampled_1_kneaddata_paired_...\n",
       "ERR2017814    ERR2017814_seqt.subsampled_1_kneaddata_paired_...\n",
       "ERR2017815    ERR2017815_seqt.subsampled_1_kneaddata_paired_...\n",
       "Name: filename, Length: 385, dtype: object"
      ]
     },
     "execution_count": 13,
     "metadata": {},
     "output_type": "execute_result"
    }
   ],
   "source": [
    "meta_data_full = meta_data_full.set_index('RunID')\n",
    "meta_data_full = meta_data_full.loc[inp_mat['RunID'], :]\n",
    "inp_mat = inp_mat.set_index('RunID')\n",
    "# pop filenames from data frame\n",
    "inp_mat.pop('filename')"
   ]
  },
  {
   "cell_type": "code",
   "execution_count": 14,
   "id": "f24e8abd",
   "metadata": {},
   "outputs": [
    {
     "data": {
      "text/html": [
       "<div>\n",
       "<style scoped>\n",
       "    .dataframe tbody tr th:only-of-type {\n",
       "        vertical-align: middle;\n",
       "    }\n",
       "\n",
       "    .dataframe tbody tr th {\n",
       "        vertical-align: top;\n",
       "    }\n",
       "\n",
       "    .dataframe thead th {\n",
       "        text-align: right;\n",
       "    }\n",
       "</style>\n",
       "<table border=\"1\" class=\"dataframe\">\n",
       "  <thead>\n",
       "    <tr style=\"text-align: right;\">\n",
       "      <th></th>\n",
       "      <th>feature</th>\n",
       "    </tr>\n",
       "  </thead>\n",
       "  <tbody>\n",
       "    <tr>\n",
       "      <th>0</th>\n",
       "      <td>...</td>\n",
       "    </tr>\n",
       "    <tr>\n",
       "      <th>1</th>\n",
       "      <td>Blochmannia endosymbio...</td>\n",
       "    </tr>\n",
       "    <tr>\n",
       "      <th>2</th>\n",
       "      <td>Blochmannia endosymbio...</td>\n",
       "    </tr>\n",
       "    <tr>\n",
       "      <th>3</th>\n",
       "      <td>Blochmannia endosymbio...</td>\n",
       "    </tr>\n",
       "    <tr>\n",
       "      <th>4</th>\n",
       "      <td>Blochmannia endosymbio...</td>\n",
       "    </tr>\n",
       "    <tr>\n",
       "      <th>...</th>\n",
       "      <td>...</td>\n",
       "    </tr>\n",
       "    <tr>\n",
       "      <th>6496</th>\n",
       "      <td>Spodoptera litura granulovirus</td>\n",
       "    </tr>\n",
       "    <tr>\n",
       "      <th>6497</th>\n",
       "      <td>Spodoptera litura nucleopolyhedrovirus</td>\n",
       "    </tr>\n",
       "    <tr>\n",
       "      <th>6498</th>\n",
       "      <td>Sulfolobales Mexican fusellovirus 1</td>\n",
       "    </tr>\n",
       "    <tr>\n",
       "      <th>6499</th>\n",
       "      <td>Human feces pecovirus</td>\n",
       "    </tr>\n",
       "    <tr>\n",
       "      <th>6500</th>\n",
       "      <td>Pacmanvirus A23</td>\n",
       "    </tr>\n",
       "  </tbody>\n",
       "</table>\n",
       "<p>6501 rows × 1 columns</p>\n",
       "</div>"
      ],
      "text/plain": [
       "                                                feature\n",
       "0                                                   ...\n",
       "1                             Blochmannia endosymbio...\n",
       "2                             Blochmannia endosymbio...\n",
       "3                             Blochmannia endosymbio...\n",
       "4                             Blochmannia endosymbio...\n",
       "...                                                 ...\n",
       "6496                     Spodoptera litura granulovirus\n",
       "6497             Spodoptera litura nucleopolyhedrovirus\n",
       "6498                Sulfolobales Mexican fusellovirus 1\n",
       "6499                              Human feces pecovirus\n",
       "6500                                    Pacmanvirus A23\n",
       "\n",
       "[6501 rows x 1 columns]"
      ]
     },
     "execution_count": 14,
     "metadata": {},
     "output_type": "execute_result"
    }
   ],
   "source": [
    "feat_meta = pd.DataFrame({'feature': inp_mat.columns.to_numpy().astype('str')})\n",
    "feat_meta"
   ]
  },
  {
   "cell_type": "code",
   "execution_count": 15,
   "id": "219aa250",
   "metadata": {},
   "outputs": [
    {
     "data": {
      "text/plain": [
       "<seaborn.axisgrid.FacetGrid at 0x7f4cec189750>"
      ]
     },
     "execution_count": 15,
     "metadata": {},
     "output_type": "execute_result"
    },
    {
     "data": {
      "image/png": "[encoded data removed]",
      "text/plain": [
       "<Figure size 360x360 with 1 Axes>"
      ]
     },
     "metadata": {
      "needs_background": "light"
     },
     "output_type": "display_data"
    }
   ],
   "source": [
    "X = inp_mat.to_numpy().astype('float32')\n",
    "X[np.isnan(X)] = 0.\n",
    "zero_feats = [np.sum(X[i,:] == 0.) for i in range(X.shape[0])]\n",
    "sns.displot(zero_feats)"
   ]
  },
  {
   "cell_type": "code",
   "execution_count": 16,
   "id": "ad417240",
   "metadata": {},
   "outputs": [
    {
     "data": {
      "text/plain": [
       "<seaborn.axisgrid.FacetGrid at 0x7f4ce3975e90>"
      ]
     },
     "execution_count": 16,
     "metadata": {},
     "output_type": "execute_result"
    },
    {
     "data": {
      "image/png": "[encoded data removed]",
      "text/plain": [
       "<Figure size 360x360 with 1 Axes>"
      ]
     },
     "metadata": {
      "needs_background": "light"
     },
     "output_type": "display_data"
    }
   ],
   "source": [
    "nonzero_feats = [np.sum(X[i,:] != 0.) for i in range(X.shape[0])]\n",
    "sns.displot(nonzero_feats)"
   ]
  },
  {
   "cell_type": "code",
   "execution_count": 17,
   "id": "869cb37e",
   "metadata": {},
   "outputs": [],
   "source": [
    "X_centered = X - (X.sum(axis=0)/X.shape[1])\n",
    "col_vars = np.power(X_centered, 2).sum(axis=0)/X.shape[1]"
   ]
  },
  {
   "cell_type": "code",
   "execution_count": 18,
   "id": "17f6391a",
   "metadata": {},
   "outputs": [
    {
     "data": {
      "text/plain": [
       "4559"
      ]
     },
     "execution_count": 18,
     "metadata": {},
     "output_type": "execute_result"
    }
   ],
   "source": [
    "sum(col_vars == 0)"
   ]
  },
  {
   "cell_type": "code",
   "execution_count": 19,
   "id": "d8398b61",
   "metadata": {},
   "outputs": [
    {
     "data": {
      "text/plain": [
       "(385, 1942)"
      ]
     },
     "execution_count": 19,
     "metadata": {},
     "output_type": "execute_result"
    }
   ],
   "source": [
    "feats_keep = col_vars != 0\n",
    "X = X[:, feats_keep]\n",
    "inp_mat = inp_mat.iloc[:, feats_keep]\n",
    "feat_meta = feat_meta.iloc[feats_keep, :]\n",
    "X.shape"
   ]
  },
  {
   "cell_type": "code",
   "execution_count": 20,
   "id": "985c6560",
   "metadata": {},
   "outputs": [],
   "source": [
    "# check that all values of x are gte 0\n",
    "assert np.all(X >= 0)"
   ]
  },
  {
   "cell_type": "code",
   "execution_count": 21,
   "id": "7b6a15c0",
   "metadata": {},
   "outputs": [
    {
     "data": {
      "text/plain": [
       "False"
      ]
     },
     "execution_count": 21,
     "metadata": {},
     "output_type": "execute_result"
    }
   ],
   "source": [
    "# these samples, if they exist, have 0 detected features\n",
    "zero_samples = X.sum(axis=1) == 0\n",
    "# if this is True, then we'd need to remove some samples\n",
    "any_zero_samples = np.any(zero_samples)\n",
    "any_zero_samples"
   ]
  },
  {
   "cell_type": "code",
   "execution_count": 22,
   "id": "7c687e90",
   "metadata": {},
   "outputs": [],
   "source": [
    "if any_zero_samples:\n",
    "    samples_keep = np.logical_not(zero_samples)\n",
    "    X = X[samples_keep, :]\n",
    "    meta_data_full = meta_data_full.iloc[samples_keep, :]"
   ]
  },
  {
   "cell_type": "code",
   "execution_count": 23,
   "id": "647d8231",
   "metadata": {},
   "outputs": [
    {
     "name": "stdout",
     "output_type": "stream",
     "text": [
      "(385, 1942)\n",
      "(385, 57)\n"
     ]
    }
   ],
   "source": [
    "print(X.shape)\n",
    "print(meta_data_full.shape)"
   ]
  },
  {
   "cell_type": "code",
   "execution_count": 24,
   "id": "421d515a",
   "metadata": {},
   "outputs": [
    {
     "data": {
      "text/plain": [
       "Index(['Unnamed: 0', 'ExptAcc', 'Sample ID', 'ACVD status', 'Coronary type',\n",
       "       'Age (year)', 'Gender', 'Height (cm)', 'Weight (kg)',\n",
       "       'Body Mass Index (BMI)', 'Waist (cm)', 'Hip (cm)',\n",
       "       'Waist Hip Ratio (WHR)', 'Smoking', 'Systolic Blood Pressure (mmHg)',\n",
       "       'Diastolic Blood Pressure (mmHg)', 'FBG', 'TRIG (mmol/L)',\n",
       "       'LDLC (mmol/L)', 'CHOL (mmol/L)', 'HDLC (mmol/L)', 'APOB (mg/dl)',\n",
       "       'APOA (mg/dl)', 'Lpa (mg/dl)', 'HbA1c (%)', 'CKMB (U/L)', 'ALB (U/L)',\n",
       "       'ALT (U/L)', 'TP (g/L)', 'AST (U/L)', 'CREA (umol/L)', 'CK (U/L)',\n",
       "       'ProBNP E (Pg/ml)', 'CRP (mg/l)', 'HBDH (U/L）', 'DBIL (umol/L)',\n",
       "       'BUN (nmol/L)', 'TBIL (umol/L)', 'URIC (umol/L)',\n",
       "       'Clopidogrel Hydrogen Sulphate Tablets_117', 'Aspirin_33',\n",
       "       'Atorvastatin_25', 'Esomeprazole_9', 'Isosorbide Mononitrate_11',\n",
       "       'Potassium Citrate_14', 'Perindopril_15', 'Heparin Sodium_10',\n",
       "       'Bisoprolol_9', 'Fondaparinux Sodium_10', 'Metoprolol_19',\n",
       "       'Insulin aspart_6', 'Isosorbide dinitrate_10', 'Acarbose_7',\n",
       "       'Captopril Tablets_6', 'Estazolam_6', 'Nitroglycerin Tablets_8',\n",
       "       'Potassium chloride_32'],\n",
       "      dtype='object')"
      ]
     },
     "execution_count": 24,
     "metadata": {},
     "output_type": "execute_result"
    }
   ],
   "source": [
    "meta_data_full.columns"
   ]
  },
  {
   "cell_type": "code",
   "execution_count": 25,
   "id": "409b2827",
   "metadata": {},
   "outputs": [
    {
     "data": {
      "text/plain": [
       "dtype('O')"
      ]
     },
     "execution_count": 25,
     "metadata": {},
     "output_type": "execute_result"
    }
   ],
   "source": [
    "meta_data_full.columns.dtype "
   ]
  },
  {
   "cell_type": "code",
   "execution_count": 26,
   "id": "15aa0640",
   "metadata": {},
   "outputs": [
    {
     "name": "stdout",
     "output_type": "stream",
     "text": [
      "ACVD status\n",
      "0 (nan) 385 (data exists)\n",
      "Coronary type\n",
      "x              \n",
      "Stable angina      202\n",
      "nan                171\n",
      "Unstable angina      7\n",
      "AMI                  5\n",
      "dtype: int64\n",
      "Age (year)\n",
      "7 (nan) 378 (data exists)\n",
      "Gender\n",
      "x     \n",
      "male      226\n",
      "female    154\n",
      "nan         5\n",
      "dtype: int64\n",
      "Height (cm)\n",
      "70 (nan) 315 (data exists)\n",
      "Weight (kg)\n",
      "66 (nan) 319 (data exists)\n",
      "Body Mass Index (BMI)\n",
      "72 (nan) 313 (data exists)\n",
      "Waist (cm)\n",
      "261 (nan) 124 (data exists)\n",
      "Hip (cm)\n",
      "263 (nan) 122 (data exists)\n",
      "Waist Hip Ratio (WHR)\n",
      "263 (nan) 122 (data exists)\n",
      "Smoking\n",
      "x      \n",
      "nan        351\n",
      "no          23\n",
      "smoking     11\n",
      "dtype: int64\n",
      "Systolic Blood Pressure (mmHg)\n",
      "200 (nan) 185 (data exists)\n",
      "Diastolic Blood Pressure (mmHg)\n",
      "200 (nan) 185 (data exists)\n",
      "FBG\n",
      "188 (nan) 197 (data exists)\n",
      "TRIG (mmol/L)\n",
      "38 (nan) 347 (data exists)\n",
      "LDLC (mmol/L)\n",
      "38 (nan) 347 (data exists)\n",
      "CHOL (mmol/L)\n",
      "38 (nan) 347 (data exists)\n",
      "HDLC (mmol/L)\n",
      "40 (nan) 345 (data exists)\n",
      "APOB (mg/dl)\n",
      "67 (nan) 318 (data exists)\n",
      "APOA (mg/dl)\n",
      "66 (nan) 319 (data exists)\n",
      "Lpa (mg/dl)\n",
      "64 (nan) 321 (data exists)\n",
      "HbA1c (%)\n",
      "267 (nan) 118 (data exists)\n",
      "CKMB (U/L)\n",
      "106 (nan) 279 (data exists)\n",
      "ALB (U/L)\n",
      "88 (nan) 297 (data exists)\n",
      "ALT (U/L)\n",
      "99 (nan) 286 (data exists)\n",
      "TP (g/L)\n",
      "88 (nan) 297 (data exists)\n",
      "AST (U/L)\n",
      "104 (nan) 281 (data exists)\n",
      "CREA (umol/L)\n",
      "85 (nan) 300 (data exists)\n",
      "CK (U/L)\n",
      "248 (nan) 137 (data exists)\n",
      "ProBNP E (Pg/ml)\n",
      "292 (nan) 93 (data exists)\n",
      "CRP (mg/l)\n",
      "366 (nan) 19 (data exists)\n",
      "HBDH (U/L）\n",
      "107 (nan) 278 (data exists)\n",
      "DBIL (umol/L)\n",
      "312 (nan) 73 (data exists)\n",
      "BUN (nmol/L)\n",
      "311 (nan) 74 (data exists)\n",
      "TBIL (umol/L)\n",
      "312 (nan) 73 (data exists)\n",
      "URIC (umol/L)\n",
      "311 (nan) 74 (data exists)\n",
      "Clopidogrel Hydrogen Sulphate Tablets_117\n",
      "233 (nan) 152 (data exists)\n",
      "Aspirin_33\n",
      "233 (nan) 152 (data exists)\n",
      "Atorvastatin_25\n",
      "233 (nan) 152 (data exists)\n",
      "Esomeprazole_9\n",
      "233 (nan) 152 (data exists)\n",
      "Isosorbide Mononitrate_11\n",
      "233 (nan) 152 (data exists)\n",
      "Potassium Citrate_14\n",
      "233 (nan) 152 (data exists)\n",
      "Perindopril_15\n",
      "233 (nan) 152 (data exists)\n",
      "Heparin Sodium_10\n",
      "233 (nan) 152 (data exists)\n",
      "Bisoprolol_9\n",
      "233 (nan) 152 (data exists)\n",
      "Fondaparinux Sodium_10\n",
      "233 (nan) 152 (data exists)\n",
      "Metoprolol_19\n",
      "233 (nan) 152 (data exists)\n",
      "Insulin aspart_6\n",
      "233 (nan) 152 (data exists)\n",
      "Isosorbide dinitrate_10\n",
      "233 (nan) 152 (data exists)\n",
      "Acarbose_7\n",
      "233 (nan) 152 (data exists)\n",
      "Captopril Tablets_6\n",
      "233 (nan) 152 (data exists)\n",
      "Estazolam_6\n",
      "233 (nan) 152 (data exists)\n",
      "Nitroglycerin Tablets_8\n",
      "233 (nan) 152 (data exists)\n",
      "Potassium chloride_32\n",
      "233 (nan) 152 (data exists)\n"
     ]
    }
   ],
   "source": [
    "for i in range(3, len(meta_data_full.columns)):\n",
    "    col_name = meta_data_full.columns[i]\n",
    "    print(col_name)\n",
    "    x = meta_data_full[col_name].to_numpy()\n",
    "    if x.dtype is np.dtype('object'):\n",
    "        x = x.astype('str')\n",
    "        print(pd.DataFrame({'x': x}).value_counts('x'))\n",
    "    else:\n",
    "        nan_count = np.sum(np.isnan(x))\n",
    "        print('{} (nan) {} (data exists)'.format(nan_count, len(x) - nan_count))"
   ]
  },
  {
   "cell_type": "code",
   "execution_count": 27,
   "id": "5ae240b0",
   "metadata": {},
   "outputs": [
    {
     "data": {
      "text/plain": [
       "1    214\n",
       "0    171\n",
       "Name: ACVD status, dtype: int64"
      ]
     },
     "execution_count": 27,
     "metadata": {},
     "output_type": "execute_result"
    }
   ],
   "source": [
    "meta_data_full['ACVD status'].value_counts()\n"
   ]
  },
  {
   "cell_type": "code",
   "execution_count": 28,
   "id": "2819a00e",
   "metadata": {},
   "outputs": [
    {
     "data": {
      "text/plain": [
       "False"
      ]
     },
     "execution_count": 28,
     "metadata": {},
     "output_type": "execute_result"
    }
   ],
   "source": [
    "np.any(np.isnan(meta_data_full['ACVD status'].to_numpy()))"
   ]
  },
  {
   "cell_type": "code",
   "execution_count": 29,
   "id": "10c405de",
   "metadata": {},
   "outputs": [
    {
     "data": {
      "text/plain": [
       "male      226\n",
       "female    154\n",
       "Name: Gender, dtype: int64"
      ]
     },
     "execution_count": 29,
     "metadata": {},
     "output_type": "execute_result"
    }
   ],
   "source": [
    "meta_data_full['Gender'].value_counts()"
   ]
  },
  {
   "cell_type": "code",
   "execution_count": 30,
   "id": "de2f28c3",
   "metadata": {},
   "outputs": [],
   "source": [
    "y = meta_data_full['ACVD status'].to_numpy().astype('int32')"
   ]
  },
  {
   "cell_type": "code",
   "execution_count": 31,
   "id": "1f8002f4",
   "metadata": {},
   "outputs": [
    {
     "data": {
      "text/plain": [
       "(385,)"
      ]
     },
     "execution_count": 31,
     "metadata": {},
     "output_type": "execute_result"
    }
   ],
   "source": [
    "y.shape"
   ]
  },
  {
   "cell_type": "markdown",
   "id": "51421cbe",
   "metadata": {},
   "source": [
    "# Assess Associations of Clinical, Microbiome Variables"
   ]
  },
  {
   "cell_type": "code",
   "execution_count": 32,
   "id": "57c36467",
   "metadata": {},
   "outputs": [
    {
     "name": "stdout",
     "output_type": "stream",
     "text": [
      "contingency table\n",
      "[[157  69]\n",
      " [ 53 101]]\n",
      "odds ratio: 4.336067815149029; pval 1.1397605964582858e-11\n"
     ]
    },
    {
     "data": {
      "text/plain": [
       "(array([[157,  69],\n",
       "        [ 53, 101]]),\n",
       " 4.336067815149029,\n",
       " 1.1397605964582858e-11)"
      ]
     },
     "execution_count": 32,
     "metadata": {},
     "output_type": "execute_result"
    }
   ],
   "source": [
    "# check association of clinical variables\n",
    "\n",
    "# gender\n",
    "gender_vect = meta_data_full['Gender'].to_numpy().astype('str')\n",
    "gender_not_nan = gender_vect != 'nan'\n",
    "fisher_test_vect(gender_vect[gender_not_nan], y[gender_not_nan], 'male', 1, alternative='greater')"
   ]
  },
  {
   "cell_type": "code",
   "execution_count": 33,
   "id": "05822138",
   "metadata": {},
   "outputs": [
    {
     "data": {
      "text/plain": [
       "array([ 52.  ,  53.  ,  48.  ,  53.  ,  53.  ,  60.  ,  69.  ,  61.  ,\n",
       "        44.  ,  56.  ,  54.  ,  41.  ,  55.  ,  50.  ,  40.  ,  55.  ,\n",
       "        54.  ,  67.  ,  67.  ,  38.  ,  45.  ,  56.  ,  53.  ,  52.  ,\n",
       "        55.  ,  52.  ,  47.  ,  55.  ,  50.  ,  56.  ,  58.  ,  70.  ,\n",
       "        60.  ,  46.  ,  61.  ,  40.  ,  43.  ,  60.  ,  52.  ,  54.  ,\n",
       "        57.  ,  56.  ,  53.  ,  59.  ,  57.  ,  50.  ,  62.  ,  50.  ,\n",
       "        55.  ,  74.  ,  73.  ,  72.  ,  65.  ,  77.  ,  84.  ,  74.  ,\n",
       "        69.  ,  65.  ,  67.  ,  65.  ,  51.  ,  54.  ,  53.  ,  51.  ,\n",
       "        61.  ,  61.  ,  59.  ,  62.  ,  58.  ,  60.  ,  58.  ,  70.  ,\n",
       "        66.  ,  57.  ,  56.  ,  56.  ,  59.  ,  67.  ,  57.  ,  53.  ,\n",
       "        69.  ,  65.  ,  58.  ,  57.  ,  55.  ,  59.  ,  63.  ,  59.  ,\n",
       "        64.  ,  59.  ,  62.  ,  53.  ,  61.  ,  61.  ,  68.  ,  80.  ,\n",
       "        71.  ,  74.  ,  65.  ,  66.  ,  79.  ,  70.  ,  66.  ,  65.  ,\n",
       "        74.  ,  79.  ,  69.  , 107.  ,    nan,  63.  ,  56.  ,  58.  ,\n",
       "        65.  ,  57.  ,    nan,    nan,  54.  ,  56.  ,  58.  ,  51.  ,\n",
       "        56.  ,  66.  ,  66.  ,  57.  ,  58.  ,  57.  ,  58.  ,  58.  ,\n",
       "        69.  ,  68.  ,  63.  ,  62.  ,  67.  ,  61.  ,  55.  ,  56.  ,\n",
       "        61.  ,  55.  ,  56.  , 107.  ,  62.  ,  59.  ,  61.  ,  57.  ,\n",
       "       107.  ,  62.  ,  61.  ,  61.  ,  62.  ,  63.  ,  62.  ,  61.  ,\n",
       "          nan,  65.  ,    nan,    nan,    nan,  56.  ,  56.  ,  58.  ,\n",
       "        60.  ,  55.  ,  57.  ,  61.  ,  59.  ,  59.  ,  54.  ,  62.  ,\n",
       "        63.  ,  60.  ,  62.  ,  42.83,  76.03,  73.  ,  45.4 ,  64.59,\n",
       "        82.2 ,  47.88,  79.5 ,  55.  ,  59.19,  77.65,  69.  ,  55.16,\n",
       "        59.  ,  67.  ,  61.  ,  47.46,  61.  ,  44.38,  75.  ,  78.6 ,\n",
       "        65.45,  48.44,  68.  ,  47.01,  75.26,  70.  ,  44.  ,  77.  ,\n",
       "        81.73,  55.06,  71.  ,  52.  ,  47.79,  61.68,  68.  ,  50.95,\n",
       "        45.42,  47.  ,  52.  ,  59.  ,  76.86,  58.97,  55.65,  66.  ,\n",
       "        71.03,  65.09,  68.  ,  48.39,  58.  ,  52.25,  52.  ,  65.  ,\n",
       "        54.  ,  61.58,  60.  ,  57.26,  33.9 ,  49.19,  71.75,  56.57,\n",
       "        67.44,  82.14,  75.77,  61.03,  82.65,  75.63,  54.85,  64.78,\n",
       "        49.93,  75.88,  48.54,  58.56,  77.14,  58.76,  65.73,  65.07,\n",
       "        69.17,  81.34,  32.41,  55.44,  42.32,  58.53,  74.51,  49.  ,\n",
       "        66.18,  75.76,  62.46,  60.46,  67.68,  46.23,  70.27,  48.12,\n",
       "        61.78,  72.75,  71.47,  66.3 ,  50.24,  46.87,  80.21,  70.89,\n",
       "        68.12,  68.11,  70.25,  59.47,  57.49,  54.12,  72.13,  54.93,\n",
       "        66.41,  53.02,  55.03,  62.49,  77.49,  67.31,  63.12,  61.28,\n",
       "        59.09,  65.84,  50.62,  60.72,  60.42,  62.36,  47.61,  49.85,\n",
       "        57.  ,  55.78,  70.51,  50.91,  56.02,  59.19,  58.23,  59.2 ,\n",
       "        61.51,  45.02,  47.31,  49.24,  59.92,  63.08,  69.65,  58.88,\n",
       "        56.24,  64.51,  64.79,  65.3 ,  55.76,  57.76,  65.7 ,  46.79,\n",
       "        46.36,  59.09,  61.42,  63.62,  56.  ,  67.  ,  79.  ,  69.  ,\n",
       "        68.  ,  66.  ,  35.  ,  43.  ,  55.  ,  42.  ,  60.  ,  77.  ,\n",
       "        45.  ,  62.  ,  68.  ,  55.  ,  69.  ,  62.  ,  68.  ,  65.  ,\n",
       "        55.  ,  74.  ,  49.  ,  62.  ,  72.  ,  62.  ,  61.  ,  61.  ,\n",
       "        61.  ,  61.  ,  61.  ,  61.  ,  61.  ,  61.  ,  61.  ,  61.  ,\n",
       "        61.  ,  61.  ,  61.  ,  61.  ,  61.  ,  61.  ,  61.  ,  61.  ,\n",
       "        61.  ,  61.  ,  61.  ,  61.  ,  61.  ,  61.  ,  61.  ,  61.  ,\n",
       "        61.  ,  61.  ,  61.  ,  61.  ,  61.  ,  57.98,  66.16,  56.11,\n",
       "        71.  ])"
      ]
     },
     "execution_count": 33,
     "metadata": {},
     "output_type": "execute_result"
    }
   ],
   "source": [
    "meta_data_full['Age (year)'].to_numpy()"
   ]
  },
  {
   "cell_type": "code",
   "execution_count": 34,
   "id": "ae597286",
   "metadata": {},
   "outputs": [
    {
     "name": "stdout",
     "output_type": "stream",
     "text": [
      "378\n"
     ]
    },
    {
     "data": {
      "text/plain": [
       "Ttest_indResult(statistic=0.6030663996184584, pvalue=0.5468280984304414)"
      ]
     },
     "execution_count": 34,
     "metadata": {},
     "output_type": "execute_result"
    }
   ],
   "source": [
    "# age\n",
    "age_vect = meta_data_full['Age (year)'].to_numpy()\n",
    "age_not_nan = np.logical_not(np.isnan(age_vect))\n",
    "print(np.sum(age_not_nan))\n",
    "ttest_ind(age_vect[age_not_nan][y[age_not_nan] == 1], age_vect[age_not_nan][y[age_not_nan] == 0])"
   ]
  },
  {
   "cell_type": "code",
   "execution_count": 35,
   "id": "f9564ee2",
   "metadata": {},
   "outputs": [
    {
     "data": {
      "text/plain": [
       "<seaborn.axisgrid.FacetGrid at 0x7f4ce3817450>"
      ]
     },
     "execution_count": 35,
     "metadata": {},
     "output_type": "execute_result"
    },
    {
     "data": {
      "image/png": "[encoded data removed]",
      "text/plain": [
       "<Figure size 360x360 with 1 Axes>"
      ]
     },
     "metadata": {
      "needs_background": "light"
     },
     "output_type": "display_data"
    }
   ],
   "source": [
    "sns.displot(age_vect[age_not_nan][y[age_not_nan] == 1])"
   ]
  },
  {
   "cell_type": "code",
   "execution_count": 36,
   "id": "f59ea4a0",
   "metadata": {},
   "outputs": [
    {
     "data": {
      "text/plain": [
       "<seaborn.axisgrid.FacetGrid at 0x7f4ce3811e90>"
      ]
     },
     "execution_count": 36,
     "metadata": {},
     "output_type": "execute_result"
    },
    {
     "data": {
      "image/png": "[encoded data removed]",
      "text/plain": [
       "<Figure size 360x360 with 1 Axes>"
      ]
     },
     "metadata": {
      "needs_background": "light"
     },
     "output_type": "display_data"
    }
   ],
   "source": [
    "sns.displot(age_vect[age_not_nan][y[age_not_nan] == 0])"
   ]
  },
  {
   "cell_type": "code",
   "execution_count": 37,
   "id": "1708b4ae",
   "metadata": {},
   "outputs": [
    {
     "name": "stdout",
     "output_type": "stream",
     "text": [
      "313\n"
     ]
    },
    {
     "data": {
      "text/plain": [
       "Ttest_indResult(statistic=0.19394592250893994, pvalue=0.8463448413490583)"
      ]
     },
     "execution_count": 37,
     "metadata": {},
     "output_type": "execute_result"
    }
   ],
   "source": [
    "# BMI\n",
    "bmi_vect = meta_data_full['Body Mass Index (BMI)'].to_numpy()\n",
    "bmi_not_nan = np.logical_not(np.isnan(bmi_vect))\n",
    "print(np.sum(bmi_not_nan))\n",
    "ttest_ind(bmi_vect[bmi_not_nan][y[bmi_not_nan] == 1], bmi_vect[bmi_not_nan][y[bmi_not_nan] == 0])"
   ]
  },
  {
   "cell_type": "code",
   "execution_count": 38,
   "id": "43f362e4",
   "metadata": {},
   "outputs": [
    {
     "name": "stdout",
     "output_type": "stream",
     "text": [
      "185\n"
     ]
    },
    {
     "data": {
      "text/plain": [
       "Ttest_indResult(statistic=79.4045614221356, pvalue=9.591397011967446e-144)"
      ]
     },
     "execution_count": 38,
     "metadata": {},
     "output_type": "execute_result"
    }
   ],
   "source": [
    "# systolic blood pressure\n",
    "systolic_vect = meta_data_full['Systolic Blood Pressure (mmHg)'].to_numpy()\n",
    "systolic_not_nan = np.logical_not(np.isnan(systolic_vect))\n",
    "print(np.sum(systolic_not_nan))\n",
    "ttest_ind(systolic_vect[systolic_not_nan][y[systolic_not_nan] == 1], systolic_not_nan[systolic_not_nan][y[systolic_not_nan] == 0])"
   ]
  },
  {
   "cell_type": "code",
   "execution_count": 39,
   "id": "571d938e",
   "metadata": {},
   "outputs": [
    {
     "name": "stdout",
     "output_type": "stream",
     "text": [
      "185\n"
     ]
    },
    {
     "data": {
      "text/plain": [
       "Ttest_indResult(statistic=0.9908841203369072, pvalue=0.3230505234221328)"
      ]
     },
     "execution_count": 39,
     "metadata": {},
     "output_type": "execute_result"
    }
   ],
   "source": [
    "# diastolic blood pressure\n",
    "diastolic_vect = meta_data_full['Diastolic Blood Pressure (mmHg)'].to_numpy()\n",
    "diastolic_not_nan = np.logical_not(np.isnan(systolic_vect))\n",
    "print(np.sum(diastolic_not_nan))\n",
    "ttest_ind(diastolic_vect[diastolic_not_nan][y[diastolic_not_nan] == 1], diastolic_vect[diastolic_not_nan][y[diastolic_not_nan] == 0])"
   ]
  },
  {
   "cell_type": "markdown",
   "id": "fbe70473",
   "metadata": {},
   "source": [
    "Given that we only have used Age, BMI, and gender in our models thus far, it is more than likely that gender is giving the highest amount of performance gain to our model relative to differentially abundant microbiota alone."
   ]
  },
  {
   "cell_type": "markdown",
   "id": "5b9b1402",
   "metadata": {},
   "source": [
    "## Get Differentially Expressed Features, ACVD vs non-ACVD"
   ]
  },
  {
   "cell_type": "code",
   "execution_count": 40,
   "id": "7f954779",
   "metadata": {},
   "outputs": [
    {
     "data": {
      "text/plain": [
       "<MicroBiome.DiffExpTransform at 0x7f4ce3712410>"
      ]
     },
     "execution_count": 40,
     "metadata": {},
     "output_type": "execute_result"
    }
   ],
   "source": [
    "DE = DiffExpTransform()\n",
    "DE.fit(X[gender_not_nan, :], y[gender_not_nan])"
   ]
  },
  {
   "cell_type": "code",
   "execution_count": 41,
   "id": "3dac4e69",
   "metadata": {},
   "outputs": [
    {
     "data": {
      "text/html": [
       "<div>\n",
       "<style scoped>\n",
       "    .dataframe tbody tr th:only-of-type {\n",
       "        vertical-align: middle;\n",
       "    }\n",
       "\n",
       "    .dataframe tbody tr th {\n",
       "        vertical-align: top;\n",
       "    }\n",
       "\n",
       "    .dataframe thead th {\n",
       "        text-align: right;\n",
       "    }\n",
       "</style>\n",
       "<table border=\"1\" class=\"dataframe\">\n",
       "  <thead>\n",
       "    <tr style=\"text-align: right;\">\n",
       "      <th></th>\n",
       "      <th>tstat</th>\n",
       "      <th>pval</th>\n",
       "      <th>p_adj</th>\n",
       "      <th>rejected</th>\n",
       "    </tr>\n",
       "  </thead>\n",
       "  <tbody>\n",
       "    <tr>\n",
       "      <th>16</th>\n",
       "      <td>5.056063</td>\n",
       "      <td>3.342401e-07</td>\n",
       "      <td>NaN</td>\n",
       "      <td>True</td>\n",
       "    </tr>\n",
       "    <tr>\n",
       "      <th>30</th>\n",
       "      <td>4.244579</td>\n",
       "      <td>1.379456e-05</td>\n",
       "      <td>NaN</td>\n",
       "      <td>True</td>\n",
       "    </tr>\n",
       "    <tr>\n",
       "      <th>31</th>\n",
       "      <td>4.430747</td>\n",
       "      <td>6.158420e-06</td>\n",
       "      <td>NaN</td>\n",
       "      <td>True</td>\n",
       "    </tr>\n",
       "    <tr>\n",
       "      <th>33</th>\n",
       "      <td>3.326473</td>\n",
       "      <td>4.828571e-04</td>\n",
       "      <td>NaN</td>\n",
       "      <td>True</td>\n",
       "    </tr>\n",
       "    <tr>\n",
       "      <th>99</th>\n",
       "      <td>3.321044</td>\n",
       "      <td>4.920750e-04</td>\n",
       "      <td>NaN</td>\n",
       "      <td>True</td>\n",
       "    </tr>\n",
       "  </tbody>\n",
       "</table>\n",
       "</div>"
      ],
      "text/plain": [
       "       tstat          pval  p_adj  rejected\n",
       "16  5.056063  3.342401e-07    NaN      True\n",
       "30  4.244579  1.379456e-05    NaN      True\n",
       "31  4.430747  6.158420e-06    NaN      True\n",
       "33  3.326473  4.828571e-04    NaN      True\n",
       "99  3.321044  4.920750e-04    NaN      True"
      ]
     },
     "execution_count": 41,
     "metadata": {},
     "output_type": "execute_result"
    }
   ],
   "source": [
    "# ACVD negative associated features\n",
    "DE.results['0'][DE.results['0']['rejected'] == True].head()"
   ]
  },
  {
   "cell_type": "code",
   "execution_count": 42,
   "id": "e97350ed",
   "metadata": {},
   "outputs": [
    {
     "data": {
      "text/plain": [
       "27"
      ]
     },
     "execution_count": 42,
     "metadata": {},
     "output_type": "execute_result"
    }
   ],
   "source": [
    "DE.results['0'][DE.results['0']['rejected'] == True].shape[0]"
   ]
  },
  {
   "cell_type": "code",
   "execution_count": 43,
   "id": "4ef62e31",
   "metadata": {},
   "outputs": [
    {
     "data": {
      "text/html": [
       "<div>\n",
       "<style scoped>\n",
       "    .dataframe tbody tr th:only-of-type {\n",
       "        vertical-align: middle;\n",
       "    }\n",
       "\n",
       "    .dataframe tbody tr th {\n",
       "        vertical-align: top;\n",
       "    }\n",
       "\n",
       "    .dataframe thead th {\n",
       "        text-align: right;\n",
       "    }\n",
       "</style>\n",
       "<table border=\"1\" class=\"dataframe\">\n",
       "  <thead>\n",
       "    <tr style=\"text-align: right;\">\n",
       "      <th></th>\n",
       "      <th>tstat</th>\n",
       "      <th>pval</th>\n",
       "      <th>p_adj</th>\n",
       "      <th>rejected</th>\n",
       "    </tr>\n",
       "  </thead>\n",
       "  <tbody>\n",
       "    <tr>\n",
       "      <th>237</th>\n",
       "      <td>4.254159</td>\n",
       "      <td>0.000013</td>\n",
       "      <td>NaN</td>\n",
       "      <td>True</td>\n",
       "    </tr>\n",
       "    <tr>\n",
       "      <th>247</th>\n",
       "      <td>3.931674</td>\n",
       "      <td>0.000050</td>\n",
       "      <td>NaN</td>\n",
       "      <td>True</td>\n",
       "    </tr>\n",
       "    <tr>\n",
       "      <th>333</th>\n",
       "      <td>4.449814</td>\n",
       "      <td>0.000006</td>\n",
       "      <td>NaN</td>\n",
       "      <td>True</td>\n",
       "    </tr>\n",
       "    <tr>\n",
       "      <th>364</th>\n",
       "      <td>3.430883</td>\n",
       "      <td>0.000334</td>\n",
       "      <td>NaN</td>\n",
       "      <td>True</td>\n",
       "    </tr>\n",
       "    <tr>\n",
       "      <th>366</th>\n",
       "      <td>3.454073</td>\n",
       "      <td>0.000307</td>\n",
       "      <td>NaN</td>\n",
       "      <td>True</td>\n",
       "    </tr>\n",
       "  </tbody>\n",
       "</table>\n",
       "</div>"
      ],
      "text/plain": [
       "        tstat      pval  p_adj  rejected\n",
       "237  4.254159  0.000013    NaN      True\n",
       "247  3.931674  0.000050    NaN      True\n",
       "333  4.449814  0.000006    NaN      True\n",
       "364  3.430883  0.000334    NaN      True\n",
       "366  3.454073  0.000307    NaN      True"
      ]
     },
     "execution_count": 43,
     "metadata": {},
     "output_type": "execute_result"
    }
   ],
   "source": [
    "# ACVD positive associated features\n",
    "DE.results['1'][DE.results['1']['rejected'] == True].head()"
   ]
  },
  {
   "cell_type": "code",
   "execution_count": 44,
   "id": "e1de5148",
   "metadata": {},
   "outputs": [
    {
     "data": {
      "text/plain": [
       "58"
      ]
     },
     "execution_count": 44,
     "metadata": {},
     "output_type": "execute_result"
    }
   ],
   "source": [
    "DE.results['1'][DE.results['1']['rejected'] == True].shape[0]"
   ]
  },
  {
   "cell_type": "markdown",
   "id": "cd7c26b9",
   "metadata": {},
   "source": [
    "## Get Differentially Expressed Features, Male vs Female\n",
    "\n",
    "Weirdly enough, it doesn't appear that through a simple t-test we detect differentially abundant features between male and female individuals. We are probably underpowered for detecting differences between male and female microbiomes, due to the nature of assuming normally distributed data and using data bound between 0 and 1. However, this suggests, that the differences between male and female microbiota are not large enough to result in features that are detectably different to the extent that they are in at least a subset of ACVD and non-ACVD samples"
   ]
  },
  {
   "cell_type": "code",
   "execution_count": 45,
   "id": "d0a53563",
   "metadata": {},
   "outputs": [
    {
     "data": {
      "text/plain": [
       "<MicroBiome.DiffExpTransform at 0x7f4ce370a4d0>"
      ]
     },
     "execution_count": 45,
     "metadata": {},
     "output_type": "execute_result"
    }
   ],
   "source": [
    "DE_MF = DiffExpTransform()\n",
    "DE_MF.fit(X[gender_not_nan, :], (gender_vect[gender_not_nan] == 'male').astype('int64'))"
   ]
  },
  {
   "cell_type": "code",
   "execution_count": 46,
   "id": "1314e205",
   "metadata": {},
   "outputs": [
    {
     "name": "stdout",
     "output_type": "stream",
     "text": [
      "no. features 0\n"
     ]
    },
    {
     "data": {
      "text/html": [
       "<div>\n",
       "<style scoped>\n",
       "    .dataframe tbody tr th:only-of-type {\n",
       "        vertical-align: middle;\n",
       "    }\n",
       "\n",
       "    .dataframe tbody tr th {\n",
       "        vertical-align: top;\n",
       "    }\n",
       "\n",
       "    .dataframe thead th {\n",
       "        text-align: right;\n",
       "    }\n",
       "</style>\n",
       "<table border=\"1\" class=\"dataframe\">\n",
       "  <thead>\n",
       "    <tr style=\"text-align: right;\">\n",
       "      <th></th>\n",
       "      <th>tstat</th>\n",
       "      <th>pval</th>\n",
       "      <th>p_adj</th>\n",
       "      <th>rejected</th>\n",
       "    </tr>\n",
       "  </thead>\n",
       "  <tbody>\n",
       "  </tbody>\n",
       "</table>\n",
       "</div>"
      ],
      "text/plain": [
       "Empty DataFrame\n",
       "Columns: [tstat, pval, p_adj, rejected]\n",
       "Index: []"
      ]
     },
     "execution_count": 46,
     "metadata": {},
     "output_type": "execute_result"
    }
   ],
   "source": [
    "# female associated features\n",
    "print('no. features {}'.format(DE_MF.results['0'][DE_MF.results['0']['rejected'] == True].shape[0]))\n",
    "DE_MF.results['0'][DE_MF.results['0']['rejected'] == True].head()"
   ]
  },
  {
   "cell_type": "code",
   "execution_count": 47,
   "id": "328829fa",
   "metadata": {},
   "outputs": [
    {
     "name": "stdout",
     "output_type": "stream",
     "text": [
      "no. features 0\n"
     ]
    },
    {
     "data": {
      "text/html": [
       "<div>\n",
       "<style scoped>\n",
       "    .dataframe tbody tr th:only-of-type {\n",
       "        vertical-align: middle;\n",
       "    }\n",
       "\n",
       "    .dataframe tbody tr th {\n",
       "        vertical-align: top;\n",
       "    }\n",
       "\n",
       "    .dataframe thead th {\n",
       "        text-align: right;\n",
       "    }\n",
       "</style>\n",
       "<table border=\"1\" class=\"dataframe\">\n",
       "  <thead>\n",
       "    <tr style=\"text-align: right;\">\n",
       "      <th></th>\n",
       "      <th>tstat</th>\n",
       "      <th>pval</th>\n",
       "      <th>p_adj</th>\n",
       "      <th>rejected</th>\n",
       "    </tr>\n",
       "  </thead>\n",
       "  <tbody>\n",
       "  </tbody>\n",
       "</table>\n",
       "</div>"
      ],
      "text/plain": [
       "Empty DataFrame\n",
       "Columns: [tstat, pval, p_adj, rejected]\n",
       "Index: []"
      ]
     },
     "execution_count": 47,
     "metadata": {},
     "output_type": "execute_result"
    }
   ],
   "source": [
    "# male associated features\n",
    "print('no. features {}'.format(DE_MF.results['1'][DE_MF.results['1']['rejected'] == True].shape[0]))\n",
    "DE_MF.results['1'][DE_MF.results['1']['rejected'] == True].head()"
   ]
  },
  {
   "cell_type": "code",
   "execution_count": null,
   "id": "d73ff3dd",
   "metadata": {},
   "outputs": [],
   "source": []
  }
 ],
 "metadata": {
  "celltoolbar": "Tags",
  "kernelspec": {
   "display_name": "Python 3",
   "language": "python",
   "name": "python3"
  },
  "language_info": {
   "codemirror_mode": {
    "name": "ipython",
    "version": 3
   },
   "file_extension": ".py",
   "mimetype": "text/x-python",
   "name": "python",
   "nbconvert_exporter": "python",
   "pygments_lexer": "ipython3",
   "version": "3.7.10"
  }
 },
 "nbformat": 4,
 "nbformat_minor": 5
}
