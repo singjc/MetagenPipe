{
 "cells": [
  {
   "cell_type": "code",
   "execution_count": 1,
   "id": "weekly-crown",
   "metadata": {},
   "outputs": [],
   "source": [
    "from sklearn import model_selection\n",
    "from sklearn import metrics\n",
    "from sklearn.preprocessing import StandardScaler\n",
    "import os\n",
    "import numpy as np\n",
    "import pandas as pd\n",
    "from MicroBiome import MicroBiomeDataSet, Trainer, TrainTester, MultiTrainTester\n",
    "from SNN import FeedForward, SiameseDataSet, SiameseModel\n",
    "import seaborn as sns\n",
    "\n",
    "# Ignore warning messages\n",
    "if True:\n",
    "    import warnings\n",
    "    warnings.filterwarnings('ignore')"
   ]
  },
  {
   "cell_type": "markdown",
   "id": "minor-sapphire",
   "metadata": {},
   "source": [
    "# Load Data"
   ]
  },
  {
   "cell_type": "code",
   "execution_count": 2,
   "id": "stuffed-washer",
   "metadata": {},
   "outputs": [],
   "source": [
    "top_dir = '/project'\n",
    "data_dir = os.path.join(top_dir, 'data')\n",
    "preproc_dir = os.path.join(data_dir, 'preprocessed')\n",
    "inp_dir = os.path.join(preproc_dir, 'Gupta_2020_Precompiled_Cleaned')"
   ]
  },
  {
   "cell_type": "code",
   "execution_count": 3,
   "id": "aerial-airfare",
   "metadata": {},
   "outputs": [
    {
     "data": {
      "text/plain": [
       "['MatrixDataClean.csv', 'SampleMetaDataClean.csv', 'FeatMetaDataClean.csv']"
      ]
     },
     "execution_count": 3,
     "metadata": {},
     "output_type": "execute_result"
    }
   ],
   "source": [
    "os.listdir(inp_dir)"
   ]
  },
  {
   "cell_type": "code",
   "execution_count": 4,
   "id": "associate-walnut",
   "metadata": {},
   "outputs": [
    {
     "data": {
      "text/plain": [
       "(4347, 903)"
      ]
     },
     "execution_count": 4,
     "metadata": {},
     "output_type": "execute_result"
    }
   ],
   "source": [
    "MatrixData = np.loadtxt(os.path.join(inp_dir, 'MatrixDataClean.csv'))\n",
    "MatrixData.shape"
   ]
  },
  {
   "cell_type": "code",
   "execution_count": 5,
   "id": "communist-coach",
   "metadata": {},
   "outputs": [
    {
     "data": {
      "text/html": [
       "<div>\n",
       "<style scoped>\n",
       "    .dataframe tbody tr th:only-of-type {\n",
       "        vertical-align: middle;\n",
       "    }\n",
       "\n",
       "    .dataframe tbody tr th {\n",
       "        vertical-align: top;\n",
       "    }\n",
       "\n",
       "    .dataframe thead th {\n",
       "        text-align: right;\n",
       "    }\n",
       "</style>\n",
       "<table border=\"1\" class=\"dataframe\">\n",
       "  <thead>\n",
       "    <tr style=\"text-align: right;\">\n",
       "      <th></th>\n",
       "      <th>6</th>\n",
       "      <th>study</th>\n",
       "      <th>Study No. (From VG sheet (V-*) from SB sheet (S-*))</th>\n",
       "      <th>Title of Paper</th>\n",
       "      <th>Author (year)</th>\n",
       "      <th>Journal</th>\n",
       "      <th>Study Accession</th>\n",
       "      <th>Sample Accession or Sample ID</th>\n",
       "      <th>Sample title (ENA/SRA)</th>\n",
       "      <th>Sample title (Paper)</th>\n",
       "      <th>...</th>\n",
       "      <th>Use of milk or milk products (Yes/No/Sometimes)</th>\n",
       "      <th>Use of Animal Product- Meat (Yes/No/Vegetarian/Vegan)</th>\n",
       "      <th>Alcohol Consumption (Yes/No)</th>\n",
       "      <th>Diet1</th>\n",
       "      <th>Intervention for study (Diet)</th>\n",
       "      <th>Intervention for study (medication)</th>\n",
       "      <th>Sequencing Platform</th>\n",
       "      <th>Library layout (SINGLE/PAIRED)</th>\n",
       "      <th>Read count after Quality control</th>\n",
       "      <th>Healthy</th>\n",
       "    </tr>\n",
       "  </thead>\n",
       "  <tbody>\n",
       "    <tr>\n",
       "      <th>0</th>\n",
       "      <td>SAMEA104142287</td>\n",
       "      <td>V-2_ACVD</td>\n",
       "      <td>V-2</td>\n",
       "      <td>The gut microbiome in atherosclerotic cardiova...</td>\n",
       "      <td>Jie (2017)</td>\n",
       "      <td>Nature communications</td>\n",
       "      <td>PRJEB21528</td>\n",
       "      <td>SAMEA104142287</td>\n",
       "      <td>ZSL-004</td>\n",
       "      <td>ZSL-004</td>\n",
       "      <td>...</td>\n",
       "      <td>NaN</td>\n",
       "      <td>NaN</td>\n",
       "      <td>NaN</td>\n",
       "      <td>NaN</td>\n",
       "      <td>NaN</td>\n",
       "      <td>NaN</td>\n",
       "      <td>Illumina HiSeq 2000</td>\n",
       "      <td>PAIRED</td>\n",
       "      <td>43356775.0</td>\n",
       "      <td>Unhealthy</td>\n",
       "    </tr>\n",
       "    <tr>\n",
       "      <th>1</th>\n",
       "      <td>SAMEA104142288</td>\n",
       "      <td>V-2_ACVD</td>\n",
       "      <td>V-2</td>\n",
       "      <td>The gut microbiome in atherosclerotic cardiova...</td>\n",
       "      <td>Jie (2017)</td>\n",
       "      <td>Nature communications</td>\n",
       "      <td>PRJEB21528</td>\n",
       "      <td>SAMEA104142288</td>\n",
       "      <td>ZSL-007</td>\n",
       "      <td>ZSL-007</td>\n",
       "      <td>...</td>\n",
       "      <td>NaN</td>\n",
       "      <td>NaN</td>\n",
       "      <td>NaN</td>\n",
       "      <td>NaN</td>\n",
       "      <td>NaN</td>\n",
       "      <td>NaN</td>\n",
       "      <td>Illumina HiSeq 2000</td>\n",
       "      <td>PAIRED</td>\n",
       "      <td>41073871.0</td>\n",
       "      <td>Unhealthy</td>\n",
       "    </tr>\n",
       "    <tr>\n",
       "      <th>2</th>\n",
       "      <td>SAMEA104142293</td>\n",
       "      <td>V-2_ACVD</td>\n",
       "      <td>V-2</td>\n",
       "      <td>The gut microbiome in atherosclerotic cardiova...</td>\n",
       "      <td>Jie (2017)</td>\n",
       "      <td>Nature communications</td>\n",
       "      <td>PRJEB21528</td>\n",
       "      <td>SAMEA104142293</td>\n",
       "      <td>ZSL-010</td>\n",
       "      <td>ZSL-010</td>\n",
       "      <td>...</td>\n",
       "      <td>NaN</td>\n",
       "      <td>NaN</td>\n",
       "      <td>NaN</td>\n",
       "      <td>NaN</td>\n",
       "      <td>NaN</td>\n",
       "      <td>NaN</td>\n",
       "      <td>Illumina HiSeq 2000</td>\n",
       "      <td>PAIRED</td>\n",
       "      <td>40199673.0</td>\n",
       "      <td>Unhealthy</td>\n",
       "    </tr>\n",
       "    <tr>\n",
       "      <th>3</th>\n",
       "      <td>SAMEA104142291</td>\n",
       "      <td>V-2_ACVD</td>\n",
       "      <td>V-2</td>\n",
       "      <td>The gut microbiome in atherosclerotic cardiova...</td>\n",
       "      <td>Jie (2017)</td>\n",
       "      <td>Nature communications</td>\n",
       "      <td>PRJEB21528</td>\n",
       "      <td>SAMEA104142291</td>\n",
       "      <td>ZSL-011</td>\n",
       "      <td>ZSL-011</td>\n",
       "      <td>...</td>\n",
       "      <td>NaN</td>\n",
       "      <td>NaN</td>\n",
       "      <td>NaN</td>\n",
       "      <td>NaN</td>\n",
       "      <td>NaN</td>\n",
       "      <td>NaN</td>\n",
       "      <td>Illumina HiSeq 2000</td>\n",
       "      <td>PAIRED</td>\n",
       "      <td>31054158.0</td>\n",
       "      <td>Unhealthy</td>\n",
       "    </tr>\n",
       "    <tr>\n",
       "      <th>4</th>\n",
       "      <td>SAMEA104142284</td>\n",
       "      <td>V-2_ACVD</td>\n",
       "      <td>V-2</td>\n",
       "      <td>The gut microbiome in atherosclerotic cardiova...</td>\n",
       "      <td>Jie (2017)</td>\n",
       "      <td>Nature communications</td>\n",
       "      <td>PRJEB21528</td>\n",
       "      <td>SAMEA104142284</td>\n",
       "      <td>ZSL-019</td>\n",
       "      <td>ZSL-019</td>\n",
       "      <td>...</td>\n",
       "      <td>NaN</td>\n",
       "      <td>NaN</td>\n",
       "      <td>NaN</td>\n",
       "      <td>NaN</td>\n",
       "      <td>NaN</td>\n",
       "      <td>NaN</td>\n",
       "      <td>Illumina HiSeq 2000</td>\n",
       "      <td>PAIRED</td>\n",
       "      <td>36081150.0</td>\n",
       "      <td>Unhealthy</td>\n",
       "    </tr>\n",
       "    <tr>\n",
       "      <th>...</th>\n",
       "      <td>...</td>\n",
       "      <td>...</td>\n",
       "      <td>...</td>\n",
       "      <td>...</td>\n",
       "      <td>...</td>\n",
       "      <td>...</td>\n",
       "      <td>...</td>\n",
       "      <td>...</td>\n",
       "      <td>...</td>\n",
       "      <td>...</td>\n",
       "      <td>...</td>\n",
       "      <td>...</td>\n",
       "      <td>...</td>\n",
       "      <td>...</td>\n",
       "      <td>...</td>\n",
       "      <td>...</td>\n",
       "      <td>...</td>\n",
       "      <td>...</td>\n",
       "      <td>...</td>\n",
       "      <td>...</td>\n",
       "      <td>...</td>\n",
       "    </tr>\n",
       "    <tr>\n",
       "      <th>4342</th>\n",
       "      <td>SAMEA4431948</td>\n",
       "      <td>S-7_Underweight</td>\n",
       "      <td>S-7</td>\n",
       "      <td>Two distinct metacommunities characterize the ...</td>\n",
       "      <td>He (2017)</td>\n",
       "      <td>Gigascience</td>\n",
       "      <td>PRJEB15371</td>\n",
       "      <td>SAMEA4431948</td>\n",
       "      <td>SZAXPI029564-74</td>\n",
       "      <td>SZAXPI029564-74</td>\n",
       "      <td>...</td>\n",
       "      <td>NaN</td>\n",
       "      <td>NaN</td>\n",
       "      <td>NaN</td>\n",
       "      <td>NaN</td>\n",
       "      <td>No</td>\n",
       "      <td>No</td>\n",
       "      <td>Illumina HiSeq 2000</td>\n",
       "      <td>PAIRED</td>\n",
       "      <td>52212493.0</td>\n",
       "      <td>Unhealthy</td>\n",
       "    </tr>\n",
       "    <tr>\n",
       "      <th>4343</th>\n",
       "      <td>SAMEA4431949</td>\n",
       "      <td>S-7_Underweight</td>\n",
       "      <td>S-7</td>\n",
       "      <td>Two distinct metacommunities characterize the ...</td>\n",
       "      <td>He (2017)</td>\n",
       "      <td>Gigascience</td>\n",
       "      <td>PRJEB15371</td>\n",
       "      <td>SAMEA4431949</td>\n",
       "      <td>SZAXPI029565-77</td>\n",
       "      <td>SZAXPI029565-77</td>\n",
       "      <td>...</td>\n",
       "      <td>NaN</td>\n",
       "      <td>NaN</td>\n",
       "      <td>NaN</td>\n",
       "      <td>NaN</td>\n",
       "      <td>No</td>\n",
       "      <td>No</td>\n",
       "      <td>Illumina HiSeq 2000</td>\n",
       "      <td>PAIRED</td>\n",
       "      <td>50635879.0</td>\n",
       "      <td>Unhealthy</td>\n",
       "    </tr>\n",
       "    <tr>\n",
       "      <th>4344</th>\n",
       "      <td>SAMEA4431951</td>\n",
       "      <td>S-7_Underweight</td>\n",
       "      <td>S-7</td>\n",
       "      <td>Two distinct metacommunities characterize the ...</td>\n",
       "      <td>He (2017)</td>\n",
       "      <td>Gigascience</td>\n",
       "      <td>PRJEB15371</td>\n",
       "      <td>SAMEA4431951</td>\n",
       "      <td>SZAXPI029567-80</td>\n",
       "      <td>SZAXPI029567-80</td>\n",
       "      <td>...</td>\n",
       "      <td>NaN</td>\n",
       "      <td>NaN</td>\n",
       "      <td>NaN</td>\n",
       "      <td>NaN</td>\n",
       "      <td>No</td>\n",
       "      <td>No</td>\n",
       "      <td>Illumina HiSeq 2000</td>\n",
       "      <td>PAIRED</td>\n",
       "      <td>40712962.0</td>\n",
       "      <td>Unhealthy</td>\n",
       "    </tr>\n",
       "    <tr>\n",
       "      <th>4345</th>\n",
       "      <td>SAMEA4431964</td>\n",
       "      <td>S-7_Underweight</td>\n",
       "      <td>S-7</td>\n",
       "      <td>Two distinct metacommunities characterize the ...</td>\n",
       "      <td>He (2017)</td>\n",
       "      <td>Gigascience</td>\n",
       "      <td>PRJEB15371</td>\n",
       "      <td>SAMEA4431964</td>\n",
       "      <td>SZAXPI029580-98</td>\n",
       "      <td>SZAXPI029580-98</td>\n",
       "      <td>...</td>\n",
       "      <td>NaN</td>\n",
       "      <td>NaN</td>\n",
       "      <td>NaN</td>\n",
       "      <td>NaN</td>\n",
       "      <td>No</td>\n",
       "      <td>No</td>\n",
       "      <td>Illumina HiSeq 2000</td>\n",
       "      <td>PAIRED</td>\n",
       "      <td>38177360.0</td>\n",
       "      <td>Unhealthy</td>\n",
       "    </tr>\n",
       "    <tr>\n",
       "      <th>4346</th>\n",
       "      <td>SAMEA4431982</td>\n",
       "      <td>S-7_Underweight</td>\n",
       "      <td>S-7</td>\n",
       "      <td>Two distinct metacommunities characterize the ...</td>\n",
       "      <td>He (2017)</td>\n",
       "      <td>Gigascience</td>\n",
       "      <td>PRJEB15371</td>\n",
       "      <td>SAMEA4431982</td>\n",
       "      <td>SZAXPI029597-158</td>\n",
       "      <td>SZAXPI029597-158</td>\n",
       "      <td>...</td>\n",
       "      <td>NaN</td>\n",
       "      <td>NaN</td>\n",
       "      <td>NaN</td>\n",
       "      <td>NaN</td>\n",
       "      <td>No</td>\n",
       "      <td>No</td>\n",
       "      <td>Illumina HiSeq 2000</td>\n",
       "      <td>PAIRED</td>\n",
       "      <td>43643399.0</td>\n",
       "      <td>Unhealthy</td>\n",
       "    </tr>\n",
       "  </tbody>\n",
       "</table>\n",
       "<p>4347 rows × 34 columns</p>\n",
       "</div>"
      ],
      "text/plain": [
       "                   6            study  \\\n",
       "0     SAMEA104142287         V-2_ACVD   \n",
       "1     SAMEA104142288         V-2_ACVD   \n",
       "2     SAMEA104142293         V-2_ACVD   \n",
       "3     SAMEA104142291         V-2_ACVD   \n",
       "4     SAMEA104142284         V-2_ACVD   \n",
       "...              ...              ...   \n",
       "4342    SAMEA4431948  S-7_Underweight   \n",
       "4343    SAMEA4431949  S-7_Underweight   \n",
       "4344    SAMEA4431951  S-7_Underweight   \n",
       "4345    SAMEA4431964  S-7_Underweight   \n",
       "4346    SAMEA4431982  S-7_Underweight   \n",
       "\n",
       "     Study No. (From VG sheet (V-*) from SB sheet (S-*))  \\\n",
       "0                                                   V-2    \n",
       "1                                                   V-2    \n",
       "2                                                   V-2    \n",
       "3                                                   V-2    \n",
       "4                                                   V-2    \n",
       "...                                                 ...    \n",
       "4342                                                S-7    \n",
       "4343                                                S-7    \n",
       "4344                                                S-7    \n",
       "4345                                                S-7    \n",
       "4346                                                S-7    \n",
       "\n",
       "                                         Title of Paper Author (year)  \\\n",
       "0     The gut microbiome in atherosclerotic cardiova...    Jie (2017)   \n",
       "1     The gut microbiome in atherosclerotic cardiova...    Jie (2017)   \n",
       "2     The gut microbiome in atherosclerotic cardiova...    Jie (2017)   \n",
       "3     The gut microbiome in atherosclerotic cardiova...    Jie (2017)   \n",
       "4     The gut microbiome in atherosclerotic cardiova...    Jie (2017)   \n",
       "...                                                 ...           ...   \n",
       "4342  Two distinct metacommunities characterize the ...     He (2017)   \n",
       "4343  Two distinct metacommunities characterize the ...     He (2017)   \n",
       "4344  Two distinct metacommunities characterize the ...     He (2017)   \n",
       "4345  Two distinct metacommunities characterize the ...     He (2017)   \n",
       "4346  Two distinct metacommunities characterize the ...     He (2017)   \n",
       "\n",
       "                    Journal Study Accession Sample Accession or Sample ID  \\\n",
       "0     Nature communications      PRJEB21528                SAMEA104142287   \n",
       "1     Nature communications      PRJEB21528                SAMEA104142288   \n",
       "2     Nature communications      PRJEB21528                SAMEA104142293   \n",
       "3     Nature communications      PRJEB21528                SAMEA104142291   \n",
       "4     Nature communications      PRJEB21528                SAMEA104142284   \n",
       "...                     ...             ...                           ...   \n",
       "4342            Gigascience      PRJEB15371                  SAMEA4431948   \n",
       "4343            Gigascience      PRJEB15371                  SAMEA4431949   \n",
       "4344            Gigascience      PRJEB15371                  SAMEA4431951   \n",
       "4345            Gigascience      PRJEB15371                  SAMEA4431964   \n",
       "4346            Gigascience      PRJEB15371                  SAMEA4431982   \n",
       "\n",
       "     Sample title (ENA/SRA) Sample title (Paper)  ...  \\\n",
       "0                   ZSL-004              ZSL-004  ...   \n",
       "1                   ZSL-007              ZSL-007  ...   \n",
       "2                   ZSL-010              ZSL-010  ...   \n",
       "3                   ZSL-011              ZSL-011  ...   \n",
       "4                   ZSL-019              ZSL-019  ...   \n",
       "...                     ...                  ...  ...   \n",
       "4342        SZAXPI029564-74      SZAXPI029564-74  ...   \n",
       "4343        SZAXPI029565-77      SZAXPI029565-77  ...   \n",
       "4344        SZAXPI029567-80      SZAXPI029567-80  ...   \n",
       "4345        SZAXPI029580-98      SZAXPI029580-98  ...   \n",
       "4346       SZAXPI029597-158     SZAXPI029597-158  ...   \n",
       "\n",
       "     Use of milk or milk products (Yes/No/Sometimes)  \\\n",
       "0                                                NaN   \n",
       "1                                                NaN   \n",
       "2                                                NaN   \n",
       "3                                                NaN   \n",
       "4                                                NaN   \n",
       "...                                              ...   \n",
       "4342                                             NaN   \n",
       "4343                                             NaN   \n",
       "4344                                             NaN   \n",
       "4345                                             NaN   \n",
       "4346                                             NaN   \n",
       "\n",
       "     Use of Animal Product- Meat (Yes/No/Vegetarian/Vegan)  \\\n",
       "0                                                   NaN      \n",
       "1                                                   NaN      \n",
       "2                                                   NaN      \n",
       "3                                                   NaN      \n",
       "4                                                   NaN      \n",
       "...                                                 ...      \n",
       "4342                                                NaN      \n",
       "4343                                                NaN      \n",
       "4344                                                NaN      \n",
       "4345                                                NaN      \n",
       "4346                                                NaN      \n",
       "\n",
       "     Alcohol Consumption (Yes/No) Diet1 Intervention for study (Diet)  \\\n",
       "0                             NaN   NaN                           NaN   \n",
       "1                             NaN   NaN                           NaN   \n",
       "2                             NaN   NaN                           NaN   \n",
       "3                             NaN   NaN                           NaN   \n",
       "4                             NaN   NaN                           NaN   \n",
       "...                           ...   ...                           ...   \n",
       "4342                          NaN   NaN                            No   \n",
       "4343                          NaN   NaN                            No   \n",
       "4344                          NaN   NaN                            No   \n",
       "4345                          NaN   NaN                            No   \n",
       "4346                          NaN   NaN                            No   \n",
       "\n",
       "     Intervention for study (medication)  Sequencing Platform  \\\n",
       "0                                    NaN  Illumina HiSeq 2000   \n",
       "1                                    NaN  Illumina HiSeq 2000   \n",
       "2                                    NaN  Illumina HiSeq 2000   \n",
       "3                                    NaN  Illumina HiSeq 2000   \n",
       "4                                    NaN  Illumina HiSeq 2000   \n",
       "...                                  ...                  ...   \n",
       "4342                                  No  Illumina HiSeq 2000   \n",
       "4343                                  No  Illumina HiSeq 2000   \n",
       "4344                                  No  Illumina HiSeq 2000   \n",
       "4345                                  No  Illumina HiSeq 2000   \n",
       "4346                                  No  Illumina HiSeq 2000   \n",
       "\n",
       "     Library layout (SINGLE/PAIRED) Read count after Quality control  \\\n",
       "0                            PAIRED                       43356775.0   \n",
       "1                            PAIRED                       41073871.0   \n",
       "2                            PAIRED                       40199673.0   \n",
       "3                            PAIRED                       31054158.0   \n",
       "4                            PAIRED                       36081150.0   \n",
       "...                             ...                              ...   \n",
       "4342                         PAIRED                       52212493.0   \n",
       "4343                         PAIRED                       50635879.0   \n",
       "4344                         PAIRED                       40712962.0   \n",
       "4345                         PAIRED                       38177360.0   \n",
       "4346                         PAIRED                       43643399.0   \n",
       "\n",
       "        Healthy  \n",
       "0     Unhealthy  \n",
       "1     Unhealthy  \n",
       "2     Unhealthy  \n",
       "3     Unhealthy  \n",
       "4     Unhealthy  \n",
       "...         ...  \n",
       "4342  Unhealthy  \n",
       "4343  Unhealthy  \n",
       "4344  Unhealthy  \n",
       "4345  Unhealthy  \n",
       "4346  Unhealthy  \n",
       "\n",
       "[4347 rows x 34 columns]"
      ]
     },
     "execution_count": 5,
     "metadata": {},
     "output_type": "execute_result"
    }
   ],
   "source": [
    "SampleMeta = pd.read_csv(os.path.join(inp_dir, 'SampleMetaDataClean.csv'))\n",
    "SampleMeta"
   ]
  },
  {
   "cell_type": "code",
   "execution_count": 6,
   "id": "elect-february",
   "metadata": {},
   "outputs": [
    {
     "data": {
      "text/html": [
       "<div>\n",
       "<style scoped>\n",
       "    .dataframe tbody tr th:only-of-type {\n",
       "        vertical-align: middle;\n",
       "    }\n",
       "\n",
       "    .dataframe tbody tr th {\n",
       "        vertical-align: top;\n",
       "    }\n",
       "\n",
       "    .dataframe thead th {\n",
       "        text-align: right;\n",
       "    }\n",
       "</style>\n",
       "<table border=\"1\" class=\"dataframe\">\n",
       "  <thead>\n",
       "    <tr style=\"text-align: right;\">\n",
       "      <th></th>\n",
       "      <th>Unnamed: 0</th>\n",
       "      <th>feature</th>\n",
       "    </tr>\n",
       "  </thead>\n",
       "  <tbody>\n",
       "    <tr>\n",
       "      <th>0</th>\n",
       "      <td>s__Abiotrophia_defectiva</td>\n",
       "      <td>s__Abiotrophia_defectiva</td>\n",
       "    </tr>\n",
       "    <tr>\n",
       "      <th>1</th>\n",
       "      <td>s__Acetobacter_unclassified</td>\n",
       "      <td>s__Acetobacter_unclassified</td>\n",
       "    </tr>\n",
       "    <tr>\n",
       "      <th>2</th>\n",
       "      <td>s__Achromobacter_piechaudii</td>\n",
       "      <td>s__Achromobacter_piechaudii</td>\n",
       "    </tr>\n",
       "    <tr>\n",
       "      <th>3</th>\n",
       "      <td>s__Achromobacter_unclassified</td>\n",
       "      <td>s__Achromobacter_unclassified</td>\n",
       "    </tr>\n",
       "    <tr>\n",
       "      <th>4</th>\n",
       "      <td>s__Achromobacter_xylosoxidans</td>\n",
       "      <td>s__Achromobacter_xylosoxidans</td>\n",
       "    </tr>\n",
       "    <tr>\n",
       "      <th>...</th>\n",
       "      <td>...</td>\n",
       "      <td>...</td>\n",
       "    </tr>\n",
       "    <tr>\n",
       "      <th>898</th>\n",
       "      <td>s__Weissella_koreensis</td>\n",
       "      <td>s__Weissella_koreensis</td>\n",
       "    </tr>\n",
       "    <tr>\n",
       "      <th>899</th>\n",
       "      <td>s__Weissella_paramesenteroides</td>\n",
       "      <td>s__Weissella_paramesenteroides</td>\n",
       "    </tr>\n",
       "    <tr>\n",
       "      <th>900</th>\n",
       "      <td>s__Weissella_unclassified</td>\n",
       "      <td>s__Weissella_unclassified</td>\n",
       "    </tr>\n",
       "    <tr>\n",
       "      <th>901</th>\n",
       "      <td>s__Wohlfahrtiimonas_chitiniclastica</td>\n",
       "      <td>s__Wohlfahrtiimonas_chitiniclastica</td>\n",
       "    </tr>\n",
       "    <tr>\n",
       "      <th>902</th>\n",
       "      <td>s__Yersinia_enterocolitica</td>\n",
       "      <td>s__Yersinia_enterocolitica</td>\n",
       "    </tr>\n",
       "  </tbody>\n",
       "</table>\n",
       "<p>903 rows × 2 columns</p>\n",
       "</div>"
      ],
      "text/plain": [
       "                              Unnamed: 0                              feature\n",
       "0               s__Abiotrophia_defectiva             s__Abiotrophia_defectiva\n",
       "1            s__Acetobacter_unclassified          s__Acetobacter_unclassified\n",
       "2            s__Achromobacter_piechaudii          s__Achromobacter_piechaudii\n",
       "3          s__Achromobacter_unclassified        s__Achromobacter_unclassified\n",
       "4          s__Achromobacter_xylosoxidans        s__Achromobacter_xylosoxidans\n",
       "..                                   ...                                  ...\n",
       "898               s__Weissella_koreensis               s__Weissella_koreensis\n",
       "899       s__Weissella_paramesenteroides       s__Weissella_paramesenteroides\n",
       "900            s__Weissella_unclassified            s__Weissella_unclassified\n",
       "901  s__Wohlfahrtiimonas_chitiniclastica  s__Wohlfahrtiimonas_chitiniclastica\n",
       "902           s__Yersinia_enterocolitica           s__Yersinia_enterocolitica\n",
       "\n",
       "[903 rows x 2 columns]"
      ]
     },
     "execution_count": 6,
     "metadata": {},
     "output_type": "execute_result"
    }
   ],
   "source": [
    "FeatMeta = pd.read_csv(os.path.join(inp_dir, 'FeatMetaDataClean.csv'))\n",
    "FeatMeta"
   ]
  },
  {
   "cell_type": "markdown",
   "id": "thrown-density",
   "metadata": {},
   "source": [
    "# Define and Train Model"
   ]
  },
  {
   "cell_type": "code",
   "execution_count": 7,
   "id": "desperate-livestock",
   "metadata": {},
   "outputs": [],
   "source": [
    "MyFeedForward = FeedForward(100, [50, 25, 10])"
   ]
  },
  {
   "cell_type": "code",
   "execution_count": 8,
   "id": "bright-cincinnati",
   "metadata": {},
   "outputs": [
    {
     "data": {
      "text/plain": [
       "FeedForward(\n",
       "  (layers): ModuleList(\n",
       "    (0): Linear(in_features=100, out_features=50, bias=True)\n",
       "    (1): Linear(in_features=50, out_features=25, bias=True)\n",
       "    (2): Linear(in_features=25, out_features=10, bias=True)\n",
       "  )\n",
       ")"
      ]
     },
     "execution_count": 8,
     "metadata": {},
     "output_type": "execute_result"
    }
   ],
   "source": [
    "MyFeedForward"
   ]
  },
  {
   "cell_type": "code",
   "execution_count": 9,
   "id": "mounted-sleeping",
   "metadata": {},
   "outputs": [],
   "source": [
    "MySNN = SiameseModel(MyFeedForward, predict_unknown = False)"
   ]
  },
  {
   "cell_type": "code",
   "execution_count": 10,
   "id": "eligible-easter",
   "metadata": {},
   "outputs": [],
   "source": [
    "# list(MySNN.logistic.parameters()) + list(MySNN.model.parameters())"
   ]
  },
  {
   "cell_type": "code",
   "execution_count": 11,
   "id": "regional-logistics",
   "metadata": {},
   "outputs": [],
   "source": [
    "MyTrainer = Trainer(model = MySNN, scale_X = True, use_pca = True, n_components = 100)"
   ]
  },
  {
   "cell_type": "code",
   "execution_count": 12,
   "id": "daily-parade",
   "metadata": {},
   "outputs": [],
   "source": [
    "# make binarized class matrix\n",
    "y = SampleMeta['Healthy'].to_numpy().astype('str') == 'Healthy'\n",
    "y = y.astype('int32')\n",
    "y = np.concatenate((np.logical_not(np.equal(y, 1)).astype('int32').reshape(y.shape[0], 1), y.reshape(y.shape[0], 1)), axis = 1)"
   ]
  },
  {
   "cell_type": "code",
   "execution_count": 13,
   "id": "guided-orlando",
   "metadata": {},
   "outputs": [
    {
     "data": {
      "text/plain": [
       "(4347, 2)"
      ]
     },
     "execution_count": 13,
     "metadata": {},
     "output_type": "execute_result"
    }
   ],
   "source": [
    "y.shape"
   ]
  },
  {
   "cell_type": "code",
   "execution_count": 14,
   "id": "expected-diversity",
   "metadata": {},
   "outputs": [
    {
     "data": {
      "text/plain": [
       "True"
      ]
     },
     "execution_count": 14,
     "metadata": {},
     "output_type": "execute_result"
    }
   ],
   "source": [
    "# double check on class labels\n",
    "np.all(np.logical_not(np.equal(y[:,0], y[:, 1])))"
   ]
  },
  {
   "cell_type": "code",
   "execution_count": 15,
   "id": "incorporated-independence",
   "metadata": {},
   "outputs": [
    {
     "data": {
      "text/plain": [
       "dtype('float64')"
      ]
     },
     "execution_count": 15,
     "metadata": {},
     "output_type": "execute_result"
    }
   ],
   "source": [
    "MatrixData.dtype"
   ]
  },
  {
   "cell_type": "code",
   "execution_count": 16,
   "id": "selected-force",
   "metadata": {},
   "outputs": [
    {
     "data": {
      "text/plain": [
       "dtype('int32')"
      ]
     },
     "execution_count": 16,
     "metadata": {},
     "output_type": "execute_result"
    }
   ],
   "source": [
    "y.dtype"
   ]
  },
  {
   "cell_type": "code",
   "execution_count": 17,
   "id": "amazing-reserve",
   "metadata": {},
   "outputs": [
    {
     "name": "stdout",
     "output_type": "stream",
     "text": [
      "#########################################\n",
      "Epoch 1 of 5\n",
      "__Training__\n",
      "2021-03-05 21:39:09\n",
      "Batch Mean Loss: 0.7015756368637085\n",
      "Batch Mean Loss: 0.6975278854370117\n",
      "Batch Mean Loss: 0.7057262659072876\n",
      "Batch Mean Loss: 0.6953636407852173\n",
      "Batch Mean Loss: 0.7015439867973328\n",
      "Batch Mean Loss: 0.7038464546203613\n",
      "Batch Mean Loss: 0.6987776160240173\n",
      "Batch Mean Loss: 0.6923776865005493\n",
      "Batch Mean Loss: 0.6986624598503113\n",
      "Batch Mean Loss: 0.698875904083252\n",
      "Batch Mean Loss: 0.6931143999099731\n",
      "Batch Mean Loss: 0.6965702176094055\n",
      "Batch Mean Loss: 0.7009853720664978\n",
      "Batch Mean Loss: 0.7026235461235046\n",
      "Batch Mean Loss: 0.7006507515907288\n",
      "Batch Mean Loss: 0.7026547789573669\n",
      "Batch Mean Loss: 0.710139811038971\n",
      "Batch Mean Loss: 0.6961067914962769\n",
      "Batch Mean Loss: 0.6927386522293091\n",
      "Batch Mean Loss: 0.7048537731170654\n",
      "__Validation__\n",
      "2021-03-05 21:39:10\n",
      "Batch Mean Loss: 0.6970341205596924\n",
      "Batch Mean Loss: 0.6933556199073792\n",
      "Batch Mean Loss: 0.6929722428321838\n",
      "#########################################\n",
      "Epoch 2 of 5\n",
      "__Training__\n",
      "2021-03-05 21:39:10\n",
      "Batch Mean Loss: 0.7055830359458923\n",
      "Batch Mean Loss: 0.6943404078483582\n",
      "Batch Mean Loss: 0.692470371723175\n",
      "Batch Mean Loss: 0.6950690150260925\n",
      "Batch Mean Loss: 0.6971241235733032\n",
      "Batch Mean Loss: 0.6974028944969177\n",
      "Batch Mean Loss: 0.695002555847168\n",
      "Batch Mean Loss: 0.6935812830924988\n",
      "Batch Mean Loss: 0.6869094371795654\n",
      "Batch Mean Loss: 0.7055661082267761\n",
      "Batch Mean Loss: 0.7100285887718201\n",
      "Batch Mean Loss: 0.7057744264602661\n",
      "Batch Mean Loss: 0.7002139687538147\n",
      "Batch Mean Loss: 0.7008758187294006\n",
      "Batch Mean Loss: 0.7082752585411072\n",
      "Batch Mean Loss: 0.7088882923126221\n",
      "Batch Mean Loss: 0.7016399502754211\n",
      "Batch Mean Loss: 0.6992326974868774\n",
      "Batch Mean Loss: 0.699368417263031\n",
      "Batch Mean Loss: 0.6973687410354614\n",
      "__Validation__\n",
      "2021-03-05 21:39:11\n",
      "Batch Mean Loss: 0.69013911485672\n",
      "Batch Mean Loss: 0.6972343325614929\n",
      "Batch Mean Loss: 0.7065593004226685\n",
      "#########################################\n",
      "Epoch 3 of 5\n",
      "__Training__\n",
      "2021-03-05 21:39:11\n",
      "Batch Mean Loss: 0.6926313042640686\n",
      "Batch Mean Loss: 0.7031102180480957\n",
      "Batch Mean Loss: 0.7055633664131165\n",
      "Batch Mean Loss: 0.7068310379981995\n",
      "Batch Mean Loss: 0.7005952596664429\n",
      "Batch Mean Loss: 0.7113615274429321\n",
      "Batch Mean Loss: 0.6973209977149963\n",
      "Batch Mean Loss: 0.696366548538208\n",
      "Batch Mean Loss: 0.6950331926345825\n",
      "Batch Mean Loss: 0.7002294659614563\n",
      "Batch Mean Loss: 0.7021653056144714\n",
      "Batch Mean Loss: 0.6943262815475464\n",
      "Batch Mean Loss: 0.6974279284477234\n",
      "Batch Mean Loss: 0.691528856754303\n",
      "Batch Mean Loss: 0.7046231031417847\n",
      "Batch Mean Loss: 0.698297917842865\n",
      "Batch Mean Loss: 0.7009634375572205\n",
      "Batch Mean Loss: 0.6992468237876892\n",
      "Batch Mean Loss: 0.7030684351921082\n",
      "Batch Mean Loss: 0.6940245032310486\n",
      "__Validation__\n",
      "2021-03-05 21:39:11\n",
      "Batch Mean Loss: 0.6962567567825317\n",
      "Batch Mean Loss: 0.6967584490776062\n",
      "Batch Mean Loss: 0.6811460852622986\n",
      "#########################################\n",
      "Epoch 4 of 5\n",
      "__Training__\n",
      "2021-03-05 21:39:11\n",
      "Batch Mean Loss: 0.6966630816459656\n",
      "Batch Mean Loss: 0.7092350125312805\n",
      "Batch Mean Loss: 0.6952935457229614\n",
      "Batch Mean Loss: 0.6962264776229858\n",
      "Batch Mean Loss: 0.7061434984207153\n",
      "Batch Mean Loss: 0.6929288506507874\n",
      "Batch Mean Loss: 0.703076183795929\n",
      "Batch Mean Loss: 0.7007936239242554\n",
      "Batch Mean Loss: 0.7012311816215515\n",
      "Batch Mean Loss: 0.7023341059684753\n",
      "Batch Mean Loss: 0.6949239373207092\n",
      "Batch Mean Loss: 0.6991673111915588\n",
      "Batch Mean Loss: 0.7017902135848999\n",
      "Batch Mean Loss: 0.6964081525802612\n",
      "Batch Mean Loss: 0.7051979899406433\n",
      "Batch Mean Loss: 0.7021775841712952\n",
      "Batch Mean Loss: 0.6955088376998901\n",
      "Batch Mean Loss: 0.7016197443008423\n",
      "Batch Mean Loss: 0.6948321461677551\n",
      "Batch Mean Loss: 0.6991636753082275\n",
      "__Validation__\n",
      "2021-03-05 21:39:12\n",
      "Batch Mean Loss: 0.6927064061164856\n",
      "Batch Mean Loss: 0.6932046413421631\n",
      "Batch Mean Loss: 0.7131468057632446\n",
      "#########################################\n",
      "Epoch 5 of 5\n",
      "__Training__\n",
      "2021-03-05 21:39:12\n",
      "Batch Mean Loss: 0.7028388381004333\n",
      "Batch Mean Loss: 0.7099606990814209\n",
      "Batch Mean Loss: 0.7109472751617432\n",
      "Batch Mean Loss: 0.6937136054039001\n",
      "Batch Mean Loss: 0.7008850574493408\n",
      "Batch Mean Loss: 0.7071064710617065\n",
      "Batch Mean Loss: 0.6847684383392334\n",
      "Batch Mean Loss: 0.6986488103866577\n",
      "Batch Mean Loss: 0.7012470364570618\n",
      "Batch Mean Loss: 0.7030096054077148\n",
      "Batch Mean Loss: 0.6966784000396729\n",
      "Batch Mean Loss: 0.6876771450042725\n",
      "Batch Mean Loss: 0.7010862827301025\n",
      "Batch Mean Loss: 0.7097834348678589\n",
      "Batch Mean Loss: 0.6949354410171509\n",
      "Batch Mean Loss: 0.6950260400772095\n",
      "Batch Mean Loss: 0.6995354890823364\n",
      "Batch Mean Loss: 0.696990966796875\n",
      "Batch Mean Loss: 0.7002675533294678\n",
      "Batch Mean Loss: 0.699608564376831\n",
      "__Validation__\n",
      "2021-03-05 21:39:13\n",
      "Batch Mean Loss: 0.6919571161270142\n",
      "Batch Mean Loss: 0.6960054636001587\n",
      "Batch Mean Loss: 0.7039055824279785\n",
      "#########################################\n",
      "Finished\n",
      "2021-03-05 21:39:13\n",
      "torch.Size([190])\n",
      "torch.Size([190])\n"
     ]
    }
   ],
   "source": [
    "MyTrainer.fit(MatrixData, y)"
   ]
  },
  {
   "cell_type": "code",
   "execution_count": 18,
   "id": "downtown-brooks",
   "metadata": {},
   "outputs": [
    {
     "name": "stdout",
     "output_type": "stream",
     "text": [
      "torch.float32\n",
      "torch.float32\n",
      "torch.float32\n",
      "torch.float32\n",
      "torch.float32\n",
      "torch.float32\n"
     ]
    }
   ],
   "source": [
    "for x in MySNN.model.parameters():\n",
    "    print(x.dtype)"
   ]
  },
  {
   "cell_type": "code",
   "execution_count": 19,
   "id": "naughty-abortion",
   "metadata": {},
   "outputs": [
    {
     "name": "stdout",
     "output_type": "stream",
     "text": [
      "torch.float32\n",
      "torch.float32\n"
     ]
    }
   ],
   "source": [
    "for x in MySNN.logistic.parameters():\n",
    "    print(x.dtype)"
   ]
  },
  {
   "cell_type": "code",
   "execution_count": 20,
   "id": "short-dressing",
   "metadata": {},
   "outputs": [],
   "source": [
    "import torch"
   ]
  },
  {
   "cell_type": "code",
   "execution_count": 21,
   "id": "confidential-receptor",
   "metadata": {},
   "outputs": [],
   "source": [
    "X = torch.tensor(np.random.rand(2000).reshape(20, 100)).to(torch.float32)"
   ]
  },
  {
   "cell_type": "code",
   "execution_count": 22,
   "id": "revolutionary-break",
   "metadata": {},
   "outputs": [
    {
     "data": {
      "text/plain": [
       "tensor([[0.6175, 0.6117, 0.0071,  ..., 0.6244, 0.2956, 0.1055],\n",
       "        [0.4565, 0.2184, 0.4165,  ..., 0.9945, 0.1759, 0.0181],\n",
       "        [0.4939, 0.1788, 0.3665,  ..., 0.1843, 0.0809, 0.4283],\n",
       "        ...,\n",
       "        [0.7543, 0.6195, 0.2974,  ..., 0.4243, 0.0826, 0.5147],\n",
       "        [0.8989, 0.7825, 0.2278,  ..., 0.1247, 0.3854, 0.6434],\n",
       "        [0.7804, 0.2172, 0.1378,  ..., 0.5620, 0.3459, 0.3152]])"
      ]
     },
     "execution_count": 22,
     "metadata": {},
     "output_type": "execute_result"
    }
   ],
   "source": [
    "X"
   ]
  },
  {
   "cell_type": "code",
   "execution_count": 23,
   "id": "controlling-appeal",
   "metadata": {},
   "outputs": [
    {
     "data": {
      "text/plain": [
       "torch.Size([20, 10])"
      ]
     },
     "execution_count": 23,
     "metadata": {},
     "output_type": "execute_result"
    }
   ],
   "source": [
    "MySNN.model.forward(X).shape"
   ]
  },
  {
   "cell_type": "code",
   "execution_count": 24,
   "id": "figured-capital",
   "metadata": {},
   "outputs": [
    {
     "data": {
      "text/plain": [
       "<torch.utils.data.dataloader.DataLoader at 0x7fb03acc1510>"
      ]
     },
     "execution_count": 24,
     "metadata": {},
     "output_type": "execute_result"
    }
   ],
   "source": [
    "MySNN.TrainDL"
   ]
  },
  {
   "cell_type": "code",
   "execution_count": 25,
   "id": "operating-freight",
   "metadata": {},
   "outputs": [],
   "source": [
    "y_pred = MyTrainer.predict(MatrixData)"
   ]
  },
  {
   "cell_type": "code",
   "execution_count": 26,
   "id": "organized-cinema",
   "metadata": {},
   "outputs": [
    {
     "data": {
      "text/plain": [
       "tensor(0.0847)"
      ]
     },
     "execution_count": 26,
     "metadata": {},
     "output_type": "execute_result"
    }
   ],
   "source": [
    "MyTrainer.model.max_dist"
   ]
  },
  {
   "cell_type": "code",
   "execution_count": 27,
   "id": "plastic-pressing",
   "metadata": {},
   "outputs": [
    {
     "data": {
      "text/plain": [
       "array([[0, 1],\n",
       "       [0, 1],\n",
       "       [1, 0],\n",
       "       ...,\n",
       "       [1, 0],\n",
       "       [1, 0],\n",
       "       [1, 0]], dtype=int32)"
      ]
     },
     "execution_count": 27,
     "metadata": {},
     "output_type": "execute_result"
    }
   ],
   "source": [
    "y_pred"
   ]
  },
  {
   "cell_type": "code",
   "execution_count": 28,
   "id": "answering-poetry",
   "metadata": {},
   "outputs": [
    {
     "data": {
      "text/plain": [
       "(4347, 2)"
      ]
     },
     "execution_count": 28,
     "metadata": {},
     "output_type": "execute_result"
    }
   ],
   "source": [
    "y_pred.shape"
   ]
  },
  {
   "cell_type": "code",
   "execution_count": 30,
   "id": "capable-handling",
   "metadata": {},
   "outputs": [
    {
     "data": {
      "text/plain": [
       "2818"
      ]
     },
     "execution_count": 30,
     "metadata": {},
     "output_type": "execute_result"
    }
   ],
   "source": [
    "np.sum(np.equal(y_pred[:,1], 1))"
   ]
  },
  {
   "cell_type": "code",
   "execution_count": null,
   "id": "complex-measurement",
   "metadata": {},
   "outputs": [],
   "source": []
  }
 ],
 "metadata": {
  "kernelspec": {
   "display_name": "Python 3",
   "language": "python",
   "name": "python3"
  },
  "language_info": {
   "codemirror_mode": {
    "name": "ipython",
    "version": 3
   },
   "file_extension": ".py",
   "mimetype": "text/x-python",
   "name": "python",
   "nbconvert_exporter": "python",
   "pygments_lexer": "ipython3",
   "version": "3.7.9"
  }
 },
 "nbformat": 4,
 "nbformat_minor": 5
}
